{
  "nbformat": 4,
  "nbformat_minor": 0,
  "metadata": {
    "colab": {
      "provenance": []
    },
    "kernelspec": {
      "name": "python3",
      "display_name": "Python 3"
    },
    "language_info": {
      "name": "python"
    }
  },
  "cells": [
    {
      "cell_type": "code",
      "execution_count": null,
      "metadata": {
        "id": "LEEP-1WOYQPE"
      },
      "outputs": [],
      "source": []
    },
    {
      "cell_type": "markdown",
      "source": [
        "in this file, each csv named {20xx} uses the player list in that year and **AGGREGATE** the news available about certain player+MVP"
      ],
      "metadata": {
        "id": "b7kaPuCKYVAc"
      }
    }
  ]
}
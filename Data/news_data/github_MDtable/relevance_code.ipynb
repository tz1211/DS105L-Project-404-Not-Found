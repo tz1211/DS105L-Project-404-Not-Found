{
 "cells": [
  {
   "cell_type": "code",
   "execution_count": null,
   "metadata": {},
   "outputs": [],
   "source": [
    "def preprocess_text(text):\n",
    "    text = text.lower()     # Convert text to lowercase\n",
    "    \n",
    "    text = re.sub(r\"[^\\w\\s]\", \"\", text) # Remove punctuation and special characters\n",
    "    \n",
    "    words = nltk.word_tokenize(text)     # Tokenize the text into words\n",
    "\n",
    "    stop_words = set(stopwords.words(\"english\"))\n",
    "    words = [word for word in words if word not in stop_words]\n",
    "    \n",
    "    preprocessed_text = \" \".join(words)\n",
    "    \n",
    "    return preprocessed_text"
   ]
  },
  {
   "cell_type": "code",
   "execution_count": null,
   "metadata": {},
   "outputs": [],
   "source": [
    "from sklearn.feature_extraction.text import TfidfVectorizer\n",
    "from sklearn.preprocessing import MaxAbsScaler\n",
    "from sklearn.metrics.pairwise import cosine_similarity\n",
    "\n",
    "def assess_bbc_relevance(df):\n",
    "    relevance_scores = []\n",
    "\n",
    "    for index, row in df.iterrows():\n",
    "        content = get_nba_content(row['url'])\n",
    "        player_name = row['player']\n",
    "\n",
    "        if content is None:\n",
    "            content = row['title']\n",
    "\n",
    "        statement = player_name + \" will be the MVP\"\n",
    "\n",
    "        # Preprocess content and statement\n",
    "        preprocessed_content = preprocess_text(content)\n",
    "        preprocessed_statement = preprocess_text(statement)\n",
    "\n",
    "        # Calculate TF-IDF scores\n",
    "        vectorizer = TfidfVectorizer()\n",
    "        tfidf_matrix = vectorizer.fit_transform([preprocessed_content, preprocessed_statement])\n",
    "\n",
    "        # Calculate cosine similarity between content and statement\n",
    "        similarity_score = cosine_similarity(tfidf_matrix)[0, 1]\n",
    "\n",
    "        # Normalize similarity score to range between 0 and 1\n",
    "        normalized_score = similarity_score / tfidf_matrix[0].sum()\n",
    "\n",
    "        relevance_scores.append(normalized_score)\n",
    "\n",
    "    # Normalize relevance scores to range between 0 and 1\n",
    "    scaler = MaxAbsScaler()\n",
    "    normalized_scores = scaler.fit_transform(np.array(relevance_scores).reshape(-1, 1))\n",
    "    df['relevance_score'] = normalized_scores\n",
    "\n",
    "    return df\n"
   ]
  }
 ],
 "metadata": {
  "kernelspec": {
   "display_name": "base",
   "language": "python",
   "name": "python3"
  },
  "language_info": {
   "name": "python",
   "version": "3.9.12"
  },
  "orig_nbformat": 4,
  "vscode": {
   "interpreter": {
    "hash": "705d6f4ecb8a535ad130d19f33aca7c81049a16c0faf5a3ee87de4e6b987140d"
   }
  }
 },
 "nbformat": 4,
 "nbformat_minor": 2
}

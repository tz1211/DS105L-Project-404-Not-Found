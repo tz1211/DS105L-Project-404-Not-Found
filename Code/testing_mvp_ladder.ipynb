{
 "cells": [
  {
   "cell_type": "code",
   "execution_count": 9,
   "metadata": {},
   "outputs": [],
   "source": [
    "import pandas as pd \n",
    "from bs4 import BeautifulSoup \n",
    "import requests \n",
    "from selenium import webdriver\n",
    "from selenium.webdriver.common.by import By\n",
    "import time"
   ]
  },
  {
   "cell_type": "code",
   "execution_count": 10,
   "metadata": {},
   "outputs": [
    {
     "data": {
      "text/html": [
       "<div>\n",
       "<style scoped>\n",
       "    .dataframe tbody tr th:only-of-type {\n",
       "        vertical-align: middle;\n",
       "    }\n",
       "\n",
       "    .dataframe tbody tr th {\n",
       "        vertical-align: top;\n",
       "    }\n",
       "\n",
       "    .dataframe thead th {\n",
       "        text-align: right;\n",
       "    }\n",
       "</style>\n",
       "<table border=\"1\" class=\"dataframe\">\n",
       "  <thead>\n",
       "    <tr style=\"text-align: right;\">\n",
       "      <th></th>\n",
       "      <th>title</th>\n",
       "      <th>time</th>\n",
       "      <th>link</th>\n",
       "    </tr>\n",
       "  </thead>\n",
       "  <tbody>\n",
       "  </tbody>\n",
       "</table>\n",
       "</div>"
      ],
      "text/plain": [
       "Empty DataFrame\n",
       "Columns: [title, time, link]\n",
       "Index: []"
      ]
     },
     "execution_count": 10,
     "metadata": {},
     "output_type": "execute_result"
    }
   ],
   "source": [
    "url = \"https://www.nba.com/news/category/kia-race-to-the-mvp-ladder\"\n",
    "driver = webdriver.Chrome()\n",
    "driver.get(url)\n",
    "html = \"\"\n",
    "\n",
    "while True:\n",
    "    try: \n",
    "        load_more_button = driver.find_element(By.XPATH, \"//button[contains(text(),'Load more')]\")\n",
    "        \n",
    "        # Scroll to bottom of page\n",
    "        driver.execute_script(\"window.scrollTo(0, document.body.scrollHeight);\")\n",
    "        \n",
    "        # Click load more button\n",
    "        load_more_button.click()\n",
    "        \n",
    "        # Wait for content to load and get the HTML\n",
    "        time.sleep(3) \n",
    "        html += driver.page_source\n",
    "        soup = BeautifulSoup(html, \"html.parser\")\n",
    "    except: \n",
    "        break\n",
    "\n",
    "driver.quit()\n",
    "\n",
    "\n",
    "soup = BeautifulSoup(html, \"html.parser\")\n",
    "articles = soup.find_all(\"div\", class_=\"ArticleTile_tileMainContent__c_bU1\")\n",
    "\n",
    "titles = []\n",
    "times = []\n",
    "links = []\n",
    "\n",
    "for article in articles:\n",
    "    title = article.find(\"a\", class_=\"Anchor_anchor__cSc3P ArticleTile_tileHeadlineLink__9Ed4y\")\n",
    "    if title:\n",
    "        titles.append(title.get(\"data-content\"))\n",
    "        links.append(\"https://www.nba.com\" + title.get(\"href\"))\n",
    "    else:\n",
    "        titles.append(None)\n",
    "        links.append(None)\n",
    "    \n",
    "    time = article.find(\"div\", class_=\"ArticleTile_tileTimestamp__xz7Ky\")\n",
    "    if time:\n",
    "        times.append(time.get_text())\n",
    "    else:\n",
    "        times.append(None)\n",
    "\n",
    "df = pd.DataFrame({\"title\": titles, \"time\": times, \"link\": links})\n",
    "df\n"
   ]
  },
  {
   "cell_type": "code",
   "execution_count": 11,
   "metadata": {},
   "outputs": [
    {
     "data": {
      "text/plain": [
       "[]"
      ]
     },
     "execution_count": 11,
     "metadata": {},
     "output_type": "execute_result"
    }
   ],
   "source": [
    "titles"
   ]
  }
 ],
 "metadata": {
  "kernelspec": {
   "display_name": "base",
   "language": "python",
   "name": "python3"
  },
  "language_info": {
   "codemirror_mode": {
    "name": "ipython",
    "version": 3
   },
   "file_extension": ".py",
   "mimetype": "text/x-python",
   "name": "python",
   "nbconvert_exporter": "python",
   "pygments_lexer": "ipython3",
   "version": "3.9.12"
  },
  "orig_nbformat": 4,
  "vscode": {
   "interpreter": {
    "hash": "705d6f4ecb8a535ad130d19f33aca7c81049a16c0faf5a3ee87de4e6b987140d"
   }
  }
 },
 "nbformat": 4,
 "nbformat_minor": 2
}

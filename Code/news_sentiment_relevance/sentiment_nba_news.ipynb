{
 "cells": [
  {
   "cell_type": "code",
   "execution_count": 4,
   "metadata": {},
   "outputs": [
    {
     "name": "stderr",
     "output_type": "stream",
     "text": [
      "[nltk_data] Downloading package punkt to\n",
      "[nltk_data]     /Users/annabelitong/nltk_data...\n",
      "[nltk_data]   Package punkt is already up-to-date!\n",
      "[nltk_data] Downloading package stopwords to\n",
      "[nltk_data]     /Users/annabelitong/nltk_data...\n",
      "[nltk_data]   Package stopwords is already up-to-date!\n",
      "[nltk_data] Downloading package wordnet to\n",
      "[nltk_data]     /Users/annabelitong/nltk_data...\n",
      "[nltk_data]   Package wordnet is already up-to-date!\n",
      "[nltk_data] Downloading package omw-1.4 to\n",
      "[nltk_data]     /Users/annabelitong/nltk_data...\n",
      "[nltk_data]   Package omw-1.4 is already up-to-date!\n"
     ]
    },
    {
     "data": {
      "text/plain": [
       "True"
      ]
     },
     "execution_count": 4,
     "metadata": {},
     "output_type": "execute_result"
    }
   ],
   "source": [
    "import requests\n",
    "\n",
    "import pandas as pd\n",
    "\n",
    "from bs4 import BeautifulSoup\n",
    "\n",
    "from datetime import datetime\n",
    "\n",
    "from nltk.sentiment import SentimentIntensityAnalyzer\n",
    "\n",
    "import nltk\n",
    "\n",
    "nltk.download('punkt')\n",
    "nltk.download('stopwords')\n",
    "nltk.download('wordnet')\n",
    "nltk.download('omw-1.4')\n",
    "\n",
    "\n"
   ]
  },
  {
   "cell_type": "code",
   "execution_count": 25,
   "metadata": {},
   "outputs": [],
   "source": [
    "from textblob import TextBlob\n",
    "\n",
    "def get_nba_textblob_sentiment(url):\n",
    "    r = requests.get(url)\n",
    "    soup = BeautifulSoup(r.content, \"html.parser\")\n",
    "    content = soup.find(\"div\", attrs={\"class\": \"entry__content entry-content\"})\n",
    "\n",
    "    if content is None:\n",
    "        return None\n",
    "\n",
    "    main_body = content.find_all('p')\n",
    "    text = \" \".join([p.get_text(strip=True) for p in main_body])\n",
    "    clean_text = text.replace('\\n', ' ').replace('\\xa0', '')\n",
    "    blob = TextBlob(clean_text)\n",
    "    sentiment = blob.sentiment\n",
    "    polarity = sentiment.polarity  # Assess sentiment polarity (-1 to 1)\n",
    "    return polarity"
   ]
  },
  {
   "cell_type": "code",
   "execution_count": 28,
   "metadata": {},
   "outputs": [],
   "source": [
    "df600= pd.read_csv('/Users/annabelitong/desktop/annabel/uni/ds105l/group_project/DS105L-Project/Data/nba_author_credit/nba_600_credit.csv')\n",
    "df1200= pd.read_csv('/Users/annabelitong/desktop/annabel/uni/ds105l/group_project/DS105L-Project/Data/nba_author_credit/nba_1200_credit.csv')\n",
    "df1600= pd.read_csv('/Users/annabelitong/desktop/annabel/uni/ds105l/group_project/DS105L-Project/Data/nba_author_credit/nba_1600_credit.csv')\n"
   ]
  },
  {
   "cell_type": "code",
   "execution_count": 29,
   "metadata": {},
   "outputs": [],
   "source": [
    "df600['textblob_Sentiment'] = None\n",
    "# Iterate over each row in the DataFrame\n",
    "for index, row in df600.iterrows():\n",
    "    url = row['url']\n",
    "    sentiment = get_nba_textblob_sentiment(url)\n",
    "    df600.at[index, 'textblob_Sentiment'] = sentiment\n",
    "\n",
    " "
   ]
  },
  {
   "cell_type": "code",
   "execution_count": 30,
   "metadata": {},
   "outputs": [],
   "source": [
    "df600.to_csv('/Users/annabelitong/desktop/annabel/uni/ds105l/group_project/DS105L-Project/Data/nba_author_credit/nba_600_credit_season_2.csv', index=False)\n"
   ]
  },
  {
   "cell_type": "code",
   "execution_count": 33,
   "metadata": {},
   "outputs": [],
   "source": [
    "df1200['textblob_Sentiment'] = None\n",
    "# Iterate over each row in the DataFrame\n",
    "for index, row in df1200.iterrows():\n",
    "    url = row['url']\n",
    "    sentiment = get_nba_textblob_sentiment(url)\n",
    "    df1200.at[index, 'textblob_Sentiment'] = sentiment"
   ]
  },
  {
   "cell_type": "code",
   "execution_count": 34,
   "metadata": {},
   "outputs": [],
   "source": [
    "df1200.to_csv('/Users/annabelitong/desktop/annabel/uni/ds105l/group_project/DS105L-Project/Data/nba_author_credit/nba_1200_credit_season_2.csv', index=False)\n"
   ]
  },
  {
   "cell_type": "code",
   "execution_count": 35,
   "metadata": {},
   "outputs": [],
   "source": [
    "df1600['textblob_Sentiment'] = None\n",
    "# Iterate over each row in the DataFrame\n",
    "for index, row in df1600.iterrows():\n",
    "    url = row['url']\n",
    "    sentiment = get_nba_textblob_sentiment(url)\n",
    "    df1600.at[index, 'textblob_Sentiment'] = sentiment"
   ]
  },
  {
   "cell_type": "code",
   "execution_count": 36,
   "metadata": {},
   "outputs": [
    {
     "data": {
      "text/html": [
       "<div>\n",
       "<style scoped>\n",
       "    .dataframe tbody tr th:only-of-type {\n",
       "        vertical-align: middle;\n",
       "    }\n",
       "\n",
       "    .dataframe tbody tr th {\n",
       "        vertical-align: top;\n",
       "    }\n",
       "\n",
       "    .dataframe thead th {\n",
       "        text-align: right;\n",
       "    }\n",
       "</style>\n",
       "<table border=\"1\" class=\"dataframe\">\n",
       "  <thead>\n",
       "    <tr style=\"text-align: right;\">\n",
       "      <th></th>\n",
       "      <th>Unnamed: 0</th>\n",
       "      <th>title</th>\n",
       "      <th>time</th>\n",
       "      <th>url</th>\n",
       "      <th>author</th>\n",
       "      <th>credit_article</th>\n",
       "      <th>credit_followers</th>\n",
       "      <th>credit_tweets</th>\n",
       "      <th>textblob_Sentiment</th>\n",
       "    </tr>\n",
       "  </thead>\n",
       "  <tbody>\n",
       "    <tr>\n",
       "      <th>0</th>\n",
       "      <td>0</td>\n",
       "      <td>Isaiah Thomas Named Eastern Conference Player ...</td>\n",
       "      <td>2016-17</td>\n",
       "      <td>http://global.nba.com/news/isaiah-thomas-named...</td>\n",
       "      <td>NBA News</td>\n",
       "      <td>Default</td>\n",
       "      <td>Default</td>\n",
       "      <td>Default</td>\n",
       "      <td>0.148569</td>\n",
       "    </tr>\n",
       "    <tr>\n",
       "      <th>1</th>\n",
       "      <td>1</td>\n",
       "      <td>Muhammad Anchoring Wolves Second Unit</td>\n",
       "      <td>2016-17</td>\n",
       "      <td>http://global.nba.com/news/muhammad-anchoring-...</td>\n",
       "      <td>NBA News</td>\n",
       "      <td>Default</td>\n",
       "      <td>Default</td>\n",
       "      <td>Default</td>\n",
       "      <td>0.055981</td>\n",
       "    </tr>\n",
       "    <tr>\n",
       "      <th>2</th>\n",
       "      <td>2</td>\n",
       "      <td>Schedule Breakdown: Clippers in for challengin...</td>\n",
       "      <td>2016-17</td>\n",
       "      <td>http://global.nba.com/news/schedule-breakdown-...</td>\n",
       "      <td>NBA News</td>\n",
       "      <td>Default</td>\n",
       "      <td>Default</td>\n",
       "      <td>Default</td>\n",
       "      <td>0.140456</td>\n",
       "    </tr>\n",
       "    <tr>\n",
       "      <th>3</th>\n",
       "      <td>3</td>\n",
       "      <td>Magic Johnson to Advise Lakers Team Ownership</td>\n",
       "      <td>2016-17</td>\n",
       "      <td>http://global.nba.com/news/magic-johnson-to-ad...</td>\n",
       "      <td>Nick Kioski</td>\n",
       "      <td>140</td>\n",
       "      <td>None</td>\n",
       "      <td>None</td>\n",
       "      <td>0.239702</td>\n",
       "    </tr>\n",
       "    <tr>\n",
       "      <th>4</th>\n",
       "      <td>4</td>\n",
       "      <td>Feb. 2 Shootaround — Knicks Still In Pursuit O...</td>\n",
       "      <td>2016-17</td>\n",
       "      <td>http://global.nba.com/news/feb-2-shootaround-k...</td>\n",
       "      <td>NBA News</td>\n",
       "      <td>Default</td>\n",
       "      <td>Default</td>\n",
       "      <td>Default</td>\n",
       "      <td>0.11397</td>\n",
       "    </tr>\n",
       "    <tr>\n",
       "      <th>...</th>\n",
       "      <td>...</td>\n",
       "      <td>...</td>\n",
       "      <td>...</td>\n",
       "      <td>...</td>\n",
       "      <td>...</td>\n",
       "      <td>...</td>\n",
       "      <td>...</td>\n",
       "      <td>...</td>\n",
       "      <td>...</td>\n",
       "    </tr>\n",
       "    <tr>\n",
       "      <th>3024</th>\n",
       "      <td>4326</td>\n",
       "      <td>Carl Landry: Out until January with torn wrist...</td>\n",
       "      <td>2015-16</td>\n",
       "      <td>http://global.nba.com/news/carl-landry-out-unt...</td>\n",
       "      <td>Rotowire</td>\n",
       "      <td>None</td>\n",
       "      <td>None</td>\n",
       "      <td>None</td>\n",
       "      <td>0.094821</td>\n",
       "    </tr>\n",
       "    <tr>\n",
       "      <th>3025</th>\n",
       "      <td>4327</td>\n",
       "      <td>As he receives first NBA championship ring, Al...</td>\n",
       "      <td>2015-16</td>\n",
       "      <td>http://global.nba.com/news/as-he-receives-firs...</td>\n",
       "      <td>Jim Eichenhofer</td>\n",
       "      <td>2565</td>\n",
       "      <td>21361</td>\n",
       "      <td>44563</td>\n",
       "      <td>0.187071</td>\n",
       "    </tr>\n",
       "    <tr>\n",
       "      <th>3026</th>\n",
       "      <td>4328</td>\n",
       "      <td>In facing LeBron, story often same as it ever ...</td>\n",
       "      <td>2015-16</td>\n",
       "      <td>http://global.nba.com/news/in-facing-lebron-st...</td>\n",
       "      <td>Steve Aschburner</td>\n",
       "      <td>None</td>\n",
       "      <td>None</td>\n",
       "      <td>None</td>\n",
       "      <td>0.051817</td>\n",
       "    </tr>\n",
       "    <tr>\n",
       "      <th>3027</th>\n",
       "      <td>4329</td>\n",
       "      <td>NBA and Turner Sports to deliver first live ga...</td>\n",
       "      <td>2015-16</td>\n",
       "      <td>http://global.nba.com/news/nba-and-turner-spor...</td>\n",
       "      <td>Official Release</td>\n",
       "      <td>Default</td>\n",
       "      <td>Default</td>\n",
       "      <td>Default</td>\n",
       "      <td>0.000727</td>\n",
       "    </tr>\n",
       "    <tr>\n",
       "      <th>3028</th>\n",
       "      <td>4330</td>\n",
       "      <td>70 things we can’t wait to see in NBA’s 70th s...</td>\n",
       "      <td>2015-16</td>\n",
       "      <td>http://global.nba.com/news/70-things-we-cant-w...</td>\n",
       "      <td>Sekou Smith</td>\n",
       "      <td>None</td>\n",
       "      <td>None</td>\n",
       "      <td>None</td>\n",
       "      <td>0.170527</td>\n",
       "    </tr>\n",
       "  </tbody>\n",
       "</table>\n",
       "<p>3029 rows × 9 columns</p>\n",
       "</div>"
      ],
      "text/plain": [
       "      Unnamed: 0                                              title     time  \\\n",
       "0              0  Isaiah Thomas Named Eastern Conference Player ...  2016-17   \n",
       "1              1              Muhammad Anchoring Wolves Second Unit  2016-17   \n",
       "2              2  Schedule Breakdown: Clippers in for challengin...  2016-17   \n",
       "3              3      Magic Johnson to Advise Lakers Team Ownership  2016-17   \n",
       "4              4  Feb. 2 Shootaround — Knicks Still In Pursuit O...  2016-17   \n",
       "...          ...                                                ...      ...   \n",
       "3024        4326  Carl Landry: Out until January with torn wrist...  2015-16   \n",
       "3025        4327  As he receives first NBA championship ring, Al...  2015-16   \n",
       "3026        4328  In facing LeBron, story often same as it ever ...  2015-16   \n",
       "3027        4329  NBA and Turner Sports to deliver first live ga...  2015-16   \n",
       "3028        4330  70 things we can’t wait to see in NBA’s 70th s...  2015-16   \n",
       "\n",
       "                                                    url            author  \\\n",
       "0     http://global.nba.com/news/isaiah-thomas-named...          NBA News   \n",
       "1     http://global.nba.com/news/muhammad-anchoring-...          NBA News   \n",
       "2     http://global.nba.com/news/schedule-breakdown-...          NBA News   \n",
       "3     http://global.nba.com/news/magic-johnson-to-ad...       Nick Kioski   \n",
       "4     http://global.nba.com/news/feb-2-shootaround-k...          NBA News   \n",
       "...                                                 ...               ...   \n",
       "3024  http://global.nba.com/news/carl-landry-out-unt...          Rotowire   \n",
       "3025  http://global.nba.com/news/as-he-receives-firs...   Jim Eichenhofer   \n",
       "3026  http://global.nba.com/news/in-facing-lebron-st...  Steve Aschburner   \n",
       "3027  http://global.nba.com/news/nba-and-turner-spor...  Official Release   \n",
       "3028  http://global.nba.com/news/70-things-we-cant-w...       Sekou Smith   \n",
       "\n",
       "     credit_article credit_followers credit_tweets textblob_Sentiment  \n",
       "0           Default          Default       Default           0.148569  \n",
       "1           Default          Default       Default           0.055981  \n",
       "2           Default          Default       Default           0.140456  \n",
       "3               140             None          None           0.239702  \n",
       "4           Default          Default       Default            0.11397  \n",
       "...             ...              ...           ...                ...  \n",
       "3024           None             None          None           0.094821  \n",
       "3025           2565            21361         44563           0.187071  \n",
       "3026           None             None          None           0.051817  \n",
       "3027        Default          Default       Default           0.000727  \n",
       "3028           None             None          None           0.170527  \n",
       "\n",
       "[3029 rows x 9 columns]"
      ]
     },
     "execution_count": 36,
     "metadata": {},
     "output_type": "execute_result"
    }
   ],
   "source": [
    "df1600"
   ]
  },
  {
   "cell_type": "code",
   "execution_count": 37,
   "metadata": {},
   "outputs": [],
   "source": [
    "df1600.to_csv('/Users/annabelitong/desktop/annabel/uni/ds105l/group_project/DS105L-Project/Data/nba_author_credit/nba_1600_credit_season_2.csv', index=False)\n"
   ]
  },
  {
   "attachments": {},
   "cell_type": "markdown",
   "metadata": {},
   "source": [
    "## NLTK sentimets"
   ]
  },
  {
   "cell_type": "code",
   "execution_count": 38,
   "metadata": {},
   "outputs": [],
   "source": [
    "df_600= pd.read_csv('/Users/annabelitong/desktop/annabel/uni/ds105l/group_project/DS105L-Project/Data/nba_author_credit/nba_600_credit_season_2.csv')\n",
    "df_1200= pd.read_csv('/Users/annabelitong/desktop/annabel/uni/ds105l/group_project/DS105L-Project/Data/nba_author_credit/nba_1200_credit_season_2.csv')\n",
    "df_1600= pd.read_csv('/Users/annabelitong/desktop/annabel/uni/ds105l/group_project/DS105L-Project/Data/nba_author_credit/nba_1600_credit_season_2.csv')"
   ]
  },
  {
   "cell_type": "code",
   "execution_count": 39,
   "metadata": {},
   "outputs": [],
   "source": [
    "def assess_sentiment_nltk(text):\n",
    "    sentiment_analyzer = SentimentIntensityAnalyzer()\n",
    "    sentiment_scores = sentiment_analyzer.polarity_scores(text)\n",
    "    score = sentiment_scores['compound']\n",
    "    return score\n",
    "\n",
    "def get_nba_nltk_sentiment(url):\n",
    "    r = requests.get(url)\n",
    "    soup = BeautifulSoup(r.content, \"html.parser\")\n",
    "    content = soup.find(\"div\", attrs={\"class\": \"entry__content entry-content\"})\n",
    "\n",
    "    if content is None:\n",
    "        return None\n",
    "\n",
    "    main_body = content.find_all('p')\n",
    "    text = \" \".join([p.get_text(strip=True) for p in main_body])\n",
    "    clean_text = text.replace('\\n', ' ').replace('\\xa0', '')\n",
    "    score = assess_sentiment_nltk(clean_text)\n",
    "    return score\n",
    "\n"
   ]
  },
  {
   "cell_type": "code",
   "execution_count": 40,
   "metadata": {},
   "outputs": [],
   "source": [
    "df_600['nltk_Sentiment'] = None\n",
    "# Iterate over each row in the DataFrame\n",
    "for index, row in df_600.iterrows():\n",
    "    url = row['url']\n",
    "    sentiment = get_nba_textblob_sentiment(url)\n",
    "    df_600.at[index, 'nltk_Sentiment'] = sentiment\n",
    "\n",
    "df_600.to_csv('/Users/annabelitong/desktop/annabel/uni/ds105l/group_project/DS105L-Project/Data/nba_author_credit/nba_600_credit_season_3.csv', index=False)\n"
   ]
  },
  {
   "cell_type": "code",
   "execution_count": 41,
   "metadata": {},
   "outputs": [],
   "source": [
    "df_1200['nltk_Sentiment'] = None\n",
    "# Iterate over each row in the DataFrame\n",
    "for index, row in df_1200.iterrows():\n",
    "    url = row['url']\n",
    "    sentiment = get_nba_textblob_sentiment(url)\n",
    "    df_1200.at[index, 'nltk_Sentiment'] = sentiment\n",
    "\n",
    "df_1200.to_csv('/Users/annabelitong/desktop/annabel/uni/ds105l/group_project/DS105L-Project/Data/nba_author_credit/nba_1200_credit_season_3.csv', index=False)\n"
   ]
  },
  {
   "cell_type": "code",
   "execution_count": 42,
   "metadata": {},
   "outputs": [],
   "source": [
    "df_1600['nltk_Sentiment'] = None\n",
    "# Iterate over each row in the DataFrame\n",
    "for index, row in df_1600.iterrows():\n",
    "    url = row['url']\n",
    "    sentiment = get_nba_textblob_sentiment(url)\n",
    "    df_1600.at[index, 'nltk_Sentiment'] = sentiment\n",
    "\n",
    "df_1600.to_csv('/Users/annabelitong/desktop/annabel/uni/ds105l/group_project/DS105L-Project/Data/nba_author_credit/nba_1600_credit_season_3.csv', index=False)\n"
   ]
  }
 ],
 "metadata": {
  "kernelspec": {
   "display_name": "base",
   "language": "python",
   "name": "python3"
  },
  "language_info": {
   "codemirror_mode": {
    "name": "ipython",
    "version": 3
   },
   "file_extension": ".py",
   "mimetype": "text/x-python",
   "name": "python",
   "nbconvert_exporter": "python",
   "pygments_lexer": "ipython3",
   "version": "3.9.12"
  },
  "orig_nbformat": 4,
  "vscode": {
   "interpreter": {
    "hash": "705d6f4ecb8a535ad130d19f33aca7c81049a16c0faf5a3ee87de4e6b987140d"
   }
  }
 },
 "nbformat": 4,
 "nbformat_minor": 2
}

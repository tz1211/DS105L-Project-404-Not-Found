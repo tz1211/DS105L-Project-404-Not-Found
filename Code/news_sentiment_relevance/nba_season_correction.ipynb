{
 "cells": [
  {
   "cell_type": "code",
   "execution_count": 1,
   "metadata": {},
   "outputs": [],
   "source": [
    "import pandas as pd\n"
   ]
  },
  {
   "cell_type": "code",
   "execution_count": 3,
   "metadata": {},
   "outputs": [],
   "source": [
    "df600= pd.read_csv('/Users/annabelitong/desktop/annabel/uni/ds105l/group_project/DS105L-Project/Data/nba_author_credit/news_600_author_credit_1.csv')\n",
    "df1200= pd.read_csv('/Users/annabelitong/desktop/annabel/uni/ds105l/group_project/DS105L-Project/Data/nba_author_credit/news_1200_author_credit_1.csv')\n",
    "df1600= pd.read_csv('/Users/annabelitong/desktop/annabel/uni/ds105l/group_project/DS105L-Project/Data/nba_author_credit/news_1600_author_credit_1.csv')\n"
   ]
  },
  {
   "cell_type": "code",
   "execution_count": 6,
   "metadata": {},
   "outputs": [],
   "source": [
    "season600= pd.read_csv('/Users/annabelitong/desktop/annabel/uni/ds105l/group_project/DS105L-Project/Data/with season/with_season_0_600.csv')\n",
    "season1200= pd.read_csv('/Users/annabelitong/desktop/annabel/uni/ds105l/group_project/DS105L-Project/Data/with season/with_season_600_1200.csv')\n",
    "season1600= pd.read_csv('/Users/annabelitong/desktop/annabel/uni/ds105l/group_project/DS105L-Project/Data/with season/with_season_1200_1640.csv')\n"
   ]
  },
  {
   "cell_type": "code",
   "execution_count": 21,
   "metadata": {},
   "outputs": [],
   "source": [
    "df600['time'] = season600['time']\n",
    "df1200['time'] = season1200['time']\n",
    "df1600['time'] = season1600['time']\n",
    "\n",
    "df600.to_csv('/Users/annabelitong/desktop/annabel/uni/ds105l/group_project/DS105L-Project/Data/nba_author_credit/nba_600_credit_off.csv', index=False)\n",
    "df1200.to_csv('/Users/annabelitong/desktop/annabel/uni/ds105l/group_project/DS105L-Project/Data/nba_author_credit/nba_1200_credit_off.csv', index=False)\n",
    "df1600.to_csv('/Users/annabelitong/desktop/annabel/uni/ds105l/group_project/DS105L-Project/Data/nba_author_credit/nba_1600_credit_off.csv', index=False)\n"
   ]
  },
  {
   "cell_type": "code",
   "execution_count": 22,
   "metadata": {},
   "outputs": [],
   "source": [
    "df_600 = df600.copy()\n",
    "df_1200 = df1200.copy()\n",
    "df_1600 = df1600.copy()\n",
    "df_600 = df_600[df_600['time'] != 'off-season news']\n",
    "df_1200 = df_1200[df_1200['time'] != 'off-season news']\n",
    "df_1600 = df1600[df1600['time'] != 'off-season news']\n",
    "\n",
    "\n",
    "\n",
    "df_600.to_csv('/Users/annabelitong/desktop/annabel/uni/ds105l/group_project/DS105L-Project/Data/nba_author_credit/nba_600_credit.csv', index=False)\n",
    "df_1200.to_csv('/Users/annabelitong/desktop/annabel/uni/ds105l/group_project/DS105L-Project/Data/nba_author_credit/nba_1200_credit.csv', index=False)\n",
    "df_1600.to_csv('/Users/annabelitong/desktop/annabel/uni/ds105l/group_project/DS105L-Project/Data/nba_author_credit/nba_1600_credit.csv', index=False)\n",
    "\n"
   ]
  }
 ],
 "metadata": {
  "kernelspec": {
   "display_name": "base",
   "language": "python",
   "name": "python3"
  },
  "language_info": {
   "codemirror_mode": {
    "name": "ipython",
    "version": 3
   },
   "file_extension": ".py",
   "mimetype": "text/x-python",
   "name": "python",
   "nbconvert_exporter": "python",
   "pygments_lexer": "ipython3",
   "version": "3.9.12"
  },
  "orig_nbformat": 4,
  "vscode": {
   "interpreter": {
    "hash": "705d6f4ecb8a535ad130d19f33aca7c81049a16c0faf5a3ee87de4e6b987140d"
   }
  }
 },
 "nbformat": 4,
 "nbformat_minor": 2
}

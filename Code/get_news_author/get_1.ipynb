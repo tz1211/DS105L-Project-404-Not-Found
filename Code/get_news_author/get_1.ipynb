{
 "cells": [
  {
   "cell_type": "code",
   "execution_count": 17,
   "metadata": {},
   "outputs": [],
   "source": [
    "import requests\n",
    "\n",
    "import pandas as pd\n",
    "\n",
    "from bs4 import BeautifulSoup\n",
    "\n",
    "from datetime import datetime"
   ]
  },
  {
   "cell_type": "code",
   "execution_count": 18,
   "metadata": {},
   "outputs": [],
   "source": [
    "#16396\n",
    "df_nba_news_archive_600 = pd.read_csv('/Users/annabelitong/desktop/annabel/uni/ds105l/group_project/DS105L-Project/Data/nba_news_archive_600.csv')\n"
   ]
  },
  {
   "cell_type": "code",
   "execution_count": 19,
   "metadata": {},
   "outputs": [],
   "source": [
    "news_600 = df_nba_news_archive_600.copy()\n"
   ]
  },
  {
   "cell_type": "code",
   "execution_count": 20,
   "metadata": {},
   "outputs": [],
   "source": [
    "from tqdm import tqdm\n",
    "\n",
    "def find_author(df_news):\n",
    "    list_url = list(df_news[\"url\"])\n",
    "    author_list = []\n",
    "    for url in tqdm(list_url, desc=\"Finding authors\"):\n",
    "        try:\n",
    "            r = requests.get(url) \n",
    "            soup = BeautifulSoup(r.content, \"html.parser\") \n",
    "            author = soup.find(\"span\", attrs ={\"class\": \"entry-header__author\"}).contents[0]\n",
    "            author_list.append(author)\n",
    "        except:\n",
    "            author = \"NaN\"\n",
    "            author_list.append(author)\n",
    "    df_news.loc[:, \"author\"] = author_list\n",
    "    return df_news\n"
   ]
  },
  {
   "cell_type": "code",
   "execution_count": 21,
   "metadata": {},
   "outputs": [
    {
     "name": "stderr",
     "output_type": "stream",
     "text": [
      "Finding authors: 100%|██████████| 6000/6000 [1:54:45<00:00,  1.15s/it]    \n"
     ]
    }
   ],
   "source": [
    "news_600_author = find_author(news_600)"
   ]
  },
  {
   "cell_type": "code",
   "execution_count": 22,
   "metadata": {},
   "outputs": [
    {
     "data": {
      "text/html": [
       "<div>\n",
       "<style scoped>\n",
       "    .dataframe tbody tr th:only-of-type {\n",
       "        vertical-align: middle;\n",
       "    }\n",
       "\n",
       "    .dataframe tbody tr th {\n",
       "        vertical-align: top;\n",
       "    }\n",
       "\n",
       "    .dataframe thead th {\n",
       "        text-align: right;\n",
       "    }\n",
       "</style>\n",
       "<table border=\"1\" class=\"dataframe\">\n",
       "  <thead>\n",
       "    <tr style=\"text-align: right;\">\n",
       "      <th></th>\n",
       "      <th>Unnamed: 0</th>\n",
       "      <th>title</th>\n",
       "      <th>time</th>\n",
       "      <th>url</th>\n",
       "      <th>author</th>\n",
       "    </tr>\n",
       "  </thead>\n",
       "  <tbody>\n",
       "    <tr>\n",
       "      <th>0</th>\n",
       "      <td>0</td>\n",
       "      <td>Bucks’ George Hill Returns To Milwaukee, Encou...</td>\n",
       "      <td>October 24, 2020</td>\n",
       "      <td>http://global.nba.com/news/bucks-george-hill-r...</td>\n",
       "      <td>Steve Megargee</td>\n",
       "    </tr>\n",
       "    <tr>\n",
       "      <th>1</th>\n",
       "      <td>1</td>\n",
       "      <td>NBA, WNBA Ramp Up Efforts To Get Out The Vote ...</td>\n",
       "      <td>October 24, 2020</td>\n",
       "      <td>http://global.nba.com/news/nba-wnba-ramp-up-ef...</td>\n",
       "      <td>Brian Martin</td>\n",
       "    </tr>\n",
       "    <tr>\n",
       "      <th>2</th>\n",
       "      <td>2</td>\n",
       "      <td>Pat Riley Discusses Heat Future, Plans For Kee...</td>\n",
       "      <td>October 23, 2020</td>\n",
       "      <td>http://global.nba.com/news/pat-riley-discusses...</td>\n",
       "      <td>Tim Reynolds | Associated Press</td>\n",
       "    </tr>\n",
       "    <tr>\n",
       "      <th>3</th>\n",
       "      <td>3</td>\n",
       "      <td>Report: Amar’e Stoudemire Joins Steve Nash’s C...</td>\n",
       "      <td>October 23, 2020</td>\n",
       "      <td>http://global.nba.com/news/report-amare-stoude...</td>\n",
       "      <td>NBA News</td>\n",
       "    </tr>\n",
       "    <tr>\n",
       "      <th>4</th>\n",
       "      <td>4</td>\n",
       "      <td>ESPN To Host Virtual 2020 NBA Draft Presented ...</td>\n",
       "      <td>October 22, 2020</td>\n",
       "      <td>http://global.nba.com/news/espn-to-host-virtua...</td>\n",
       "      <td>Official Release</td>\n",
       "    </tr>\n",
       "    <tr>\n",
       "      <th>...</th>\n",
       "      <td>...</td>\n",
       "      <td>...</td>\n",
       "      <td>...</td>\n",
       "      <td>...</td>\n",
       "      <td>...</td>\n",
       "    </tr>\n",
       "    <tr>\n",
       "      <th>5995</th>\n",
       "      <td>5995</td>\n",
       "      <td>Antetokounmpo Scores 34, Bucks Top Spurs 135-129</td>\n",
       "      <td>November 24, 2018</td>\n",
       "      <td>http://global.nba.com/news/antetokounmpo-score...</td>\n",
       "      <td>NBA News</td>\n",
       "    </tr>\n",
       "    <tr>\n",
       "      <th>5996</th>\n",
       "      <td>5996</td>\n",
       "      <td>Mavericks Pull Away In 4th For 113-104 Win Ove...</td>\n",
       "      <td>November 24, 2018</td>\n",
       "      <td>http://global.nba.com/news/mavericks-pull-away...</td>\n",
       "      <td>NBA News</td>\n",
       "    </tr>\n",
       "    <tr>\n",
       "      <th>5997</th>\n",
       "      <td>5997</td>\n",
       "      <td>Murray Leads Nuggets Past Thunder, 105-98</td>\n",
       "      <td>November 24, 2018</td>\n",
       "      <td>http://global.nba.com/news/murray-leads-nugget...</td>\n",
       "      <td>NBA News</td>\n",
       "    </tr>\n",
       "    <tr>\n",
       "      <th>5998</th>\n",
       "      <td>5998</td>\n",
       "      <td>Towns’ 35 Points, 22 Boards Lead Wolves Over B...</td>\n",
       "      <td>November 24, 2018</td>\n",
       "      <td>http://global.nba.com/news/towns-35-points-22-...</td>\n",
       "      <td>NBA News</td>\n",
       "    </tr>\n",
       "    <tr>\n",
       "      <th>5999</th>\n",
       "      <td>5999</td>\n",
       "      <td>Sexton Scores 29 As Cavs Hold Off Harden, Rock...</td>\n",
       "      <td>November 24, 2018</td>\n",
       "      <td>http://global.nba.com/news/sexton-scores-29-as...</td>\n",
       "      <td>NBA News</td>\n",
       "    </tr>\n",
       "  </tbody>\n",
       "</table>\n",
       "<p>6000 rows × 5 columns</p>\n",
       "</div>"
      ],
      "text/plain": [
       "      Unnamed: 0                                              title  \\\n",
       "0              0  Bucks’ George Hill Returns To Milwaukee, Encou...   \n",
       "1              1  NBA, WNBA Ramp Up Efforts To Get Out The Vote ...   \n",
       "2              2  Pat Riley Discusses Heat Future, Plans For Kee...   \n",
       "3              3  Report: Amar’e Stoudemire Joins Steve Nash’s C...   \n",
       "4              4  ESPN To Host Virtual 2020 NBA Draft Presented ...   \n",
       "...          ...                                                ...   \n",
       "5995        5995   Antetokounmpo Scores 34, Bucks Top Spurs 135-129   \n",
       "5996        5996  Mavericks Pull Away In 4th For 113-104 Win Ove...   \n",
       "5997        5997          Murray Leads Nuggets Past Thunder, 105-98   \n",
       "5998        5998  Towns’ 35 Points, 22 Boards Lead Wolves Over B...   \n",
       "5999        5999  Sexton Scores 29 As Cavs Hold Off Harden, Rock...   \n",
       "\n",
       "                   time                                                url  \\\n",
       "0      October 24, 2020  http://global.nba.com/news/bucks-george-hill-r...   \n",
       "1      October 24, 2020  http://global.nba.com/news/nba-wnba-ramp-up-ef...   \n",
       "2      October 23, 2020  http://global.nba.com/news/pat-riley-discusses...   \n",
       "3      October 23, 2020  http://global.nba.com/news/report-amare-stoude...   \n",
       "4      October 22, 2020  http://global.nba.com/news/espn-to-host-virtua...   \n",
       "...                 ...                                                ...   \n",
       "5995  November 24, 2018  http://global.nba.com/news/antetokounmpo-score...   \n",
       "5996  November 24, 2018  http://global.nba.com/news/mavericks-pull-away...   \n",
       "5997  November 24, 2018  http://global.nba.com/news/murray-leads-nugget...   \n",
       "5998  November 24, 2018  http://global.nba.com/news/towns-35-points-22-...   \n",
       "5999  November 24, 2018  http://global.nba.com/news/sexton-scores-29-as...   \n",
       "\n",
       "                               author  \n",
       "0                      Steve Megargee  \n",
       "1                        Brian Martin  \n",
       "2     Tim Reynolds | Associated Press  \n",
       "3                            NBA News  \n",
       "4                    Official Release  \n",
       "...                               ...  \n",
       "5995                         NBA News  \n",
       "5996                         NBA News  \n",
       "5997                         NBA News  \n",
       "5998                         NBA News  \n",
       "5999                         NBA News  \n",
       "\n",
       "[6000 rows x 5 columns]"
      ]
     },
     "execution_count": 22,
     "metadata": {},
     "output_type": "execute_result"
    }
   ],
   "source": [
    "news_600_author"
   ]
  },
  {
   "cell_type": "code",
   "execution_count": 23,
   "metadata": {},
   "outputs": [],
   "source": [
    "news_600_author.to_csv('/Users/annabelitong/desktop/annabel/uni/ds105l/group_project/DS105L-Project/Data/news_author/news_600_author.csv', index=False)\n"
   ]
  },
  {
   "cell_type": "code",
   "execution_count": null,
   "metadata": {},
   "outputs": [],
   "source": []
  },
  {
   "cell_type": "code",
   "execution_count": null,
   "metadata": {},
   "outputs": [],
   "source": []
  },
  {
   "cell_type": "code",
   "execution_count": null,
   "metadata": {},
   "outputs": [],
   "source": []
  }
 ],
 "metadata": {
  "kernelspec": {
   "display_name": "Python 3",
   "language": "python",
   "name": "python3"
  },
  "language_info": {
   "codemirror_mode": {
    "name": "ipython",
    "version": 3
   },
   "file_extension": ".py",
   "mimetype": "text/x-python",
   "name": "python",
   "nbconvert_exporter": "python",
   "pygments_lexer": "ipython3",
   "version": "3.10.7"
  },
  "orig_nbformat": 4,
  "vscode": {
   "interpreter": {
    "hash": "aee8b7b246df8f9039afb4144a1f6fd8d2ca17a180786b69acc140d282b71a49"
   }
  }
 },
 "nbformat": 4,
 "nbformat_minor": 2
}

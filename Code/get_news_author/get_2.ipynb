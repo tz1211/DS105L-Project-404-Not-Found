{
 "cells": [
  {
   "cell_type": "code",
   "execution_count": 1,
   "metadata": {},
   "outputs": [],
   "source": [
    "import requests\n",
    "\n",
    "import pandas as pd\n",
    "\n",
    "from bs4 import BeautifulSoup\n",
    "\n",
    "from datetime import datetime"
   ]
  },
  {
   "cell_type": "code",
   "execution_count": 2,
   "metadata": {},
   "outputs": [],
   "source": [
    "\n",
    "df_nba_news_archive_600_1200 = pd.read_csv('/Users/annabelitong/desktop/annabel/uni/ds105l/group_project/DS105L-Project/Data/nba_news_archive_600_1200.csv')\n",
    "\n"
   ]
  },
  {
   "cell_type": "code",
   "execution_count": 3,
   "metadata": {},
   "outputs": [],
   "source": [
    "news_600_1200 = df_nba_news_archive_600_1200.copy()\n"
   ]
  },
  {
   "cell_type": "code",
   "execution_count": 4,
   "metadata": {},
   "outputs": [],
   "source": [
    "from tqdm import tqdm\n",
    "\n",
    "def find_author(df_news):\n",
    "    list_url = list(df_news[\"url\"])\n",
    "    author_list = []\n",
    "    for url in tqdm(list_url, desc=\"Finding authors\"):\n",
    "        try:\n",
    "            r = requests.get(url) \n",
    "            soup = BeautifulSoup(r.content, \"html.parser\") \n",
    "            author = soup.find(\"span\", attrs ={\"class\": \"entry-header__author\"}).contents[0]\n",
    "            author_list.append(author)\n",
    "        except:\n",
    "            author = \"NA\"\n",
    "            author_list.append(author)\n",
    "    df_news.loc[:, \"author\"] = author_list\n",
    "    return df_news\n"
   ]
  },
  {
   "cell_type": "code",
   "execution_count": 5,
   "metadata": {},
   "outputs": [
    {
     "name": "stderr",
     "output_type": "stream",
     "text": [
      "Finding authors: 100%|██████████| 6000/6000 [2:03:52<00:00,  1.24s/it]     \n"
     ]
    }
   ],
   "source": [
    "news_1200_author = find_author(news_600_1200)\n"
   ]
  },
  {
   "cell_type": "code",
   "execution_count": 6,
   "metadata": {},
   "outputs": [
    {
     "data": {
      "text/html": [
       "<div>\n",
       "<style scoped>\n",
       "    .dataframe tbody tr th:only-of-type {\n",
       "        vertical-align: middle;\n",
       "    }\n",
       "\n",
       "    .dataframe tbody tr th {\n",
       "        vertical-align: top;\n",
       "    }\n",
       "\n",
       "    .dataframe thead th {\n",
       "        text-align: right;\n",
       "    }\n",
       "</style>\n",
       "<table border=\"1\" class=\"dataframe\">\n",
       "  <thead>\n",
       "    <tr style=\"text-align: right;\">\n",
       "      <th></th>\n",
       "      <th>Unnamed: 0</th>\n",
       "      <th>title</th>\n",
       "      <th>time</th>\n",
       "      <th>url</th>\n",
       "      <th>author</th>\n",
       "    </tr>\n",
       "  </thead>\n",
       "  <tbody>\n",
       "    <tr>\n",
       "      <th>0</th>\n",
       "      <td>0</td>\n",
       "      <td>Warriors’ Stephen Curry To Begin Practicing Ne...</td>\n",
       "      <td>November 24, 2018</td>\n",
       "      <td>http://global.nba.com/news/warriors-stephen-cu...</td>\n",
       "      <td>NBA News</td>\n",
       "    </tr>\n",
       "    <tr>\n",
       "      <th>1</th>\n",
       "      <td>1</td>\n",
       "      <td>Pelicans’ Anthony Davis (Hip Strain) Out vs. W...</td>\n",
       "      <td>November 24, 2018</td>\n",
       "      <td>http://global.nba.com/news/pelicans-anthony-da...</td>\n",
       "      <td>NBA News</td>\n",
       "    </tr>\n",
       "    <tr>\n",
       "      <th>2</th>\n",
       "      <td>2</td>\n",
       "      <td>Rockets To Rest Chris Paul Against Cavaliers</td>\n",
       "      <td>November 24, 2018</td>\n",
       "      <td>http://global.nba.com/news/rockets-to-rest-chr...</td>\n",
       "      <td>NBA News</td>\n",
       "    </tr>\n",
       "    <tr>\n",
       "      <th>3</th>\n",
       "      <td>3</td>\n",
       "      <td>Warriors Looking To Stay On Track As They Host...</td>\n",
       "      <td>November 24, 2018</td>\n",
       "      <td>http://global.nba.com/news/warriors-looking-to...</td>\n",
       "      <td>NBA News</td>\n",
       "    </tr>\n",
       "    <tr>\n",
       "      <th>4</th>\n",
       "      <td>4</td>\n",
       "      <td>Bucks End Homestand Against Spurs</td>\n",
       "      <td>November 24, 2018</td>\n",
       "      <td>http://global.nba.com/news/bucks-end-homestand...</td>\n",
       "      <td>NBA News</td>\n",
       "    </tr>\n",
       "    <tr>\n",
       "      <th>...</th>\n",
       "      <td>...</td>\n",
       "      <td>...</td>\n",
       "      <td>...</td>\n",
       "      <td>...</td>\n",
       "      <td>...</td>\n",
       "    </tr>\n",
       "    <tr>\n",
       "      <th>5995</th>\n",
       "      <td>5995</td>\n",
       "      <td>Returning champion Klay Thompson headlines JBL...</td>\n",
       "      <td>February 2, 2017</td>\n",
       "      <td>http://global.nba.com/news/returning-champion-...</td>\n",
       "      <td>NBA News</td>\n",
       "    </tr>\n",
       "    <tr>\n",
       "      <th>5996</th>\n",
       "      <td>5996</td>\n",
       "      <td>Aaron Gordon, DeAndre Jordan Headline 2017 Ver...</td>\n",
       "      <td>February 2, 2017</td>\n",
       "      <td>http://global.nba.com/news/aaron-gordon-deandr...</td>\n",
       "      <td>NBA News</td>\n",
       "    </tr>\n",
       "    <tr>\n",
       "      <th>5997</th>\n",
       "      <td>5997</td>\n",
       "      <td>Keys to the Game: Bulls vs. Warriors (03.02.17)</td>\n",
       "      <td>February 2, 2017</td>\n",
       "      <td>http://global.nba.com/news/keys-to-the-game-bu...</td>\n",
       "      <td>Matt Moreno</td>\n",
       "    </tr>\n",
       "    <tr>\n",
       "      <th>5998</th>\n",
       "      <td>5998</td>\n",
       "      <td>Hornets Acquire Center Miles Plumlee From Buck...</td>\n",
       "      <td>February 2, 2017</td>\n",
       "      <td>http://global.nba.com/news/hornets-acquire-cen...</td>\n",
       "      <td>Quinton Pierre-Wash</td>\n",
       "    </tr>\n",
       "    <tr>\n",
       "      <th>5999</th>\n",
       "      <td>5999</td>\n",
       "      <td>Joel Embiid, Marquese Chriss named Rookies Of ...</td>\n",
       "      <td>February 2, 2017</td>\n",
       "      <td>http://global.nba.com/news/joel-embiid-marques...</td>\n",
       "      <td>NBA News</td>\n",
       "    </tr>\n",
       "  </tbody>\n",
       "</table>\n",
       "<p>6000 rows × 5 columns</p>\n",
       "</div>"
      ],
      "text/plain": [
       "      Unnamed: 0                                              title  \\\n",
       "0              0  Warriors’ Stephen Curry To Begin Practicing Ne...   \n",
       "1              1  Pelicans’ Anthony Davis (Hip Strain) Out vs. W...   \n",
       "2              2       Rockets To Rest Chris Paul Against Cavaliers   \n",
       "3              3  Warriors Looking To Stay On Track As They Host...   \n",
       "4              4                  Bucks End Homestand Against Spurs   \n",
       "...          ...                                                ...   \n",
       "5995        5995  Returning champion Klay Thompson headlines JBL...   \n",
       "5996        5996  Aaron Gordon, DeAndre Jordan Headline 2017 Ver...   \n",
       "5997        5997    Keys to the Game: Bulls vs. Warriors (03.02.17)   \n",
       "5998        5998  Hornets Acquire Center Miles Plumlee From Buck...   \n",
       "5999        5999  Joel Embiid, Marquese Chriss named Rookies Of ...   \n",
       "\n",
       "                   time                                                url  \\\n",
       "0     November 24, 2018  http://global.nba.com/news/warriors-stephen-cu...   \n",
       "1     November 24, 2018  http://global.nba.com/news/pelicans-anthony-da...   \n",
       "2     November 24, 2018  http://global.nba.com/news/rockets-to-rest-chr...   \n",
       "3     November 24, 2018  http://global.nba.com/news/warriors-looking-to...   \n",
       "4     November 24, 2018  http://global.nba.com/news/bucks-end-homestand...   \n",
       "...                 ...                                                ...   \n",
       "5995   February 2, 2017  http://global.nba.com/news/returning-champion-...   \n",
       "5996   February 2, 2017  http://global.nba.com/news/aaron-gordon-deandr...   \n",
       "5997   February 2, 2017  http://global.nba.com/news/keys-to-the-game-bu...   \n",
       "5998   February 2, 2017  http://global.nba.com/news/hornets-acquire-cen...   \n",
       "5999   February 2, 2017  http://global.nba.com/news/joel-embiid-marques...   \n",
       "\n",
       "                   author  \n",
       "0                NBA News  \n",
       "1                NBA News  \n",
       "2                NBA News  \n",
       "3                NBA News  \n",
       "4                NBA News  \n",
       "...                   ...  \n",
       "5995             NBA News  \n",
       "5996             NBA News  \n",
       "5997          Matt Moreno  \n",
       "5998  Quinton Pierre-Wash  \n",
       "5999             NBA News  \n",
       "\n",
       "[6000 rows x 5 columns]"
      ]
     },
     "execution_count": 6,
     "metadata": {},
     "output_type": "execute_result"
    }
   ],
   "source": [
    "news_1200_author"
   ]
  },
  {
   "cell_type": "code",
   "execution_count": 7,
   "metadata": {},
   "outputs": [],
   "source": [
    "news_1200_author.to_csv('/Users/annabelitong/desktop/annabel/uni/ds105l/group_project/DS105L-Project/Data/news_author/news_1200_author.csv', index=False)\n"
   ]
  }
 ],
 "metadata": {
  "kernelspec": {
   "display_name": "base",
   "language": "python",
   "name": "python3"
  },
  "language_info": {
   "codemirror_mode": {
    "name": "ipython",
    "version": 3
   },
   "file_extension": ".py",
   "mimetype": "text/x-python",
   "name": "python",
   "nbconvert_exporter": "python",
   "pygments_lexer": "ipython3",
   "version": "3.9.12"
  },
  "orig_nbformat": 4,
  "vscode": {
   "interpreter": {
    "hash": "705d6f4ecb8a535ad130d19f33aca7c81049a16c0faf5a3ee87de4e6b987140d"
   }
  }
 },
 "nbformat": 4,
 "nbformat_minor": 2
}

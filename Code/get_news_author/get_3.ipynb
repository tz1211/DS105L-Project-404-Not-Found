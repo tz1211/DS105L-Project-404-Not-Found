{
 "cells": [
  {
   "cell_type": "code",
   "execution_count": 1,
   "metadata": {},
   "outputs": [],
   "source": [
    "import requests\n",
    "\n",
    "import pandas as pd\n",
    "\n",
    "from bs4 import BeautifulSoup\n",
    "\n",
    "from datetime import datetime"
   ]
  },
  {
   "cell_type": "code",
   "execution_count": 2,
   "metadata": {},
   "outputs": [],
   "source": [
    "df_nba_news_archive_1200_1640 = pd.read_csv('/Users/annabelitong/desktop/annabel/uni/ds105l/group_project/DS105L-Project/Data/nba_news_archive_1200_1640.csv')\n"
   ]
  },
  {
   "cell_type": "code",
   "execution_count": 3,
   "metadata": {},
   "outputs": [],
   "source": [
    "news_1200_1600 = df_nba_news_archive_1200_1640.copy()"
   ]
  },
  {
   "cell_type": "code",
   "execution_count": 4,
   "metadata": {},
   "outputs": [],
   "source": [
    "from tqdm import tqdm\n",
    "\n",
    "def find_author(df_news):\n",
    "    list_url = list(df_news[\"url\"])\n",
    "    author_list = []\n",
    "    for url in tqdm(list_url, desc=\"Finding authors\"):\n",
    "        try:\n",
    "            r = requests.get(url) \n",
    "            soup = BeautifulSoup(r.content, \"html.parser\") \n",
    "            author = soup.find(\"span\", attrs ={\"class\": \"entry-header__author\"}).contents[0]\n",
    "            author_list.append(author)\n",
    "        except:\n",
    "            author = \"NA\"\n",
    "            author_list.append(author)\n",
    "    df_news.loc[:, \"author\"] = author_list\n",
    "    return df_news\n"
   ]
  },
  {
   "cell_type": "code",
   "execution_count": 5,
   "metadata": {},
   "outputs": [
    {
     "name": "stderr",
     "output_type": "stream",
     "text": [
      "Finding authors: 100%|██████████| 4396/4396 [2:10:14<00:00,  1.78s/it]     \n"
     ]
    }
   ],
   "source": [
    "news_1600_author = find_author(news_1200_1600)"
   ]
  },
  {
   "cell_type": "code",
   "execution_count": 6,
   "metadata": {},
   "outputs": [
    {
     "data": {
      "text/html": [
       "<div>\n",
       "<style scoped>\n",
       "    .dataframe tbody tr th:only-of-type {\n",
       "        vertical-align: middle;\n",
       "    }\n",
       "\n",
       "    .dataframe tbody tr th {\n",
       "        vertical-align: top;\n",
       "    }\n",
       "\n",
       "    .dataframe thead th {\n",
       "        text-align: right;\n",
       "    }\n",
       "</style>\n",
       "<table border=\"1\" class=\"dataframe\">\n",
       "  <thead>\n",
       "    <tr style=\"text-align: right;\">\n",
       "      <th></th>\n",
       "      <th>Unnamed: 0</th>\n",
       "      <th>title</th>\n",
       "      <th>time</th>\n",
       "      <th>url</th>\n",
       "      <th>author</th>\n",
       "    </tr>\n",
       "  </thead>\n",
       "  <tbody>\n",
       "    <tr>\n",
       "      <th>0</th>\n",
       "      <td>0</td>\n",
       "      <td>Isaiah Thomas Named Eastern Conference Player ...</td>\n",
       "      <td>February 2, 2017</td>\n",
       "      <td>http://global.nba.com/news/isaiah-thomas-named...</td>\n",
       "      <td>NBA News</td>\n",
       "    </tr>\n",
       "    <tr>\n",
       "      <th>1</th>\n",
       "      <td>1</td>\n",
       "      <td>Muhammad Anchoring Wolves Second Unit</td>\n",
       "      <td>February 2, 2017</td>\n",
       "      <td>http://global.nba.com/news/muhammad-anchoring-...</td>\n",
       "      <td>NBA News</td>\n",
       "    </tr>\n",
       "    <tr>\n",
       "      <th>2</th>\n",
       "      <td>2</td>\n",
       "      <td>Schedule Breakdown: Clippers in for challengin...</td>\n",
       "      <td>February 2, 2017</td>\n",
       "      <td>http://global.nba.com/news/schedule-breakdown-...</td>\n",
       "      <td>NBA News</td>\n",
       "    </tr>\n",
       "    <tr>\n",
       "      <th>3</th>\n",
       "      <td>3</td>\n",
       "      <td>Magic Johnson to Advise Lakers Team Ownership</td>\n",
       "      <td>February 2, 2017</td>\n",
       "      <td>http://global.nba.com/news/magic-johnson-to-ad...</td>\n",
       "      <td>Nick Kioski</td>\n",
       "    </tr>\n",
       "    <tr>\n",
       "      <th>4</th>\n",
       "      <td>4</td>\n",
       "      <td>Feb. 2 Shootaround — Knicks Still In Pursuit O...</td>\n",
       "      <td>February 2, 2017</td>\n",
       "      <td>http://global.nba.com/news/feb-2-shootaround-k...</td>\n",
       "      <td>NBA News</td>\n",
       "    </tr>\n",
       "    <tr>\n",
       "      <th>...</th>\n",
       "      <td>...</td>\n",
       "      <td>...</td>\n",
       "      <td>...</td>\n",
       "      <td>...</td>\n",
       "      <td>...</td>\n",
       "    </tr>\n",
       "    <tr>\n",
       "      <th>4391</th>\n",
       "      <td>4391</td>\n",
       "      <td>2015-16 Season Preview Extravaganza | How Will...</td>\n",
       "      <td>October 12, 2015</td>\n",
       "      <td>http://global.nba.com/news/2015-16-season-prev...</td>\n",
       "      <td>Kyle Ratke</td>\n",
       "    </tr>\n",
       "    <tr>\n",
       "      <th>4392</th>\n",
       "      <td>4392</td>\n",
       "      <td>All NBA League Pass First Team: John Wall</td>\n",
       "      <td>October 12, 2015</td>\n",
       "      <td>http://global.nba.com/news/all-nba-league-pass...</td>\n",
       "      <td>NBA News</td>\n",
       "    </tr>\n",
       "    <tr>\n",
       "      <th>4393</th>\n",
       "      <td>4393</td>\n",
       "      <td>All NBA League Pass First Team: Damian Lillard</td>\n",
       "      <td>October 12, 2015</td>\n",
       "      <td>http://global.nba.com/news/all-nba-league-pass...</td>\n",
       "      <td>NBA News</td>\n",
       "    </tr>\n",
       "    <tr>\n",
       "      <th>4394</th>\n",
       "      <td>4394</td>\n",
       "      <td>All NBA League Pass First Team: Giannis Anteto...</td>\n",
       "      <td>October 12, 2015</td>\n",
       "      <td>http://global.nba.com/news/all-nba-league-pass...</td>\n",
       "      <td>NBA News</td>\n",
       "    </tr>\n",
       "    <tr>\n",
       "      <th>4395</th>\n",
       "      <td>4395</td>\n",
       "      <td>All NBA League Pass First Team: DeMarcus Cousins</td>\n",
       "      <td>October 12, 2015</td>\n",
       "      <td>http://global.nba.com/news/all-nba-league-pass...</td>\n",
       "      <td>NBA News</td>\n",
       "    </tr>\n",
       "  </tbody>\n",
       "</table>\n",
       "<p>4396 rows × 5 columns</p>\n",
       "</div>"
      ],
      "text/plain": [
       "      Unnamed: 0                                              title  \\\n",
       "0              0  Isaiah Thomas Named Eastern Conference Player ...   \n",
       "1              1              Muhammad Anchoring Wolves Second Unit   \n",
       "2              2  Schedule Breakdown: Clippers in for challengin...   \n",
       "3              3      Magic Johnson to Advise Lakers Team Ownership   \n",
       "4              4  Feb. 2 Shootaround — Knicks Still In Pursuit O...   \n",
       "...          ...                                                ...   \n",
       "4391        4391  2015-16 Season Preview Extravaganza | How Will...   \n",
       "4392        4392          All NBA League Pass First Team: John Wall   \n",
       "4393        4393     All NBA League Pass First Team: Damian Lillard   \n",
       "4394        4394  All NBA League Pass First Team: Giannis Anteto...   \n",
       "4395        4395   All NBA League Pass First Team: DeMarcus Cousins   \n",
       "\n",
       "                  time                                                url  \\\n",
       "0     February 2, 2017  http://global.nba.com/news/isaiah-thomas-named...   \n",
       "1     February 2, 2017  http://global.nba.com/news/muhammad-anchoring-...   \n",
       "2     February 2, 2017  http://global.nba.com/news/schedule-breakdown-...   \n",
       "3     February 2, 2017  http://global.nba.com/news/magic-johnson-to-ad...   \n",
       "4     February 2, 2017  http://global.nba.com/news/feb-2-shootaround-k...   \n",
       "...                ...                                                ...   \n",
       "4391  October 12, 2015  http://global.nba.com/news/2015-16-season-prev...   \n",
       "4392  October 12, 2015  http://global.nba.com/news/all-nba-league-pass...   \n",
       "4393  October 12, 2015  http://global.nba.com/news/all-nba-league-pass...   \n",
       "4394  October 12, 2015  http://global.nba.com/news/all-nba-league-pass...   \n",
       "4395  October 12, 2015  http://global.nba.com/news/all-nba-league-pass...   \n",
       "\n",
       "           author  \n",
       "0        NBA News  \n",
       "1        NBA News  \n",
       "2        NBA News  \n",
       "3     Nick Kioski  \n",
       "4        NBA News  \n",
       "...           ...  \n",
       "4391   Kyle Ratke  \n",
       "4392     NBA News  \n",
       "4393     NBA News  \n",
       "4394     NBA News  \n",
       "4395     NBA News  \n",
       "\n",
       "[4396 rows x 5 columns]"
      ]
     },
     "execution_count": 6,
     "metadata": {},
     "output_type": "execute_result"
    }
   ],
   "source": [
    "news_1600_author"
   ]
  },
  {
   "cell_type": "code",
   "execution_count": 7,
   "metadata": {},
   "outputs": [],
   "source": [
    "news_1600_author.to_csv('/Users/annabelitong/desktop/annabel/uni/ds105l/group_project/DS105L-Project/Data/news_author/news_1600_author.csv', index=False)\n"
   ]
  },
  {
   "cell_type": "code",
   "execution_count": null,
   "metadata": {},
   "outputs": [],
   "source": []
  }
 ],
 "metadata": {
  "kernelspec": {
   "display_name": "base",
   "language": "python",
   "name": "python3"
  },
  "language_info": {
   "codemirror_mode": {
    "name": "ipython",
    "version": 3
   },
   "file_extension": ".py",
   "mimetype": "text/x-python",
   "name": "python",
   "nbconvert_exporter": "python",
   "pygments_lexer": "ipython3",
   "version": "3.9.12"
  },
  "orig_nbformat": 4,
  "vscode": {
   "interpreter": {
    "hash": "705d6f4ecb8a535ad130d19f33aca7c81049a16c0faf5a3ee87de4e6b987140d"
   }
  }
 },
 "nbformat": 4,
 "nbformat_minor": 2
}

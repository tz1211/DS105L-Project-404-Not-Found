{
 "cells": [
  {
   "cell_type": "code",
   "execution_count": null,
   "metadata": {},
   "outputs": [],
   "source": [
    "import requests\n",
    "\n",
    "import pandas as pd\n",
    "\n",
    "from bs4 import BeautifulSoup\n",
    "\n",
    "from datetime import datetime\n",
    "\n",
    "\n",
    "sia = SentimentIntensityAnalyzer()\n",
    "sentence = \"I am so happy today!\"\n",
    "scores = sia.polarity_scores(sentence)\n",
    "print(scores)\n"
   ]
  },
  {
   "cell_type": "code",
   "execution_count": null,
   "metadata": {},
   "outputs": [],
   "source": [
    "url = \"https://global.nba.com/news/kia-mvp-ladder-award-case-for-james-harden-russell-westbrook-gets-boost/\"\n",
    "r = requests.get(url)\n",
    "soup = BeautifulSoup(r.content, \"html.parser\") \n",
    "content = soup.find_all(\"p\")\n",
    "text = \"\"\n",
    "for i in content:\n",
    "    text += i.text\n",
    "text.strip(\"\\xa0\")\n"
   ]
  },
  {
   "cell_type": "code",
   "execution_count": null,
   "metadata": {},
   "outputs": [],
   "source": [
    "import spacy\n",
    "\n",
    "nlp = spacy.load(\"en_core_web_sm\")\n",
    "\n",
    "# Load the text of the articles\n",
    "text1 = \"Kia MVP Ladder: Familiar issue keeps Kevin Durant from reclaiming top spot\"\n",
    "text2 = \"Blogtable: Would Kevin Durant, James Harden and Russell Westbrook make the best trio ever?\"\n",
    "text3 = \"Kevin Durant wins his first Finals MVP award\"\n",
    "\n",
    "# Preprocess the text\n",
    "doc1 = nlp(text1)\n",
    "doc2 = nlp(text2)\n",
    "doc3 = nlp(text3)\n",
    "\n",
    "# Extract the relevant information\n",
    "names = set([ent.text for ent in doc1.ents + doc2.ents + doc3.ents if ent.label_ == \"PERSON\"])\n",
    "verbs = set([token.lemma_ for token in doc1 if token.pos_ == \"VERB\"] + [token.lemma_ for token in doc2 if token.pos_ == \"VERB\"] + [token.lemma_ for token in doc3 if token.pos_ == \"VERB\"])\n",
    "\n",
    "# Check if the articles are saying that Kevin Durant will get MVP\n",
    "if \"Kevin Durant\" in names and (\"win\" in verbs or \"get\" in verbs or \"earn\" in verbs):\n",
    "    print(\"The articles are saying that Kevin Durant will get MVP\")\n",
    "else:\n",
    "    print(\"The articles are not saying that Kevin Durant will get MVP\")\n"
   ]
  },
  {
   "cell_type": "code",
   "execution_count": null,
   "metadata": {},
   "outputs": [],
   "source": [
    "from textblob import TextBlob\n",
    "\n",
    "# Input article\n",
    "article = \"The new product release was a huge success. Customers loved the improved features and the overall design. The company's stock price increased by 10%.\"\n",
    "\n",
    "# Analyze sentiment\n",
    "blob = TextBlob(article)\n",
    "sentiment = blob.sentiment.polarity\n",
    "\n",
    "if sentiment > 0:\n",
    "    print(\"The article has a positive sentiment.\")\n",
    "elif sentiment < 0:\n",
    "    print(\"The article has a negative sentiment.\")\n",
    "else:\n",
    "    print(\"The article has a neutral sentiment.\")\n",
    "\n",
    "# Assess content\n",
    "keywords = [\"success\", \"improved\", \"features\", \"design\", \"stock price\", \"increased\"]\n",
    "count = 0\n",
    "\n",
    "for word in keywords:\n",
    "    if word in article:\n",
    "        count += 1\n",
    "\n",
    "if count >= 3:\n",
    "    print(\"The article indicates something.\")\n",
    "else:\n",
    "    print(\"The article does not indicate much.\")\n"
   ]
  },
  {
   "cell_type": "code",
   "execution_count": 18,
   "metadata": {},
   "outputs": [
    {
     "name": "stdout",
     "output_type": "stream",
     "text": [
      "  (0, 8)\t0.38408524091481483\n",
      "  (0, 6)\t0.38408524091481483\n",
      "  (0, 3)\t0.38408524091481483\n",
      "  (0, 2)\t0.5802858236844359\n",
      "  (0, 1)\t0.46979138557992045\n",
      "  (1, 8)\t0.281088674033753\n",
      "  (1, 6)\t0.281088674033753\n",
      "  (1, 5)\t0.5386476208856763\n",
      "  (1, 3)\t0.281088674033753\n",
      "  (1, 1)\t0.6876235979836938\n",
      "  (2, 8)\t0.267103787642168\n",
      "  (2, 7)\t0.511848512707169\n",
      "  (2, 6)\t0.267103787642168\n",
      "  (2, 4)\t0.511848512707169\n",
      "  (2, 3)\t0.267103787642168\n",
      "  (2, 0)\t0.511848512707169\n",
      "  (3, 8)\t0.38408524091481483\n",
      "  (3, 6)\t0.38408524091481483\n",
      "  (3, 3)\t0.38408524091481483\n",
      "  (3, 2)\t0.5802858236844359\n",
      "  (3, 1)\t0.46979138557992045\n"
     ]
    }
   ],
   "source": [
    "from sklearn.feature_extraction.text import TfidfVectorizer\n",
    "\n",
    "# Example text corpus\n",
    "text_corpus = [\"This is the first document.\", \n",
    "               \"This document is the second document.\", \n",
    "               \"And this is the third one.\", \n",
    "               \"Is this the first document?\"]\n",
    "\n",
    "# Create a TfidfVectorizer object\n",
    "vectorizer = TfidfVectorizer()\n",
    "\n",
    "# Fit the vectorizer to the text corpus\n",
    "vectorizer.fit(text_corpus)\n",
    "\n",
    "# Get the vocabulary of the text corpus\n",
    "vocabulary = vectorizer.vocabulary_\n",
    "\n",
    "# Vectorize the text corpus\n",
    "vectorized_corpus = vectorizer.transform(text_corpus)\n",
    "\n",
    "# Print the vectorized corpus\n",
    "print(vectorized_corpus)\n"
   ]
  },
  {
   "cell_type": "code",
   "execution_count": null,
   "metadata": {},
   "outputs": [],
   "source": [
    "import nltk\n",
    "from nltk.sentiment.vader import SentimentIntensityAnalyzer\n",
    "\n",
    "nltk.download('vader_lexicon')\n",
    "\n",
    "def get_sentiment_score(title, content):\n",
    "    # Preprocess the text data\n",
    "    # Tokenize the preprocessed text\n",
    "    # Combine the title and content text\n",
    "\n",
    "    # Apply sentiment analysis\n",
    "    sid = SentimentIntensityAnalyzer()\n",
    "    scores = sid.polarity_scores(combined_text)\n",
    "    \n",
    "    # Return the sentiment score\n",
    "    return scores['compound']\n"
   ]
  },
  {
   "cell_type": "code",
   "execution_count": 23,
   "metadata": {},
   "outputs": [
    {
     "data": {
      "text/plain": [
       "' February 28, 2020 by Sekou Smith NBA.com  This isn’t the first time James Harden and Russell Westbrook are in the thick of the Kia MVP chase as a season winds down.They’re doing it as teammates for the first time, of course. (The last time they teamed up — as young players in Oklahoma City — neither was yet in this kind of space). Both have claimed Kia MVPs (Westbrook in 2017;Harden 2018) and been contenders in seasons before and after collecting that honor.Doing it all now as the two-headed monster leading the Houston Rockets’ small-ball championship campaign, however, is a testament to the immense talents of these childhood friends from southern California.The Rockets have won five straight and eight of their last 10 games, embracing every wrinkle of their new attack — all while redefining their season in the process.“We’re finally getting there defensively and that’s what it’s going to take for us to win games,” Harden said after the Rocketsthrottled the Memphis Grizzlieson Wednesday. “If we want to get to where we want to go, we have to engage and lock in on the defensive end, and we did that.”After an uncharacteristic rough patch last month, Harden is back to his scorching ways. Westbrook, though, has transformed into the best version of himself in a Rockets uniform. He’s tearing through the competition (averaging 34.0 ppg and shooting 57% in the six games since Clint Capela was traded) since the small-ball shift.“They are the team that should scare every coach in the Western Conference playoffs, and I’m including D’Antoni in that group,” a Western Conference executive said. “Seriously, they are a complete wild card right now because we don’t know for sure what they will do the rest of the way [in the regular season]. And what they’ll be like come playoff time is another unknown.“I’ve been around this league enough to know that anyone trying to reinvent the game is bound to deal with some hiccups. And there are no guarantees in the playoffs, none. But they’re on to something right now and if they can get the right matchups in the playoffs … I guess, as they say, anything is possible.”The confidence Harden and Westbrook regularly operate with ensures they’ll continue to believe they can do the unthinkable, no matter what anyone else says.* * *The Top 5 this week in the2019-20 Kia Race to the MVP Ladder:Last week: No. 1Season stats:29.7 points, 13.7 rebounds, 5.8 assists, 1.1 steals, 1.1 blocksEven when it looks like a team has figured out a way to slow Antetokounmpo down – as was the case with the Raptorson Tuesday night– “The Greek Freak” still finds a way to get his work done. He finished with 19 points, 19 rebounds, eight assists and three blocks as the Bucks won in Toronto for their 50th win of the season. The Bucks are running away from the crowd in the standings down the stretch, the same way Antetokounmpo is attempting to in the MVP chase.Last week: No. 2Season stats:25.5 points, 7.7 rebounds, 10.6 assists, 1.2 stealsA sore groin kept LeBron in street clothesfor Thursday’s gameagainst the Golden State Warriors. He made his point earlier in the week anyway, dropping aseason-high 40 points(along with eight rebounds, six assist and a block) on the New Orleans Pelicans in his first matchup with Zion Williamson, the heir apparent to his throne as the league’s biggest physical mismatch at his position.Last week: No. 5Season stats:35.2 points, 6.4 rebounds, 7.3 assists, 1.7 stealsHarden flirted with that 40-point scoring average for so long earlier this season that he spoiled everyone with his relentless pursuit. But what might be even more impressive is the transition he’s made during this season, adjusting to the small-ball attack and continuing to make defenses miserable trying to contain him.Last week: No. 3Season stats:27.1 points, 7.5 rebounds, 5.2 assists, 1.8 stealsThe Clippers have new additions to integrate into the rotation in Marcus Morris and Reggie Jackson, but the onus for this team’s fate are planted firmly on Leonard’s broad shoulders. Things look good so far, though, with Leonard in a nice groove (24 points and 14 rebounds in awin Wednesday against Phoenix) and the newbies filling their roles perfectly (Jackson and Morris both nailed critical 3-pointers in the fourth quarter of that game).Last week: No. 4Season stats:28.7 points, 9.6 rebounds, 8.7 assists, 1.0 stealsDonciccelebrated his 21st birthdayearly and in style, collectinghis 21st triple-doublein a win over the San Antonio Spurs on Wednesday. Doncic needed just 119 career games to tie the Mavs’ triple-double franchise record that Jason Kidd set in500career games. It’s just the latest sign that Doncic is on a career trajectory that suggests he’ll win an MVP (and other accolades, too) someday.* * *6.Nikola Jokic, Denver Nuggets 7.Jayson Tatum, Boston Celtics 8.Anthony Davis, Los Angeles Lakers 9.Jimmy Butler, Miami Heat T-10.Pascal Siakam, Toronto Raptors T-10.Russell Westbrook, Houston RocketsAnd five more:Bradley Beal, Washington Wizards; Rudy Gobert, Utah Jazz; Damian Lillard, Portland Trail Blazers; Khris Middleton, Milwaukee Bucks; Chris Paul, Oklahoma City Thunder; Russell Westbrook, Houston Rockets* * *Sekou Smith is a veteran NBA reporter and NBA TV analyst. You can e-mail himhere, findhis archive hereandfollow him on Twitter.The views on this page do not necessarily reflect the views of the NBA, its clubs or Turner Broadcasting. February 28, 2020 by NBA News '"
      ]
     },
     "execution_count": 23,
     "metadata": {},
     "output_type": "execute_result"
    }
   ],
   "source": [
    "url = \"https://global.nba.com/news/kia-mvp-ladder-award-case-for-james-harden-russell-westbrook-gets-boost/\"\n",
    "r = requests.get(url)\n",
    "soup = BeautifulSoup(r.content, \"html.parser\") \n",
    "content = soup.find_all(\"p\")\n",
    "text = \"\"\n",
    "for i in content:\n",
    "    text += i.text\n",
    "clean_text = text.replace('\\n', ' ').replace('\\xa0', '')\n",
    "clean_text\n"
   ]
  },
  {
   "cell_type": "code",
   "execution_count": null,
   "metadata": {},
   "outputs": [],
   "source": []
  },
  {
   "cell_type": "code",
   "execution_count": 28,
   "metadata": {},
   "outputs": [
    {
     "name": "stderr",
     "output_type": "stream",
     "text": [
      "[nltk_data] Downloading package vader_lexicon to\n",
      "[nltk_data]     /Users/annabelitong/nltk_data...\n",
      "[nltk_data]   Package vader_lexicon is already up-to-date!\n"
     ]
    }
   ],
   "source": [
    "import nltk\n",
    "from nltk.sentiment.vader import SentimentIntensityAnalyzer\n",
    "\n",
    "nltk.download('vader_lexicon')\n",
    "\n",
    "def get_sentiment_score_nltk(content):\n",
    "    # Preprocess the text data\n",
    "    # Tokenize the preprocessed text\n",
    "    # Combine the title and content text\n",
    "\n",
    "    # Apply sentiment analysis\n",
    "    sid = SentimentIntensityAnalyzer()\n",
    "    scores = sid.polarity_scores(content)\n",
    "    \n",
    "    # Return the sentiment score\n",
    "    return scores['compound']\n"
   ]
  },
  {
   "cell_type": "code",
   "execution_count": 30,
   "metadata": {},
   "outputs": [],
   "source": [
    "from textblob import TextBlob\n",
    "\n",
    "def get_sentiment_score_tblob(text):\n",
    "    # Create a TextBlob object from the text\n",
    "    blob = TextBlob(text)\n",
    "    \n",
    "    # Get the sentiment score using TextBlob's sentiment analysis\n",
    "    sentiment_score = blob.sentiment.polarity\n",
    "    \n",
    "    # Return the sentiment score\n",
    "    return sentiment_score\n"
   ]
  },
  {
   "cell_type": "code",
   "execution_count": 41,
   "metadata": {},
   "outputs": [
    {
     "data": {
      "text/plain": [
       "-0.5267"
      ]
     },
     "execution_count": 41,
     "metadata": {},
     "output_type": "execute_result"
    }
   ],
   "source": [
    "get_sentiment_score_nltk(\"Kia MVP Ladder: Familiar issue keeps Kevin Durant from reclaiming top spot\")"
   ]
  },
  {
   "cell_type": "code",
   "execution_count": 42,
   "metadata": {},
   "outputs": [
    {
     "data": {
      "text/plain": [
       "0.802"
      ]
     },
     "execution_count": 42,
     "metadata": {},
     "output_type": "execute_result"
    }
   ],
   "source": [
    "get_sentiment_score_nltk(\"Kevin Durant wins his first Finals MVP award\")"
   ]
  },
  {
   "cell_type": "code",
   "execution_count": 51,
   "metadata": {},
   "outputs": [],
   "source": [
    "text = 'Last updated on 24 May 202224 May 2022.From the section BasketballJayson Tatum rediscovered top form to help the Boston Celtics level their Eastern Conference play-off final with the Miami Heat.The Celtics forward, 24, scored 31 points in a 102-82 win that levelled the best-of-seven series at 2-2.Tatum\\'s display included eight rebounds and five assists and was a significant improvement on his return of 10 points in the Celtics\\' defeat on Saturday.\"You feel like you let your team-mates down,\" he said of his game-three tally.\"I think I do a really good job of sleeping it off regardless if I had 10 points or 46 points. I\\'m a big believer that you can\\'t change what happened. I didn\\'t doubt myself.\"Game five of the series takes place in Miami on Wednesday.The Celtics started quickly on their home court to lead 29-11 after a quarter and they built on their early success with Tatum, Jaylen Brown, Robert Williams III, Derrick White and Payton Richard all reaching double figures.Celtics coach Ime Udoka said: \"Nobody scored in double figures among the Heat starters. We obviously set the tone right there.\"We have a prideful team and one of the best defensive teams in the league. We came out in the right mindset.\"'"
   ]
  },
  {
   "cell_type": "code",
   "execution_count": 52,
   "metadata": {},
   "outputs": [
    {
     "data": {
      "text/plain": [
       "0.21706349206349207"
      ]
     },
     "execution_count": 52,
     "metadata": {},
     "output_type": "execute_result"
    }
   ],
   "source": [
    "get_sentiment_score_tblob(text)"
   ]
  },
  {
   "cell_type": "code",
   "execution_count": 53,
   "metadata": {},
   "outputs": [
    {
     "data": {
      "text/plain": [
       "0.9769"
      ]
     },
     "execution_count": 53,
     "metadata": {},
     "output_type": "execute_result"
    }
   ],
   "source": [
    "get_sentiment_score_nltk(text)"
   ]
  }
 ],
 "metadata": {
  "kernelspec": {
   "display_name": "base",
   "language": "python",
   "name": "python3"
  },
  "language_info": {
   "codemirror_mode": {
    "name": "ipython",
    "version": 3
   },
   "file_extension": ".py",
   "mimetype": "text/x-python",
   "name": "python",
   "nbconvert_exporter": "python",
   "pygments_lexer": "ipython3",
   "version": "3.9.12"
  },
  "orig_nbformat": 4,
  "vscode": {
   "interpreter": {
    "hash": "705d6f4ecb8a535ad130d19f33aca7c81049a16c0faf5a3ee87de4e6b987140d"
   }
  }
 },
 "nbformat": 4,
 "nbformat_minor": 2
}

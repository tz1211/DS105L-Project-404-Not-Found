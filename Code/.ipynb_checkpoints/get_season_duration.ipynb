{
 "cells": [
  {
   "cell_type": "code",
   "execution_count": 168,
   "metadata": {},
   "outputs": [],
   "source": [
    "import requests\n",
    "\n",
    "import pandas as pd\n",
    "\n",
    "from bs4 import BeautifulSoup"
   ]
  },
  {
   "cell_type": "code",
   "execution_count": 169,
   "metadata": {},
   "outputs": [],
   "source": [
    "season_list = []\n",
    "for i in range(1950, 2023):\n",
    "    first = str(i)\n",
    "    second = str(int(first[2:])+1)\n",
    "    if len(second) == 1:\n",
    "        season = first + \"-0\" + second\n",
    "    elif len(second) == 3:\n",
    "        second = \"2000\"\n",
    "        season = first + \"-\" + second\n",
    "    else:\n",
    "        season = first + \"-\" + second\n",
    "    season_list.append(season)"
   ]
  },
  {
   "cell_type": "code",
   "execution_count": 170,
   "metadata": {},
   "outputs": [
    {
     "data": {
      "text/plain": [
       "['1950-51',\n",
       " '1951-52',\n",
       " '1952-53',\n",
       " '1953-54',\n",
       " '1954-55',\n",
       " '1955-56',\n",
       " '1956-57',\n",
       " '1957-58',\n",
       " '1958-59',\n",
       " '1959-60',\n",
       " '1960-61',\n",
       " '1961-62',\n",
       " '1962-63',\n",
       " '1963-64',\n",
       " '1964-65',\n",
       " '1965-66',\n",
       " '1966-67',\n",
       " '1967-68',\n",
       " '1968-69',\n",
       " '1969-70',\n",
       " '1970-71',\n",
       " '1971-72',\n",
       " '1972-73',\n",
       " '1973-74',\n",
       " '1974-75',\n",
       " '1975-76',\n",
       " '1976-77',\n",
       " '1977-78',\n",
       " '1978-79',\n",
       " '1979-80',\n",
       " '1980-81',\n",
       " '1981-82',\n",
       " '1982-83',\n",
       " '1983-84',\n",
       " '1984-85',\n",
       " '1985-86',\n",
       " '1986-87',\n",
       " '1987-88',\n",
       " '1988-89',\n",
       " '1989-90',\n",
       " '1990-91',\n",
       " '1991-92',\n",
       " '1992-93',\n",
       " '1993-94',\n",
       " '1994-95',\n",
       " '1995-96',\n",
       " '1996-97',\n",
       " '1997-98',\n",
       " '1998-99',\n",
       " '1999-2000',\n",
       " '2000-01',\n",
       " '2001-02',\n",
       " '2002-03',\n",
       " '2003-04',\n",
       " '2004-05',\n",
       " '2005-06',\n",
       " '2006-07',\n",
       " '2007-08',\n",
       " '2008-09',\n",
       " '2009-10',\n",
       " '2010-11',\n",
       " '2011-12',\n",
       " '2012-13',\n",
       " '2013-14',\n",
       " '2014-15',\n",
       " '2015-16',\n",
       " '2016-17',\n",
       " '2017-18',\n",
       " '2018-19',\n",
       " '2019-20',\n",
       " '2020-21',\n",
       " '2021-22',\n",
       " '2022-23']"
      ]
     },
     "execution_count": 170,
     "metadata": {},
     "output_type": "execute_result"
    }
   ],
   "source": [
    "season_list"
   ]
  },
  {
   "cell_type": "code",
   "execution_count": 171,
   "metadata": {},
   "outputs": [],
   "source": [
    "base_url = \"https://en.wikipedia.org/wiki/\"\n",
    "duration = []\n",
    "for season in season_list:\n",
    "    try:\n",
    "        url = base_url + season + \"_NBA_season\"\n",
    "        response = requests.get(url)\n",
    "        soup = BeautifulSoup(response.text, 'html.parser')\n",
    "        date_duration = soup.find('th', text='Duration').parent\n",
    "        date = date_duration.find(\"ul\").text.split(\"\\n\")[0]\n",
    "        duration.append(date)\n",
    "\n",
    "    except:\n",
    "        try:\n",
    "            response = requests.get(url)\n",
    "            soup = BeautifulSoup(response.text, 'html.parser')\n",
    "            date_duration = soup.find('th', text='Duration').parent\n",
    "            duration_text = date_duration.find('td', class_='infobox-data').contents\n",
    "            duration.append(duration_text[0])\n",
    "        except:\n",
    "            duration.append(\"error\")\n",
    "\n",
    "    "
   ]
  },
  {
   "cell_type": "code",
   "execution_count": 172,
   "metadata": {},
   "outputs": [],
   "source": [
    "duration_df = pd.DataFrame({\"season\": season_list, \"duration\": duration})"
   ]
  },
  {
   "cell_type": "code",
   "execution_count": 180,
   "metadata": {},
   "outputs": [
    {
     "data": {
      "text/plain": [
       "['October 31, 1950 – March 18, 1951',\n",
       " 'November 1, 1951 – March 16, 1952',\n",
       " 'October 31, 1952 – March 17, 1953',\n",
       " 'October 30, 1953 – March 14, 1954',\n",
       " 'October 30, 1954 – March 14, 1955',\n",
       " 'November 5, 1955 – March 14, 1956March 15–16, 1956(Play-in tournaments)March 15–29, 1956 (Playoffs)March 31 – April 7, 1956 (Finals)',\n",
       " 'October 27, 1956 – March 13, 1957March 14–25, 1957 (Playoffs)March 30 – April 13, 1957 (Finals)',\n",
       " 'October 22, 1957 – March 12, 1958',\n",
       " 'October 17, 1958 – March 11, 1959',\n",
       " 'October 17, 1959 – March 10, 1960',\n",
       " 'October 19, 1960 – March 12, 1961March 14 – April 1, 1961 (Playoffs)April 2–11, 1961 (Finals)',\n",
       " 'October 19, 1961 – March 14, 1962',\n",
       " 'October 16, 1962 – March 17, 1963',\n",
       " 'October 16, 1963 – March 18, 1964',\n",
       " 'October 16, 1964 – March 21, 1965',\n",
       " 'October 15, 1965 – March 22, 1966',\n",
       " 'October 15, 1966 – March 19, 1967',\n",
       " 'October 13, 1967 – March 20, 1968',\n",
       " 'October 15, 1968 – March 24, 1969',\n",
       " 'October 14, 1969 – March 22, 1970',\n",
       " 'October 13, 1970 – March 23, 1971',\n",
       " 'October 12, 1971 – March 26, 1972',\n",
       " 'October 10, 1972 – March 28, 1973',\n",
       " 'October 9, 1973 – March 27, 1974',\n",
       " 'October 17, 1974 – April 6, 1975',\n",
       " 'October 23, 1975 – April 11, 1976',\n",
       " 'October 21, 1976 – April 10, 1977',\n",
       " 'October 18, 1977 – April 9, 1978',\n",
       " 'October 13, 1978 – April 8, 1979',\n",
       " 'October 12, 1979 – March 30, 1980',\n",
       " 'October 10, 1980\\xa0– March 29, 1981',\n",
       " 'October 30, 1981 – April 18, 1982 ',\n",
       " 'October 29, 1982\\xa0– April 17, 1983',\n",
       " 'October 28, 1983\\xa0– April 15, 1984',\n",
       " 'October 26, 1984\\xa0– April 14, 1985',\n",
       " 'October 25, 1985\\xa0– April 13, 1986',\n",
       " 'October 31, 1986\\xa0– April 19, 1987',\n",
       " 'November 6, 1987\\xa0– April 24, 1988',\n",
       " 'November 4, 1988\\xa0– April 23, 1989',\n",
       " 'November 3, 1989 – April 22, 1990',\n",
       " 'November 2, 1990 – April 21, 1991April 25 – May 30, 1991 (Playoffs)June 2 – 12, 1991 (Finals)',\n",
       " 'November 1, 1991 – April 19, 1992 ',\n",
       " 'November 6, 1992 – April 25, 1993April 29 – June 5, 1993 (Playoffs)June 9 – 20, 1993 (Finals)',\n",
       " 'November 5, 1993 – April 24, 1994',\n",
       " 'November 4, 1994 – April 23, 1995 ',\n",
       " 'November 3, 1995 – April 21, 1996April 25 – June 2, 1996 (Playoffs)June 5 – 16, 1996 (Finals)',\n",
       " 'November 1, 1996 – April 20, 1997April 24 – May 29, 1997 (Playoffs)June 1 – 13, 1997 (Finals)',\n",
       " 'October 31, 1997 – April 19, 1998April 23 – May 31, 1998 (Playoffs)June 3 – 14, 1998 (Finals)',\n",
       " 'February 5 – May 5, 1999May 8 – June 11, 1999 (Playoffs)June 16 – 25, 1999 (Finals)',\n",
       " 'November 2, 1999 – April 19, 2000April 22 – June 4, 2000 (Playoffs)June 7 – 19, 2000 (Finals)',\n",
       " 'October 31, 2000 – April 18, 2001April 21 – June 3, 2001 (Playoffs)June 6 – 15, 2001 (Finals)',\n",
       " 'October 30, 2001 – April 17, 2002April 20 – June 2, 2002 (Playoffs)June 5 – 12, 2002 (Finals)',\n",
       " 'October 29, 2002 – April 16, 2003 ',\n",
       " 'October 28, 2003 – April 14, 2004 ',\n",
       " 'November 2, 2004 – April 20, 2005 ',\n",
       " 'November 1, 2005 – April 19, 2006 ',\n",
       " 'October 31, 2006 – April 18, 2007 ',\n",
       " 'October 30, 2007 – April 16, 2008 ',\n",
       " 'October 28, 2008 – April 16, 2009 ',\n",
       " 'October 27, 2009 – April 14, 2010',\n",
       " 'October 26, 2010 – April 13, 2011',\n",
       " 'December 25, 2011 – April 26, 2012 ',\n",
       " 'October 30, 2012 – April 17, 2013 ',\n",
       " 'October 29, 2013 – April 16, 2014 ',\n",
       " 'October 28, 2014 – April 15, 2015 ',\n",
       " 'October 27, 2015 – April 13, 2016',\n",
       " 'October 25, 2016 – April 12, 2017',\n",
       " 'October 17, 2017 – April 11, 2018',\n",
       " 'October 16, 2018 – April 10, 2019',\n",
       " 'October 22, 2019 – March 11, 2020(regular season before suspension)July 30 – August 14, 2020(completion of regular season with \"seeding\" games)August 15, 2020(Play-in game)August 17 – September 27, 2020(Playoffs)September 30 – October 11, 2020(Finals)',\n",
       " 'December 22, 2020 – May 16, 2021May 18–21, 2021(Play-in tournament)May 22 – July 3, 2021(Playoffs)July 6–20, 2021(Finals)',\n",
       " 'October 19, 2021 – April 10, 2022April 12–15, 2022(Play-in tournament)April 16, 2022 – May 29, 2022 (Playoffs)June 2–16, 2022 (Finals)',\n",
       " 'October 18, 2022 – April 9, 2023']"
      ]
     },
     "execution_count": 180,
     "metadata": {},
     "output_type": "execute_result"
    }
   ],
   "source": [
    "duration"
   ]
  },
  {
   "cell_type": "code",
   "execution_count": 181,
   "metadata": {},
   "outputs": [
    {
     "ename": "SyntaxError",
     "evalue": "invalid syntax (3451358808.py, line 1)",
     "output_type": "error",
     "traceback": [
      "\u001b[0;36m  Input \u001b[0;32mIn [181]\u001b[0;36m\u001b[0m\n\u001b[0;31m    url = https://en.wikipedia.org/wiki/\u001b[0m\n\u001b[0m               ^\u001b[0m\n\u001b[0;31mSyntaxError\u001b[0m\u001b[0;31m:\u001b[0m invalid syntax\n"
     ]
    }
   ],
   "source": [
    "url = https://en.wikipedia.org/wiki/            \n",
    "            response = requests.get(url)\n",
    "            soup = BeautifulSoup(response.text, 'html.parser')\n",
    "            date_duration = soup.find('th', text='Duration').parent\n",
    "            duration_text = date_duration.find('td', class_='infobox-data').contents\n",
    "            duration.append(duration_text[0])"
   ]
  },
  {
   "cell_type": "code",
   "execution_count": null,
   "metadata": {},
   "outputs": [],
   "source": []
  }
 ],
 "metadata": {
  "kernelspec": {
   "display_name": "base",
   "language": "python",
   "name": "python3"
  },
  "language_info": {
   "codemirror_mode": {
    "name": "ipython",
    "version": 3
   },
   "file_extension": ".py",
   "mimetype": "text/x-python",
   "name": "python",
   "nbconvert_exporter": "python",
   "pygments_lexer": "ipython3",
   "version": "3.9.12"
  },
  "orig_nbformat": 4,
  "vscode": {
   "interpreter": {
    "hash": "705d6f4ecb8a535ad130d19f33aca7c81049a16c0faf5a3ee87de4e6b987140d"
   }
  }
 },
 "nbformat": 4,
 "nbformat_minor": 2
}

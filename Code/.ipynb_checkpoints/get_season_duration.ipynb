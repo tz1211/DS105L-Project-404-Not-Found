{
 "cells": [
  {
   "cell_type": "code",
   "execution_count": 1,
   "metadata": {},
   "outputs": [],
   "source": [
    "import requests\n",
    "\n",
    "import pandas as pd\n",
    "\n",
    "from bs4 import BeautifulSoup"
   ]
  },
  {
   "cell_type": "code",
   "execution_count": 6,
   "metadata": {},
   "outputs": [],
   "source": [
    "season_list = []\n",
    "for i in range(1950, 2023):\n",
    "    first = str(i)\n",
    "    second = str(int(first[2:])+1)\n",
    "    if len(second) == 1:\n",
    "        season = first + \"-0\" + second\n",
    "    elif len(second) == 3:\n",
    "        second = \"2000\"\n",
    "        season = first + \"-\" + second\n",
    "    else:\n",
    "        season = first + \"-\" + second\n",
    "    season_list.append(season)"
   ]
  },
  {
   "cell_type": "code",
   "execution_count": 9,
   "metadata": {},
   "outputs": [
    {
     "data": {
      "text/plain": [
       "['1950-51',\n",
       " '1951-52',\n",
       " '1952-53',\n",
       " '1953-54',\n",
       " '1954-55',\n",
       " '1955-56',\n",
       " '1956-57',\n",
       " '1957-58',\n",
       " '1958-59',\n",
       " '1959-60',\n",
       " '1960-61',\n",
       " '1961-62',\n",
       " '1962-63',\n",
       " '1963-64',\n",
       " '1964-65',\n",
       " '1965-66',\n",
       " '1966-67',\n",
       " '1967-68',\n",
       " '1968-69',\n",
       " '1969-70',\n",
       " '1970-71',\n",
       " '1971-72',\n",
       " '1972-73',\n",
       " '1973-74',\n",
       " '1974-75',\n",
       " '1975-76',\n",
       " '1976-77',\n",
       " '1977-78',\n",
       " '1978-79',\n",
       " '1979-80',\n",
       " '1980-81',\n",
       " '1981-82',\n",
       " '1982-83',\n",
       " '1983-84',\n",
       " '1984-85',\n",
       " '1985-86',\n",
       " '1986-87',\n",
       " '1987-88',\n",
       " '1988-89',\n",
       " '1989-90',\n",
       " '1990-91',\n",
       " '1991-92',\n",
       " '1992-93',\n",
       " '1993-94',\n",
       " '1994-95',\n",
       " '1995-96',\n",
       " '1996-97',\n",
       " '1997-98',\n",
       " '1998-99',\n",
       " '1999-2000',\n",
       " '2000-01',\n",
       " '2001-02',\n",
       " '2002-03',\n",
       " '2003-04',\n",
       " '2004-05',\n",
       " '2005-06',\n",
       " '2006-07',\n",
       " '2007-08',\n",
       " '2008-09',\n",
       " '2009-10',\n",
       " '2010-11',\n",
       " '2011-12',\n",
       " '2012-13',\n",
       " '2013-14',\n",
       " '2014-15',\n",
       " '2015-16',\n",
       " '2016-17',\n",
       " '2017-18',\n",
       " '2018-19',\n",
       " '2019-20',\n",
       " '2020-21',\n",
       " '2021-22',\n",
       " '2022-23']"
      ]
     },
     "execution_count": 9,
     "metadata": {},
     "output_type": "execute_result"
    }
   ],
   "source": [
    "season_list"
   ]
  },
  {
   "cell_type": "code",
   "execution_count": 18,
   "metadata": {},
   "outputs": [],
   "source": [
    "base_url = \"https://en.wikipedia.org/wiki/\"\n",
    "duration = []\n",
    "for season in season_list:\n",
    "    url = base_url + season + \"_NBA_season\"\n",
    "    response = requests.get(url)\n",
    "    soup = BeautifulSoup(response.text, 'html.parser')\n",
    "    date_duration = soup.find('th', text='Duration').find_next_sibling('td').text.split('<br/>')[0]\n",
    "    duration.append(date_duration)\n",
    "\n",
    "    "
   ]
  },
  {
   "cell_type": "code",
   "execution_count": 19,
   "metadata": {},
   "outputs": [
    {
     "data": {
      "text/plain": [
       "['October 31, 1950 – March 18, 1951March 20 – April 4, 1951 (Playoffs)April 7–21, 1951 (Finals)',\n",
       " 'November 1, 1951 – March 16, 1952March 18 – April 8, 1952 (Playoffs)April 12–25, 1952 (Finals)',\n",
       " 'October 31, 1952 – March 17, 1953March 17 – April 2, 1953 (Playoffs)April 4–10, 1953 (Finals)',\n",
       " 'October 30, 1953 – March 14, 1954March 16–28, 1954 (Playoffs)March 31 – April 12, 1954 (Finals)',\n",
       " 'October 30, 1954 – March 14, 1955March 15–27, 1955 (Playoffs)March 31 – April 10, 1955 (Finals)',\n",
       " 'November 5, 1955 – March 14, 1956March 15–16, 1956(Play-in tournaments)March 15–29, 1956 (Playoffs)March 31 – April 7, 1956 (Finals)',\n",
       " 'October 27, 1956 – March 13, 1957March 14–25, 1957 (Playoffs)March 30 – April 13, 1957 (Finals)',\n",
       " 'October 22, 1957 – March 12, 1958March 15–27, 1958 (Playoffs)March 29 – April 12, 1958 (Finals)',\n",
       " 'October 17, 1958 – March 11, 1959March 13 – April 1, 1959 (Playoffs)April 4 – April 9, 1959 (Finals)',\n",
       " 'October 17, 1959 – March 10, 1960March 11–26, 1960 (Playoffs)March 27 – April 9, 1960 (Finals)',\n",
       " 'October 19, 1960 – March 12, 1961March 14 – April 1, 1961 (Playoffs)April 2–11, 1961 (Finals)',\n",
       " 'October 19, 1961 – March 14, 1962March 16 – April 5, 1962 (Playoffs)April 7–18, 1962 (Finals)',\n",
       " 'October 16, 1962 – March 17, 1963March 19 – April 21, 1963 (Playoffs)April 14–24, 1963 (Finals)',\n",
       " '\\nOctober 16, 1963 – March 18, 1964\\nMarch 21 – April 16, 1964 (Playoffs)\\nApril 18–26, 1964 (Finals)\\n',\n",
       " 'October 16, 1964 – March 21, 1965March 24 – April 15, 1965 (Playoffs)April 18–25, 1965 (Finals)',\n",
       " 'October 15, 1965 – March 22, 1966March 23 – April 15, 1966 (Playoffs)April 17–28, 1966 (Finals)',\n",
       " 'October 15, 1966 – March 19, 1967March 21 – April 12, 1967 (Playoffs)April 14–24, 1967 (Finals)',\n",
       " 'October 13, 1967 – March 20, 1968March 22 – April 19, 1968 (Playoffs)April 21 – May 2, 1968 (Finals)',\n",
       " 'October 15, 1968 – March 24, 1969March 26 – April 20, 1969 (Playoffs)April 23 – May 5, 1969 (Finals)',\n",
       " 'October 14, 1969 – March 22, 1970March 25 – April 20, 1970 (Playoffs)April 24 – May 8, 1970 (Finals)',\n",
       " 'October 13, 1970 – March 23, 1971March 24 – April 19, 1971 (Playoffs)April 21–30, 1971 (Finals)',\n",
       " 'October 12, 1971 – March 26, 1972March 28 – April 23, 1972 (Playoffs)April 26 – May 7, 1972 (Finals)',\n",
       " 'October 10, 1972 – March 28, 1973March 30 – April 29, 1973 (Playoffs)May 1–10, 1973 (Finals)',\n",
       " 'October 9, 1973 – March 27, 1974March 29 – April 24, 1974 (Playoffs)April 28 – May 12, 1974 (Finals)',\n",
       " 'October 17, 1974 – April 6, 1975April 8 – May 14, 1975 (Playoffs)May 18–25, 1975 (Finals)',\n",
       " 'October 23, 1975 – April 11, 1976April 13 – May 18, 1976 (Playoffs)May 23 – June 6, 1976 (Finals)',\n",
       " 'October 21, 1976 – April 10, 1977April 12 – May 17, 1977 (Playoffs)May 22 – June 5, 1977 (Finals)',\n",
       " 'October 18, 1977 – April 9, 1978April 11 – May 17, 1978 (Playoffs)May 21 – June 7, 1978 (Finals)',\n",
       " 'October 13, 1978 – April 8, 1979April 10 – May 18, 1979 (Playoffs)May 20 – June 1, 1979 (Finals)',\n",
       " '\\nOctober 12, 1979 – March 30, 1980\\nApril 2 – 30, 1980 (Playoffs)\\nMay 4 – 16, 1980 (Finals)\\n',\n",
       " 'October 10, 1980\\xa0– March 29, 1981March 31\\xa0– May 3, 1981 (Playoffs)May 5–14, 1981 (Finals)',\n",
       " 'October 30, 1981 – April 18, 1982  April 20 – May 23, 1982 (Playoffs)  May 27 – June 8, 1982 (Finals)',\n",
       " 'October 29, 1982\\xa0– April 17, 1983April 19\\xa0– May 20, 1983 (Playoffs)May 22–31, 1983 (Finals)',\n",
       " 'October 28, 1983\\xa0– April 15, 1984April 17\\xa0– May 25, 1984 (Playoffs)May 27\\xa0– June 12, 1984 (Finals)',\n",
       " 'October 26, 1984\\xa0– April 14, 1985April 17\\xa0– May 22, 1985 (Playoffs)May 27\\xa0– June 9, 1985 (Finals)',\n",
       " 'October 25, 1985\\xa0– April 13, 1986April 17\\xa0– May 21, 1986 (Playoffs)May 26\\xa0– June 8, 1986 (Finals)',\n",
       " 'October 31, 1986\\xa0– April 19, 1987April 23\\xa0– May 30, 1987 (Playoffs)June 2–14, 1987 (Finals)',\n",
       " 'November 6, 1987\\xa0– April 24, 1988April 28\\xa0– June 4, 1988 (Playoffs)June 7–21, 1988 (Finals)',\n",
       " 'November 4, 1988\\xa0– April 23, 1989April 27\\xa0– June 2, 1989 (Playoffs)June 6–13, 1989 (Finals)',\n",
       " 'November 3, 1989 – April 22, 1990April 26 – June 3, 1990 (Playoffs)June 5 – 14, 1990 (Finals)',\n",
       " 'November 2, 1990 – April 21, 1991April 25 – May 30, 1991 (Playoffs)June 2 – 12, 1991 (Finals)',\n",
       " 'November 1, 1991 – April 19, 1992  April 23 – May 29, 1992 (Playoffs)  June 3 – 14, 1992 (Finals)',\n",
       " 'November 6, 1992 – April 25, 1993April 29 – June 5, 1993 (Playoffs)June 9 – 20, 1993 (Finals)',\n",
       " '\\nNovember 5, 1993 – April 24, 1994\\nApril 28 – June 5, 1994 (Playoffs)\\nJune 8 – 22, 1994 (Finals)\\n',\n",
       " 'November 4, 1994 – April 23, 1995  April 27 – June 4, 1995 (Playoffs)  June 7–14, 1995 (Finals)',\n",
       " 'November 3, 1995 – April 21, 1996April 25 – June 2, 1996 (Playoffs)June 5 – 16, 1996 (Finals)',\n",
       " 'November 1, 1996 – April 20, 1997April 24 – May 29, 1997 (Playoffs)June 1 – 13, 1997 (Finals)',\n",
       " 'October 31, 1997 – April 19, 1998April 23 – May 31, 1998 (Playoffs)June 3 – 14, 1998 (Finals)',\n",
       " 'February 5 – May 5, 1999May 8 – June 11, 1999 (Playoffs)June 16 – 25, 1999 (Finals)',\n",
       " 'November 2, 1999 – April 19, 2000April 22 – June 4, 2000 (Playoffs)June 7 – 19, 2000 (Finals)',\n",
       " 'October 31, 2000 – April 18, 2001April 21 – June 3, 2001 (Playoffs)June 6 – 15, 2001 (Finals)',\n",
       " 'October 30, 2001 – April 17, 2002April 20 – June 2, 2002 (Playoffs)June 5 – 12, 2002 (Finals)',\n",
       " 'October 29, 2002 – April 16, 2003  April 19 – May 29, 2003 (Playoffs)  June 4 – 15, 2003 (Finals)',\n",
       " 'October 28, 2003 – April 14, 2004  April 17 – June 1, 2004 (Playoffs)  June 6 – 15, 2004 (Finals)',\n",
       " 'November 2, 2004 – April 20, 2005  April 23 – June 6, 2005 (Playoffs)  June 9–23, 2005 (Finals)',\n",
       " 'November 1, 2005 – April 19, 2006  April 22 – June 3, 2006 (Playoffs)  June 8 – 20, 2006 (Finals)',\n",
       " 'October 31, 2006 – April 18, 2007  April 21 – June 2, 2007 (Playoffs)  June 7 – 14, 2007 (Finals)',\n",
       " 'October 30, 2007 – April 16, 2008  April 19 – May 30, 2008 (Playoffs)  June 5 – 17, 2008 (Finals)',\n",
       " 'October 28, 2008 – April 16, 2009  April 18 – May 30, 2009 (Playoffs)  June 4 – 14, 2009 (Finals)',\n",
       " 'October 27, 2009 – April 14, 2010 April 17 – May 29, 2010 (Playoffs) June 3 – 17, 2010 (Finals)',\n",
       " 'October 26, 2010 – April 13, 2011 April 16 – May 26, 2011 (Playoffs) May 31 – June 12, 2011 (Finals)',\n",
       " 'December 25, 2011 – April 26, 2012  April 28 – June 9, 2012 (Playoffs)  June 12\\xa0– 21, 2012 (Finals)',\n",
       " 'October 30, 2012 – April 17, 2013  April 20 – June 3, 2013 (Playoffs)  June 6 – 20, 2013 (Finals)',\n",
       " 'October 29, 2013 – April 16, 2014  April 19, 2014 – May 31, 2014 (Playoffs)  June 5 – 15, 2014 (Finals)',\n",
       " 'October 28, 2014 – April 15, 2015  April 18, 2015 – May 27, 2015 (Playoffs)  June 4, 2015 – June 16, 2015 (Finals)',\n",
       " 'October 27, 2015 – April 13, 2016April 16, 2016 – May 30, 2016 (Playoffs)June 2, 2016 – June 19, 2016 (Finals)',\n",
       " 'October 25, 2016 – April 12, 2017April 15 – May 25, 2017 (Playoffs)June 1–12, 2017 (Finals)',\n",
       " 'October 17, 2017 – April 11, 2018April 14 – May 28, 2018 (Playoffs)May 31 – June 8, 2018 (Finals)',\n",
       " 'October 16, 2018 – April 10, 2019April 13 – May 25, 2019 (Playoffs)May 30 – June 13, 2019 (Finals)',\n",
       " 'October 22, 2019 – March 11, 2020(regular season before suspension)July 30 – August 14, 2020(completion of regular season with \"seeding\" games)August 15, 2020(Play-in game)August 17 – September 27, 2020(Playoffs)September 30 – October 11, 2020(Finals)',\n",
       " 'December 22, 2020 – May 16, 2021May 18–21, 2021(Play-in tournament)May 22 – July 3, 2021(Playoffs)July 6–20, 2021(Finals)',\n",
       " 'October 19, 2021 – April 10, 2022April 12–15, 2022(Play-in tournament)April 16, 2022 – May 29, 2022 (Playoffs)June 2–16, 2022 (Finals)',\n",
       " '\\nOctober 18, 2022 – April 9, 2023\\nApril 11–14, 2023(Play-in tournament)\\nApril 15, 2023 – May 2023 (Playoffs)\\nJune 1–18, 2023 (Finals)\\n']"
      ]
     },
     "execution_count": 19,
     "metadata": {},
     "output_type": "execute_result"
    }
   ],
   "source": [
    "duration"
   ]
  },
  {
   "cell_type": "code",
   "execution_count": 20,
   "metadata": {},
   "outputs": [],
   "source": [
    "duration_df = pd.DataFrame({\"season\": season})"
   ]
  },
  {
   "cell_type": "code",
   "execution_count": null,
   "metadata": {},
   "outputs": [],
   "source": []
  }
 ],
 "metadata": {
  "kernelspec": {
   "display_name": "base",
   "language": "python",
   "name": "python3"
  },
  "language_info": {
   "codemirror_mode": {
    "name": "ipython",
    "version": 3
   },
   "file_extension": ".py",
   "mimetype": "text/x-python",
   "name": "python",
   "nbconvert_exporter": "python",
   "pygments_lexer": "ipython3",
   "version": "3.9.12"
  },
  "orig_nbformat": 4,
  "vscode": {
   "interpreter": {
    "hash": "705d6f4ecb8a535ad130d19f33aca7c81049a16c0faf5a3ee87de4e6b987140d"
   }
  }
 },
 "nbformat": 4,
 "nbformat_minor": 2
}

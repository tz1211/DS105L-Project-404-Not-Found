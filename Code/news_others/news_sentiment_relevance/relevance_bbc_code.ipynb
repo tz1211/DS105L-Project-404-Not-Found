{
 "cells": [
  {
   "attachments": {},
   "cell_type": "markdown",
   "metadata": {},
   "source": [
    "## assess the relevance"
   ]
  },
  {
   "cell_type": "code",
   "execution_count": 109,
   "metadata": {},
   "outputs": [],
   "source": [
    "import requests\n",
    "\n",
    "import pandas as pd\n",
    "\n",
    "from bs4 import BeautifulSoup\n",
    "\n",
    "from datetime import datetime\n",
    "\n",
    "import pandas as pd\n",
    "\n",
    "from textblob import TextBlob\n",
    "import numpy as np\n",
    "\n",
    "import re\n",
    "import nltk\n",
    "from nltk.corpus import stopwords"
   ]
  },
  {
   "attachments": {},
   "cell_type": "markdown",
   "metadata": {},
   "source": [
    "## BBC"
   ]
  },
  {
   "cell_type": "code",
   "execution_count": 124,
   "metadata": {},
   "outputs": [],
   "source": [
    "df10= pd.read_csv('/Users/annabelitong/desktop/annabel/uni/ds105l/group_project/DS105L-Project/Data/bbc_seperate/bbc_2010_2.csv')\n",
    "df11= pd.read_csv('/Users/annabelitong/desktop/annabel/uni/ds105l/group_project/DS105L-Project/Data/bbc_seperate/bbc_2011_2.csv')\n",
    "df12= pd.read_csv('/Users/annabelitong/desktop/annabel/uni/ds105l/group_project/DS105L-Project/Data/bbc_seperate/bbc_2012_2.csv')\n",
    "df13= pd.read_csv('/Users/annabelitong/desktop/annabel/uni/ds105l/group_project/DS105L-Project/Data/bbc_seperate/bbc_2013_2.csv')\n",
    "df14= pd.read_csv('/Users/annabelitong/desktop/annabel/uni/ds105l/group_project/DS105L-Project/Data/bbc_seperate/bbc_2014_2.csv')\n",
    "df15= pd.read_csv('/Users/annabelitong/desktop/annabel/uni/ds105l/group_project/DS105L-Project/Data/bbc_seperate/bbc_2015_2.csv')\n",
    "df16= pd.read_csv('/Users/annabelitong/desktop/annabel/uni/ds105l/group_project/DS105L-Project/Data/bbc_seperate/bbc_2016_2.csv')\n",
    "df17= pd.read_csv('/Users/annabelitong/desktop/annabel/uni/ds105l/group_project/DS105L-Project/Data/bbc_seperate/bbc_2017_2.csv')\n",
    "df18= pd.read_csv('/Users/annabelitong/desktop/annabel/uni/ds105l/group_project/DS105L-Project/Data/bbc_seperate/bbc_2018_2.csv')\n",
    "df19= pd.read_csv('/Users/annabelitong/desktop/annabel/uni/ds105l/group_project/DS105L-Project/Data/bbc_seperate/bbc_2019_2.csv')\n",
    "df20= pd.read_csv('/Users/annabelitong/desktop/annabel/uni/ds105l/group_project/DS105L-Project/Data/bbc_seperate/bbc_2020_2.csv')\n",
    "df21= pd.read_csv('/Users/annabelitong/desktop/annabel/uni/ds105l/group_project/DS105L-Project/Data/bbc_seperate/bbc_2021_2.csv')\n",
    "df22= pd.read_csv('/Users/annabelitong/desktop/annabel/uni/ds105l/group_project/DS105L-Project/Data/bbc_seperate/bbc_2022_2.csv')\n",
    "df23= pd.read_csv('/Users/annabelitong/desktop/annabel/uni/ds105l/group_project/DS105L-Project/Data/bbc_seperate/bbc_2023_2.csv')\n",
    "\n"
   ]
  },
  {
   "cell_type": "code",
   "execution_count": 104,
   "metadata": {},
   "outputs": [
    {
     "data": {
      "text/html": [
       "<div>\n",
       "<style scoped>\n",
       "    .dataframe tbody tr th:only-of-type {\n",
       "        vertical-align: middle;\n",
       "    }\n",
       "\n",
       "    .dataframe tbody tr th {\n",
       "        vertical-align: top;\n",
       "    }\n",
       "\n",
       "    .dataframe thead th {\n",
       "        text-align: right;\n",
       "    }\n",
       "</style>\n",
       "<table border=\"1\" class=\"dataframe\">\n",
       "  <thead>\n",
       "    <tr style=\"text-align: right;\">\n",
       "      <th></th>\n",
       "      <th>title</th>\n",
       "      <th>date</th>\n",
       "      <th>url</th>\n",
       "      <th>player</th>\n",
       "      <th>textblob_sentiment</th>\n",
       "    </tr>\n",
       "  </thead>\n",
       "  <tbody>\n",
       "    <tr>\n",
       "      <th>0</th>\n",
       "      <td>NBA All-Star Game: Team Giannis beats Team LeB...</td>\n",
       "      <td>2023</td>\n",
       "      <td>https://www.bbc.co.uk/sport/basketball/64701884</td>\n",
       "      <td>Jayson Tatum</td>\n",
       "      <td>0.076734</td>\n",
       "    </tr>\n",
       "    <tr>\n",
       "      <th>1</th>\n",
       "      <td>NBA round-up: Boston Celtics extend winning ru...</td>\n",
       "      <td>2023</td>\n",
       "      <td>https://www.bbc.co.uk/sport/basketball/63614776</td>\n",
       "      <td>Jayson Tatum</td>\n",
       "      <td>0.220617</td>\n",
       "    </tr>\n",
       "    <tr>\n",
       "      <th>2</th>\n",
       "      <td>NBA: Kevin Durant scores 23 points on Phoenix ...</td>\n",
       "      <td>2023</td>\n",
       "      <td>https://www.bbc.co.uk/sport/basketball/64820742</td>\n",
       "      <td>Jayson Tatum</td>\n",
       "      <td>0.163115</td>\n",
       "    </tr>\n",
       "    <tr>\n",
       "      <th>3</th>\n",
       "      <td>NBA: Dallas Mavericks stars Luka Doncic and Ky...</td>\n",
       "      <td>2023</td>\n",
       "      <td>https://www.bbc.co.uk/sport/basketball/64833608</td>\n",
       "      <td>Jayson Tatum</td>\n",
       "      <td>0.141611</td>\n",
       "    </tr>\n",
       "    <tr>\n",
       "      <th>4</th>\n",
       "      <td>NBA on the BBC: The big questions as NBA retur...</td>\n",
       "      <td>2023</td>\n",
       "      <td>https://www.bbc.co.uk/sport/basketball/64722489</td>\n",
       "      <td>Jayson Tatum</td>\n",
       "      <td>0.063053</td>\n",
       "    </tr>\n",
       "    <tr>\n",
       "      <th>...</th>\n",
       "      <td>...</td>\n",
       "      <td>...</td>\n",
       "      <td>...</td>\n",
       "      <td>...</td>\n",
       "      <td>...</td>\n",
       "    </tr>\n",
       "    <tr>\n",
       "      <th>949</th>\n",
       "      <td>Luka Doncic scores magical 60-point triple-dou...</td>\n",
       "      <td>2023</td>\n",
       "      <td>https://www.bbc.co.uk/sport/basketball/64107654</td>\n",
       "      <td>Kevin Durant</td>\n",
       "      <td>0.205116</td>\n",
       "    </tr>\n",
       "    <tr>\n",
       "      <th>950</th>\n",
       "      <td>NBA Slam Dunk Contest: Mac McClung signs for P...</td>\n",
       "      <td>2023</td>\n",
       "      <td>https://www.bbc.co.uk/sport/basketball/64695886</td>\n",
       "      <td>Kevin Durant</td>\n",
       "      <td>0.195479</td>\n",
       "    </tr>\n",
       "    <tr>\n",
       "      <th>951</th>\n",
       "      <td>NBA: Defending champions Golden State Warriors...</td>\n",
       "      <td>2023</td>\n",
       "      <td>https://www.bbc.co.uk/sport/basketball/63933734</td>\n",
       "      <td>Kevin Durant</td>\n",
       "      <td>0.098578</td>\n",
       "    </tr>\n",
       "    <tr>\n",
       "      <th>952</th>\n",
       "      <td>NBA: Zion Williamson returns as New Orleans Pe...</td>\n",
       "      <td>2023</td>\n",
       "      <td>https://www.bbc.co.uk/sport/basketball/63325545</td>\n",
       "      <td>Kevin Durant</td>\n",
       "      <td>0.068242</td>\n",
       "    </tr>\n",
       "    <tr>\n",
       "      <th>953</th>\n",
       "      <td>Kyrie Irving: Nike suspend sponsorship deal wi...</td>\n",
       "      <td>2023</td>\n",
       "      <td>https://www.bbc.co.uk/sport/basketball/63525097</td>\n",
       "      <td>Kevin Durant</td>\n",
       "      <td>0.109334</td>\n",
       "    </tr>\n",
       "  </tbody>\n",
       "</table>\n",
       "<p>954 rows × 5 columns</p>\n",
       "</div>"
      ],
      "text/plain": [
       "                                                 title  date  \\\n",
       "0    NBA All-Star Game: Team Giannis beats Team LeB...  2023   \n",
       "1    NBA round-up: Boston Celtics extend winning ru...  2023   \n",
       "2    NBA: Kevin Durant scores 23 points on Phoenix ...  2023   \n",
       "3    NBA: Dallas Mavericks stars Luka Doncic and Ky...  2023   \n",
       "4    NBA on the BBC: The big questions as NBA retur...  2023   \n",
       "..                                                 ...   ...   \n",
       "949  Luka Doncic scores magical 60-point triple-dou...  2023   \n",
       "950  NBA Slam Dunk Contest: Mac McClung signs for P...  2023   \n",
       "951  NBA: Defending champions Golden State Warriors...  2023   \n",
       "952  NBA: Zion Williamson returns as New Orleans Pe...  2023   \n",
       "953  Kyrie Irving: Nike suspend sponsorship deal wi...  2023   \n",
       "\n",
       "                                                 url        player  \\\n",
       "0    https://www.bbc.co.uk/sport/basketball/64701884  Jayson Tatum   \n",
       "1    https://www.bbc.co.uk/sport/basketball/63614776  Jayson Tatum   \n",
       "2    https://www.bbc.co.uk/sport/basketball/64820742  Jayson Tatum   \n",
       "3    https://www.bbc.co.uk/sport/basketball/64833608  Jayson Tatum   \n",
       "4    https://www.bbc.co.uk/sport/basketball/64722489  Jayson Tatum   \n",
       "..                                               ...           ...   \n",
       "949  https://www.bbc.co.uk/sport/basketball/64107654  Kevin Durant   \n",
       "950  https://www.bbc.co.uk/sport/basketball/64695886  Kevin Durant   \n",
       "951  https://www.bbc.co.uk/sport/basketball/63933734  Kevin Durant   \n",
       "952  https://www.bbc.co.uk/sport/basketball/63325545  Kevin Durant   \n",
       "953  https://www.bbc.co.uk/sport/basketball/63525097  Kevin Durant   \n",
       "\n",
       "     textblob_sentiment  \n",
       "0              0.076734  \n",
       "1              0.220617  \n",
       "2              0.163115  \n",
       "3              0.141611  \n",
       "4              0.063053  \n",
       "..                  ...  \n",
       "949            0.205116  \n",
       "950            0.195479  \n",
       "951            0.098578  \n",
       "952            0.068242  \n",
       "953            0.109334  \n",
       "\n",
       "[954 rows x 5 columns]"
      ]
     },
     "execution_count": 104,
     "metadata": {},
     "output_type": "execute_result"
    }
   ],
   "source": [
    "df23"
   ]
  },
  {
   "cell_type": "code",
   "execution_count": 107,
   "metadata": {},
   "outputs": [],
   "source": [
    "def get_bbc_content(url):\n",
    "    r = requests.get(url)\n",
    "    soup = BeautifulSoup(r.content, \"html.parser\") \n",
    "    content = soup.find(\"div\", attrs={\"class\": \"gel-layout__item gel-2/3@l\"})\n",
    "    \n",
    "    if content is None:\n",
    "        content = soup.find(\"td\", attrs={\"class\": \"storybody\"})\n",
    "        if content is None:\n",
    "            return None\n",
    "\n",
    "    main_body = content.find_all('p')\n",
    "    text = \"\"\n",
    "    for i in main_body:\n",
    "        text += i.text\n",
    "    clean_text = text.replace('\\n', ' ').replace('\\xa0', '')\n",
    "    return clean_text\n",
    "\n",
    "\n",
    "def preprocess_text(text):\n",
    "    text = text.lower()     # Convert text to lowercase\n",
    "    \n",
    "    text = re.sub(r\"[^\\w\\s]\", \"\", text) # Remove punctuation and special characters\n",
    "    \n",
    "    words = nltk.word_tokenize(text)     # Tokenize the text into words\n",
    "\n",
    "    stop_words = set(stopwords.words(\"english\"))\n",
    "    words = [word for word in words if word not in stop_words]\n",
    "    \n",
    "    preprocessed_text = \" \".join(words)\n",
    "    \n",
    "    return preprocessed_text\n",
    "\n",
    "\n",
    "\n",
    "\n",
    "\n"
   ]
  },
  {
   "cell_type": "code",
   "execution_count": 116,
   "metadata": {},
   "outputs": [],
   "source": [
    "from sklearn.feature_extraction.text import TfidfVectorizer\n",
    "from sklearn.preprocessing import MaxAbsScaler\n",
    "from sklearn.metrics.pairwise import cosine_similarity\n",
    "\n",
    "def assess_bbc_relevance(df):\n",
    "    relevance_scores = []\n",
    "\n",
    "    for index, row in df.iterrows():\n",
    "        content = get_bbc_content(row['url'])\n",
    "        player_name = row['player']\n",
    "\n",
    "        if content is None:\n",
    "            content = row['title']\n",
    "\n",
    "        statement = player_name + \" will be the MVP\"\n",
    "\n",
    "        # Preprocess content and statement\n",
    "        preprocessed_content = preprocess_text(content)\n",
    "        preprocessed_statement = preprocess_text(statement)\n",
    "\n",
    "        # Calculate TF-IDF scores\n",
    "        vectorizer = TfidfVectorizer()\n",
    "        tfidf_matrix = vectorizer.fit_transform([preprocessed_content, preprocessed_statement])\n",
    "\n",
    "        # Calculate cosine similarity between content and statement\n",
    "        similarity_score = cosine_similarity(tfidf_matrix)[0, 1]\n",
    "\n",
    "        # Normalize similarity score to range between 0 and 1\n",
    "        normalized_score = similarity_score / tfidf_matrix[0].sum()\n",
    "\n",
    "        relevance_scores.append(normalized_score)\n",
    "\n",
    "    # Normalize relevance scores to range between 0 and 1\n",
    "    scaler = MaxAbsScaler()\n",
    "    normalized_scores = scaler.fit_transform(np.array(relevance_scores).reshape(-1, 1))\n",
    "    df['relevance_score'] = normalized_scores\n",
    "\n",
    "    return df\n"
   ]
  },
  {
   "cell_type": "code",
   "execution_count": 119,
   "metadata": {},
   "outputs": [],
   "source": [
    "df_10 = assess_bbc_relevance(df10)\n",
    "df_10.to_csv('/Users/annabelitong/desktop/annabel/uni/ds105l/group_project/DS105L-Project/Data/bbc_seperate/bbc_2010_3.csv', index=False)\n"
   ]
  },
  {
   "cell_type": "code",
   "execution_count": 120,
   "metadata": {},
   "outputs": [],
   "source": [
    "df_11 = assess_bbc_relevance(df11)\n",
    "df_11.to_csv('/Users/annabelitong/desktop/annabel/uni/ds105l/group_project/DS105L-Project/Data/bbc_seperate/bbc_2011_3.csv', index=False)\n"
   ]
  },
  {
   "cell_type": "code",
   "execution_count": 125,
   "metadata": {},
   "outputs": [],
   "source": [
    "df_12 = assess_bbc_relevance(df12)\n",
    "df_12.to_csv('/Users/annabelitong/desktop/annabel/uni/ds105l/group_project/DS105L-Project/Data/bbc_seperate/bbc_2012_3.csv', index=False)\n"
   ]
  },
  {
   "cell_type": "code",
   "execution_count": 126,
   "metadata": {},
   "outputs": [],
   "source": [
    "df_13 = assess_bbc_relevance(df13)\n",
    "df_13.to_csv('/Users/annabelitong/desktop/annabel/uni/ds105l/group_project/DS105L-Project/Data/bbc_seperate/bbc_2013_3.csv', index=False)\n"
   ]
  },
  {
   "cell_type": "code",
   "execution_count": null,
   "metadata": {},
   "outputs": [],
   "source": [
    "df_14 = assess_bbc_relevance(df14)\n",
    "df_14.to_csv('/Users/annabelitong/desktop/annabel/uni/ds105l/group_project/DS105L-Project/Data/bbc_seperate/bbc_2014_3.csv', index=False)\n"
   ]
  },
  {
   "cell_type": "code",
   "execution_count": 127,
   "metadata": {},
   "outputs": [],
   "source": [
    "df_15 = assess_bbc_relevance(df15)\n",
    "df_15.to_csv('/Users/annabelitong/desktop/annabel/uni/ds105l/group_project/DS105L-Project/Data/bbc_seperate/bbc_2015_3.csv', index=False)\n"
   ]
  },
  {
   "cell_type": "code",
   "execution_count": 128,
   "metadata": {},
   "outputs": [],
   "source": [
    "df_16 = assess_bbc_relevance(df16)\n",
    "df_16.to_csv('/Users/annabelitong/desktop/annabel/uni/ds105l/group_project/DS105L-Project/Data/bbc_seperate/bbc_2016_3.csv', index=False)\n"
   ]
  },
  {
   "cell_type": "code",
   "execution_count": 129,
   "metadata": {},
   "outputs": [],
   "source": [
    "df_17 = assess_bbc_relevance(df17)\n",
    "df_17.to_csv('/Users/annabelitong/desktop/annabel/uni/ds105l/group_project/DS105L-Project/Data/bbc_seperate/bbc_2017_3.csv', index=False)\n"
   ]
  },
  {
   "cell_type": "code",
   "execution_count": 130,
   "metadata": {},
   "outputs": [],
   "source": [
    "df_18 = assess_bbc_relevance(df18)\n",
    "df_18.to_csv('/Users/annabelitong/desktop/annabel/uni/ds105l/group_project/DS105L-Project/Data/bbc_seperate/bbc_2018_3.csv', index=False)\n"
   ]
  },
  {
   "cell_type": "code",
   "execution_count": 131,
   "metadata": {},
   "outputs": [],
   "source": [
    "df_19 = assess_bbc_relevance(df19)\n",
    "df_19.to_csv('/Users/annabelitong/desktop/annabel/uni/ds105l/group_project/DS105L-Project/Data/bbc_seperate/bbc_2019_3.csv', index=False)\n"
   ]
  },
  {
   "cell_type": "code",
   "execution_count": 132,
   "metadata": {},
   "outputs": [],
   "source": [
    "df_20 = assess_bbc_relevance(df20)\n",
    "df_20.to_csv('/Users/annabelitong/desktop/annabel/uni/ds105l/group_project/DS105L-Project/Data/bbc_seperate/bbc_2020_3.csv', index=False)\n"
   ]
  },
  {
   "cell_type": "code",
   "execution_count": 133,
   "metadata": {},
   "outputs": [],
   "source": [
    "df_21 = assess_bbc_relevance(df20)\n",
    "df_21.to_csv('/Users/annabelitong/desktop/annabel/uni/ds105l/group_project/DS105L-Project/Data/bbc_seperate/bbc_2021_3.csv', index=False)\n"
   ]
  },
  {
   "cell_type": "code",
   "execution_count": 134,
   "metadata": {},
   "outputs": [],
   "source": [
    "df_22 = assess_bbc_relevance(df22)\n",
    "df_22.to_csv('/Users/annabelitong/desktop/annabel/uni/ds105l/group_project/DS105L-Project/Data/bbc_seperate/bbc_2022_3.csv', index=False)\n"
   ]
  },
  {
   "cell_type": "code",
   "execution_count": 135,
   "metadata": {},
   "outputs": [],
   "source": [
    "df_23 = assess_bbc_relevance(df23)\n",
    "df_23.to_csv('/Users/annabelitong/desktop/annabel/uni/ds105l/group_project/DS105L-Project/Data/bbc_seperate/bbc_2023_3.csv', index=False)\n"
   ]
  },
  {
   "cell_type": "code",
   "execution_count": 142,
   "metadata": {},
   "outputs": [],
   "source": [
    "df14.to_csv('/Users/annabelitong/desktop/annabel/uni/ds105l/group_project/DS105L-Project/Data/news_data/bbc_seperate/bbc_2014_3.csv', index=False)\n"
   ]
  }
 ],
 "metadata": {
  "kernelspec": {
   "display_name": "base",
   "language": "python",
   "name": "python3"
  },
  "language_info": {
   "codemirror_mode": {
    "name": "ipython",
    "version": 3
   },
   "file_extension": ".py",
   "mimetype": "text/x-python",
   "name": "python",
   "nbconvert_exporter": "python",
   "pygments_lexer": "ipython3",
   "version": "3.9.12"
  },
  "orig_nbformat": 4,
  "vscode": {
   "interpreter": {
    "hash": "705d6f4ecb8a535ad130d19f33aca7c81049a16c0faf5a3ee87de4e6b987140d"
   }
  }
 },
 "nbformat": 4,
 "nbformat_minor": 2
}

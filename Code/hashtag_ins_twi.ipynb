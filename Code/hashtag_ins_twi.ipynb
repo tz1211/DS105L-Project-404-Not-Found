{
 "cells": [
  {
   "cell_type": "code",
   "execution_count": 20,
   "metadata": {},
   "outputs": [],
   "source": [
    "import sys\n",
    "sys.path.append('/Users/annabelitong/desktop/annabel/uni/ds105l/group_project/ig-scraper/ig-scraper/')\n"
   ]
  },
  {
   "cell_type": "code",
   "execution_count": null,
   "metadata": {},
   "outputs": [],
   "source": []
  },
  {
   "cell_type": "code",
   "execution_count": null,
   "metadata": {},
   "outputs": [],
   "source": []
  },
  {
   "cell_type": "code",
   "execution_count": null,
   "metadata": {},
   "outputs": [],
   "source": []
  },
  {
   "cell_type": "code",
   "execution_count": null,
   "metadata": {},
   "outputs": [],
   "source": []
  },
  {
   "cell_type": "code",
   "execution_count": null,
   "metadata": {},
   "outputs": [],
   "source": []
  },
  {
   "cell_type": "code",
   "execution_count": 22,
   "metadata": {},
   "outputs": [],
   "source": [
    "from ig_scraper import IGScraper"
   ]
  },
  {
   "cell_type": "code",
   "execution_count": 24,
   "metadata": {},
   "outputs": [
    {
     "data": {
      "text/plain": [
       "[{'is_video': False,\n",
       "  'caption': 'Cleveland Cavaliers (2003-2010) (2014-2018)\\nLeBron James #23\\n\\n* Jersey modelo CavFanatic alternativa utilizado na temporada 2008/2009.\\n\\n Essa é um modelo feito a partir dos primeiros uniformes da franquia (1970/1971) sendo esses de cor Amarela (home) e vinho (Road).\\nNessa edição a equipe adicionou a cor azul (ficando um modelo inovador) alternado com a outra de mesmo desing porém amarela (conforme era utilizado originalmente em 1970). *\\n\\n#cleveland #cavaliers #cavs #cavsnation #lebron #james #kingjames #james23 #kingjames23 #jamesmvp #nba #basketball🏀 #basketball #basquete #bball #myjerseycollection #myjersey #mycollection #mylifestyle #mydream',\n",
       "  'display_url': 'https://scontent-lhr8-1.cdninstagram.com/v/t51.2885-15/335514073_869069340855423_8691655180163710611_n.webp?stp=dst-jpg_e35&_nc_ht=scontent-lhr8-1.cdninstagram.com&_nc_cat=103&_nc_ohc=JjDlq4sto48AX-9nrt2&edm=AA0rjkIBAAAA&ccb=7-5&oh=00_AfAinBkl7-CvuVv2-Uo_gT5X5JbrhakuMUSIQdV28XzZ5w&oe=641D731F&_nc_sid=d997c6',\n",
       "  'thumbnail_src': 'https://scontent-lhr8-1.cdninstagram.com/v/t51.2885-15/335514073_869069340855423_8691655180163710611_n.webp?stp=c0.135.1080.1080a_dst-jpg_e35_s640x640_sh0.08&_nc_ht=scontent-lhr8-1.cdninstagram.com&_nc_cat=103&_nc_ohc=JjDlq4sto48AX-9nrt2&edm=AA0rjkIBAAAA&ccb=7-5&oh=00_AfB2RwrEuaHOc2GiTiCBBCHHJsLB3W-vIJIUZRQ6LO3Bfg&oe=641D731F&_nc_sid=d997c6',\n",
       "  'owner_id': '44887197581',\n",
       "  'id': '3057770639980479989',\n",
       "  'shortcode': 'CpvYjJAp8X1',\n",
       "  'taken_at_timestamp': 1678734687},\n",
       " {'is_video': False,\n",
       "  'caption': '2019-20 Panini Mosaic Mosaic Gold/10 #298 LeBron James BGS 9.5 #whydoyoucollect #collectwhatyoulove #collectwhatyoulike #sportcardcollector #blowoutcards #thehobby #hobbykings #basketballcards #paninibasketball #paninimosaic #mosaicgold #showyourhits #sportcardforsale #paniniprizm #paniniprizmbasketball #atomicrefractor #jamesmvp #kinglebron #kingjames #kinglebronjames #lebronjames23 #lbj23 \\n#goat #nbacard #beckettgrading #cavaliers #finalmvp #lebronjamesfan #exquisitecollection',\n",
       "  'display_url': 'https://scontent-lhr8-2.cdninstagram.com/v/t51.2885-15/306309999_804215157664217_8129840849487480336_n.jpg?stp=dst-jpg_e35_p1080x1080&_nc_ht=scontent-lhr8-2.cdninstagram.com&_nc_cat=105&_nc_ohc=umPuLPsgIlEAX8k58Nb&edm=AA0rjkIBAAAA&ccb=7-5&oh=00_AfA0zeMO09kLH6aB7qfdmJBb5OR-Y2akvkteAqcCP2K66w&oe=641CF3E5&_nc_sid=d997c6',\n",
       "  'thumbnail_src': 'https://scontent-lhr8-2.cdninstagram.com/v/t51.2885-15/306309999_804215157664217_8129840849487480336_n.jpg?stp=c0.180.1440.1440a_dst-jpg_e35_s640x640_sh0.08&_nc_ht=scontent-lhr8-2.cdninstagram.com&_nc_cat=105&_nc_ohc=umPuLPsgIlEAX8k58Nb&edm=AA0rjkIBAAAA&ccb=7-5&oh=00_AfCiPyjr-d1shz9eZ_gQ6_EKePcpfXnB6SFfmAgw_DLKxg&oe=641CF3E5&_nc_sid=d997c6',\n",
       "  'owner_id': '12243436912',\n",
       "  'id': '2926059073355195834',\n",
       "  'shortcode': 'CibczlrJSW6',\n",
       "  'taken_at_timestamp': 1663033445},\n",
       " {'is_video': False,\n",
       "  'caption': 'Great night at Jack Couch!  Huge turnaround at the plate tonight with 14 hits!  #BrennanMVP #JamesMVP #DoubleBlueFriday',\n",
       "  'display_url': 'https://scontent-lhr8-2.cdninstagram.com/v/t51.2885-15/289626333_556753926182605_1263879224709888869_n.jpg?stp=dst-jpg_e35_s1080x1080&_nc_ht=scontent-lhr8-2.cdninstagram.com&_nc_cat=101&_nc_ohc=jlNILCTD6h4AX-LXerR&edm=AA0rjkIBAAAA&ccb=7-5&oh=00_AfCC2JcmvmZ7gof_kj25oMKWmdZ4J89SNtuuCl6tziQ1Tw&oe=641D44B6&_nc_sid=d997c6',\n",
       "  'thumbnail_src': 'https://scontent-lhr8-2.cdninstagram.com/v/t51.2885-15/289626333_556753926182605_1263879224709888869_n.jpg?stp=dst-jpg_e35_s640x640_sh0.08&_nc_ht=scontent-lhr8-2.cdninstagram.com&_nc_cat=101&_nc_ohc=jlNILCTD6h4AX-LXerR&edm=AA0rjkIBAAAA&ccb=7-5&oh=00_AfDXRVeiW0S3L7nErrJNSglPpGvhxMQF8ffmOph4y_xlGA&oe=641D44B6&_nc_sid=d997c6',\n",
       "  'owner_id': '9777886098',\n",
       "  'id': '2866661075062675883',\n",
       "  'shortcode': 'CfIbQ8-jNmr',\n",
       "  'taken_at_timestamp': 1655952651},\n",
       " {'is_video': False,\n",
       "  'caption': 'In last nights loss to the Golden State Warriors, LeBron James surpassed the Hall of Fame great Kareem Abdul-Jabbar in most points scored in the regular season and playoffs. Will he surpass Kareem’s all-time points scored in the regular season?',\n",
       "  'display_url': 'https://scontent-lhr8-1.cdninstagram.com/v/t51.2885-15/273820929_4633233903470699_1576000800515296891_n.jpg?stp=dst-jpg_e35&_nc_ht=scontent-lhr8-1.cdninstagram.com&_nc_cat=111&_nc_ohc=Bca6yDTDnF0AX-mCZaU&edm=AA0rjkIBAAAA&ccb=7-5&oh=00_AfA7ELjiAQdvFfM9tCim8QR5CAWl2dOV7Zp_sAyD4WQsVw&oe=641CEF5D&_nc_sid=d997c6',\n",
       "  'thumbnail_src': 'https://scontent-lhr8-1.cdninstagram.com/v/t51.2885-15/273820929_4633233903470699_1576000800515296891_n.jpg?stp=dst-jpg_e35_s640x640_sh0.08&_nc_ht=scontent-lhr8-1.cdninstagram.com&_nc_cat=111&_nc_ohc=Bca6yDTDnF0AX-mCZaU&edm=AA0rjkIBAAAA&ccb=7-5&oh=00_AfCgSTQNHvy4x24151KM1wu-5ibLB1boZKg7sjy78dQlcQ&oe=641CEF5D&_nc_sid=d997c6',\n",
       "  'owner_id': '48928198797',\n",
       "  'id': '2773030196171423035',\n",
       "  'shortcode': 'CZ7yEVyOr07',\n",
       "  'taken_at_timestamp': 1644790981},\n",
       " {'is_video': False,\n",
       "  'caption': '2016-17 Panini National Treasures Platinum LeBron James 1/1 BGS 8.5 #whydoyoucollect #blowoutcards #showyourhits #hobbykings #thehobby #tradingcards #nationaltreasuresbasketball #platinummedallion #lbj23 #1of1 \\n#cleveland #cav23 #lebronjames23 #beckettgrading #oneofone #goat #slamdunk #finalmvp #greatofalltime #sportcardforsale #collectionjames #nbabasketballcards #jamesmvp #golakers #kinglebronjames #paniniamerica #kinglebron #lebronjames #nicknameking #kinglebronjames🏆🏆🏆🏀🏀🏀👑👑👑👏👏👏',\n",
       "  'display_url': 'https://scontent-lhr8-2.cdninstagram.com/v/t51.2885-15/253061303_6581616231880540_4401366435155606770_n.jpg?stp=dst-jpg_e35_p1080x1080&_nc_ht=scontent-lhr8-2.cdninstagram.com&_nc_cat=104&_nc_ohc=WU1BrobdnSkAX9EWJd6&edm=AA0rjkIBAAAA&ccb=7-5&oh=00_AfARbMNmBZqqgAxHjqBs7hATduSSRJy8cKJawMAhUwYbrw&oe=641C9700&_nc_sid=d997c6',\n",
       "  'thumbnail_src': 'https://scontent-lhr8-2.cdninstagram.com/v/t51.2885-15/253061303_6581616231880540_4401366435155606770_n.jpg?stp=c0.180.1440.1440a_dst-jpg_e35_s640x640_sh0.08&_nc_ht=scontent-lhr8-2.cdninstagram.com&_nc_cat=104&_nc_ohc=WU1BrobdnSkAX9EWJd6&edm=AA0rjkIBAAAA&ccb=7-5&oh=00_AfCL7TC5crTHM9TejfPdU_pvFdDQGGeLZeqQ-r1tvn76xw&oe=641C9700&_nc_sid=d997c6',\n",
       "  'owner_id': '12243436912',\n",
       "  'id': '2700129177952408633',\n",
       "  'shortcode': 'CV4yS5zhVQ5',\n",
       "  'taken_at_timestamp': 1636100502},\n",
       " {'is_video': False,\n",
       "  'caption': 'Some bits of Hellonwheels 2021 at Südstadt-Bowl. Shout out to everyone who came by and to  @einbierzumskaten und @adrian.giraud who went hard on the couple-costume for best costume(s)! \\n#jameswarauchamstart #jamesmvp #applausfürjames \\n\\n📹 @hassenrueb @lks_hnsn',\n",
       "  'display_url': 'https://scontent-lhr8-2.cdninstagram.com/v/t51.2885-15/253527687_434161468272833_3033398518751749085_n.jpg?stp=dst-jpg_e35&_nc_ht=scontent-lhr8-2.cdninstagram.com&_nc_cat=105&_nc_ohc=EeIrxIqNEyYAX-qCa9p&edm=AA0rjkIBAAAA&ccb=7-5&oh=00_AfDrAxrWHIpKHa39xULse8imf9sMhlN9nJToOFXV3c0qTg&oe=6419E31F&_nc_sid=d997c6',\n",
       "  'thumbnail_src': 'https://scontent-lhr8-2.cdninstagram.com/v/t51.2885-15/253527687_434161468272833_3033398518751749085_n.jpg?stp=c0.90.720.720a_dst-jpg_e35_s640x640_sh0.08&_nc_ht=scontent-lhr8-2.cdninstagram.com&_nc_cat=105&_nc_ohc=EeIrxIqNEyYAX-qCa9p&edm=AA0rjkIBAAAA&ccb=7-5&oh=00_AfCm5HdTuWhlNrOfd-agn9qt76M2mNEvfyMu17GBATueHQ&oe=6419E31F&_nc_sid=d997c6',\n",
       "  'owner_id': '14676085949',\n",
       "  'id': '2700108463787016659',\n",
       "  'shortcode': 'CV4tlePDQHT',\n",
       "  'taken_at_timestamp': 1636098033},\n",
       " {'is_video': False,\n",
       "  'caption': '2017-18 Panini National treasures Colossal Materials Super Prime Patch Jersey Lebron James 1/1 BGS 7.5 #whydoyoucollect #showyourhits #hobbykings #thehobby #blowoutcards #tradingcards #lbj23 #nationaltreasuresbasketball #gameusedjersey #clevelandcavaliers #goat #greatofalltime #lebronjames23 #cavs23 #kinglebronjames #nationaltreasure #1of1 #masterpiece #kinglebronjames🏆🏆🏆🏀🏀🏀👑👑👑👏👏👏 #sportcardforsale #beckettgrading #lebronjames #gamematch #james23 #ilovethisgame #playoffking #finalking #jamesmvp #nationalbasketballassociation #teamlogopatch',\n",
       "  'display_url': 'https://scontent-lhr8-1.cdninstagram.com/v/t51.2885-15/240943445_142790978028981_4938626719427706163_n.jpg?stp=dst-jpg_e35_p1080x1080&_nc_ht=scontent-lhr8-1.cdninstagram.com&_nc_cat=109&_nc_ohc=pgWDx6eP1TEAX9MqAz_&edm=AA0rjkIBAAAA&ccb=7-5&oh=00_AfDJPJ8MujM-B-CBHkYOq040Xp7phIh9xz7nQXtKacjMBQ&oe=641D86FB&_nc_sid=d997c6',\n",
       "  'thumbnail_src': 'https://scontent-lhr8-1.cdninstagram.com/v/t51.2885-15/240943445_142790978028981_4938626719427706163_n.jpg?stp=c0.180.1440.1440a_dst-jpg_e35_s640x640_sh0.08&_nc_ht=scontent-lhr8-1.cdninstagram.com&_nc_cat=109&_nc_ohc=pgWDx6eP1TEAX9MqAz_&edm=AA0rjkIBAAAA&ccb=7-5&oh=00_AfDKUbM62CBfEPUKvKtmM5CBbJyM69oR2-xppoaUoh--Aw&oe=641D86FB&_nc_sid=d997c6',\n",
       "  'owner_id': '12243436912',\n",
       "  'id': '2652301002293495748',\n",
       "  'shortcode': 'CTO3bWHHcfE',\n",
       "  'taken_at_timestamp': 1630398939},\n",
       " {'is_video': False,\n",
       "  'caption': '🚨 The 🐐 has been spotted in Arizona! 😳\\n.\\n.\\n.\\n.\\n#lebronjamesfans #lbj23 #lbj6 #lebronjames23 #lebronjamestacotuesday #lebronjames #lebronjameslakers #jamesmvp #jameslakers #basketballfans🏀 #basketball #sport #courtside #arizona #suns #phoenix #nba #vip #thegoat🐐 #goat #thegoat #greatestofalltime #mvp #lalakers #lakers',\n",
       "  'display_url': 'https://scontent-lhr8-1.cdninstagram.com/v/t51.2885-15/219504544_2835994046712816_1464911314899997256_n.jpg?stp=dst-jpg_e35&_nc_ht=scontent-lhr8-1.cdninstagram.com&_nc_cat=100&_nc_ohc=Dj88_SsDBHEAX-OLJqj&edm=AA0rjkIBAAAA&ccb=7-5&oh=00_AfCLC6vIorwEqu9FH3zgfxjjtMYkRloyOn0PDgYcDH-LCQ&oe=641E474E&_nc_sid=d997c6',\n",
       "  'thumbnail_src': 'https://scontent-lhr8-1.cdninstagram.com/v/t51.2885-15/219504544_2835994046712816_1464911314899997256_n.jpg?stp=dst-jpg_e35_s640x640_sh0.08&_nc_ht=scontent-lhr8-1.cdninstagram.com&_nc_cat=100&_nc_ohc=Dj88_SsDBHEAX-OLJqj&edm=AA0rjkIBAAAA&ccb=7-5&oh=00_AfBCB6eFvoiXytEcHOb3d77b2zOLqfhCah6_teVTmqvVYg&oe=641E474E&_nc_sid=d997c6',\n",
       "  'owner_id': '38216106719',\n",
       "  'id': '2620353597513357885',\n",
       "  'shortcode': 'CRdXba1s1o9',\n",
       "  'taken_at_timestamp': 1626590512},\n",
       " {'is_video': False,\n",
       "  'caption': '🚨 James Harden does it again... 😪🏀😂\\n.\\n.\\n.\\n.\\n#jameshardenthebeard #jamesmvp #jameshardenstats #jameshardenfansclub #brooklynnetsfans #netsbasketball #brooklynbasketball #brooklynfans',\n",
       "  'display_url': 'https://scontent-lhr8-1.cdninstagram.com/v/t51.2885-15/166022104_141185624596215_2287909221679412321_n.jpg?stp=dst-jpg_e35&_nc_ht=scontent-lhr8-1.cdninstagram.com&_nc_cat=103&_nc_ohc=lYXSeMefYZgAX-eXwba&edm=AA0rjkIBAAAA&ccb=7-5&oh=00_AfDaQR9ws7mDFOm1rZ3Qba9d97N5Mo6Sn8LAwXq8uDu_ZQ&oe=641DA45A&_nc_sid=d997c6',\n",
       "  'thumbnail_src': 'https://scontent-lhr8-1.cdninstagram.com/v/t51.2885-15/166022104_141185624596215_2287909221679412321_n.jpg?stp=dst-jpg_e35_s640x640_sh0.08&_nc_ht=scontent-lhr8-1.cdninstagram.com&_nc_cat=103&_nc_ohc=lYXSeMefYZgAX-eXwba&edm=AA0rjkIBAAAA&ccb=7-5&oh=00_AfCllXOjSH20TvGJaYxF1aPSCIstuIitkGxO-mJSsUro4Q&oe=641DA45A&_nc_sid=d997c6',\n",
       "  'owner_id': '38216106719',\n",
       "  'id': '2540830616418899832',\n",
       "  'shortcode': 'CNC1_vWFdd4',\n",
       "  'taken_at_timestamp': 1617110634},\n",
       " {'is_video': False,\n",
       "  'caption': '🚨 James Harden with the TOP tier performance ! 🔥💪 Another triple-double for the beard... \\n.\\n.\\n.\\n.\\n#jameshardenthebeard #jamesmvp #jameshardenshoes #jameshardenfansclub #jamesharden13 #jameshardenmvp #jamesharden #jamesharden13🏀 #jameshardenkicks #jameshardennets #brooklynbasketball #brooklynnetsfans #netsfans #ballislife🏀 #beardfans',\n",
       "  'display_url': 'https://scontent-lhr8-2.cdninstagram.com/v/t51.2885-15/160299332_1548420202019380_3735050757610183988_n.jpg?stp=dst-jpg_e35&_nc_ht=scontent-lhr8-2.cdninstagram.com&_nc_cat=104&_nc_ohc=NM94Up3bBOgAX9J0Foa&edm=AA0rjkIBAAAA&ccb=7-5&oh=00_AfD1_B6JIHv09FkrYttXzsod7TGj6NjruCmCz8jhmPWzzw&oe=641DAA98&_nc_sid=d997c6',\n",
       "  'thumbnail_src': 'https://scontent-lhr8-2.cdninstagram.com/v/t51.2885-15/160299332_1548420202019380_3735050757610183988_n.jpg?stp=dst-jpg_e35_s640x640_sh0.08&_nc_ht=scontent-lhr8-2.cdninstagram.com&_nc_cat=104&_nc_ohc=NM94Up3bBOgAX9J0Foa&edm=AA0rjkIBAAAA&ccb=7-5&oh=00_AfCmc99g5EjXpFQ-Kbqc5RvPxC7TCjA3wqwtoA5hxuChPQ&oe=641DAA98&_nc_sid=d997c6',\n",
       "  'owner_id': '38216106719',\n",
       "  'id': '2530572355929719627',\n",
       "  'shortcode': 'CMeZiZxnUNL',\n",
       "  'taken_at_timestamp': 1615887754}]"
      ]
     },
     "execution_count": 24,
     "metadata": {},
     "output_type": "execute_result"
    }
   ],
   "source": [
    "scraper = IGScraper()\n",
    "\n",
    "# Will return maximum 10 data\n",
    "scraper.scrape_hashtag('jamesmvp')\n",
    "\n"
   ]
  },
  {
   "cell_type": "code",
   "execution_count": 25,
   "metadata": {},
   "outputs": [
    {
     "ename": "ModuleNotFoundError",
     "evalue": "No module named 'apify_client'",
     "output_type": "error",
     "traceback": [
      "\u001b[0;31m---------------------------------------------------------------------------\u001b[0m",
      "\u001b[0;31mModuleNotFoundError\u001b[0m                       Traceback (most recent call last)",
      "\u001b[1;32m/Users/annabelitong/Desktop/Annabel/uni/DS105L/group_project/DS105L-Project/Code/hashtag_ins_twi.ipynb Cell 4\u001b[0m in \u001b[0;36m<cell line: 1>\u001b[0;34m()\u001b[0m\n\u001b[0;32m----> <a href='vscode-notebook-cell:/Users/annabelitong/Desktop/Annabel/uni/DS105L/group_project/DS105L-Project/Code/hashtag_ins_twi.ipynb#W3sZmlsZQ%3D%3D?line=0'>1</a>\u001b[0m \u001b[39mfrom\u001b[39;00m \u001b[39mapify_client\u001b[39;00m \u001b[39mimport\u001b[39;00m ApifyClient\n\u001b[1;32m      <a href='vscode-notebook-cell:/Users/annabelitong/Desktop/Annabel/uni/DS105L/group_project/DS105L-Project/Code/hashtag_ins_twi.ipynb#W3sZmlsZQ%3D%3D?line=2'>3</a>\u001b[0m \u001b[39m# Initialize the ApifyClient with your API token\u001b[39;00m\n\u001b[1;32m      <a href='vscode-notebook-cell:/Users/annabelitong/Desktop/Annabel/uni/DS105L/group_project/DS105L-Project/Code/hashtag_ins_twi.ipynb#W3sZmlsZQ%3D%3D?line=3'>4</a>\u001b[0m client \u001b[39m=\u001b[39m ApifyClient(\u001b[39m\"\u001b[39m\u001b[39m<YOUR_API_TOKEN>\u001b[39m\u001b[39m\"\u001b[39m)\n",
      "\u001b[0;31mModuleNotFoundError\u001b[0m: No module named 'apify_client'"
     ]
    }
   ],
   "source": [
    "from apify_client import ApifyClient\n",
    "\n",
    "# Initialize the ApifyClient with your API token\n",
    "client = ApifyClient(\"<YOUR_API_TOKEN>\")\n",
    "\n",
    "# Prepare the actor input\n",
    "run_input = {\n",
    "    \"hashtags\": [\"webscraping\"],\n",
    "    \"resultsLimit\": 20,\n",
    "}\n",
    "\n",
    "# Run the actor and wait for it to finish\n",
    "run = client.actor(\"apify/instagram-hashtag-scraper\").call(run_input=run_input)\n",
    "\n",
    "# Fetch and print actor results from the run's dataset (if there are any)\n",
    "for item in client.dataset(run[\"defaultDatasetId\"]).iterate_items():\n",
    "    print(item)\n"
   ]
  }
 ],
 "metadata": {
  "kernelspec": {
   "display_name": "base",
   "language": "python",
   "name": "python3"
  },
  "language_info": {
   "codemirror_mode": {
    "name": "ipython",
    "version": 3
   },
   "file_extension": ".py",
   "mimetype": "text/x-python",
   "name": "python",
   "nbconvert_exporter": "python",
   "pygments_lexer": "ipython3",
   "version": "3.9.12"
  },
  "orig_nbformat": 4,
  "vscode": {
   "interpreter": {
    "hash": "705d6f4ecb8a535ad130d19f33aca7c81049a16c0faf5a3ee87de4e6b987140d"
   }
  }
 },
 "nbformat": 4,
 "nbformat_minor": 2
}

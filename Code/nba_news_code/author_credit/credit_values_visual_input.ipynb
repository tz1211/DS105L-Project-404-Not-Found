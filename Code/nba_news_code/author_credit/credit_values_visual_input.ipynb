{
 "cells": [
  {
   "cell_type": "code",
   "execution_count": 2,
   "metadata": {},
   "outputs": [],
   "source": [
    "import pandas as pd\n",
    "import numpy as np\n"
   ]
  },
  {
   "cell_type": "code",
   "execution_count": 3,
   "metadata": {},
   "outputs": [],
   "source": [
    "df_2016_5 = pd.read_csv('/Users/annabelitong/desktop/annabel/uni/ds105l/group_project/DS105L-Project/Data/nba_author_credit/nba_2016_5.csv')\n",
    "df_2017_5 = pd.read_csv('/Users/annabelitong/desktop/annabel/uni/ds105l/group_project/DS105L-Project/Data/nba_author_credit/nba_2017_5.csv')\n",
    "df_2018_5 = pd.read_csv('/Users/annabelitong/desktop/annabel/uni/ds105l/group_project/DS105L-Project/Data/nba_author_credit/nba_2018_5.csv')\n",
    "df_2019_5 = pd.read_csv('/Users/annabelitong/desktop/annabel/uni/ds105l/group_project/DS105L-Project/Data/nba_author_credit/nba_2019_5.csv')\n",
    "df_2020_5 = pd.read_csv('/Users/annabelitong/desktop/annabel/uni/ds105l/group_project/DS105L-Project/Data/nba_author_credit/nba_2020_5.csv')\n"
   ]
  },
  {
   "cell_type": "code",
   "execution_count": 4,
   "metadata": {},
   "outputs": [],
   "source": [
    "df_2016_4 = pd.read_csv('/Users/annabelitong/desktop/annabel/uni/ds105l/group_project/DS105L-Project/Data/nba_author_credit/nba_2016_4.csv')\n",
    "df_2017_4 = pd.read_csv('/Users/annabelitong/desktop/annabel/uni/ds105l/group_project/DS105L-Project/Data/nba_author_credit/nba_2017_4.csv')\n",
    "df_2018_4 = pd.read_csv('/Users/annabelitong/desktop/annabel/uni/ds105l/group_project/DS105L-Project/Data/nba_author_credit/nba_2018_4.csv')\n",
    "df_2019_4 = pd.read_csv('/Users/annabelitong/desktop/annabel/uni/ds105l/group_project/DS105L-Project/Data/nba_author_credit/nba_2019_4.csv')\n",
    "df_2020_4 = pd.read_csv('/Users/annabelitong/desktop/annabel/uni/ds105l/group_project/DS105L-Project/Data/nba_author_credit/nba_2020_4.csv')\n"
   ]
  },
  {
   "cell_type": "code",
   "execution_count": 5,
   "metadata": {},
   "outputs": [],
   "source": [
    "df_2016_5 = df_2016_5.drop('key_words_score', axis=1)\n"
   ]
  },
  {
   "cell_type": "code",
   "execution_count": 6,
   "metadata": {},
   "outputs": [
    {
     "data": {
      "text/plain": [
       "(1869, 13)"
      ]
     },
     "execution_count": 6,
     "metadata": {},
     "output_type": "execute_result"
    }
   ],
   "source": [
    "df_2016_5.shape"
   ]
  },
  {
   "cell_type": "code",
   "execution_count": 102,
   "metadata": {},
   "outputs": [
    {
     "data": {
      "text/html": [
       "<div>\n",
       "<style scoped>\n",
       "    .dataframe tbody tr th:only-of-type {\n",
       "        vertical-align: middle;\n",
       "    }\n",
       "\n",
       "    .dataframe tbody tr th {\n",
       "        vertical-align: top;\n",
       "    }\n",
       "\n",
       "    .dataframe thead th {\n",
       "        text-align: right;\n",
       "    }\n",
       "</style>\n",
       "<table border=\"1\" class=\"dataframe\">\n",
       "  <thead>\n",
       "    <tr style=\"text-align: right;\">\n",
       "      <th></th>\n",
       "      <th>Unnamed: 0</th>\n",
       "      <th>title</th>\n",
       "      <th>time</th>\n",
       "      <th>url</th>\n",
       "      <th>author</th>\n",
       "      <th>credit_article</th>\n",
       "      <th>credit_followers</th>\n",
       "      <th>credit_tweets</th>\n",
       "      <th>textblob_Sentiment</th>\n",
       "      <th>nltk_Sentiment</th>\n",
       "      <th>most_frequent_name</th>\n",
       "      <th>relevance_score</th>\n",
       "      <th>bert_relevance</th>\n",
       "    </tr>\n",
       "  </thead>\n",
       "  <tbody>\n",
       "    <tr>\n",
       "      <th>0</th>\n",
       "      <td>2462</td>\n",
       "      <td>Hornets Outlast Orlando in Finale, Clinch 6th ...</td>\n",
       "      <td>2016</td>\n",
       "      <td>http://global.nba.com/news/hornets-outlast-orl...</td>\n",
       "      <td>NBA News</td>\n",
       "      <td>Default</td>\n",
       "      <td>Default</td>\n",
       "      <td>Default</td>\n",
       "      <td>0.128544</td>\n",
       "      <td>0.128544</td>\n",
       "      <td>Evan Fournier</td>\n",
       "      <td>0.037700</td>\n",
       "      <td>0.625576</td>\n",
       "    </tr>\n",
       "    <tr>\n",
       "      <th>1</th>\n",
       "      <td>2463</td>\n",
       "      <td>Celtics Storm Back In Second Half To Douse Heat</td>\n",
       "      <td>2016</td>\n",
       "      <td>http://global.nba.com/news/keys-to-the-game-ce...</td>\n",
       "      <td>NBA News</td>\n",
       "      <td>Default</td>\n",
       "      <td>Default</td>\n",
       "      <td>Default</td>\n",
       "      <td>0.174341</td>\n",
       "      <td>0.174341</td>\n",
       "      <td>Isaiah Thomas</td>\n",
       "      <td>0.046945</td>\n",
       "      <td>0.620324</td>\n",
       "    </tr>\n",
       "    <tr>\n",
       "      <th>2</th>\n",
       "      <td>2464</td>\n",
       "      <td>Pistons Bench Outlasts Cavs Backups In OT Fina...</td>\n",
       "      <td>2016</td>\n",
       "      <td>http://global.nba.com/news/pistons-bench-outla...</td>\n",
       "      <td>Keith Langlois</td>\n",
       "      <td>1847</td>\n",
       "      <td>20186</td>\n",
       "      <td>45418</td>\n",
       "      <td>0.063237</td>\n",
       "      <td>0.063237</td>\n",
       "      <td>Reggie Jackson</td>\n",
       "      <td>0.060558</td>\n",
       "      <td>0.627301</td>\n",
       "    </tr>\n",
       "    <tr>\n",
       "      <th>3</th>\n",
       "      <td>2465</td>\n",
       "      <td>Playoff Scenariors: What’s At Stake On Final N...</td>\n",
       "      <td>2016</td>\n",
       "      <td>http://global.nba.com/news/playoff-scenariors-...</td>\n",
       "      <td>NBA News</td>\n",
       "      <td>Default</td>\n",
       "      <td>Default</td>\n",
       "      <td>Default</td>\n",
       "      <td>0.112963</td>\n",
       "      <td>0.112963</td>\n",
       "      <td>James Harden</td>\n",
       "      <td>0.000000</td>\n",
       "      <td>0.626874</td>\n",
       "    </tr>\n",
       "    <tr>\n",
       "      <th>4</th>\n",
       "      <td>2466</td>\n",
       "      <td>Blogtable: Your All-Rookie First Team Picks?</td>\n",
       "      <td>2016</td>\n",
       "      <td>http://global.nba.com/news/blogtable-your-all-...</td>\n",
       "      <td>NBA News</td>\n",
       "      <td>Default</td>\n",
       "      <td>Default</td>\n",
       "      <td>Default</td>\n",
       "      <td>0.138790</td>\n",
       "      <td>0.138790</td>\n",
       "      <td>Karl-Anthony Towns</td>\n",
       "      <td>0.130377</td>\n",
       "      <td>0.619246</td>\n",
       "    </tr>\n",
       "    <tr>\n",
       "      <th>...</th>\n",
       "      <td>...</td>\n",
       "      <td>...</td>\n",
       "      <td>...</td>\n",
       "      <td>...</td>\n",
       "      <td>...</td>\n",
       "      <td>...</td>\n",
       "      <td>...</td>\n",
       "      <td>...</td>\n",
       "      <td>...</td>\n",
       "      <td>...</td>\n",
       "      <td>...</td>\n",
       "      <td>...</td>\n",
       "      <td>...</td>\n",
       "    </tr>\n",
       "    <tr>\n",
       "      <th>1864</th>\n",
       "      <td>4326</td>\n",
       "      <td>Carl Landry: Out until January with torn wrist...</td>\n",
       "      <td>2016</td>\n",
       "      <td>http://global.nba.com/news/carl-landry-out-unt...</td>\n",
       "      <td>Rotowire</td>\n",
       "      <td>None</td>\n",
       "      <td>None</td>\n",
       "      <td>None</td>\n",
       "      <td>0.094821</td>\n",
       "      <td>0.094821</td>\n",
       "      <td>James Harden</td>\n",
       "      <td>0.000000</td>\n",
       "      <td>0.626874</td>\n",
       "    </tr>\n",
       "    <tr>\n",
       "      <th>1865</th>\n",
       "      <td>4327</td>\n",
       "      <td>As he receives first NBA championship ring, Al...</td>\n",
       "      <td>2016</td>\n",
       "      <td>http://global.nba.com/news/as-he-receives-firs...</td>\n",
       "      <td>Jim Eichenhofer</td>\n",
       "      <td>2565</td>\n",
       "      <td>21361</td>\n",
       "      <td>44563</td>\n",
       "      <td>0.187071</td>\n",
       "      <td>0.187071</td>\n",
       "      <td>Stephen Curry</td>\n",
       "      <td>0.012950</td>\n",
       "      <td>0.621574</td>\n",
       "    </tr>\n",
       "    <tr>\n",
       "      <th>1866</th>\n",
       "      <td>4328</td>\n",
       "      <td>In facing LeBron, story often same as it ever ...</td>\n",
       "      <td>2016</td>\n",
       "      <td>http://global.nba.com/news/in-facing-lebron-st...</td>\n",
       "      <td>Steve Aschburner</td>\n",
       "      <td>None</td>\n",
       "      <td>None</td>\n",
       "      <td>None</td>\n",
       "      <td>0.051817</td>\n",
       "      <td>0.051817</td>\n",
       "      <td>LeBron James</td>\n",
       "      <td>0.153605</td>\n",
       "      <td>0.617324</td>\n",
       "    </tr>\n",
       "    <tr>\n",
       "      <th>1867</th>\n",
       "      <td>4329</td>\n",
       "      <td>NBA and Turner Sports to deliver first live ga...</td>\n",
       "      <td>2016</td>\n",
       "      <td>http://global.nba.com/news/nba-and-turner-spor...</td>\n",
       "      <td>Official Release</td>\n",
       "      <td>Default</td>\n",
       "      <td>Default</td>\n",
       "      <td>Default</td>\n",
       "      <td>0.000727</td>\n",
       "      <td>0.000727</td>\n",
       "      <td>James Harden</td>\n",
       "      <td>0.000000</td>\n",
       "      <td>0.626874</td>\n",
       "    </tr>\n",
       "    <tr>\n",
       "      <th>1868</th>\n",
       "      <td>4330</td>\n",
       "      <td>70 things we can’t wait to see in NBA’s 70th s...</td>\n",
       "      <td>2016</td>\n",
       "      <td>http://global.nba.com/news/70-things-we-cant-w...</td>\n",
       "      <td>Sekou Smith</td>\n",
       "      <td>None</td>\n",
       "      <td>None</td>\n",
       "      <td>None</td>\n",
       "      <td>0.170527</td>\n",
       "      <td>0.170527</td>\n",
       "      <td>Jahlil Okafor</td>\n",
       "      <td>0.028045</td>\n",
       "      <td>0.618637</td>\n",
       "    </tr>\n",
       "  </tbody>\n",
       "</table>\n",
       "<p>1869 rows × 13 columns</p>\n",
       "</div>"
      ],
      "text/plain": [
       "      Unnamed: 0                                              title  time  \\\n",
       "0           2462  Hornets Outlast Orlando in Finale, Clinch 6th ...  2016   \n",
       "1           2463    Celtics Storm Back In Second Half To Douse Heat  2016   \n",
       "2           2464  Pistons Bench Outlasts Cavs Backups In OT Fina...  2016   \n",
       "3           2465  Playoff Scenariors: What’s At Stake On Final N...  2016   \n",
       "4           2466       Blogtable: Your All-Rookie First Team Picks?  2016   \n",
       "...          ...                                                ...   ...   \n",
       "1864        4326  Carl Landry: Out until January with torn wrist...  2016   \n",
       "1865        4327  As he receives first NBA championship ring, Al...  2016   \n",
       "1866        4328  In facing LeBron, story often same as it ever ...  2016   \n",
       "1867        4329  NBA and Turner Sports to deliver first live ga...  2016   \n",
       "1868        4330  70 things we can’t wait to see in NBA’s 70th s...  2016   \n",
       "\n",
       "                                                    url            author  \\\n",
       "0     http://global.nba.com/news/hornets-outlast-orl...          NBA News   \n",
       "1     http://global.nba.com/news/keys-to-the-game-ce...          NBA News   \n",
       "2     http://global.nba.com/news/pistons-bench-outla...    Keith Langlois   \n",
       "3     http://global.nba.com/news/playoff-scenariors-...          NBA News   \n",
       "4     http://global.nba.com/news/blogtable-your-all-...          NBA News   \n",
       "...                                                 ...               ...   \n",
       "1864  http://global.nba.com/news/carl-landry-out-unt...          Rotowire   \n",
       "1865  http://global.nba.com/news/as-he-receives-firs...   Jim Eichenhofer   \n",
       "1866  http://global.nba.com/news/in-facing-lebron-st...  Steve Aschburner   \n",
       "1867  http://global.nba.com/news/nba-and-turner-spor...  Official Release   \n",
       "1868  http://global.nba.com/news/70-things-we-cant-w...       Sekou Smith   \n",
       "\n",
       "     credit_article credit_followers credit_tweets  textblob_Sentiment  \\\n",
       "0           Default          Default       Default            0.128544   \n",
       "1           Default          Default       Default            0.174341   \n",
       "2              1847            20186         45418            0.063237   \n",
       "3           Default          Default       Default            0.112963   \n",
       "4           Default          Default       Default            0.138790   \n",
       "...             ...              ...           ...                 ...   \n",
       "1864           None             None          None            0.094821   \n",
       "1865           2565            21361         44563            0.187071   \n",
       "1866           None             None          None            0.051817   \n",
       "1867        Default          Default       Default            0.000727   \n",
       "1868           None             None          None            0.170527   \n",
       "\n",
       "      nltk_Sentiment  most_frequent_name  relevance_score  bert_relevance  \n",
       "0           0.128544       Evan Fournier         0.037700        0.625576  \n",
       "1           0.174341       Isaiah Thomas         0.046945        0.620324  \n",
       "2           0.063237      Reggie Jackson         0.060558        0.627301  \n",
       "3           0.112963        James Harden         0.000000        0.626874  \n",
       "4           0.138790  Karl-Anthony Towns         0.130377        0.619246  \n",
       "...              ...                 ...              ...             ...  \n",
       "1864        0.094821        James Harden         0.000000        0.626874  \n",
       "1865        0.187071       Stephen Curry         0.012950        0.621574  \n",
       "1866        0.051817        LeBron James         0.153605        0.617324  \n",
       "1867        0.000727        James Harden         0.000000        0.626874  \n",
       "1868        0.170527       Jahlil Okafor         0.028045        0.618637  \n",
       "\n",
       "[1869 rows x 13 columns]"
      ]
     },
     "execution_count": 102,
     "metadata": {},
     "output_type": "execute_result"
    }
   ],
   "source": [
    "df_2016_5"
   ]
  },
  {
   "cell_type": "code",
   "execution_count": 103,
   "metadata": {},
   "outputs": [
    {
     "data": {
      "text/plain": [
       "(1962, 13)"
      ]
     },
     "execution_count": 103,
     "metadata": {},
     "output_type": "execute_result"
    }
   ],
   "source": [
    "df_2017_5.shape"
   ]
  },
  {
   "cell_type": "code",
   "execution_count": 104,
   "metadata": {},
   "outputs": [],
   "source": [
    "df_2018_5[\"relevance_score\"] = df_2018_4[\"relevance_score\"]"
   ]
  },
  {
   "cell_type": "code",
   "execution_count": 105,
   "metadata": {},
   "outputs": [
    {
     "data": {
      "text/plain": [
       "(2592, 13)"
      ]
     },
     "execution_count": 105,
     "metadata": {},
     "output_type": "execute_result"
    }
   ],
   "source": [
    "df_2018_5.shape"
   ]
  },
  {
   "cell_type": "code",
   "execution_count": 106,
   "metadata": {},
   "outputs": [],
   "source": [
    "df_2019_5[\"relevance_score\"] = df_2019_4[\"relevance_score\"]"
   ]
  },
  {
   "cell_type": "code",
   "execution_count": 107,
   "metadata": {},
   "outputs": [
    {
     "data": {
      "text/plain": [
       "(3226, 13)"
      ]
     },
     "execution_count": 107,
     "metadata": {},
     "output_type": "execute_result"
    }
   ],
   "source": [
    "df_2019_5.shape\n"
   ]
  },
  {
   "cell_type": "code",
   "execution_count": 108,
   "metadata": {},
   "outputs": [],
   "source": [
    "df_2020_5[\"relevance_score\"] = df_2020_4[\"relevance_score\"]"
   ]
  },
  {
   "cell_type": "code",
   "execution_count": 49,
   "metadata": {},
   "outputs": [
    {
     "data": {
      "text/plain": [
       "(1619, 13)"
      ]
     },
     "execution_count": 49,
     "metadata": {},
     "output_type": "execute_result"
    }
   ],
   "source": [
    "df_2020_5.shape"
   ]
  },
  {
   "cell_type": "code",
   "execution_count": 8,
   "metadata": {},
   "outputs": [],
   "source": [
    "df_nba = pd.concat([df_2016_5, df_2017_5, df_2018_5, df_2019_5, df_2020_5])\n"
   ]
  },
  {
   "cell_type": "code",
   "execution_count": 9,
   "metadata": {},
   "outputs": [],
   "source": [
    "df_nba = df_nba.drop('Unnamed: 0', axis=1)\n"
   ]
  },
  {
   "cell_type": "code",
   "execution_count": 10,
   "metadata": {},
   "outputs": [],
   "source": [
    "df_nba\n",
    "df_nba.to_csv('/Users/annabelitong/desktop/annabel/uni/ds105l/group_project/DS105L-Project/Data/nba_author_credit/nba_all_default.csv')"
   ]
  },
  {
   "cell_type": "code",
   "execution_count": null,
   "metadata": {},
   "outputs": [],
   "source": [
    "df_nba"
   ]
  },
  {
   "cell_type": "code",
   "execution_count": 12,
   "metadata": {},
   "outputs": [
    {
     "data": {
      "image/png": "[encoded data removed]",
      "text/plain": [
       "<Figure size 1152x576 with 1 Axes>"
      ]
     },
     "metadata": {
      "needs_background": "light"
     },
     "output_type": "display_data"
    }
   ],
   "source": [
    "import pandas as pd\n",
    "import seaborn as sns\n",
    "import matplotlib.pyplot as plt\n",
    "\n",
    "# Filter out the numbers from the 'credit_article' column\n",
    "numbers_only = df_nba['credit_article'].str.extract(r'(\\d+)').astype(float)\n",
    "\n",
    "# Remove NaN values from the extracted numbers\n",
    "numbers_only = numbers_only.dropna()\n",
    "\n",
    "# Create a histogram using seaborn\n",
    "\n",
    "plt.figure(figsize=(16, 8))\n",
    "\n",
    "sns.histplot(numbers_only, kde=False)\n",
    "\n",
    "# Show the plot\n",
    "plt.xlabel('Credit Article_Numbers')\n",
    "plt.ylabel('Frequency')\n",
    "plt.title('Credit Article Histogram of Numbers')\n",
    "plt.show()\n"
   ]
  },
  {
   "cell_type": "code",
   "execution_count": 14,
   "metadata": {},
   "outputs": [
    {
     "data": {
      "image/png": "[encoded data removed]",
      "text/plain": [
       "<Figure size 1152x288 with 1 Axes>"
      ]
     },
     "metadata": {
      "needs_background": "light"
     },
     "output_type": "display_data"
    }
   ],
   "source": [
    "import pandas as pd\n",
    "import seaborn as sns\n",
    "import matplotlib.pyplot as plt\n",
    "\n",
    "# Filter out the numbers from the 'credit_article' column\n",
    "numbers_only = df_nba['credit_followers'].str.extract(r'(\\d+)').astype(float)\n",
    "\n",
    "# Remove NaN values from the extracted numbers\n",
    "numbers_only = numbers_only.dropna()\n",
    "\n",
    "# Create a histogram using seaborn\n",
    "\n",
    "plt.figure(figsize=(16, 4))\n",
    "\n",
    "sns.histplot(numbers_only, kde=False)\n",
    "\n",
    "# Show the plot\n",
    "plt.xlabel('Credit Followers_Numbers')\n",
    "plt.ylabel('Frequency')\n",
    "plt.title('Credit Followers Histogram of Numbers')\n",
    "plt.show()\n"
   ]
  },
  {
   "cell_type": "code",
   "execution_count": 15,
   "metadata": {},
   "outputs": [
    {
     "data": {
      "image/png": "[encoded data removed]",
      "text/plain": [
       "<Figure size 1152x288 with 1 Axes>"
      ]
     },
     "metadata": {
      "needs_background": "light"
     },
     "output_type": "display_data"
    }
   ],
   "source": [
    "import pandas as pd\n",
    "import seaborn as sns\n",
    "import matplotlib.pyplot as plt\n",
    "\n",
    "# Filter out the numbers from the 'credit_article' column\n",
    "numbers_only = df_nba['credit_tweets'].str.extract(r'(\\d+)').astype(float)\n",
    "\n",
    "# Remove NaN values from the extracted numbers\n",
    "numbers_only = numbers_only.dropna()\n",
    "\n",
    "# Create a histogram using seaborn\n",
    "\n",
    "plt.figure(figsize=(16, 4))\n",
    "\n",
    "sns.histplot(numbers_only, kde=False)\n",
    "\n",
    "# Show the plot\n",
    "plt.xlabel('Credit Tweets_Numbers')\n",
    "plt.ylabel('Frequency')\n",
    "plt.title('Credit Tweets Histogram of Numbers')\n",
    "plt.show()\n"
   ]
  },
  {
   "cell_type": "code",
   "execution_count": 116,
   "metadata": {},
   "outputs": [],
   "source": [
    "numbers_only = df_nba['credit_article'].str.extract(r'(\\d+)').astype(float)\n",
    "numbers_only = numbers_only.dropna()\n",
    "mean = numbers_only.mean()\n",
    "mode = numbers_only.mode().values[0]\n",
    "median = numbers_only.median()\n",
    "highest_value = numbers_only.max()\n",
    "lowest_value = numbers_only.min()\n",
    "percentile_95 = np.percentile(numbers_only, 95)\n",
    "percentile_5 = np.percentile(numbers_only, 5)\n",
    "\n",
    "\n"
   ]
  },
  {
   "cell_type": "code",
   "execution_count": 137,
   "metadata": {},
   "outputs": [],
   "source": [
    "numbers_only_f = df_nba['credit_followers'].str.extract(r'(\\d+)').astype(float)\n",
    "numbers_only_f = numbers_only_f.dropna()\n",
    "mean_f = numbers_only_f.mean()\n",
    "mode_f = numbers_only_f.mode().values[0]\n",
    "median_f = numbers_only_f.median()\n",
    "percentile_95_f = np.percentile(numbers_only_f, 95)\n",
    "percentile_5_f = np.percentile(numbers_only_f, 5)\n",
    "\n",
    "\n",
    "\n"
   ]
  },
  {
   "cell_type": "code",
   "execution_count": 145,
   "metadata": {},
   "outputs": [],
   "source": [
    "numbers_only_t = df_nba['credit_tweets'].str.extract(r'(\\d+)').astype(float)\n",
    "numbers_only_t = numbers_only_t.dropna()\n",
    "mean_t = numbers_only_t.mean()\n",
    "mode_t = numbers_only_t.mode().values[0]\n",
    "median_t = numbers_only_t.median()\n",
    "percentile_95_t = np.percentile(numbers_only_t, 95)\n",
    "percentile_5_t = np.percentile(numbers_only_t, 5)\n",
    "\n",
    "\n",
    "\n"
   ]
  },
  {
   "cell_type": "code",
   "execution_count": 135,
   "metadata": {},
   "outputs": [],
   "source": [
    "import numpy as np\n",
    "\n",
    "# Convert \"default\" values to 95th percentile\n",
    "df_nba.loc[df_nba['credit_article'] == 'Default', 'credit_article'] = percentile_95\n",
    "df_nba.loc[df_nba['credit_article'] == 'None', 'credit_article'] = median\n",
    "df_nba.loc[pd.isnull(df_nba['credit_article']), 'credit_article'] = percentile_5\n",
    "\n",
    "\n"
   ]
  },
  {
   "cell_type": "code",
   "execution_count": 139,
   "metadata": {},
   "outputs": [],
   "source": [
    "df_nba.loc[df_nba['credit_followers'] == 'Default', 'credit_followers'] = percentile_95_f\n",
    "df_nba.loc[df_nba['credit_followers'] == 'None', 'credit_followers'] = mean_f\n",
    "df_nba.loc[pd.isnull(df_nba['credit_followers']), 'credit_followers'] = percentile_5_f"
   ]
  },
  {
   "cell_type": "code",
   "execution_count": 146,
   "metadata": {},
   "outputs": [],
   "source": [
    "df_nba.loc[df_nba['credit_tweets'] == 'Default', 'credit_tweets'] = percentile_95_t\n",
    "df_nba.loc[df_nba['credit_tweets'] == 'None', 'credit_tweets'] = mean_t\n",
    "df_nba.loc[pd.isnull(df_nba['credit_tweets']), 'credit_tweets'] = percentile_5_t"
   ]
  },
  {
   "cell_type": "code",
   "execution_count": 227,
   "metadata": {},
   "outputs": [
    {
     "name": "stderr",
     "output_type": "stream",
     "text": [
      "/var/folders/9g/wg6kygl97c58z_h6ljqdr8g00000gn/T/ipykernel_21846/3812029287.py:10: SettingWithCopyWarning: \n",
      "A value is trying to be set on a copy of a slice from a DataFrame.\n",
      "Try using .loc[row_indexer,col_indexer] = value instead\n",
      "\n",
      "See the caveats in the documentation: https://pandas.pydata.org/pandas-docs/stable/user_guide/indexing.html#returning-a-view-versus-a-copy\n",
      "  df_nba['credit_article'] = df_nba['credit_article'].apply(round)\n",
      "/var/folders/9g/wg6kygl97c58z_h6ljqdr8g00000gn/T/ipykernel_21846/3812029287.py:11: SettingWithCopyWarning: \n",
      "A value is trying to be set on a copy of a slice from a DataFrame.\n",
      "Try using .loc[row_indexer,col_indexer] = value instead\n",
      "\n",
      "See the caveats in the documentation: https://pandas.pydata.org/pandas-docs/stable/user_guide/indexing.html#returning-a-view-versus-a-copy\n",
      "  df_nba['credit_followers'] = df_nba['credit_followers'].apply(round)\n",
      "/var/folders/9g/wg6kygl97c58z_h6ljqdr8g00000gn/T/ipykernel_21846/3812029287.py:12: SettingWithCopyWarning: \n",
      "A value is trying to be set on a copy of a slice from a DataFrame.\n",
      "Try using .loc[row_indexer,col_indexer] = value instead\n",
      "\n",
      "See the caveats in the documentation: https://pandas.pydata.org/pandas-docs/stable/user_guide/indexing.html#returning-a-view-versus-a-copy\n",
      "  df_nba['credit_tweets'] = df_nba['credit_tweets'].apply(round)\n"
     ]
    }
   ],
   "source": [
    "\n",
    "\n",
    "# Convert the columns to numeric type, remove non-convertible rows\n",
    "df_nba['credit_article'] = pd.to_numeric(df_nba['credit_article'], errors='coerce')\n",
    "df_nba['credit_followers'] = pd.to_numeric(df_nba['credit_followers'], errors='coerce')\n",
    "df_nba['credit_tweets'] = pd.to_numeric(df_nba['credit_tweets'], errors='coerce')\n",
    "\n",
    "# Remove rows with NaN values\n",
    "df_nba = df_nba.dropna()\n",
    "\n",
    "# Round the numeric columns to whole numbers\n",
    "df_nba['credit_article'] = df_nba['credit_article'].apply(round)\n",
    "df_nba['credit_followers'] = df_nba['credit_followers'].apply(round)\n",
    "df_nba['credit_tweets'] = df_nba['credit_tweets'].apply(round)"
   ]
  },
  {
   "cell_type": "code",
   "execution_count": 229,
   "metadata": {},
   "outputs": [],
   "source": [
    "df_nba.to_csv('/Users/annabelitong/desktop/annabel/uni/ds105l/group_project/DS105L-Project/Data/nba_author_credit/nba_all_added.csv')"
   ]
  },
  {
   "cell_type": "code",
   "execution_count": 230,
   "metadata": {},
   "outputs": [],
   "source": [
    "df_2016 = df_nba[df_nba['time'] == 2016].copy()\n",
    "df_2017 = df_nba[df_nba['time'] == 2017].copy()\n",
    "df_2018 = df_nba[df_nba['time'] == 2018].copy()\n",
    "df_2019 = df_nba[df_nba['time'] == 2019].copy()\n",
    "df_2020 = df_nba[df_nba['time'] == 2020].copy()"
   ]
  },
  {
   "cell_type": "code",
   "execution_count": 231,
   "metadata": {},
   "outputs": [],
   "source": [
    "df_2020.to_csv('/Users/annabelitong/desktop/annabel/uni/ds105l/group_project/DS105L-Project/Data/nba_author_credit/nba_added_2020.csv')\n",
    "df_2019.to_csv('/Users/annabelitong/desktop/annabel/uni/ds105l/group_project/DS105L-Project/Data/nba_author_credit/nba_added_2019.csv')\n",
    "df_2018.to_csv('/Users/annabelitong/desktop/annabel/uni/ds105l/group_project/DS105L-Project/Data/nba_author_credit/nba_added_2018.csv')\n",
    "df_2017.to_csv('/Users/annabelitong/desktop/annabel/uni/ds105l/group_project/DS105L-Project/Data/nba_author_credit/nba_added_2017.csv')\n",
    "df_2016.to_csv('/Users/annabelitong/desktop/annabel/uni/ds105l/group_project/DS105L-Project/Data/nba_author_credit/nba_added_2016.csv')\n"
   ]
  },
  {
   "cell_type": "code",
   "execution_count": 232,
   "metadata": {},
   "outputs": [],
   "source": [
    "df2020 = pd.read_csv('/Users/annabelitong/desktop/annabel/uni/ds105l/group_project/DS105L-Project/Data/nba_author_credit/nba_added_2020.csv')"
   ]
  },
  {
   "cell_type": "code",
   "execution_count": 234,
   "metadata": {},
   "outputs": [],
   "source": [
    "import pandas as pd\n",
    "\n",
    "def preprocess_dataframe(df):\n",
    "    # Group the dataframe by time and most_frequent_name\n",
    "    grouped_df = df.groupby(['time', 'most_frequent_name'])\n",
    "\n",
    "    # Create a new dataframe to store the processed data\n",
    "    processed_df = pd.DataFrame()\n",
    "\n",
    "    # Iterate over each group (unique time and most_frequent_name combination)\n",
    "    for (time, most_frequent_name), group in grouped_df:\n",
    "        # Print the columns present in the group\n",
    "        print(f\"Columns in group: {group.columns.tolist()}\")\n",
    "\n",
    "\n",
    "\n",
    "\n",
    "        # Calculate average scores for sentiment columns\n",
    "        average_scores = group[['textblob_Sentiment', 'nltk_Sentiment',\n",
    "                                'relevance_score', 'bert_relevance',\n",
    "                                'credit_article', 'credit_followers',\n",
    "                                'credit_tweets']].mean()\n",
    "\n",
    "        # Count the number of articles\n",
    "        num_articles = len(group)\n",
    "\n",
    "        # Create a new row with processed data\n",
    "        new_row = {\n",
    "            'time': time,\n",
    "            'most_frequent_name': most_frequent_name,\n",
    "            'url': group['url'].tolist(),\n",
    "            'textblob_Sentiment': average_scores['textblob_Sentiment'],\n",
    "            'nltk_Sentiment': average_scores['nltk_Sentiment'],\n",
    "            'relevance_score': average_scores['relevance_score'],\n",
    "            'bert_relevance': average_scores['bert_relevance'],\n",
    "            'credit_article': average_scores['credit_article'],\n",
    "            'credit_followers': average_scores['credit_followers'],\n",
    "            'credit_tweets': average_scores['credit_tweets'],\n",
    "            'frequency': num_articles\n",
    "        }\n",
    "\n",
    "        # Append the new row to the processed dataframe\n",
    "        processed_df = processed_df.append(new_row, ignore_index=True)\n",
    "\n",
    "    return processed_df\n"
   ]
  },
  {
   "cell_type": "code",
   "execution_count": 221,
   "metadata": {},
   "outputs": [
    {
     "name": "stdout",
     "output_type": "stream",
     "text": [
      "Index(['Unnamed: 0', 'title', 'time', 'url', 'author', 'credit_article',\n",
      "       'credit_followers', 'credit_tweets', 'textblob_Sentiment',\n",
      "       'nltk_Sentiment', 'most_frequent_name', 'relevance_score',\n",
      "       'bert_relevance'],\n",
      "      dtype='object')\n"
     ]
    }
   ],
   "source": [
    "print(df2020.columns)\n"
   ]
  },
  {
   "cell_type": "code",
   "execution_count": 235,
   "metadata": {},
   "outputs": [
    {
     "name": "stdout",
     "output_type": "stream",
     "text": [
      "Columns in group: ['title', 'time', 'url', 'author', 'credit_article', 'credit_followers', 'credit_tweets', 'textblob_Sentiment', 'nltk_Sentiment', 'most_frequent_name', 'relevance_score', 'bert_relevance']\n",
      "Columns in group: ['title', 'time', 'url', 'author', 'credit_article', 'credit_followers', 'credit_tweets', 'textblob_Sentiment', 'nltk_Sentiment', 'most_frequent_name', 'relevance_score', 'bert_relevance']\n",
      "Columns in group: ['title', 'time', 'url', 'author', 'credit_article', 'credit_followers', 'credit_tweets', 'textblob_Sentiment', 'nltk_Sentiment', 'most_frequent_name', 'relevance_score', 'bert_relevance']\n",
      "Columns in group: ['title', 'time', 'url', 'author', 'credit_article', 'credit_followers', 'credit_tweets', 'textblob_Sentiment', 'nltk_Sentiment', 'most_frequent_name', 'relevance_score', 'bert_relevance']\n",
      "Columns in group: ['title', 'time', 'url', 'author', 'credit_article', 'credit_followers', 'credit_tweets', 'textblob_Sentiment', 'nltk_Sentiment', 'most_frequent_name', 'relevance_score', 'bert_relevance']\n",
      "Columns in group: ['title', 'time', 'url', 'author', 'credit_article', 'credit_followers', 'credit_tweets', 'textblob_Sentiment', 'nltk_Sentiment', 'most_frequent_name', 'relevance_score', 'bert_relevance']\n",
      "Columns in group: ['title', 'time', 'url', 'author', 'credit_article', 'credit_followers', 'credit_tweets', 'textblob_Sentiment', 'nltk_Sentiment', 'most_frequent_name', 'relevance_score', 'bert_relevance']\n",
      "Columns in group: ['title', 'time', 'url', 'author', 'credit_article', 'credit_followers', 'credit_tweets', 'textblob_Sentiment', 'nltk_Sentiment', 'most_frequent_name', 'relevance_score', 'bert_relevance']\n",
      "Columns in group: ['title', 'time', 'url', 'author', 'credit_article', 'credit_followers', 'credit_tweets', 'textblob_Sentiment', 'nltk_Sentiment', 'most_frequent_name', 'relevance_score', 'bert_relevance']\n",
      "Columns in group: ['title', 'time', 'url', 'author', 'credit_article', 'credit_followers', 'credit_tweets', 'textblob_Sentiment', 'nltk_Sentiment', 'most_frequent_name', 'relevance_score', 'bert_relevance']\n",
      "Columns in group: ['title', 'time', 'url', 'author', 'credit_article', 'credit_followers', 'credit_tweets', 'textblob_Sentiment', 'nltk_Sentiment', 'most_frequent_name', 'relevance_score', 'bert_relevance']\n"
     ]
    },
    {
     "name": "stderr",
     "output_type": "stream",
     "text": [
      "/var/folders/9g/wg6kygl97c58z_h6ljqdr8g00000gn/T/ipykernel_21846/4260402713.py:43: FutureWarning: The frame.append method is deprecated and will be removed from pandas in a future version. Use pandas.concat instead.\n",
      "  processed_df = processed_df.append(new_row, ignore_index=True)\n",
      "/var/folders/9g/wg6kygl97c58z_h6ljqdr8g00000gn/T/ipykernel_21846/4260402713.py:43: FutureWarning: The frame.append method is deprecated and will be removed from pandas in a future version. Use pandas.concat instead.\n",
      "  processed_df = processed_df.append(new_row, ignore_index=True)\n",
      "/var/folders/9g/wg6kygl97c58z_h6ljqdr8g00000gn/T/ipykernel_21846/4260402713.py:43: FutureWarning: The frame.append method is deprecated and will be removed from pandas in a future version. Use pandas.concat instead.\n",
      "  processed_df = processed_df.append(new_row, ignore_index=True)\n",
      "/var/folders/9g/wg6kygl97c58z_h6ljqdr8g00000gn/T/ipykernel_21846/4260402713.py:43: FutureWarning: The frame.append method is deprecated and will be removed from pandas in a future version. Use pandas.concat instead.\n",
      "  processed_df = processed_df.append(new_row, ignore_index=True)\n",
      "/var/folders/9g/wg6kygl97c58z_h6ljqdr8g00000gn/T/ipykernel_21846/4260402713.py:43: FutureWarning: The frame.append method is deprecated and will be removed from pandas in a future version. Use pandas.concat instead.\n",
      "  processed_df = processed_df.append(new_row, ignore_index=True)\n",
      "/var/folders/9g/wg6kygl97c58z_h6ljqdr8g00000gn/T/ipykernel_21846/4260402713.py:43: FutureWarning: The frame.append method is deprecated and will be removed from pandas in a future version. Use pandas.concat instead.\n",
      "  processed_df = processed_df.append(new_row, ignore_index=True)\n",
      "/var/folders/9g/wg6kygl97c58z_h6ljqdr8g00000gn/T/ipykernel_21846/4260402713.py:43: FutureWarning: The frame.append method is deprecated and will be removed from pandas in a future version. Use pandas.concat instead.\n",
      "  processed_df = processed_df.append(new_row, ignore_index=True)\n",
      "/var/folders/9g/wg6kygl97c58z_h6ljqdr8g00000gn/T/ipykernel_21846/4260402713.py:43: FutureWarning: The frame.append method is deprecated and will be removed from pandas in a future version. Use pandas.concat instead.\n",
      "  processed_df = processed_df.append(new_row, ignore_index=True)\n",
      "/var/folders/9g/wg6kygl97c58z_h6ljqdr8g00000gn/T/ipykernel_21846/4260402713.py:43: FutureWarning: The frame.append method is deprecated and will be removed from pandas in a future version. Use pandas.concat instead.\n",
      "  processed_df = processed_df.append(new_row, ignore_index=True)\n",
      "/var/folders/9g/wg6kygl97c58z_h6ljqdr8g00000gn/T/ipykernel_21846/4260402713.py:43: FutureWarning: The frame.append method is deprecated and will be removed from pandas in a future version. Use pandas.concat instead.\n",
      "  processed_df = processed_df.append(new_row, ignore_index=True)\n",
      "/var/folders/9g/wg6kygl97c58z_h6ljqdr8g00000gn/T/ipykernel_21846/4260402713.py:43: FutureWarning: The frame.append method is deprecated and will be removed from pandas in a future version. Use pandas.concat instead.\n",
      "  processed_df = processed_df.append(new_row, ignore_index=True)\n",
      "/var/folders/9g/wg6kygl97c58z_h6ljqdr8g00000gn/T/ipykernel_21846/4260402713.py:43: FutureWarning: The frame.append method is deprecated and will be removed from pandas in a future version. Use pandas.concat instead.\n",
      "  processed_df = processed_df.append(new_row, ignore_index=True)\n",
      "/var/folders/9g/wg6kygl97c58z_h6ljqdr8g00000gn/T/ipykernel_21846/4260402713.py:43: FutureWarning: The frame.append method is deprecated and will be removed from pandas in a future version. Use pandas.concat instead.\n",
      "  processed_df = processed_df.append(new_row, ignore_index=True)\n"
     ]
    },
    {
     "name": "stdout",
     "output_type": "stream",
     "text": [
      "Columns in group: ['title', 'time', 'url', 'author', 'credit_article', 'credit_followers', 'credit_tweets', 'textblob_Sentiment', 'nltk_Sentiment', 'most_frequent_name', 'relevance_score', 'bert_relevance']\n",
      "Columns in group: ['title', 'time', 'url', 'author', 'credit_article', 'credit_followers', 'credit_tweets', 'textblob_Sentiment', 'nltk_Sentiment', 'most_frequent_name', 'relevance_score', 'bert_relevance']\n",
      "Columns in group: ['title', 'time', 'url', 'author', 'credit_article', 'credit_followers', 'credit_tweets', 'textblob_Sentiment', 'nltk_Sentiment', 'most_frequent_name', 'relevance_score', 'bert_relevance']\n",
      "Columns in group: ['title', 'time', 'url', 'author', 'credit_article', 'credit_followers', 'credit_tweets', 'textblob_Sentiment', 'nltk_Sentiment', 'most_frequent_name', 'relevance_score', 'bert_relevance']\n",
      "Columns in group: ['title', 'time', 'url', 'author', 'credit_article', 'credit_followers', 'credit_tweets', 'textblob_Sentiment', 'nltk_Sentiment', 'most_frequent_name', 'relevance_score', 'bert_relevance']\n",
      "Columns in group: ['title', 'time', 'url', 'author', 'credit_article', 'credit_followers', 'credit_tweets', 'textblob_Sentiment', 'nltk_Sentiment', 'most_frequent_name', 'relevance_score', 'bert_relevance']\n",
      "Columns in group: ['title', 'time', 'url', 'author', 'credit_article', 'credit_followers', 'credit_tweets', 'textblob_Sentiment', 'nltk_Sentiment', 'most_frequent_name', 'relevance_score', 'bert_relevance']\n",
      "Columns in group: ['title', 'time', 'url', 'author', 'credit_article', 'credit_followers', 'credit_tweets', 'textblob_Sentiment', 'nltk_Sentiment', 'most_frequent_name', 'relevance_score', 'bert_relevance']\n",
      "Columns in group: ['title', 'time', 'url', 'author', 'credit_article', 'credit_followers', 'credit_tweets', 'textblob_Sentiment', 'nltk_Sentiment', 'most_frequent_name', 'relevance_score', 'bert_relevance']\n",
      "Columns in group: ['title', 'time', 'url', 'author', 'credit_article', 'credit_followers', 'credit_tweets', 'textblob_Sentiment', 'nltk_Sentiment', 'most_frequent_name', 'relevance_score', 'bert_relevance']\n",
      "Columns in group: ['title', 'time', 'url', 'author', 'credit_article', 'credit_followers', 'credit_tweets', 'textblob_Sentiment', 'nltk_Sentiment', 'most_frequent_name', 'relevance_score', 'bert_relevance']\n"
     ]
    },
    {
     "name": "stderr",
     "output_type": "stream",
     "text": [
      "/var/folders/9g/wg6kygl97c58z_h6ljqdr8g00000gn/T/ipykernel_21846/4260402713.py:43: FutureWarning: The frame.append method is deprecated and will be removed from pandas in a future version. Use pandas.concat instead.\n",
      "  processed_df = processed_df.append(new_row, ignore_index=True)\n",
      "/var/folders/9g/wg6kygl97c58z_h6ljqdr8g00000gn/T/ipykernel_21846/4260402713.py:43: FutureWarning: The frame.append method is deprecated and will be removed from pandas in a future version. Use pandas.concat instead.\n",
      "  processed_df = processed_df.append(new_row, ignore_index=True)\n",
      "/var/folders/9g/wg6kygl97c58z_h6ljqdr8g00000gn/T/ipykernel_21846/4260402713.py:43: FutureWarning: The frame.append method is deprecated and will be removed from pandas in a future version. Use pandas.concat instead.\n",
      "  processed_df = processed_df.append(new_row, ignore_index=True)\n",
      "/var/folders/9g/wg6kygl97c58z_h6ljqdr8g00000gn/T/ipykernel_21846/4260402713.py:43: FutureWarning: The frame.append method is deprecated and will be removed from pandas in a future version. Use pandas.concat instead.\n",
      "  processed_df = processed_df.append(new_row, ignore_index=True)\n",
      "/var/folders/9g/wg6kygl97c58z_h6ljqdr8g00000gn/T/ipykernel_21846/4260402713.py:43: FutureWarning: The frame.append method is deprecated and will be removed from pandas in a future version. Use pandas.concat instead.\n",
      "  processed_df = processed_df.append(new_row, ignore_index=True)\n",
      "/var/folders/9g/wg6kygl97c58z_h6ljqdr8g00000gn/T/ipykernel_21846/4260402713.py:43: FutureWarning: The frame.append method is deprecated and will be removed from pandas in a future version. Use pandas.concat instead.\n",
      "  processed_df = processed_df.append(new_row, ignore_index=True)\n",
      "/var/folders/9g/wg6kygl97c58z_h6ljqdr8g00000gn/T/ipykernel_21846/4260402713.py:43: FutureWarning: The frame.append method is deprecated and will be removed from pandas in a future version. Use pandas.concat instead.\n",
      "  processed_df = processed_df.append(new_row, ignore_index=True)\n",
      "/var/folders/9g/wg6kygl97c58z_h6ljqdr8g00000gn/T/ipykernel_21846/4260402713.py:43: FutureWarning: The frame.append method is deprecated and will be removed from pandas in a future version. Use pandas.concat instead.\n",
      "  processed_df = processed_df.append(new_row, ignore_index=True)\n",
      "/var/folders/9g/wg6kygl97c58z_h6ljqdr8g00000gn/T/ipykernel_21846/4260402713.py:43: FutureWarning: The frame.append method is deprecated and will be removed from pandas in a future version. Use pandas.concat instead.\n",
      "  processed_df = processed_df.append(new_row, ignore_index=True)\n",
      "/var/folders/9g/wg6kygl97c58z_h6ljqdr8g00000gn/T/ipykernel_21846/4260402713.py:43: FutureWarning: The frame.append method is deprecated and will be removed from pandas in a future version. Use pandas.concat instead.\n",
      "  processed_df = processed_df.append(new_row, ignore_index=True)\n",
      "/var/folders/9g/wg6kygl97c58z_h6ljqdr8g00000gn/T/ipykernel_21846/4260402713.py:43: FutureWarning: The frame.append method is deprecated and will be removed from pandas in a future version. Use pandas.concat instead.\n",
      "  processed_df = processed_df.append(new_row, ignore_index=True)\n",
      "/var/folders/9g/wg6kygl97c58z_h6ljqdr8g00000gn/T/ipykernel_21846/4260402713.py:43: FutureWarning: The frame.append method is deprecated and will be removed from pandas in a future version. Use pandas.concat instead.\n",
      "  processed_df = processed_df.append(new_row, ignore_index=True)\n",
      "/var/folders/9g/wg6kygl97c58z_h6ljqdr8g00000gn/T/ipykernel_21846/4260402713.py:43: FutureWarning: The frame.append method is deprecated and will be removed from pandas in a future version. Use pandas.concat instead.\n",
      "  processed_df = processed_df.append(new_row, ignore_index=True)\n"
     ]
    },
    {
     "name": "stdout",
     "output_type": "stream",
     "text": [
      "Columns in group: ['title', 'time', 'url', 'author', 'credit_article', 'credit_followers', 'credit_tweets', 'textblob_Sentiment', 'nltk_Sentiment', 'most_frequent_name', 'relevance_score', 'bert_relevance']\n",
      "Columns in group: ['title', 'time', 'url', 'author', 'credit_article', 'credit_followers', 'credit_tweets', 'textblob_Sentiment', 'nltk_Sentiment', 'most_frequent_name', 'relevance_score', 'bert_relevance']\n",
      "Columns in group: ['title', 'time', 'url', 'author', 'credit_article', 'credit_followers', 'credit_tweets', 'textblob_Sentiment', 'nltk_Sentiment', 'most_frequent_name', 'relevance_score', 'bert_relevance']\n",
      "Columns in group: ['title', 'time', 'url', 'author', 'credit_article', 'credit_followers', 'credit_tweets', 'textblob_Sentiment', 'nltk_Sentiment', 'most_frequent_name', 'relevance_score', 'bert_relevance']\n",
      "Columns in group: ['title', 'time', 'url', 'author', 'credit_article', 'credit_followers', 'credit_tweets', 'textblob_Sentiment', 'nltk_Sentiment', 'most_frequent_name', 'relevance_score', 'bert_relevance']\n",
      "Columns in group: ['title', 'time', 'url', 'author', 'credit_article', 'credit_followers', 'credit_tweets', 'textblob_Sentiment', 'nltk_Sentiment', 'most_frequent_name', 'relevance_score', 'bert_relevance']\n",
      "Columns in group: ['title', 'time', 'url', 'author', 'credit_article', 'credit_followers', 'credit_tweets', 'textblob_Sentiment', 'nltk_Sentiment', 'most_frequent_name', 'relevance_score', 'bert_relevance']\n",
      "Columns in group: ['title', 'time', 'url', 'author', 'credit_article', 'credit_followers', 'credit_tweets', 'textblob_Sentiment', 'nltk_Sentiment', 'most_frequent_name', 'relevance_score', 'bert_relevance']\n",
      "Columns in group: ['title', 'time', 'url', 'author', 'credit_article', 'credit_followers', 'credit_tweets', 'textblob_Sentiment', 'nltk_Sentiment', 'most_frequent_name', 'relevance_score', 'bert_relevance']\n",
      "Columns in group: ['title', 'time', 'url', 'author', 'credit_article', 'credit_followers', 'credit_tweets', 'textblob_Sentiment', 'nltk_Sentiment', 'most_frequent_name', 'relevance_score', 'bert_relevance']\n",
      "Columns in group: ['title', 'time', 'url', 'author', 'credit_article', 'credit_followers', 'credit_tweets', 'textblob_Sentiment', 'nltk_Sentiment', 'most_frequent_name', 'relevance_score', 'bert_relevance']\n",
      "Columns in group: ['title', 'time', 'url', 'author', 'credit_article', 'credit_followers', 'credit_tweets', 'textblob_Sentiment', 'nltk_Sentiment', 'most_frequent_name', 'relevance_score', 'bert_relevance']\n",
      "Columns in group: ['title', 'time', 'url', 'author', 'credit_article', 'credit_followers', 'credit_tweets', 'textblob_Sentiment', 'nltk_Sentiment', 'most_frequent_name', 'relevance_score', 'bert_relevance']\n",
      "Columns in group: ['title', 'time', 'url', 'author', 'credit_article', 'credit_followers', 'credit_tweets', 'textblob_Sentiment', 'nltk_Sentiment', 'most_frequent_name', 'relevance_score', 'bert_relevance']\n",
      "Columns in group: ['title', 'time', 'url', 'author', 'credit_article', 'credit_followers', 'credit_tweets', 'textblob_Sentiment', 'nltk_Sentiment', 'most_frequent_name', 'relevance_score', 'bert_relevance']\n"
     ]
    },
    {
     "name": "stderr",
     "output_type": "stream",
     "text": [
      "/var/folders/9g/wg6kygl97c58z_h6ljqdr8g00000gn/T/ipykernel_21846/4260402713.py:43: FutureWarning: The frame.append method is deprecated and will be removed from pandas in a future version. Use pandas.concat instead.\n",
      "  processed_df = processed_df.append(new_row, ignore_index=True)\n",
      "/var/folders/9g/wg6kygl97c58z_h6ljqdr8g00000gn/T/ipykernel_21846/4260402713.py:43: FutureWarning: The frame.append method is deprecated and will be removed from pandas in a future version. Use pandas.concat instead.\n",
      "  processed_df = processed_df.append(new_row, ignore_index=True)\n",
      "/var/folders/9g/wg6kygl97c58z_h6ljqdr8g00000gn/T/ipykernel_21846/4260402713.py:43: FutureWarning: The frame.append method is deprecated and will be removed from pandas in a future version. Use pandas.concat instead.\n",
      "  processed_df = processed_df.append(new_row, ignore_index=True)\n",
      "/var/folders/9g/wg6kygl97c58z_h6ljqdr8g00000gn/T/ipykernel_21846/4260402713.py:43: FutureWarning: The frame.append method is deprecated and will be removed from pandas in a future version. Use pandas.concat instead.\n",
      "  processed_df = processed_df.append(new_row, ignore_index=True)\n",
      "/var/folders/9g/wg6kygl97c58z_h6ljqdr8g00000gn/T/ipykernel_21846/4260402713.py:43: FutureWarning: The frame.append method is deprecated and will be removed from pandas in a future version. Use pandas.concat instead.\n",
      "  processed_df = processed_df.append(new_row, ignore_index=True)\n",
      "/var/folders/9g/wg6kygl97c58z_h6ljqdr8g00000gn/T/ipykernel_21846/4260402713.py:43: FutureWarning: The frame.append method is deprecated and will be removed from pandas in a future version. Use pandas.concat instead.\n",
      "  processed_df = processed_df.append(new_row, ignore_index=True)\n",
      "/var/folders/9g/wg6kygl97c58z_h6ljqdr8g00000gn/T/ipykernel_21846/4260402713.py:43: FutureWarning: The frame.append method is deprecated and will be removed from pandas in a future version. Use pandas.concat instead.\n",
      "  processed_df = processed_df.append(new_row, ignore_index=True)\n",
      "/var/folders/9g/wg6kygl97c58z_h6ljqdr8g00000gn/T/ipykernel_21846/4260402713.py:43: FutureWarning: The frame.append method is deprecated and will be removed from pandas in a future version. Use pandas.concat instead.\n",
      "  processed_df = processed_df.append(new_row, ignore_index=True)\n",
      "/var/folders/9g/wg6kygl97c58z_h6ljqdr8g00000gn/T/ipykernel_21846/4260402713.py:43: FutureWarning: The frame.append method is deprecated and will be removed from pandas in a future version. Use pandas.concat instead.\n",
      "  processed_df = processed_df.append(new_row, ignore_index=True)\n",
      "/var/folders/9g/wg6kygl97c58z_h6ljqdr8g00000gn/T/ipykernel_21846/4260402713.py:43: FutureWarning: The frame.append method is deprecated and will be removed from pandas in a future version. Use pandas.concat instead.\n",
      "  processed_df = processed_df.append(new_row, ignore_index=True)\n",
      "/var/folders/9g/wg6kygl97c58z_h6ljqdr8g00000gn/T/ipykernel_21846/4260402713.py:43: FutureWarning: The frame.append method is deprecated and will be removed from pandas in a future version. Use pandas.concat instead.\n",
      "  processed_df = processed_df.append(new_row, ignore_index=True)\n",
      "/var/folders/9g/wg6kygl97c58z_h6ljqdr8g00000gn/T/ipykernel_21846/4260402713.py:43: FutureWarning: The frame.append method is deprecated and will be removed from pandas in a future version. Use pandas.concat instead.\n",
      "  processed_df = processed_df.append(new_row, ignore_index=True)\n",
      "/var/folders/9g/wg6kygl97c58z_h6ljqdr8g00000gn/T/ipykernel_21846/4260402713.py:43: FutureWarning: The frame.append method is deprecated and will be removed from pandas in a future version. Use pandas.concat instead.\n",
      "  processed_df = processed_df.append(new_row, ignore_index=True)\n",
      "/var/folders/9g/wg6kygl97c58z_h6ljqdr8g00000gn/T/ipykernel_21846/4260402713.py:43: FutureWarning: The frame.append method is deprecated and will be removed from pandas in a future version. Use pandas.concat instead.\n",
      "  processed_df = processed_df.append(new_row, ignore_index=True)\n"
     ]
    },
    {
     "name": "stdout",
     "output_type": "stream",
     "text": [
      "Columns in group: ['title', 'time', 'url', 'author', 'credit_article', 'credit_followers', 'credit_tweets', 'textblob_Sentiment', 'nltk_Sentiment', 'most_frequent_name', 'relevance_score', 'bert_relevance']\n",
      "Columns in group: ['title', 'time', 'url', 'author', 'credit_article', 'credit_followers', 'credit_tweets', 'textblob_Sentiment', 'nltk_Sentiment', 'most_frequent_name', 'relevance_score', 'bert_relevance']\n",
      "Columns in group: ['title', 'time', 'url', 'author', 'credit_article', 'credit_followers', 'credit_tweets', 'textblob_Sentiment', 'nltk_Sentiment', 'most_frequent_name', 'relevance_score', 'bert_relevance']\n",
      "Columns in group: ['title', 'time', 'url', 'author', 'credit_article', 'credit_followers', 'credit_tweets', 'textblob_Sentiment', 'nltk_Sentiment', 'most_frequent_name', 'relevance_score', 'bert_relevance']\n",
      "Columns in group: ['title', 'time', 'url', 'author', 'credit_article', 'credit_followers', 'credit_tweets', 'textblob_Sentiment', 'nltk_Sentiment', 'most_frequent_name', 'relevance_score', 'bert_relevance']\n",
      "Columns in group: ['title', 'time', 'url', 'author', 'credit_article', 'credit_followers', 'credit_tweets', 'textblob_Sentiment', 'nltk_Sentiment', 'most_frequent_name', 'relevance_score', 'bert_relevance']\n",
      "Columns in group: ['title', 'time', 'url', 'author', 'credit_article', 'credit_followers', 'credit_tweets', 'textblob_Sentiment', 'nltk_Sentiment', 'most_frequent_name', 'relevance_score', 'bert_relevance']\n",
      "Columns in group: ['title', 'time', 'url', 'author', 'credit_article', 'credit_followers', 'credit_tweets', 'textblob_Sentiment', 'nltk_Sentiment', 'most_frequent_name', 'relevance_score', 'bert_relevance']\n",
      "Columns in group: ['title', 'time', 'url', 'author', 'credit_article', 'credit_followers', 'credit_tweets', 'textblob_Sentiment', 'nltk_Sentiment', 'most_frequent_name', 'relevance_score', 'bert_relevance']\n",
      "Columns in group: ['title', 'time', 'url', 'author', 'credit_article', 'credit_followers', 'credit_tweets', 'textblob_Sentiment', 'nltk_Sentiment', 'most_frequent_name', 'relevance_score', 'bert_relevance']\n",
      "Columns in group: ['title', 'time', 'url', 'author', 'credit_article', 'credit_followers', 'credit_tweets', 'textblob_Sentiment', 'nltk_Sentiment', 'most_frequent_name', 'relevance_score', 'bert_relevance']\n",
      "Columns in group: ['title', 'time', 'url', 'author', 'credit_article', 'credit_followers', 'credit_tweets', 'textblob_Sentiment', 'nltk_Sentiment', 'most_frequent_name', 'relevance_score', 'bert_relevance']\n",
      "Columns in group: ['title', 'time', 'url', 'author', 'credit_article', 'credit_followers', 'credit_tweets', 'textblob_Sentiment', 'nltk_Sentiment', 'most_frequent_name', 'relevance_score', 'bert_relevance']\n"
     ]
    },
    {
     "name": "stderr",
     "output_type": "stream",
     "text": [
      "/var/folders/9g/wg6kygl97c58z_h6ljqdr8g00000gn/T/ipykernel_21846/4260402713.py:43: FutureWarning: The frame.append method is deprecated and will be removed from pandas in a future version. Use pandas.concat instead.\n",
      "  processed_df = processed_df.append(new_row, ignore_index=True)\n",
      "/var/folders/9g/wg6kygl97c58z_h6ljqdr8g00000gn/T/ipykernel_21846/4260402713.py:43: FutureWarning: The frame.append method is deprecated and will be removed from pandas in a future version. Use pandas.concat instead.\n",
      "  processed_df = processed_df.append(new_row, ignore_index=True)\n",
      "/var/folders/9g/wg6kygl97c58z_h6ljqdr8g00000gn/T/ipykernel_21846/4260402713.py:43: FutureWarning: The frame.append method is deprecated and will be removed from pandas in a future version. Use pandas.concat instead.\n",
      "  processed_df = processed_df.append(new_row, ignore_index=True)\n",
      "/var/folders/9g/wg6kygl97c58z_h6ljqdr8g00000gn/T/ipykernel_21846/4260402713.py:43: FutureWarning: The frame.append method is deprecated and will be removed from pandas in a future version. Use pandas.concat instead.\n",
      "  processed_df = processed_df.append(new_row, ignore_index=True)\n",
      "/var/folders/9g/wg6kygl97c58z_h6ljqdr8g00000gn/T/ipykernel_21846/4260402713.py:43: FutureWarning: The frame.append method is deprecated and will be removed from pandas in a future version. Use pandas.concat instead.\n",
      "  processed_df = processed_df.append(new_row, ignore_index=True)\n",
      "/var/folders/9g/wg6kygl97c58z_h6ljqdr8g00000gn/T/ipykernel_21846/4260402713.py:43: FutureWarning: The frame.append method is deprecated and will be removed from pandas in a future version. Use pandas.concat instead.\n",
      "  processed_df = processed_df.append(new_row, ignore_index=True)\n",
      "/var/folders/9g/wg6kygl97c58z_h6ljqdr8g00000gn/T/ipykernel_21846/4260402713.py:43: FutureWarning: The frame.append method is deprecated and will be removed from pandas in a future version. Use pandas.concat instead.\n",
      "  processed_df = processed_df.append(new_row, ignore_index=True)\n",
      "/var/folders/9g/wg6kygl97c58z_h6ljqdr8g00000gn/T/ipykernel_21846/4260402713.py:43: FutureWarning: The frame.append method is deprecated and will be removed from pandas in a future version. Use pandas.concat instead.\n",
      "  processed_df = processed_df.append(new_row, ignore_index=True)\n",
      "/var/folders/9g/wg6kygl97c58z_h6ljqdr8g00000gn/T/ipykernel_21846/4260402713.py:43: FutureWarning: The frame.append method is deprecated and will be removed from pandas in a future version. Use pandas.concat instead.\n",
      "  processed_df = processed_df.append(new_row, ignore_index=True)\n",
      "/var/folders/9g/wg6kygl97c58z_h6ljqdr8g00000gn/T/ipykernel_21846/4260402713.py:43: FutureWarning: The frame.append method is deprecated and will be removed from pandas in a future version. Use pandas.concat instead.\n",
      "  processed_df = processed_df.append(new_row, ignore_index=True)\n",
      "/var/folders/9g/wg6kygl97c58z_h6ljqdr8g00000gn/T/ipykernel_21846/4260402713.py:43: FutureWarning: The frame.append method is deprecated and will be removed from pandas in a future version. Use pandas.concat instead.\n",
      "  processed_df = processed_df.append(new_row, ignore_index=True)\n",
      "/var/folders/9g/wg6kygl97c58z_h6ljqdr8g00000gn/T/ipykernel_21846/4260402713.py:43: FutureWarning: The frame.append method is deprecated and will be removed from pandas in a future version. Use pandas.concat instead.\n",
      "  processed_df = processed_df.append(new_row, ignore_index=True)\n"
     ]
    },
    {
     "name": "stdout",
     "output_type": "stream",
     "text": [
      "Columns in group: ['title', 'time', 'url', 'author', 'credit_article', 'credit_followers', 'credit_tweets', 'textblob_Sentiment', 'nltk_Sentiment', 'most_frequent_name', 'relevance_score', 'bert_relevance']\n",
      "Columns in group: ['title', 'time', 'url', 'author', 'credit_article', 'credit_followers', 'credit_tweets', 'textblob_Sentiment', 'nltk_Sentiment', 'most_frequent_name', 'relevance_score', 'bert_relevance']\n",
      "Columns in group: ['title', 'time', 'url', 'author', 'credit_article', 'credit_followers', 'credit_tweets', 'textblob_Sentiment', 'nltk_Sentiment', 'most_frequent_name', 'relevance_score', 'bert_relevance']\n"
     ]
    },
    {
     "name": "stderr",
     "output_type": "stream",
     "text": [
      "/var/folders/9g/wg6kygl97c58z_h6ljqdr8g00000gn/T/ipykernel_21846/4260402713.py:43: FutureWarning: The frame.append method is deprecated and will be removed from pandas in a future version. Use pandas.concat instead.\n",
      "  processed_df = processed_df.append(new_row, ignore_index=True)\n",
      "/var/folders/9g/wg6kygl97c58z_h6ljqdr8g00000gn/T/ipykernel_21846/4260402713.py:43: FutureWarning: The frame.append method is deprecated and will be removed from pandas in a future version. Use pandas.concat instead.\n",
      "  processed_df = processed_df.append(new_row, ignore_index=True)\n",
      "/var/folders/9g/wg6kygl97c58z_h6ljqdr8g00000gn/T/ipykernel_21846/4260402713.py:43: FutureWarning: The frame.append method is deprecated and will be removed from pandas in a future version. Use pandas.concat instead.\n",
      "  processed_df = processed_df.append(new_row, ignore_index=True)\n"
     ]
    },
    {
     "name": "stdout",
     "output_type": "stream",
     "text": [
      "Columns in group: ['title', 'time', 'url', 'author', 'credit_article', 'credit_followers', 'credit_tweets', 'textblob_Sentiment', 'nltk_Sentiment', 'most_frequent_name', 'relevance_score', 'bert_relevance']\n",
      "Columns in group: ['title', 'time', 'url', 'author', 'credit_article', 'credit_followers', 'credit_tweets', 'textblob_Sentiment', 'nltk_Sentiment', 'most_frequent_name', 'relevance_score', 'bert_relevance']\n",
      "Columns in group: ['title', 'time', 'url', 'author', 'credit_article', 'credit_followers', 'credit_tweets', 'textblob_Sentiment', 'nltk_Sentiment', 'most_frequent_name', 'relevance_score', 'bert_relevance']\n"
     ]
    },
    {
     "name": "stderr",
     "output_type": "stream",
     "text": [
      "/var/folders/9g/wg6kygl97c58z_h6ljqdr8g00000gn/T/ipykernel_21846/4260402713.py:43: FutureWarning: The frame.append method is deprecated and will be removed from pandas in a future version. Use pandas.concat instead.\n",
      "  processed_df = processed_df.append(new_row, ignore_index=True)\n",
      "/var/folders/9g/wg6kygl97c58z_h6ljqdr8g00000gn/T/ipykernel_21846/4260402713.py:43: FutureWarning: The frame.append method is deprecated and will be removed from pandas in a future version. Use pandas.concat instead.\n",
      "  processed_df = processed_df.append(new_row, ignore_index=True)\n",
      "/var/folders/9g/wg6kygl97c58z_h6ljqdr8g00000gn/T/ipykernel_21846/4260402713.py:43: FutureWarning: The frame.append method is deprecated and will be removed from pandas in a future version. Use pandas.concat instead.\n",
      "  processed_df = processed_df.append(new_row, ignore_index=True)\n",
      "/var/folders/9g/wg6kygl97c58z_h6ljqdr8g00000gn/T/ipykernel_21846/4260402713.py:43: FutureWarning: The frame.append method is deprecated and will be removed from pandas in a future version. Use pandas.concat instead.\n",
      "  processed_df = processed_df.append(new_row, ignore_index=True)\n"
     ]
    },
    {
     "name": "stdout",
     "output_type": "stream",
     "text": [
      "Columns in group: ['title', 'time', 'url', 'author', 'credit_article', 'credit_followers', 'credit_tweets', 'textblob_Sentiment', 'nltk_Sentiment', 'most_frequent_name', 'relevance_score', 'bert_relevance']\n",
      "Columns in group: ['title', 'time', 'url', 'author', 'credit_article', 'credit_followers', 'credit_tweets', 'textblob_Sentiment', 'nltk_Sentiment', 'most_frequent_name', 'relevance_score', 'bert_relevance']\n",
      "Columns in group: ['title', 'time', 'url', 'author', 'credit_article', 'credit_followers', 'credit_tweets', 'textblob_Sentiment', 'nltk_Sentiment', 'most_frequent_name', 'relevance_score', 'bert_relevance']\n",
      "Columns in group: ['title', 'time', 'url', 'author', 'credit_article', 'credit_followers', 'credit_tweets', 'textblob_Sentiment', 'nltk_Sentiment', 'most_frequent_name', 'relevance_score', 'bert_relevance']\n"
     ]
    },
    {
     "name": "stderr",
     "output_type": "stream",
     "text": [
      "/var/folders/9g/wg6kygl97c58z_h6ljqdr8g00000gn/T/ipykernel_21846/4260402713.py:43: FutureWarning: The frame.append method is deprecated and will be removed from pandas in a future version. Use pandas.concat instead.\n",
      "  processed_df = processed_df.append(new_row, ignore_index=True)\n",
      "/var/folders/9g/wg6kygl97c58z_h6ljqdr8g00000gn/T/ipykernel_21846/4260402713.py:43: FutureWarning: The frame.append method is deprecated and will be removed from pandas in a future version. Use pandas.concat instead.\n",
      "  processed_df = processed_df.append(new_row, ignore_index=True)\n",
      "/var/folders/9g/wg6kygl97c58z_h6ljqdr8g00000gn/T/ipykernel_21846/4260402713.py:43: FutureWarning: The frame.append method is deprecated and will be removed from pandas in a future version. Use pandas.concat instead.\n",
      "  processed_df = processed_df.append(new_row, ignore_index=True)\n",
      "/var/folders/9g/wg6kygl97c58z_h6ljqdr8g00000gn/T/ipykernel_21846/4260402713.py:43: FutureWarning: The frame.append method is deprecated and will be removed from pandas in a future version. Use pandas.concat instead.\n",
      "  processed_df = processed_df.append(new_row, ignore_index=True)\n",
      "/var/folders/9g/wg6kygl97c58z_h6ljqdr8g00000gn/T/ipykernel_21846/4260402713.py:43: FutureWarning: The frame.append method is deprecated and will be removed from pandas in a future version. Use pandas.concat instead.\n",
      "  processed_df = processed_df.append(new_row, ignore_index=True)\n",
      "/var/folders/9g/wg6kygl97c58z_h6ljqdr8g00000gn/T/ipykernel_21846/4260402713.py:43: FutureWarning: The frame.append method is deprecated and will be removed from pandas in a future version. Use pandas.concat instead.\n",
      "  processed_df = processed_df.append(new_row, ignore_index=True)\n",
      "/var/folders/9g/wg6kygl97c58z_h6ljqdr8g00000gn/T/ipykernel_21846/4260402713.py:43: FutureWarning: The frame.append method is deprecated and will be removed from pandas in a future version. Use pandas.concat instead.\n",
      "  processed_df = processed_df.append(new_row, ignore_index=True)\n",
      "/var/folders/9g/wg6kygl97c58z_h6ljqdr8g00000gn/T/ipykernel_21846/4260402713.py:43: FutureWarning: The frame.append method is deprecated and will be removed from pandas in a future version. Use pandas.concat instead.\n",
      "  processed_df = processed_df.append(new_row, ignore_index=True)\n"
     ]
    },
    {
     "name": "stdout",
     "output_type": "stream",
     "text": [
      "Columns in group: ['title', 'time', 'url', 'author', 'credit_article', 'credit_followers', 'credit_tweets', 'textblob_Sentiment', 'nltk_Sentiment', 'most_frequent_name', 'relevance_score', 'bert_relevance']\n",
      "Columns in group: ['title', 'time', 'url', 'author', 'credit_article', 'credit_followers', 'credit_tweets', 'textblob_Sentiment', 'nltk_Sentiment', 'most_frequent_name', 'relevance_score', 'bert_relevance']\n",
      "Columns in group: ['title', 'time', 'url', 'author', 'credit_article', 'credit_followers', 'credit_tweets', 'textblob_Sentiment', 'nltk_Sentiment', 'most_frequent_name', 'relevance_score', 'bert_relevance']\n",
      "Columns in group: ['title', 'time', 'url', 'author', 'credit_article', 'credit_followers', 'credit_tweets', 'textblob_Sentiment', 'nltk_Sentiment', 'most_frequent_name', 'relevance_score', 'bert_relevance']\n",
      "Columns in group: ['title', 'time', 'url', 'author', 'credit_article', 'credit_followers', 'credit_tweets', 'textblob_Sentiment', 'nltk_Sentiment', 'most_frequent_name', 'relevance_score', 'bert_relevance']\n",
      "Columns in group: ['title', 'time', 'url', 'author', 'credit_article', 'credit_followers', 'credit_tweets', 'textblob_Sentiment', 'nltk_Sentiment', 'most_frequent_name', 'relevance_score', 'bert_relevance']\n",
      "Columns in group: ['title', 'time', 'url', 'author', 'credit_article', 'credit_followers', 'credit_tweets', 'textblob_Sentiment', 'nltk_Sentiment', 'most_frequent_name', 'relevance_score', 'bert_relevance']\n",
      "Columns in group: ['title', 'time', 'url', 'author', 'credit_article', 'credit_followers', 'credit_tweets', 'textblob_Sentiment', 'nltk_Sentiment', 'most_frequent_name', 'relevance_score', 'bert_relevance']\n"
     ]
    },
    {
     "name": "stderr",
     "output_type": "stream",
     "text": [
      "/var/folders/9g/wg6kygl97c58z_h6ljqdr8g00000gn/T/ipykernel_21846/4260402713.py:43: FutureWarning: The frame.append method is deprecated and will be removed from pandas in a future version. Use pandas.concat instead.\n",
      "  processed_df = processed_df.append(new_row, ignore_index=True)\n",
      "/var/folders/9g/wg6kygl97c58z_h6ljqdr8g00000gn/T/ipykernel_21846/4260402713.py:43: FutureWarning: The frame.append method is deprecated and will be removed from pandas in a future version. Use pandas.concat instead.\n",
      "  processed_df = processed_df.append(new_row, ignore_index=True)\n",
      "/var/folders/9g/wg6kygl97c58z_h6ljqdr8g00000gn/T/ipykernel_21846/4260402713.py:43: FutureWarning: The frame.append method is deprecated and will be removed from pandas in a future version. Use pandas.concat instead.\n",
      "  processed_df = processed_df.append(new_row, ignore_index=True)\n",
      "/var/folders/9g/wg6kygl97c58z_h6ljqdr8g00000gn/T/ipykernel_21846/4260402713.py:43: FutureWarning: The frame.append method is deprecated and will be removed from pandas in a future version. Use pandas.concat instead.\n",
      "  processed_df = processed_df.append(new_row, ignore_index=True)\n",
      "/var/folders/9g/wg6kygl97c58z_h6ljqdr8g00000gn/T/ipykernel_21846/4260402713.py:43: FutureWarning: The frame.append method is deprecated and will be removed from pandas in a future version. Use pandas.concat instead.\n",
      "  processed_df = processed_df.append(new_row, ignore_index=True)\n",
      "/var/folders/9g/wg6kygl97c58z_h6ljqdr8g00000gn/T/ipykernel_21846/4260402713.py:43: FutureWarning: The frame.append method is deprecated and will be removed from pandas in a future version. Use pandas.concat instead.\n",
      "  processed_df = processed_df.append(new_row, ignore_index=True)\n",
      "/var/folders/9g/wg6kygl97c58z_h6ljqdr8g00000gn/T/ipykernel_21846/4260402713.py:43: FutureWarning: The frame.append method is deprecated and will be removed from pandas in a future version. Use pandas.concat instead.\n",
      "  processed_df = processed_df.append(new_row, ignore_index=True)\n"
     ]
    },
    {
     "name": "stdout",
     "output_type": "stream",
     "text": [
      "Columns in group: ['title', 'time', 'url', 'author', 'credit_article', 'credit_followers', 'credit_tweets', 'textblob_Sentiment', 'nltk_Sentiment', 'most_frequent_name', 'relevance_score', 'bert_relevance']\n",
      "Columns in group: ['title', 'time', 'url', 'author', 'credit_article', 'credit_followers', 'credit_tweets', 'textblob_Sentiment', 'nltk_Sentiment', 'most_frequent_name', 'relevance_score', 'bert_relevance']\n",
      "Columns in group: ['title', 'time', 'url', 'author', 'credit_article', 'credit_followers', 'credit_tweets', 'textblob_Sentiment', 'nltk_Sentiment', 'most_frequent_name', 'relevance_score', 'bert_relevance']\n",
      "Columns in group: ['title', 'time', 'url', 'author', 'credit_article', 'credit_followers', 'credit_tweets', 'textblob_Sentiment', 'nltk_Sentiment', 'most_frequent_name', 'relevance_score', 'bert_relevance']\n",
      "Columns in group: ['title', 'time', 'url', 'author', 'credit_article', 'credit_followers', 'credit_tweets', 'textblob_Sentiment', 'nltk_Sentiment', 'most_frequent_name', 'relevance_score', 'bert_relevance']\n",
      "Columns in group: ['title', 'time', 'url', 'author', 'credit_article', 'credit_followers', 'credit_tweets', 'textblob_Sentiment', 'nltk_Sentiment', 'most_frequent_name', 'relevance_score', 'bert_relevance']\n",
      "Columns in group: ['title', 'time', 'url', 'author', 'credit_article', 'credit_followers', 'credit_tweets', 'textblob_Sentiment', 'nltk_Sentiment', 'most_frequent_name', 'relevance_score', 'bert_relevance']\n"
     ]
    },
    {
     "name": "stderr",
     "output_type": "stream",
     "text": [
      "/var/folders/9g/wg6kygl97c58z_h6ljqdr8g00000gn/T/ipykernel_21846/4260402713.py:43: FutureWarning: The frame.append method is deprecated and will be removed from pandas in a future version. Use pandas.concat instead.\n",
      "  processed_df = processed_df.append(new_row, ignore_index=True)\n",
      "/var/folders/9g/wg6kygl97c58z_h6ljqdr8g00000gn/T/ipykernel_21846/4260402713.py:43: FutureWarning: The frame.append method is deprecated and will be removed from pandas in a future version. Use pandas.concat instead.\n",
      "  processed_df = processed_df.append(new_row, ignore_index=True)\n",
      "/var/folders/9g/wg6kygl97c58z_h6ljqdr8g00000gn/T/ipykernel_21846/4260402713.py:43: FutureWarning: The frame.append method is deprecated and will be removed from pandas in a future version. Use pandas.concat instead.\n",
      "  processed_df = processed_df.append(new_row, ignore_index=True)\n",
      "/var/folders/9g/wg6kygl97c58z_h6ljqdr8g00000gn/T/ipykernel_21846/4260402713.py:43: FutureWarning: The frame.append method is deprecated and will be removed from pandas in a future version. Use pandas.concat instead.\n",
      "  processed_df = processed_df.append(new_row, ignore_index=True)\n"
     ]
    },
    {
     "name": "stdout",
     "output_type": "stream",
     "text": [
      "Columns in group: ['title', 'time', 'url', 'author', 'credit_article', 'credit_followers', 'credit_tweets', 'textblob_Sentiment', 'nltk_Sentiment', 'most_frequent_name', 'relevance_score', 'bert_relevance']\n",
      "Columns in group: ['title', 'time', 'url', 'author', 'credit_article', 'credit_followers', 'credit_tweets', 'textblob_Sentiment', 'nltk_Sentiment', 'most_frequent_name', 'relevance_score', 'bert_relevance']\n",
      "Columns in group: ['title', 'time', 'url', 'author', 'credit_article', 'credit_followers', 'credit_tweets', 'textblob_Sentiment', 'nltk_Sentiment', 'most_frequent_name', 'relevance_score', 'bert_relevance']\n",
      "Columns in group: ['title', 'time', 'url', 'author', 'credit_article', 'credit_followers', 'credit_tweets', 'textblob_Sentiment', 'nltk_Sentiment', 'most_frequent_name', 'relevance_score', 'bert_relevance']\n"
     ]
    },
    {
     "name": "stderr",
     "output_type": "stream",
     "text": [
      "/var/folders/9g/wg6kygl97c58z_h6ljqdr8g00000gn/T/ipykernel_21846/4260402713.py:43: FutureWarning: The frame.append method is deprecated and will be removed from pandas in a future version. Use pandas.concat instead.\n",
      "  processed_df = processed_df.append(new_row, ignore_index=True)\n",
      "/var/folders/9g/wg6kygl97c58z_h6ljqdr8g00000gn/T/ipykernel_21846/4260402713.py:43: FutureWarning: The frame.append method is deprecated and will be removed from pandas in a future version. Use pandas.concat instead.\n",
      "  processed_df = processed_df.append(new_row, ignore_index=True)\n",
      "/var/folders/9g/wg6kygl97c58z_h6ljqdr8g00000gn/T/ipykernel_21846/4260402713.py:43: FutureWarning: The frame.append method is deprecated and will be removed from pandas in a future version. Use pandas.concat instead.\n",
      "  processed_df = processed_df.append(new_row, ignore_index=True)\n",
      "/var/folders/9g/wg6kygl97c58z_h6ljqdr8g00000gn/T/ipykernel_21846/4260402713.py:43: FutureWarning: The frame.append method is deprecated and will be removed from pandas in a future version. Use pandas.concat instead.\n",
      "  processed_df = processed_df.append(new_row, ignore_index=True)\n",
      "/var/folders/9g/wg6kygl97c58z_h6ljqdr8g00000gn/T/ipykernel_21846/4260402713.py:43: FutureWarning: The frame.append method is deprecated and will be removed from pandas in a future version. Use pandas.concat instead.\n",
      "  processed_df = processed_df.append(new_row, ignore_index=True)\n"
     ]
    },
    {
     "name": "stdout",
     "output_type": "stream",
     "text": [
      "Columns in group: ['title', 'time', 'url', 'author', 'credit_article', 'credit_followers', 'credit_tweets', 'textblob_Sentiment', 'nltk_Sentiment', 'most_frequent_name', 'relevance_score', 'bert_relevance']\n",
      "Columns in group: ['title', 'time', 'url', 'author', 'credit_article', 'credit_followers', 'credit_tweets', 'textblob_Sentiment', 'nltk_Sentiment', 'most_frequent_name', 'relevance_score', 'bert_relevance']\n",
      "Columns in group: ['title', 'time', 'url', 'author', 'credit_article', 'credit_followers', 'credit_tweets', 'textblob_Sentiment', 'nltk_Sentiment', 'most_frequent_name', 'relevance_score', 'bert_relevance']\n",
      "Columns in group: ['title', 'time', 'url', 'author', 'credit_article', 'credit_followers', 'credit_tweets', 'textblob_Sentiment', 'nltk_Sentiment', 'most_frequent_name', 'relevance_score', 'bert_relevance']\n",
      "Columns in group: ['title', 'time', 'url', 'author', 'credit_article', 'credit_followers', 'credit_tweets', 'textblob_Sentiment', 'nltk_Sentiment', 'most_frequent_name', 'relevance_score', 'bert_relevance']\n"
     ]
    },
    {
     "name": "stderr",
     "output_type": "stream",
     "text": [
      "/var/folders/9g/wg6kygl97c58z_h6ljqdr8g00000gn/T/ipykernel_21846/4260402713.py:43: FutureWarning: The frame.append method is deprecated and will be removed from pandas in a future version. Use pandas.concat instead.\n",
      "  processed_df = processed_df.append(new_row, ignore_index=True)\n",
      "/var/folders/9g/wg6kygl97c58z_h6ljqdr8g00000gn/T/ipykernel_21846/4260402713.py:43: FutureWarning: The frame.append method is deprecated and will be removed from pandas in a future version. Use pandas.concat instead.\n",
      "  processed_df = processed_df.append(new_row, ignore_index=True)\n",
      "/var/folders/9g/wg6kygl97c58z_h6ljqdr8g00000gn/T/ipykernel_21846/4260402713.py:43: FutureWarning: The frame.append method is deprecated and will be removed from pandas in a future version. Use pandas.concat instead.\n",
      "  processed_df = processed_df.append(new_row, ignore_index=True)\n",
      "/var/folders/9g/wg6kygl97c58z_h6ljqdr8g00000gn/T/ipykernel_21846/4260402713.py:43: FutureWarning: The frame.append method is deprecated and will be removed from pandas in a future version. Use pandas.concat instead.\n",
      "  processed_df = processed_df.append(new_row, ignore_index=True)\n",
      "/var/folders/9g/wg6kygl97c58z_h6ljqdr8g00000gn/T/ipykernel_21846/4260402713.py:43: FutureWarning: The frame.append method is deprecated and will be removed from pandas in a future version. Use pandas.concat instead.\n",
      "  processed_df = processed_df.append(new_row, ignore_index=True)\n",
      "/var/folders/9g/wg6kygl97c58z_h6ljqdr8g00000gn/T/ipykernel_21846/4260402713.py:43: FutureWarning: The frame.append method is deprecated and will be removed from pandas in a future version. Use pandas.concat instead.\n",
      "  processed_df = processed_df.append(new_row, ignore_index=True)\n",
      "/var/folders/9g/wg6kygl97c58z_h6ljqdr8g00000gn/T/ipykernel_21846/4260402713.py:43: FutureWarning: The frame.append method is deprecated and will be removed from pandas in a future version. Use pandas.concat instead.\n",
      "  processed_df = processed_df.append(new_row, ignore_index=True)\n"
     ]
    },
    {
     "name": "stdout",
     "output_type": "stream",
     "text": [
      "Columns in group: ['title', 'time', 'url', 'author', 'credit_article', 'credit_followers', 'credit_tweets', 'textblob_Sentiment', 'nltk_Sentiment', 'most_frequent_name', 'relevance_score', 'bert_relevance']\n",
      "Columns in group: ['title', 'time', 'url', 'author', 'credit_article', 'credit_followers', 'credit_tweets', 'textblob_Sentiment', 'nltk_Sentiment', 'most_frequent_name', 'relevance_score', 'bert_relevance']\n",
      "Columns in group: ['title', 'time', 'url', 'author', 'credit_article', 'credit_followers', 'credit_tweets', 'textblob_Sentiment', 'nltk_Sentiment', 'most_frequent_name', 'relevance_score', 'bert_relevance']\n",
      "Columns in group: ['title', 'time', 'url', 'author', 'credit_article', 'credit_followers', 'credit_tweets', 'textblob_Sentiment', 'nltk_Sentiment', 'most_frequent_name', 'relevance_score', 'bert_relevance']\n",
      "Columns in group: ['title', 'time', 'url', 'author', 'credit_article', 'credit_followers', 'credit_tweets', 'textblob_Sentiment', 'nltk_Sentiment', 'most_frequent_name', 'relevance_score', 'bert_relevance']\n",
      "Columns in group: ['title', 'time', 'url', 'author', 'credit_article', 'credit_followers', 'credit_tweets', 'textblob_Sentiment', 'nltk_Sentiment', 'most_frequent_name', 'relevance_score', 'bert_relevance']\n",
      "Columns in group: ['title', 'time', 'url', 'author', 'credit_article', 'credit_followers', 'credit_tweets', 'textblob_Sentiment', 'nltk_Sentiment', 'most_frequent_name', 'relevance_score', 'bert_relevance']\n"
     ]
    },
    {
     "name": "stderr",
     "output_type": "stream",
     "text": [
      "/var/folders/9g/wg6kygl97c58z_h6ljqdr8g00000gn/T/ipykernel_21846/4260402713.py:43: FutureWarning: The frame.append method is deprecated and will be removed from pandas in a future version. Use pandas.concat instead.\n",
      "  processed_df = processed_df.append(new_row, ignore_index=True)\n",
      "/var/folders/9g/wg6kygl97c58z_h6ljqdr8g00000gn/T/ipykernel_21846/4260402713.py:43: FutureWarning: The frame.append method is deprecated and will be removed from pandas in a future version. Use pandas.concat instead.\n",
      "  processed_df = processed_df.append(new_row, ignore_index=True)\n",
      "/var/folders/9g/wg6kygl97c58z_h6ljqdr8g00000gn/T/ipykernel_21846/4260402713.py:43: FutureWarning: The frame.append method is deprecated and will be removed from pandas in a future version. Use pandas.concat instead.\n",
      "  processed_df = processed_df.append(new_row, ignore_index=True)\n",
      "/var/folders/9g/wg6kygl97c58z_h6ljqdr8g00000gn/T/ipykernel_21846/4260402713.py:43: FutureWarning: The frame.append method is deprecated and will be removed from pandas in a future version. Use pandas.concat instead.\n",
      "  processed_df = processed_df.append(new_row, ignore_index=True)\n",
      "/var/folders/9g/wg6kygl97c58z_h6ljqdr8g00000gn/T/ipykernel_21846/4260402713.py:43: FutureWarning: The frame.append method is deprecated and will be removed from pandas in a future version. Use pandas.concat instead.\n",
      "  processed_df = processed_df.append(new_row, ignore_index=True)\n",
      "/var/folders/9g/wg6kygl97c58z_h6ljqdr8g00000gn/T/ipykernel_21846/4260402713.py:43: FutureWarning: The frame.append method is deprecated and will be removed from pandas in a future version. Use pandas.concat instead.\n",
      "  processed_df = processed_df.append(new_row, ignore_index=True)\n",
      "/var/folders/9g/wg6kygl97c58z_h6ljqdr8g00000gn/T/ipykernel_21846/4260402713.py:43: FutureWarning: The frame.append method is deprecated and will be removed from pandas in a future version. Use pandas.concat instead.\n",
      "  processed_df = processed_df.append(new_row, ignore_index=True)\n"
     ]
    },
    {
     "name": "stdout",
     "output_type": "stream",
     "text": [
      "Columns in group: ['title', 'time', 'url', 'author', 'credit_article', 'credit_followers', 'credit_tweets', 'textblob_Sentiment', 'nltk_Sentiment', 'most_frequent_name', 'relevance_score', 'bert_relevance']\n",
      "Columns in group: ['title', 'time', 'url', 'author', 'credit_article', 'credit_followers', 'credit_tweets', 'textblob_Sentiment', 'nltk_Sentiment', 'most_frequent_name', 'relevance_score', 'bert_relevance']\n",
      "Columns in group: ['title', 'time', 'url', 'author', 'credit_article', 'credit_followers', 'credit_tweets', 'textblob_Sentiment', 'nltk_Sentiment', 'most_frequent_name', 'relevance_score', 'bert_relevance']\n",
      "Columns in group: ['title', 'time', 'url', 'author', 'credit_article', 'credit_followers', 'credit_tweets', 'textblob_Sentiment', 'nltk_Sentiment', 'most_frequent_name', 'relevance_score', 'bert_relevance']\n",
      "Columns in group: ['title', 'time', 'url', 'author', 'credit_article', 'credit_followers', 'credit_tweets', 'textblob_Sentiment', 'nltk_Sentiment', 'most_frequent_name', 'relevance_score', 'bert_relevance']\n",
      "Columns in group: ['title', 'time', 'url', 'author', 'credit_article', 'credit_followers', 'credit_tweets', 'textblob_Sentiment', 'nltk_Sentiment', 'most_frequent_name', 'relevance_score', 'bert_relevance']\n",
      "Columns in group: ['title', 'time', 'url', 'author', 'credit_article', 'credit_followers', 'credit_tweets', 'textblob_Sentiment', 'nltk_Sentiment', 'most_frequent_name', 'relevance_score', 'bert_relevance']\n"
     ]
    },
    {
     "name": "stderr",
     "output_type": "stream",
     "text": [
      "/var/folders/9g/wg6kygl97c58z_h6ljqdr8g00000gn/T/ipykernel_21846/4260402713.py:43: FutureWarning: The frame.append method is deprecated and will be removed from pandas in a future version. Use pandas.concat instead.\n",
      "  processed_df = processed_df.append(new_row, ignore_index=True)\n",
      "/var/folders/9g/wg6kygl97c58z_h6ljqdr8g00000gn/T/ipykernel_21846/4260402713.py:43: FutureWarning: The frame.append method is deprecated and will be removed from pandas in a future version. Use pandas.concat instead.\n",
      "  processed_df = processed_df.append(new_row, ignore_index=True)\n",
      "/var/folders/9g/wg6kygl97c58z_h6ljqdr8g00000gn/T/ipykernel_21846/4260402713.py:43: FutureWarning: The frame.append method is deprecated and will be removed from pandas in a future version. Use pandas.concat instead.\n",
      "  processed_df = processed_df.append(new_row, ignore_index=True)\n",
      "/var/folders/9g/wg6kygl97c58z_h6ljqdr8g00000gn/T/ipykernel_21846/4260402713.py:43: FutureWarning: The frame.append method is deprecated and will be removed from pandas in a future version. Use pandas.concat instead.\n",
      "  processed_df = processed_df.append(new_row, ignore_index=True)\n"
     ]
    },
    {
     "name": "stdout",
     "output_type": "stream",
     "text": [
      "Columns in group: ['title', 'time', 'url', 'author', 'credit_article', 'credit_followers', 'credit_tweets', 'textblob_Sentiment', 'nltk_Sentiment', 'most_frequent_name', 'relevance_score', 'bert_relevance']\n",
      "Columns in group: ['title', 'time', 'url', 'author', 'credit_article', 'credit_followers', 'credit_tweets', 'textblob_Sentiment', 'nltk_Sentiment', 'most_frequent_name', 'relevance_score', 'bert_relevance']\n",
      "Columns in group: ['title', 'time', 'url', 'author', 'credit_article', 'credit_followers', 'credit_tweets', 'textblob_Sentiment', 'nltk_Sentiment', 'most_frequent_name', 'relevance_score', 'bert_relevance']\n",
      "Columns in group: ['title', 'time', 'url', 'author', 'credit_article', 'credit_followers', 'credit_tweets', 'textblob_Sentiment', 'nltk_Sentiment', 'most_frequent_name', 'relevance_score', 'bert_relevance']\n"
     ]
    },
    {
     "name": "stderr",
     "output_type": "stream",
     "text": [
      "/var/folders/9g/wg6kygl97c58z_h6ljqdr8g00000gn/T/ipykernel_21846/4260402713.py:43: FutureWarning: The frame.append method is deprecated and will be removed from pandas in a future version. Use pandas.concat instead.\n",
      "  processed_df = processed_df.append(new_row, ignore_index=True)\n",
      "/var/folders/9g/wg6kygl97c58z_h6ljqdr8g00000gn/T/ipykernel_21846/4260402713.py:43: FutureWarning: The frame.append method is deprecated and will be removed from pandas in a future version. Use pandas.concat instead.\n",
      "  processed_df = processed_df.append(new_row, ignore_index=True)\n",
      "/var/folders/9g/wg6kygl97c58z_h6ljqdr8g00000gn/T/ipykernel_21846/4260402713.py:43: FutureWarning: The frame.append method is deprecated and will be removed from pandas in a future version. Use pandas.concat instead.\n",
      "  processed_df = processed_df.append(new_row, ignore_index=True)\n",
      "/var/folders/9g/wg6kygl97c58z_h6ljqdr8g00000gn/T/ipykernel_21846/4260402713.py:43: FutureWarning: The frame.append method is deprecated and will be removed from pandas in a future version. Use pandas.concat instead.\n",
      "  processed_df = processed_df.append(new_row, ignore_index=True)\n",
      "/var/folders/9g/wg6kygl97c58z_h6ljqdr8g00000gn/T/ipykernel_21846/4260402713.py:43: FutureWarning: The frame.append method is deprecated and will be removed from pandas in a future version. Use pandas.concat instead.\n",
      "  processed_df = processed_df.append(new_row, ignore_index=True)\n",
      "/var/folders/9g/wg6kygl97c58z_h6ljqdr8g00000gn/T/ipykernel_21846/4260402713.py:43: FutureWarning: The frame.append method is deprecated and will be removed from pandas in a future version. Use pandas.concat instead.\n",
      "  processed_df = processed_df.append(new_row, ignore_index=True)\n",
      "/var/folders/9g/wg6kygl97c58z_h6ljqdr8g00000gn/T/ipykernel_21846/4260402713.py:43: FutureWarning: The frame.append method is deprecated and will be removed from pandas in a future version. Use pandas.concat instead.\n",
      "  processed_df = processed_df.append(new_row, ignore_index=True)\n"
     ]
    },
    {
     "name": "stdout",
     "output_type": "stream",
     "text": [
      "Columns in group: ['title', 'time', 'url', 'author', 'credit_article', 'credit_followers', 'credit_tweets', 'textblob_Sentiment', 'nltk_Sentiment', 'most_frequent_name', 'relevance_score', 'bert_relevance']\n",
      "Columns in group: ['title', 'time', 'url', 'author', 'credit_article', 'credit_followers', 'credit_tweets', 'textblob_Sentiment', 'nltk_Sentiment', 'most_frequent_name', 'relevance_score', 'bert_relevance']\n",
      "Columns in group: ['title', 'time', 'url', 'author', 'credit_article', 'credit_followers', 'credit_tweets', 'textblob_Sentiment', 'nltk_Sentiment', 'most_frequent_name', 'relevance_score', 'bert_relevance']\n",
      "Columns in group: ['title', 'time', 'url', 'author', 'credit_article', 'credit_followers', 'credit_tweets', 'textblob_Sentiment', 'nltk_Sentiment', 'most_frequent_name', 'relevance_score', 'bert_relevance']\n",
      "Columns in group: ['title', 'time', 'url', 'author', 'credit_article', 'credit_followers', 'credit_tweets', 'textblob_Sentiment', 'nltk_Sentiment', 'most_frequent_name', 'relevance_score', 'bert_relevance']\n",
      "Columns in group: ['title', 'time', 'url', 'author', 'credit_article', 'credit_followers', 'credit_tweets', 'textblob_Sentiment', 'nltk_Sentiment', 'most_frequent_name', 'relevance_score', 'bert_relevance']\n",
      "Columns in group: ['title', 'time', 'url', 'author', 'credit_article', 'credit_followers', 'credit_tweets', 'textblob_Sentiment', 'nltk_Sentiment', 'most_frequent_name', 'relevance_score', 'bert_relevance']\n"
     ]
    },
    {
     "name": "stderr",
     "output_type": "stream",
     "text": [
      "/var/folders/9g/wg6kygl97c58z_h6ljqdr8g00000gn/T/ipykernel_21846/4260402713.py:43: FutureWarning: The frame.append method is deprecated and will be removed from pandas in a future version. Use pandas.concat instead.\n",
      "  processed_df = processed_df.append(new_row, ignore_index=True)\n",
      "/var/folders/9g/wg6kygl97c58z_h6ljqdr8g00000gn/T/ipykernel_21846/4260402713.py:43: FutureWarning: The frame.append method is deprecated and will be removed from pandas in a future version. Use pandas.concat instead.\n",
      "  processed_df = processed_df.append(new_row, ignore_index=True)\n",
      "/var/folders/9g/wg6kygl97c58z_h6ljqdr8g00000gn/T/ipykernel_21846/4260402713.py:43: FutureWarning: The frame.append method is deprecated and will be removed from pandas in a future version. Use pandas.concat instead.\n",
      "  processed_df = processed_df.append(new_row, ignore_index=True)\n",
      "/var/folders/9g/wg6kygl97c58z_h6ljqdr8g00000gn/T/ipykernel_21846/4260402713.py:43: FutureWarning: The frame.append method is deprecated and will be removed from pandas in a future version. Use pandas.concat instead.\n",
      "  processed_df = processed_df.append(new_row, ignore_index=True)\n",
      "/var/folders/9g/wg6kygl97c58z_h6ljqdr8g00000gn/T/ipykernel_21846/4260402713.py:43: FutureWarning: The frame.append method is deprecated and will be removed from pandas in a future version. Use pandas.concat instead.\n",
      "  processed_df = processed_df.append(new_row, ignore_index=True)\n",
      "/var/folders/9g/wg6kygl97c58z_h6ljqdr8g00000gn/T/ipykernel_21846/4260402713.py:43: FutureWarning: The frame.append method is deprecated and will be removed from pandas in a future version. Use pandas.concat instead.\n",
      "  processed_df = processed_df.append(new_row, ignore_index=True)\n"
     ]
    },
    {
     "name": "stdout",
     "output_type": "stream",
     "text": [
      "Columns in group: ['title', 'time', 'url', 'author', 'credit_article', 'credit_followers', 'credit_tweets', 'textblob_Sentiment', 'nltk_Sentiment', 'most_frequent_name', 'relevance_score', 'bert_relevance']\n",
      "Columns in group: ['title', 'time', 'url', 'author', 'credit_article', 'credit_followers', 'credit_tweets', 'textblob_Sentiment', 'nltk_Sentiment', 'most_frequent_name', 'relevance_score', 'bert_relevance']\n",
      "Columns in group: ['title', 'time', 'url', 'author', 'credit_article', 'credit_followers', 'credit_tweets', 'textblob_Sentiment', 'nltk_Sentiment', 'most_frequent_name', 'relevance_score', 'bert_relevance']\n",
      "Columns in group: ['title', 'time', 'url', 'author', 'credit_article', 'credit_followers', 'credit_tweets', 'textblob_Sentiment', 'nltk_Sentiment', 'most_frequent_name', 'relevance_score', 'bert_relevance']\n",
      "Columns in group: ['title', 'time', 'url', 'author', 'credit_article', 'credit_followers', 'credit_tweets', 'textblob_Sentiment', 'nltk_Sentiment', 'most_frequent_name', 'relevance_score', 'bert_relevance']\n",
      "Columns in group: ['title', 'time', 'url', 'author', 'credit_article', 'credit_followers', 'credit_tweets', 'textblob_Sentiment', 'nltk_Sentiment', 'most_frequent_name', 'relevance_score', 'bert_relevance']\n",
      "Columns in group: ['title', 'time', 'url', 'author', 'credit_article', 'credit_followers', 'credit_tweets', 'textblob_Sentiment', 'nltk_Sentiment', 'most_frequent_name', 'relevance_score', 'bert_relevance']\n",
      "Columns in group: ['title', 'time', 'url', 'author', 'credit_article', 'credit_followers', 'credit_tweets', 'textblob_Sentiment', 'nltk_Sentiment', 'most_frequent_name', 'relevance_score', 'bert_relevance']\n",
      "Columns in group: ['title', 'time', 'url', 'author', 'credit_article', 'credit_followers', 'credit_tweets', 'textblob_Sentiment', 'nltk_Sentiment', 'most_frequent_name', 'relevance_score', 'bert_relevance']\n",
      "Columns in group: ['title', 'time', 'url', 'author', 'credit_article', 'credit_followers', 'credit_tweets', 'textblob_Sentiment', 'nltk_Sentiment', 'most_frequent_name', 'relevance_score', 'bert_relevance']\n",
      "Columns in group: ['title', 'time', 'url', 'author', 'credit_article', 'credit_followers', 'credit_tweets', 'textblob_Sentiment', 'nltk_Sentiment', 'most_frequent_name', 'relevance_score', 'bert_relevance']\n",
      "Columns in group: ['title', 'time', 'url', 'author', 'credit_article', 'credit_followers', 'credit_tweets', 'textblob_Sentiment', 'nltk_Sentiment', 'most_frequent_name', 'relevance_score', 'bert_relevance']\n",
      "Columns in group: ['title', 'time', 'url', 'author', 'credit_article', 'credit_followers', 'credit_tweets', 'textblob_Sentiment', 'nltk_Sentiment', 'most_frequent_name', 'relevance_score', 'bert_relevance']\n"
     ]
    },
    {
     "name": "stderr",
     "output_type": "stream",
     "text": [
      "/var/folders/9g/wg6kygl97c58z_h6ljqdr8g00000gn/T/ipykernel_21846/4260402713.py:43: FutureWarning: The frame.append method is deprecated and will be removed from pandas in a future version. Use pandas.concat instead.\n",
      "  processed_df = processed_df.append(new_row, ignore_index=True)\n",
      "/var/folders/9g/wg6kygl97c58z_h6ljqdr8g00000gn/T/ipykernel_21846/4260402713.py:43: FutureWarning: The frame.append method is deprecated and will be removed from pandas in a future version. Use pandas.concat instead.\n",
      "  processed_df = processed_df.append(new_row, ignore_index=True)\n",
      "/var/folders/9g/wg6kygl97c58z_h6ljqdr8g00000gn/T/ipykernel_21846/4260402713.py:43: FutureWarning: The frame.append method is deprecated and will be removed from pandas in a future version. Use pandas.concat instead.\n",
      "  processed_df = processed_df.append(new_row, ignore_index=True)\n",
      "/var/folders/9g/wg6kygl97c58z_h6ljqdr8g00000gn/T/ipykernel_21846/4260402713.py:43: FutureWarning: The frame.append method is deprecated and will be removed from pandas in a future version. Use pandas.concat instead.\n",
      "  processed_df = processed_df.append(new_row, ignore_index=True)\n",
      "/var/folders/9g/wg6kygl97c58z_h6ljqdr8g00000gn/T/ipykernel_21846/4260402713.py:43: FutureWarning: The frame.append method is deprecated and will be removed from pandas in a future version. Use pandas.concat instead.\n",
      "  processed_df = processed_df.append(new_row, ignore_index=True)\n",
      "/var/folders/9g/wg6kygl97c58z_h6ljqdr8g00000gn/T/ipykernel_21846/4260402713.py:43: FutureWarning: The frame.append method is deprecated and will be removed from pandas in a future version. Use pandas.concat instead.\n",
      "  processed_df = processed_df.append(new_row, ignore_index=True)\n",
      "/var/folders/9g/wg6kygl97c58z_h6ljqdr8g00000gn/T/ipykernel_21846/4260402713.py:43: FutureWarning: The frame.append method is deprecated and will be removed from pandas in a future version. Use pandas.concat instead.\n",
      "  processed_df = processed_df.append(new_row, ignore_index=True)\n",
      "/var/folders/9g/wg6kygl97c58z_h6ljqdr8g00000gn/T/ipykernel_21846/4260402713.py:43: FutureWarning: The frame.append method is deprecated and will be removed from pandas in a future version. Use pandas.concat instead.\n",
      "  processed_df = processed_df.append(new_row, ignore_index=True)\n"
     ]
    },
    {
     "name": "stdout",
     "output_type": "stream",
     "text": [
      "Columns in group: ['title', 'time', 'url', 'author', 'credit_article', 'credit_followers', 'credit_tweets', 'textblob_Sentiment', 'nltk_Sentiment', 'most_frequent_name', 'relevance_score', 'bert_relevance']\n",
      "Columns in group: ['title', 'time', 'url', 'author', 'credit_article', 'credit_followers', 'credit_tweets', 'textblob_Sentiment', 'nltk_Sentiment', 'most_frequent_name', 'relevance_score', 'bert_relevance']\n",
      "Columns in group: ['title', 'time', 'url', 'author', 'credit_article', 'credit_followers', 'credit_tweets', 'textblob_Sentiment', 'nltk_Sentiment', 'most_frequent_name', 'relevance_score', 'bert_relevance']\n",
      "Columns in group: ['title', 'time', 'url', 'author', 'credit_article', 'credit_followers', 'credit_tweets', 'textblob_Sentiment', 'nltk_Sentiment', 'most_frequent_name', 'relevance_score', 'bert_relevance']\n",
      "Columns in group: ['title', 'time', 'url', 'author', 'credit_article', 'credit_followers', 'credit_tweets', 'textblob_Sentiment', 'nltk_Sentiment', 'most_frequent_name', 'relevance_score', 'bert_relevance']\n",
      "Columns in group: ['title', 'time', 'url', 'author', 'credit_article', 'credit_followers', 'credit_tweets', 'textblob_Sentiment', 'nltk_Sentiment', 'most_frequent_name', 'relevance_score', 'bert_relevance']\n",
      "Columns in group: ['title', 'time', 'url', 'author', 'credit_article', 'credit_followers', 'credit_tweets', 'textblob_Sentiment', 'nltk_Sentiment', 'most_frequent_name', 'relevance_score', 'bert_relevance']\n"
     ]
    },
    {
     "name": "stderr",
     "output_type": "stream",
     "text": [
      "/var/folders/9g/wg6kygl97c58z_h6ljqdr8g00000gn/T/ipykernel_21846/4260402713.py:43: FutureWarning: The frame.append method is deprecated and will be removed from pandas in a future version. Use pandas.concat instead.\n",
      "  processed_df = processed_df.append(new_row, ignore_index=True)\n",
      "/var/folders/9g/wg6kygl97c58z_h6ljqdr8g00000gn/T/ipykernel_21846/4260402713.py:43: FutureWarning: The frame.append method is deprecated and will be removed from pandas in a future version. Use pandas.concat instead.\n",
      "  processed_df = processed_df.append(new_row, ignore_index=True)\n",
      "/var/folders/9g/wg6kygl97c58z_h6ljqdr8g00000gn/T/ipykernel_21846/4260402713.py:43: FutureWarning: The frame.append method is deprecated and will be removed from pandas in a future version. Use pandas.concat instead.\n",
      "  processed_df = processed_df.append(new_row, ignore_index=True)\n",
      "/var/folders/9g/wg6kygl97c58z_h6ljqdr8g00000gn/T/ipykernel_21846/4260402713.py:43: FutureWarning: The frame.append method is deprecated and will be removed from pandas in a future version. Use pandas.concat instead.\n",
      "  processed_df = processed_df.append(new_row, ignore_index=True)\n",
      "/var/folders/9g/wg6kygl97c58z_h6ljqdr8g00000gn/T/ipykernel_21846/4260402713.py:43: FutureWarning: The frame.append method is deprecated and will be removed from pandas in a future version. Use pandas.concat instead.\n",
      "  processed_df = processed_df.append(new_row, ignore_index=True)\n",
      "/var/folders/9g/wg6kygl97c58z_h6ljqdr8g00000gn/T/ipykernel_21846/4260402713.py:43: FutureWarning: The frame.append method is deprecated and will be removed from pandas in a future version. Use pandas.concat instead.\n",
      "  processed_df = processed_df.append(new_row, ignore_index=True)\n",
      "/var/folders/9g/wg6kygl97c58z_h6ljqdr8g00000gn/T/ipykernel_21846/4260402713.py:43: FutureWarning: The frame.append method is deprecated and will be removed from pandas in a future version. Use pandas.concat instead.\n",
      "  processed_df = processed_df.append(new_row, ignore_index=True)\n"
     ]
    },
    {
     "name": "stdout",
     "output_type": "stream",
     "text": [
      "Columns in group: ['title', 'time', 'url', 'author', 'credit_article', 'credit_followers', 'credit_tweets', 'textblob_Sentiment', 'nltk_Sentiment', 'most_frequent_name', 'relevance_score', 'bert_relevance']\n",
      "Columns in group: ['title', 'time', 'url', 'author', 'credit_article', 'credit_followers', 'credit_tweets', 'textblob_Sentiment', 'nltk_Sentiment', 'most_frequent_name', 'relevance_score', 'bert_relevance']\n",
      "Columns in group: ['title', 'time', 'url', 'author', 'credit_article', 'credit_followers', 'credit_tweets', 'textblob_Sentiment', 'nltk_Sentiment', 'most_frequent_name', 'relevance_score', 'bert_relevance']\n",
      "Columns in group: ['title', 'time', 'url', 'author', 'credit_article', 'credit_followers', 'credit_tweets', 'textblob_Sentiment', 'nltk_Sentiment', 'most_frequent_name', 'relevance_score', 'bert_relevance']\n",
      "Columns in group: ['title', 'time', 'url', 'author', 'credit_article', 'credit_followers', 'credit_tweets', 'textblob_Sentiment', 'nltk_Sentiment', 'most_frequent_name', 'relevance_score', 'bert_relevance']\n",
      "Columns in group: ['title', 'time', 'url', 'author', 'credit_article', 'credit_followers', 'credit_tweets', 'textblob_Sentiment', 'nltk_Sentiment', 'most_frequent_name', 'relevance_score', 'bert_relevance']\n",
      "Columns in group: ['title', 'time', 'url', 'author', 'credit_article', 'credit_followers', 'credit_tweets', 'textblob_Sentiment', 'nltk_Sentiment', 'most_frequent_name', 'relevance_score', 'bert_relevance']\n",
      "Columns in group: ['title', 'time', 'url', 'author', 'credit_article', 'credit_followers', 'credit_tweets', 'textblob_Sentiment', 'nltk_Sentiment', 'most_frequent_name', 'relevance_score', 'bert_relevance']\n",
      "Columns in group: ['title', 'time', 'url', 'author', 'credit_article', 'credit_followers', 'credit_tweets', 'textblob_Sentiment', 'nltk_Sentiment', 'most_frequent_name', 'relevance_score', 'bert_relevance']\n",
      "Columns in group: ['title', 'time', 'url', 'author', 'credit_article', 'credit_followers', 'credit_tweets', 'textblob_Sentiment', 'nltk_Sentiment', 'most_frequent_name', 'relevance_score', 'bert_relevance']\n",
      "Columns in group: ['title', 'time', 'url', 'author', 'credit_article', 'credit_followers', 'credit_tweets', 'textblob_Sentiment', 'nltk_Sentiment', 'most_frequent_name', 'relevance_score', 'bert_relevance']\n"
     ]
    },
    {
     "name": "stderr",
     "output_type": "stream",
     "text": [
      "/var/folders/9g/wg6kygl97c58z_h6ljqdr8g00000gn/T/ipykernel_21846/4260402713.py:43: FutureWarning: The frame.append method is deprecated and will be removed from pandas in a future version. Use pandas.concat instead.\n",
      "  processed_df = processed_df.append(new_row, ignore_index=True)\n",
      "/var/folders/9g/wg6kygl97c58z_h6ljqdr8g00000gn/T/ipykernel_21846/4260402713.py:43: FutureWarning: The frame.append method is deprecated and will be removed from pandas in a future version. Use pandas.concat instead.\n",
      "  processed_df = processed_df.append(new_row, ignore_index=True)\n",
      "/var/folders/9g/wg6kygl97c58z_h6ljqdr8g00000gn/T/ipykernel_21846/4260402713.py:43: FutureWarning: The frame.append method is deprecated and will be removed from pandas in a future version. Use pandas.concat instead.\n",
      "  processed_df = processed_df.append(new_row, ignore_index=True)\n",
      "/var/folders/9g/wg6kygl97c58z_h6ljqdr8g00000gn/T/ipykernel_21846/4260402713.py:43: FutureWarning: The frame.append method is deprecated and will be removed from pandas in a future version. Use pandas.concat instead.\n",
      "  processed_df = processed_df.append(new_row, ignore_index=True)\n",
      "/var/folders/9g/wg6kygl97c58z_h6ljqdr8g00000gn/T/ipykernel_21846/4260402713.py:43: FutureWarning: The frame.append method is deprecated and will be removed from pandas in a future version. Use pandas.concat instead.\n",
      "  processed_df = processed_df.append(new_row, ignore_index=True)\n",
      "/var/folders/9g/wg6kygl97c58z_h6ljqdr8g00000gn/T/ipykernel_21846/4260402713.py:43: FutureWarning: The frame.append method is deprecated and will be removed from pandas in a future version. Use pandas.concat instead.\n",
      "  processed_df = processed_df.append(new_row, ignore_index=True)\n",
      "/var/folders/9g/wg6kygl97c58z_h6ljqdr8g00000gn/T/ipykernel_21846/4260402713.py:43: FutureWarning: The frame.append method is deprecated and will be removed from pandas in a future version. Use pandas.concat instead.\n",
      "  processed_df = processed_df.append(new_row, ignore_index=True)\n",
      "/var/folders/9g/wg6kygl97c58z_h6ljqdr8g00000gn/T/ipykernel_21846/4260402713.py:43: FutureWarning: The frame.append method is deprecated and will be removed from pandas in a future version. Use pandas.concat instead.\n",
      "  processed_df = processed_df.append(new_row, ignore_index=True)\n",
      "/var/folders/9g/wg6kygl97c58z_h6ljqdr8g00000gn/T/ipykernel_21846/4260402713.py:43: FutureWarning: The frame.append method is deprecated and will be removed from pandas in a future version. Use pandas.concat instead.\n",
      "  processed_df = processed_df.append(new_row, ignore_index=True)\n",
      "/var/folders/9g/wg6kygl97c58z_h6ljqdr8g00000gn/T/ipykernel_21846/4260402713.py:43: FutureWarning: The frame.append method is deprecated and will be removed from pandas in a future version. Use pandas.concat instead.\n",
      "  processed_df = processed_df.append(new_row, ignore_index=True)\n",
      "/var/folders/9g/wg6kygl97c58z_h6ljqdr8g00000gn/T/ipykernel_21846/4260402713.py:43: FutureWarning: The frame.append method is deprecated and will be removed from pandas in a future version. Use pandas.concat instead.\n",
      "  processed_df = processed_df.append(new_row, ignore_index=True)\n",
      "/var/folders/9g/wg6kygl97c58z_h6ljqdr8g00000gn/T/ipykernel_21846/4260402713.py:43: FutureWarning: The frame.append method is deprecated and will be removed from pandas in a future version. Use pandas.concat instead.\n",
      "  processed_df = processed_df.append(new_row, ignore_index=True)\n"
     ]
    },
    {
     "name": "stdout",
     "output_type": "stream",
     "text": [
      "Columns in group: ['title', 'time', 'url', 'author', 'credit_article', 'credit_followers', 'credit_tweets', 'textblob_Sentiment', 'nltk_Sentiment', 'most_frequent_name', 'relevance_score', 'bert_relevance']\n",
      "Columns in group: ['title', 'time', 'url', 'author', 'credit_article', 'credit_followers', 'credit_tweets', 'textblob_Sentiment', 'nltk_Sentiment', 'most_frequent_name', 'relevance_score', 'bert_relevance']\n",
      "Columns in group: ['title', 'time', 'url', 'author', 'credit_article', 'credit_followers', 'credit_tweets', 'textblob_Sentiment', 'nltk_Sentiment', 'most_frequent_name', 'relevance_score', 'bert_relevance']\n",
      "Columns in group: ['title', 'time', 'url', 'author', 'credit_article', 'credit_followers', 'credit_tweets', 'textblob_Sentiment', 'nltk_Sentiment', 'most_frequent_name', 'relevance_score', 'bert_relevance']\n",
      "Columns in group: ['title', 'time', 'url', 'author', 'credit_article', 'credit_followers', 'credit_tweets', 'textblob_Sentiment', 'nltk_Sentiment', 'most_frequent_name', 'relevance_score', 'bert_relevance']\n",
      "Columns in group: ['title', 'time', 'url', 'author', 'credit_article', 'credit_followers', 'credit_tweets', 'textblob_Sentiment', 'nltk_Sentiment', 'most_frequent_name', 'relevance_score', 'bert_relevance']\n",
      "Columns in group: ['title', 'time', 'url', 'author', 'credit_article', 'credit_followers', 'credit_tweets', 'textblob_Sentiment', 'nltk_Sentiment', 'most_frequent_name', 'relevance_score', 'bert_relevance']\n",
      "Columns in group: ['title', 'time', 'url', 'author', 'credit_article', 'credit_followers', 'credit_tweets', 'textblob_Sentiment', 'nltk_Sentiment', 'most_frequent_name', 'relevance_score', 'bert_relevance']\n",
      "Columns in group: ['title', 'time', 'url', 'author', 'credit_article', 'credit_followers', 'credit_tweets', 'textblob_Sentiment', 'nltk_Sentiment', 'most_frequent_name', 'relevance_score', 'bert_relevance']\n",
      "Columns in group: ['title', 'time', 'url', 'author', 'credit_article', 'credit_followers', 'credit_tweets', 'textblob_Sentiment', 'nltk_Sentiment', 'most_frequent_name', 'relevance_score', 'bert_relevance']\n",
      "Columns in group: ['title', 'time', 'url', 'author', 'credit_article', 'credit_followers', 'credit_tweets', 'textblob_Sentiment', 'nltk_Sentiment', 'most_frequent_name', 'relevance_score', 'bert_relevance']\n",
      "Columns in group: ['title', 'time', 'url', 'author', 'credit_article', 'credit_followers', 'credit_tweets', 'textblob_Sentiment', 'nltk_Sentiment', 'most_frequent_name', 'relevance_score', 'bert_relevance']\n",
      "Columns in group: ['title', 'time', 'url', 'author', 'credit_article', 'credit_followers', 'credit_tweets', 'textblob_Sentiment', 'nltk_Sentiment', 'most_frequent_name', 'relevance_score', 'bert_relevance']\n",
      "Columns in group: ['title', 'time', 'url', 'author', 'credit_article', 'credit_followers', 'credit_tweets', 'textblob_Sentiment', 'nltk_Sentiment', 'most_frequent_name', 'relevance_score', 'bert_relevance']\n"
     ]
    },
    {
     "name": "stderr",
     "output_type": "stream",
     "text": [
      "/var/folders/9g/wg6kygl97c58z_h6ljqdr8g00000gn/T/ipykernel_21846/4260402713.py:43: FutureWarning: The frame.append method is deprecated and will be removed from pandas in a future version. Use pandas.concat instead.\n",
      "  processed_df = processed_df.append(new_row, ignore_index=True)\n",
      "/var/folders/9g/wg6kygl97c58z_h6ljqdr8g00000gn/T/ipykernel_21846/4260402713.py:43: FutureWarning: The frame.append method is deprecated and will be removed from pandas in a future version. Use pandas.concat instead.\n",
      "  processed_df = processed_df.append(new_row, ignore_index=True)\n",
      "/var/folders/9g/wg6kygl97c58z_h6ljqdr8g00000gn/T/ipykernel_21846/4260402713.py:43: FutureWarning: The frame.append method is deprecated and will be removed from pandas in a future version. Use pandas.concat instead.\n",
      "  processed_df = processed_df.append(new_row, ignore_index=True)\n",
      "/var/folders/9g/wg6kygl97c58z_h6ljqdr8g00000gn/T/ipykernel_21846/4260402713.py:43: FutureWarning: The frame.append method is deprecated and will be removed from pandas in a future version. Use pandas.concat instead.\n",
      "  processed_df = processed_df.append(new_row, ignore_index=True)\n",
      "/var/folders/9g/wg6kygl97c58z_h6ljqdr8g00000gn/T/ipykernel_21846/4260402713.py:43: FutureWarning: The frame.append method is deprecated and will be removed from pandas in a future version. Use pandas.concat instead.\n",
      "  processed_df = processed_df.append(new_row, ignore_index=True)\n",
      "/var/folders/9g/wg6kygl97c58z_h6ljqdr8g00000gn/T/ipykernel_21846/4260402713.py:43: FutureWarning: The frame.append method is deprecated and will be removed from pandas in a future version. Use pandas.concat instead.\n",
      "  processed_df = processed_df.append(new_row, ignore_index=True)\n",
      "/var/folders/9g/wg6kygl97c58z_h6ljqdr8g00000gn/T/ipykernel_21846/4260402713.py:43: FutureWarning: The frame.append method is deprecated and will be removed from pandas in a future version. Use pandas.concat instead.\n",
      "  processed_df = processed_df.append(new_row, ignore_index=True)\n",
      "/var/folders/9g/wg6kygl97c58z_h6ljqdr8g00000gn/T/ipykernel_21846/4260402713.py:43: FutureWarning: The frame.append method is deprecated and will be removed from pandas in a future version. Use pandas.concat instead.\n",
      "  processed_df = processed_df.append(new_row, ignore_index=True)\n",
      "/var/folders/9g/wg6kygl97c58z_h6ljqdr8g00000gn/T/ipykernel_21846/4260402713.py:43: FutureWarning: The frame.append method is deprecated and will be removed from pandas in a future version. Use pandas.concat instead.\n",
      "  processed_df = processed_df.append(new_row, ignore_index=True)\n",
      "/var/folders/9g/wg6kygl97c58z_h6ljqdr8g00000gn/T/ipykernel_21846/4260402713.py:43: FutureWarning: The frame.append method is deprecated and will be removed from pandas in a future version. Use pandas.concat instead.\n",
      "  processed_df = processed_df.append(new_row, ignore_index=True)\n",
      "/var/folders/9g/wg6kygl97c58z_h6ljqdr8g00000gn/T/ipykernel_21846/4260402713.py:43: FutureWarning: The frame.append method is deprecated and will be removed from pandas in a future version. Use pandas.concat instead.\n",
      "  processed_df = processed_df.append(new_row, ignore_index=True)\n",
      "/var/folders/9g/wg6kygl97c58z_h6ljqdr8g00000gn/T/ipykernel_21846/4260402713.py:43: FutureWarning: The frame.append method is deprecated and will be removed from pandas in a future version. Use pandas.concat instead.\n",
      "  processed_df = processed_df.append(new_row, ignore_index=True)\n",
      "/var/folders/9g/wg6kygl97c58z_h6ljqdr8g00000gn/T/ipykernel_21846/4260402713.py:43: FutureWarning: The frame.append method is deprecated and will be removed from pandas in a future version. Use pandas.concat instead.\n",
      "  processed_df = processed_df.append(new_row, ignore_index=True)\n",
      "/var/folders/9g/wg6kygl97c58z_h6ljqdr8g00000gn/T/ipykernel_21846/4260402713.py:43: FutureWarning: The frame.append method is deprecated and will be removed from pandas in a future version. Use pandas.concat instead.\n",
      "  processed_df = processed_df.append(new_row, ignore_index=True)\n",
      "/var/folders/9g/wg6kygl97c58z_h6ljqdr8g00000gn/T/ipykernel_21846/4260402713.py:43: FutureWarning: The frame.append method is deprecated and will be removed from pandas in a future version. Use pandas.concat instead.\n",
      "  processed_df = processed_df.append(new_row, ignore_index=True)\n"
     ]
    },
    {
     "name": "stdout",
     "output_type": "stream",
     "text": [
      "Columns in group: ['title', 'time', 'url', 'author', 'credit_article', 'credit_followers', 'credit_tweets', 'textblob_Sentiment', 'nltk_Sentiment', 'most_frequent_name', 'relevance_score', 'bert_relevance']\n",
      "Columns in group: ['title', 'time', 'url', 'author', 'credit_article', 'credit_followers', 'credit_tweets', 'textblob_Sentiment', 'nltk_Sentiment', 'most_frequent_name', 'relevance_score', 'bert_relevance']\n",
      "Columns in group: ['title', 'time', 'url', 'author', 'credit_article', 'credit_followers', 'credit_tweets', 'textblob_Sentiment', 'nltk_Sentiment', 'most_frequent_name', 'relevance_score', 'bert_relevance']\n",
      "Columns in group: ['title', 'time', 'url', 'author', 'credit_article', 'credit_followers', 'credit_tweets', 'textblob_Sentiment', 'nltk_Sentiment', 'most_frequent_name', 'relevance_score', 'bert_relevance']\n",
      "Columns in group: ['title', 'time', 'url', 'author', 'credit_article', 'credit_followers', 'credit_tweets', 'textblob_Sentiment', 'nltk_Sentiment', 'most_frequent_name', 'relevance_score', 'bert_relevance']\n",
      "Columns in group: ['title', 'time', 'url', 'author', 'credit_article', 'credit_followers', 'credit_tweets', 'textblob_Sentiment', 'nltk_Sentiment', 'most_frequent_name', 'relevance_score', 'bert_relevance']\n",
      "Columns in group: ['title', 'time', 'url', 'author', 'credit_article', 'credit_followers', 'credit_tweets', 'textblob_Sentiment', 'nltk_Sentiment', 'most_frequent_name', 'relevance_score', 'bert_relevance']\n",
      "Columns in group: ['title', 'time', 'url', 'author', 'credit_article', 'credit_followers', 'credit_tweets', 'textblob_Sentiment', 'nltk_Sentiment', 'most_frequent_name', 'relevance_score', 'bert_relevance']\n",
      "Columns in group: ['title', 'time', 'url', 'author', 'credit_article', 'credit_followers', 'credit_tweets', 'textblob_Sentiment', 'nltk_Sentiment', 'most_frequent_name', 'relevance_score', 'bert_relevance']\n",
      "Columns in group: ['title', 'time', 'url', 'author', 'credit_article', 'credit_followers', 'credit_tweets', 'textblob_Sentiment', 'nltk_Sentiment', 'most_frequent_name', 'relevance_score', 'bert_relevance']\n",
      "Columns in group: ['title', 'time', 'url', 'author', 'credit_article', 'credit_followers', 'credit_tweets', 'textblob_Sentiment', 'nltk_Sentiment', 'most_frequent_name', 'relevance_score', 'bert_relevance']\n",
      "Columns in group: ['title', 'time', 'url', 'author', 'credit_article', 'credit_followers', 'credit_tweets', 'textblob_Sentiment', 'nltk_Sentiment', 'most_frequent_name', 'relevance_score', 'bert_relevance']\n",
      "Columns in group: ['title', 'time', 'url', 'author', 'credit_article', 'credit_followers', 'credit_tweets', 'textblob_Sentiment', 'nltk_Sentiment', 'most_frequent_name', 'relevance_score', 'bert_relevance']\n",
      "Columns in group: ['title', 'time', 'url', 'author', 'credit_article', 'credit_followers', 'credit_tweets', 'textblob_Sentiment', 'nltk_Sentiment', 'most_frequent_name', 'relevance_score', 'bert_relevance']\n",
      "Columns in group: ['title', 'time', 'url', 'author', 'credit_article', 'credit_followers', 'credit_tweets', 'textblob_Sentiment', 'nltk_Sentiment', 'most_frequent_name', 'relevance_score', 'bert_relevance']\n",
      "Columns in group: ['title', 'time', 'url', 'author', 'credit_article', 'credit_followers', 'credit_tweets', 'textblob_Sentiment', 'nltk_Sentiment', 'most_frequent_name', 'relevance_score', 'bert_relevance']\n"
     ]
    },
    {
     "name": "stderr",
     "output_type": "stream",
     "text": [
      "/var/folders/9g/wg6kygl97c58z_h6ljqdr8g00000gn/T/ipykernel_21846/4260402713.py:43: FutureWarning: The frame.append method is deprecated and will be removed from pandas in a future version. Use pandas.concat instead.\n",
      "  processed_df = processed_df.append(new_row, ignore_index=True)\n",
      "/var/folders/9g/wg6kygl97c58z_h6ljqdr8g00000gn/T/ipykernel_21846/4260402713.py:43: FutureWarning: The frame.append method is deprecated and will be removed from pandas in a future version. Use pandas.concat instead.\n",
      "  processed_df = processed_df.append(new_row, ignore_index=True)\n",
      "/var/folders/9g/wg6kygl97c58z_h6ljqdr8g00000gn/T/ipykernel_21846/4260402713.py:43: FutureWarning: The frame.append method is deprecated and will be removed from pandas in a future version. Use pandas.concat instead.\n",
      "  processed_df = processed_df.append(new_row, ignore_index=True)\n",
      "/var/folders/9g/wg6kygl97c58z_h6ljqdr8g00000gn/T/ipykernel_21846/4260402713.py:43: FutureWarning: The frame.append method is deprecated and will be removed from pandas in a future version. Use pandas.concat instead.\n",
      "  processed_df = processed_df.append(new_row, ignore_index=True)\n",
      "/var/folders/9g/wg6kygl97c58z_h6ljqdr8g00000gn/T/ipykernel_21846/4260402713.py:43: FutureWarning: The frame.append method is deprecated and will be removed from pandas in a future version. Use pandas.concat instead.\n",
      "  processed_df = processed_df.append(new_row, ignore_index=True)\n",
      "/var/folders/9g/wg6kygl97c58z_h6ljqdr8g00000gn/T/ipykernel_21846/4260402713.py:43: FutureWarning: The frame.append method is deprecated and will be removed from pandas in a future version. Use pandas.concat instead.\n",
      "  processed_df = processed_df.append(new_row, ignore_index=True)\n",
      "/var/folders/9g/wg6kygl97c58z_h6ljqdr8g00000gn/T/ipykernel_21846/4260402713.py:43: FutureWarning: The frame.append method is deprecated and will be removed from pandas in a future version. Use pandas.concat instead.\n",
      "  processed_df = processed_df.append(new_row, ignore_index=True)\n",
      "/var/folders/9g/wg6kygl97c58z_h6ljqdr8g00000gn/T/ipykernel_21846/4260402713.py:43: FutureWarning: The frame.append method is deprecated and will be removed from pandas in a future version. Use pandas.concat instead.\n",
      "  processed_df = processed_df.append(new_row, ignore_index=True)\n",
      "/var/folders/9g/wg6kygl97c58z_h6ljqdr8g00000gn/T/ipykernel_21846/4260402713.py:43: FutureWarning: The frame.append method is deprecated and will be removed from pandas in a future version. Use pandas.concat instead.\n",
      "  processed_df = processed_df.append(new_row, ignore_index=True)\n",
      "/var/folders/9g/wg6kygl97c58z_h6ljqdr8g00000gn/T/ipykernel_21846/4260402713.py:43: FutureWarning: The frame.append method is deprecated and will be removed from pandas in a future version. Use pandas.concat instead.\n",
      "  processed_df = processed_df.append(new_row, ignore_index=True)\n",
      "/var/folders/9g/wg6kygl97c58z_h6ljqdr8g00000gn/T/ipykernel_21846/4260402713.py:43: FutureWarning: The frame.append method is deprecated and will be removed from pandas in a future version. Use pandas.concat instead.\n",
      "  processed_df = processed_df.append(new_row, ignore_index=True)\n",
      "/var/folders/9g/wg6kygl97c58z_h6ljqdr8g00000gn/T/ipykernel_21846/4260402713.py:43: FutureWarning: The frame.append method is deprecated and will be removed from pandas in a future version. Use pandas.concat instead.\n",
      "  processed_df = processed_df.append(new_row, ignore_index=True)\n",
      "/var/folders/9g/wg6kygl97c58z_h6ljqdr8g00000gn/T/ipykernel_21846/4260402713.py:43: FutureWarning: The frame.append method is deprecated and will be removed from pandas in a future version. Use pandas.concat instead.\n",
      "  processed_df = processed_df.append(new_row, ignore_index=True)\n",
      "/var/folders/9g/wg6kygl97c58z_h6ljqdr8g00000gn/T/ipykernel_21846/4260402713.py:43: FutureWarning: The frame.append method is deprecated and will be removed from pandas in a future version. Use pandas.concat instead.\n",
      "  processed_df = processed_df.append(new_row, ignore_index=True)\n",
      "/var/folders/9g/wg6kygl97c58z_h6ljqdr8g00000gn/T/ipykernel_21846/4260402713.py:43: FutureWarning: The frame.append method is deprecated and will be removed from pandas in a future version. Use pandas.concat instead.\n",
      "  processed_df = processed_df.append(new_row, ignore_index=True)\n",
      "/var/folders/9g/wg6kygl97c58z_h6ljqdr8g00000gn/T/ipykernel_21846/4260402713.py:43: FutureWarning: The frame.append method is deprecated and will be removed from pandas in a future version. Use pandas.concat instead.\n",
      "  processed_df = processed_df.append(new_row, ignore_index=True)\n"
     ]
    },
    {
     "name": "stdout",
     "output_type": "stream",
     "text": [
      "Columns in group: ['title', 'time', 'url', 'author', 'credit_article', 'credit_followers', 'credit_tweets', 'textblob_Sentiment', 'nltk_Sentiment', 'most_frequent_name', 'relevance_score', 'bert_relevance']\n",
      "Columns in group: ['title', 'time', 'url', 'author', 'credit_article', 'credit_followers', 'credit_tweets', 'textblob_Sentiment', 'nltk_Sentiment', 'most_frequent_name', 'relevance_score', 'bert_relevance']\n",
      "Columns in group: ['title', 'time', 'url', 'author', 'credit_article', 'credit_followers', 'credit_tweets', 'textblob_Sentiment', 'nltk_Sentiment', 'most_frequent_name', 'relevance_score', 'bert_relevance']\n",
      "Columns in group: ['title', 'time', 'url', 'author', 'credit_article', 'credit_followers', 'credit_tweets', 'textblob_Sentiment', 'nltk_Sentiment', 'most_frequent_name', 'relevance_score', 'bert_relevance']\n",
      "Columns in group: ['title', 'time', 'url', 'author', 'credit_article', 'credit_followers', 'credit_tweets', 'textblob_Sentiment', 'nltk_Sentiment', 'most_frequent_name', 'relevance_score', 'bert_relevance']\n",
      "Columns in group: ['title', 'time', 'url', 'author', 'credit_article', 'credit_followers', 'credit_tweets', 'textblob_Sentiment', 'nltk_Sentiment', 'most_frequent_name', 'relevance_score', 'bert_relevance']\n",
      "Columns in group: ['title', 'time', 'url', 'author', 'credit_article', 'credit_followers', 'credit_tweets', 'textblob_Sentiment', 'nltk_Sentiment', 'most_frequent_name', 'relevance_score', 'bert_relevance']\n",
      "Columns in group: ['title', 'time', 'url', 'author', 'credit_article', 'credit_followers', 'credit_tweets', 'textblob_Sentiment', 'nltk_Sentiment', 'most_frequent_name', 'relevance_score', 'bert_relevance']\n",
      "Columns in group: ['title', 'time', 'url', 'author', 'credit_article', 'credit_followers', 'credit_tweets', 'textblob_Sentiment', 'nltk_Sentiment', 'most_frequent_name', 'relevance_score', 'bert_relevance']\n",
      "Columns in group: ['title', 'time', 'url', 'author', 'credit_article', 'credit_followers', 'credit_tweets', 'textblob_Sentiment', 'nltk_Sentiment', 'most_frequent_name', 'relevance_score', 'bert_relevance']\n",
      "Columns in group: ['title', 'time', 'url', 'author', 'credit_article', 'credit_followers', 'credit_tweets', 'textblob_Sentiment', 'nltk_Sentiment', 'most_frequent_name', 'relevance_score', 'bert_relevance']\n",
      "Columns in group: ['title', 'time', 'url', 'author', 'credit_article', 'credit_followers', 'credit_tweets', 'textblob_Sentiment', 'nltk_Sentiment', 'most_frequent_name', 'relevance_score', 'bert_relevance']\n",
      "Columns in group: ['title', 'time', 'url', 'author', 'credit_article', 'credit_followers', 'credit_tweets', 'textblob_Sentiment', 'nltk_Sentiment', 'most_frequent_name', 'relevance_score', 'bert_relevance']\n",
      "Columns in group: ['title', 'time', 'url', 'author', 'credit_article', 'credit_followers', 'credit_tweets', 'textblob_Sentiment', 'nltk_Sentiment', 'most_frequent_name', 'relevance_score', 'bert_relevance']\n",
      "Columns in group: ['title', 'time', 'url', 'author', 'credit_article', 'credit_followers', 'credit_tweets', 'textblob_Sentiment', 'nltk_Sentiment', 'most_frequent_name', 'relevance_score', 'bert_relevance']\n",
      "Columns in group: ['title', 'time', 'url', 'author', 'credit_article', 'credit_followers', 'credit_tweets', 'textblob_Sentiment', 'nltk_Sentiment', 'most_frequent_name', 'relevance_score', 'bert_relevance']\n"
     ]
    },
    {
     "name": "stderr",
     "output_type": "stream",
     "text": [
      "/var/folders/9g/wg6kygl97c58z_h6ljqdr8g00000gn/T/ipykernel_21846/4260402713.py:43: FutureWarning: The frame.append method is deprecated and will be removed from pandas in a future version. Use pandas.concat instead.\n",
      "  processed_df = processed_df.append(new_row, ignore_index=True)\n",
      "/var/folders/9g/wg6kygl97c58z_h6ljqdr8g00000gn/T/ipykernel_21846/4260402713.py:43: FutureWarning: The frame.append method is deprecated and will be removed from pandas in a future version. Use pandas.concat instead.\n",
      "  processed_df = processed_df.append(new_row, ignore_index=True)\n",
      "/var/folders/9g/wg6kygl97c58z_h6ljqdr8g00000gn/T/ipykernel_21846/4260402713.py:43: FutureWarning: The frame.append method is deprecated and will be removed from pandas in a future version. Use pandas.concat instead.\n",
      "  processed_df = processed_df.append(new_row, ignore_index=True)\n",
      "/var/folders/9g/wg6kygl97c58z_h6ljqdr8g00000gn/T/ipykernel_21846/4260402713.py:43: FutureWarning: The frame.append method is deprecated and will be removed from pandas in a future version. Use pandas.concat instead.\n",
      "  processed_df = processed_df.append(new_row, ignore_index=True)\n",
      "/var/folders/9g/wg6kygl97c58z_h6ljqdr8g00000gn/T/ipykernel_21846/4260402713.py:43: FutureWarning: The frame.append method is deprecated and will be removed from pandas in a future version. Use pandas.concat instead.\n",
      "  processed_df = processed_df.append(new_row, ignore_index=True)\n",
      "/var/folders/9g/wg6kygl97c58z_h6ljqdr8g00000gn/T/ipykernel_21846/4260402713.py:43: FutureWarning: The frame.append method is deprecated and will be removed from pandas in a future version. Use pandas.concat instead.\n",
      "  processed_df = processed_df.append(new_row, ignore_index=True)\n",
      "/var/folders/9g/wg6kygl97c58z_h6ljqdr8g00000gn/T/ipykernel_21846/4260402713.py:43: FutureWarning: The frame.append method is deprecated and will be removed from pandas in a future version. Use pandas.concat instead.\n",
      "  processed_df = processed_df.append(new_row, ignore_index=True)\n",
      "/var/folders/9g/wg6kygl97c58z_h6ljqdr8g00000gn/T/ipykernel_21846/4260402713.py:43: FutureWarning: The frame.append method is deprecated and will be removed from pandas in a future version. Use pandas.concat instead.\n",
      "  processed_df = processed_df.append(new_row, ignore_index=True)\n",
      "/var/folders/9g/wg6kygl97c58z_h6ljqdr8g00000gn/T/ipykernel_21846/4260402713.py:43: FutureWarning: The frame.append method is deprecated and will be removed from pandas in a future version. Use pandas.concat instead.\n",
      "  processed_df = processed_df.append(new_row, ignore_index=True)\n",
      "/var/folders/9g/wg6kygl97c58z_h6ljqdr8g00000gn/T/ipykernel_21846/4260402713.py:43: FutureWarning: The frame.append method is deprecated and will be removed from pandas in a future version. Use pandas.concat instead.\n",
      "  processed_df = processed_df.append(new_row, ignore_index=True)\n",
      "/var/folders/9g/wg6kygl97c58z_h6ljqdr8g00000gn/T/ipykernel_21846/4260402713.py:43: FutureWarning: The frame.append method is deprecated and will be removed from pandas in a future version. Use pandas.concat instead.\n",
      "  processed_df = processed_df.append(new_row, ignore_index=True)\n",
      "/var/folders/9g/wg6kygl97c58z_h6ljqdr8g00000gn/T/ipykernel_21846/4260402713.py:43: FutureWarning: The frame.append method is deprecated and will be removed from pandas in a future version. Use pandas.concat instead.\n",
      "  processed_df = processed_df.append(new_row, ignore_index=True)\n",
      "/var/folders/9g/wg6kygl97c58z_h6ljqdr8g00000gn/T/ipykernel_21846/4260402713.py:43: FutureWarning: The frame.append method is deprecated and will be removed from pandas in a future version. Use pandas.concat instead.\n",
      "  processed_df = processed_df.append(new_row, ignore_index=True)\n",
      "/var/folders/9g/wg6kygl97c58z_h6ljqdr8g00000gn/T/ipykernel_21846/4260402713.py:43: FutureWarning: The frame.append method is deprecated and will be removed from pandas in a future version. Use pandas.concat instead.\n",
      "  processed_df = processed_df.append(new_row, ignore_index=True)\n",
      "/var/folders/9g/wg6kygl97c58z_h6ljqdr8g00000gn/T/ipykernel_21846/4260402713.py:43: FutureWarning: The frame.append method is deprecated and will be removed from pandas in a future version. Use pandas.concat instead.\n",
      "  processed_df = processed_df.append(new_row, ignore_index=True)\n",
      "/var/folders/9g/wg6kygl97c58z_h6ljqdr8g00000gn/T/ipykernel_21846/4260402713.py:43: FutureWarning: The frame.append method is deprecated and will be removed from pandas in a future version. Use pandas.concat instead.\n",
      "  processed_df = processed_df.append(new_row, ignore_index=True)\n"
     ]
    },
    {
     "name": "stdout",
     "output_type": "stream",
     "text": [
      "Columns in group: ['title', 'time', 'url', 'author', 'credit_article', 'credit_followers', 'credit_tweets', 'textblob_Sentiment', 'nltk_Sentiment', 'most_frequent_name', 'relevance_score', 'bert_relevance']\n",
      "Columns in group: ['title', 'time', 'url', 'author', 'credit_article', 'credit_followers', 'credit_tweets', 'textblob_Sentiment', 'nltk_Sentiment', 'most_frequent_name', 'relevance_score', 'bert_relevance']\n",
      "Columns in group: ['title', 'time', 'url', 'author', 'credit_article', 'credit_followers', 'credit_tweets', 'textblob_Sentiment', 'nltk_Sentiment', 'most_frequent_name', 'relevance_score', 'bert_relevance']\n",
      "Columns in group: ['title', 'time', 'url', 'author', 'credit_article', 'credit_followers', 'credit_tweets', 'textblob_Sentiment', 'nltk_Sentiment', 'most_frequent_name', 'relevance_score', 'bert_relevance']\n",
      "Columns in group: ['title', 'time', 'url', 'author', 'credit_article', 'credit_followers', 'credit_tweets', 'textblob_Sentiment', 'nltk_Sentiment', 'most_frequent_name', 'relevance_score', 'bert_relevance']\n",
      "Columns in group: ['title', 'time', 'url', 'author', 'credit_article', 'credit_followers', 'credit_tweets', 'textblob_Sentiment', 'nltk_Sentiment', 'most_frequent_name', 'relevance_score', 'bert_relevance']\n",
      "Columns in group: ['title', 'time', 'url', 'author', 'credit_article', 'credit_followers', 'credit_tweets', 'textblob_Sentiment', 'nltk_Sentiment', 'most_frequent_name', 'relevance_score', 'bert_relevance']\n",
      "Columns in group: ['title', 'time', 'url', 'author', 'credit_article', 'credit_followers', 'credit_tweets', 'textblob_Sentiment', 'nltk_Sentiment', 'most_frequent_name', 'relevance_score', 'bert_relevance']\n",
      "Columns in group: ['title', 'time', 'url', 'author', 'credit_article', 'credit_followers', 'credit_tweets', 'textblob_Sentiment', 'nltk_Sentiment', 'most_frequent_name', 'relevance_score', 'bert_relevance']\n",
      "Columns in group: ['title', 'time', 'url', 'author', 'credit_article', 'credit_followers', 'credit_tweets', 'textblob_Sentiment', 'nltk_Sentiment', 'most_frequent_name', 'relevance_score', 'bert_relevance']\n",
      "Columns in group: ['title', 'time', 'url', 'author', 'credit_article', 'credit_followers', 'credit_tweets', 'textblob_Sentiment', 'nltk_Sentiment', 'most_frequent_name', 'relevance_score', 'bert_relevance']\n",
      "Columns in group: ['title', 'time', 'url', 'author', 'credit_article', 'credit_followers', 'credit_tweets', 'textblob_Sentiment', 'nltk_Sentiment', 'most_frequent_name', 'relevance_score', 'bert_relevance']\n",
      "Columns in group: ['title', 'time', 'url', 'author', 'credit_article', 'credit_followers', 'credit_tweets', 'textblob_Sentiment', 'nltk_Sentiment', 'most_frequent_name', 'relevance_score', 'bert_relevance']\n"
     ]
    },
    {
     "name": "stderr",
     "output_type": "stream",
     "text": [
      "/var/folders/9g/wg6kygl97c58z_h6ljqdr8g00000gn/T/ipykernel_21846/4260402713.py:43: FutureWarning: The frame.append method is deprecated and will be removed from pandas in a future version. Use pandas.concat instead.\n",
      "  processed_df = processed_df.append(new_row, ignore_index=True)\n",
      "/var/folders/9g/wg6kygl97c58z_h6ljqdr8g00000gn/T/ipykernel_21846/4260402713.py:43: FutureWarning: The frame.append method is deprecated and will be removed from pandas in a future version. Use pandas.concat instead.\n",
      "  processed_df = processed_df.append(new_row, ignore_index=True)\n",
      "/var/folders/9g/wg6kygl97c58z_h6ljqdr8g00000gn/T/ipykernel_21846/4260402713.py:43: FutureWarning: The frame.append method is deprecated and will be removed from pandas in a future version. Use pandas.concat instead.\n",
      "  processed_df = processed_df.append(new_row, ignore_index=True)\n",
      "/var/folders/9g/wg6kygl97c58z_h6ljqdr8g00000gn/T/ipykernel_21846/4260402713.py:43: FutureWarning: The frame.append method is deprecated and will be removed from pandas in a future version. Use pandas.concat instead.\n",
      "  processed_df = processed_df.append(new_row, ignore_index=True)\n",
      "/var/folders/9g/wg6kygl97c58z_h6ljqdr8g00000gn/T/ipykernel_21846/4260402713.py:43: FutureWarning: The frame.append method is deprecated and will be removed from pandas in a future version. Use pandas.concat instead.\n",
      "  processed_df = processed_df.append(new_row, ignore_index=True)\n",
      "/var/folders/9g/wg6kygl97c58z_h6ljqdr8g00000gn/T/ipykernel_21846/4260402713.py:43: FutureWarning: The frame.append method is deprecated and will be removed from pandas in a future version. Use pandas.concat instead.\n",
      "  processed_df = processed_df.append(new_row, ignore_index=True)\n",
      "/var/folders/9g/wg6kygl97c58z_h6ljqdr8g00000gn/T/ipykernel_21846/4260402713.py:43: FutureWarning: The frame.append method is deprecated and will be removed from pandas in a future version. Use pandas.concat instead.\n",
      "  processed_df = processed_df.append(new_row, ignore_index=True)\n",
      "/var/folders/9g/wg6kygl97c58z_h6ljqdr8g00000gn/T/ipykernel_21846/4260402713.py:43: FutureWarning: The frame.append method is deprecated and will be removed from pandas in a future version. Use pandas.concat instead.\n",
      "  processed_df = processed_df.append(new_row, ignore_index=True)\n",
      "/var/folders/9g/wg6kygl97c58z_h6ljqdr8g00000gn/T/ipykernel_21846/4260402713.py:43: FutureWarning: The frame.append method is deprecated and will be removed from pandas in a future version. Use pandas.concat instead.\n",
      "  processed_df = processed_df.append(new_row, ignore_index=True)\n",
      "/var/folders/9g/wg6kygl97c58z_h6ljqdr8g00000gn/T/ipykernel_21846/4260402713.py:43: FutureWarning: The frame.append method is deprecated and will be removed from pandas in a future version. Use pandas.concat instead.\n",
      "  processed_df = processed_df.append(new_row, ignore_index=True)\n",
      "/var/folders/9g/wg6kygl97c58z_h6ljqdr8g00000gn/T/ipykernel_21846/4260402713.py:43: FutureWarning: The frame.append method is deprecated and will be removed from pandas in a future version. Use pandas.concat instead.\n",
      "  processed_df = processed_df.append(new_row, ignore_index=True)\n"
     ]
    },
    {
     "name": "stdout",
     "output_type": "stream",
     "text": [
      "Columns in group: ['title', 'time', 'url', 'author', 'credit_article', 'credit_followers', 'credit_tweets', 'textblob_Sentiment', 'nltk_Sentiment', 'most_frequent_name', 'relevance_score', 'bert_relevance']\n",
      "Columns in group: ['title', 'time', 'url', 'author', 'credit_article', 'credit_followers', 'credit_tweets', 'textblob_Sentiment', 'nltk_Sentiment', 'most_frequent_name', 'relevance_score', 'bert_relevance']\n",
      "Columns in group: ['title', 'time', 'url', 'author', 'credit_article', 'credit_followers', 'credit_tweets', 'textblob_Sentiment', 'nltk_Sentiment', 'most_frequent_name', 'relevance_score', 'bert_relevance']\n",
      "Columns in group: ['title', 'time', 'url', 'author', 'credit_article', 'credit_followers', 'credit_tweets', 'textblob_Sentiment', 'nltk_Sentiment', 'most_frequent_name', 'relevance_score', 'bert_relevance']"
     ]
    },
    {
     "name": "stderr",
     "output_type": "stream",
     "text": [
      "/var/folders/9g/wg6kygl97c58z_h6ljqdr8g00000gn/T/ipykernel_21846/4260402713.py:43: FutureWarning: The frame.append method is deprecated and will be removed from pandas in a future version. Use pandas.concat instead.\n",
      "  processed_df = processed_df.append(new_row, ignore_index=True)\n",
      "/var/folders/9g/wg6kygl97c58z_h6ljqdr8g00000gn/T/ipykernel_21846/4260402713.py:43: FutureWarning: The frame.append method is deprecated and will be removed from pandas in a future version. Use pandas.concat instead.\n",
      "  processed_df = processed_df.append(new_row, ignore_index=True)\n",
      "/var/folders/9g/wg6kygl97c58z_h6ljqdr8g00000gn/T/ipykernel_21846/4260402713.py:43: FutureWarning: The frame.append method is deprecated and will be removed from pandas in a future version. Use pandas.concat instead.\n",
      "  processed_df = processed_df.append(new_row, ignore_index=True)\n",
      "/var/folders/9g/wg6kygl97c58z_h6ljqdr8g00000gn/T/ipykernel_21846/4260402713.py:43: FutureWarning: The frame.append method is deprecated and will be removed from pandas in a future version. Use pandas.concat instead.\n",
      "  processed_df = processed_df.append(new_row, ignore_index=True)\n"
     ]
    },
    {
     "name": "stdout",
     "output_type": "stream",
     "text": [
      "\n",
      "Columns in group: ['title', 'time', 'url', 'author', 'credit_article', 'credit_followers', 'credit_tweets', 'textblob_Sentiment', 'nltk_Sentiment', 'most_frequent_name', 'relevance_score', 'bert_relevance']\n",
      "Columns in group: ['title', 'time', 'url', 'author', 'credit_article', 'credit_followers', 'credit_tweets', 'textblob_Sentiment', 'nltk_Sentiment', 'most_frequent_name', 'relevance_score', 'bert_relevance']\n",
      "Columns in group: ['title', 'time', 'url', 'author', 'credit_article', 'credit_followers', 'credit_tweets', 'textblob_Sentiment', 'nltk_Sentiment', 'most_frequent_name', 'relevance_score', 'bert_relevance']\n",
      "Columns in group: ['title', 'time', 'url', 'author', 'credit_article', 'credit_followers', 'credit_tweets', 'textblob_Sentiment', 'nltk_Sentiment', 'most_frequent_name', 'relevance_score', 'bert_relevance']\n",
      "Columns in group: ['title', 'time', 'url', 'author', 'credit_article', 'credit_followers', 'credit_tweets', 'textblob_Sentiment', 'nltk_Sentiment', 'most_frequent_name', 'relevance_score', 'bert_relevance']\n"
     ]
    },
    {
     "name": "stderr",
     "output_type": "stream",
     "text": [
      "/var/folders/9g/wg6kygl97c58z_h6ljqdr8g00000gn/T/ipykernel_21846/4260402713.py:43: FutureWarning: The frame.append method is deprecated and will be removed from pandas in a future version. Use pandas.concat instead.\n",
      "  processed_df = processed_df.append(new_row, ignore_index=True)\n",
      "/var/folders/9g/wg6kygl97c58z_h6ljqdr8g00000gn/T/ipykernel_21846/4260402713.py:43: FutureWarning: The frame.append method is deprecated and will be removed from pandas in a future version. Use pandas.concat instead.\n",
      "  processed_df = processed_df.append(new_row, ignore_index=True)\n",
      "/var/folders/9g/wg6kygl97c58z_h6ljqdr8g00000gn/T/ipykernel_21846/4260402713.py:43: FutureWarning: The frame.append method is deprecated and will be removed from pandas in a future version. Use pandas.concat instead.\n",
      "  processed_df = processed_df.append(new_row, ignore_index=True)\n",
      "/var/folders/9g/wg6kygl97c58z_h6ljqdr8g00000gn/T/ipykernel_21846/4260402713.py:43: FutureWarning: The frame.append method is deprecated and will be removed from pandas in a future version. Use pandas.concat instead.\n",
      "  processed_df = processed_df.append(new_row, ignore_index=True)\n",
      "/var/folders/9g/wg6kygl97c58z_h6ljqdr8g00000gn/T/ipykernel_21846/4260402713.py:43: FutureWarning: The frame.append method is deprecated and will be removed from pandas in a future version. Use pandas.concat instead.\n",
      "  processed_df = processed_df.append(new_row, ignore_index=True)\n",
      "/var/folders/9g/wg6kygl97c58z_h6ljqdr8g00000gn/T/ipykernel_21846/4260402713.py:43: FutureWarning: The frame.append method is deprecated and will be removed from pandas in a future version. Use pandas.concat instead.\n",
      "  processed_df = processed_df.append(new_row, ignore_index=True)\n"
     ]
    },
    {
     "name": "stdout",
     "output_type": "stream",
     "text": [
      "Columns in group: ['title', 'time', 'url', 'author', 'credit_article', 'credit_followers', 'credit_tweets', 'textblob_Sentiment', 'nltk_Sentiment', 'most_frequent_name', 'relevance_score', 'bert_relevance']\n",
      "Columns in group: ['title', 'time', 'url', 'author', 'credit_article', 'credit_followers', 'credit_tweets', 'textblob_Sentiment', 'nltk_Sentiment', 'most_frequent_name', 'relevance_score', 'bert_relevance']\n",
      "Columns in group: ['title', 'time', 'url', 'author', 'credit_article', 'credit_followers', 'credit_tweets', 'textblob_Sentiment', 'nltk_Sentiment', 'most_frequent_name', 'relevance_score', 'bert_relevance']\n",
      "Columns in group: ['title', 'time', 'url', 'author', 'credit_article', 'credit_followers', 'credit_tweets', 'textblob_Sentiment', 'nltk_Sentiment', 'most_frequent_name', 'relevance_score', 'bert_relevance']\n",
      "Columns in group: ['title', 'time', 'url', 'author', 'credit_article', 'credit_followers', 'credit_tweets', 'textblob_Sentiment', 'nltk_Sentiment', 'most_frequent_name', 'relevance_score', 'bert_relevance']\n",
      "Columns in group: ['title', 'time', 'url', 'author', 'credit_article', 'credit_followers', 'credit_tweets', 'textblob_Sentiment', 'nltk_Sentiment', 'most_frequent_name', 'relevance_score', 'bert_relevance']\n",
      "Columns in group: ['title', 'time', 'url', 'author', 'credit_article', 'credit_followers', 'credit_tweets', 'textblob_Sentiment', 'nltk_Sentiment', 'most_frequent_name', 'relevance_score', 'bert_relevance']\n"
     ]
    },
    {
     "name": "stderr",
     "output_type": "stream",
     "text": [
      "/var/folders/9g/wg6kygl97c58z_h6ljqdr8g00000gn/T/ipykernel_21846/4260402713.py:43: FutureWarning: The frame.append method is deprecated and will be removed from pandas in a future version. Use pandas.concat instead.\n",
      "  processed_df = processed_df.append(new_row, ignore_index=True)\n",
      "/var/folders/9g/wg6kygl97c58z_h6ljqdr8g00000gn/T/ipykernel_21846/4260402713.py:43: FutureWarning: The frame.append method is deprecated and will be removed from pandas in a future version. Use pandas.concat instead.\n",
      "  processed_df = processed_df.append(new_row, ignore_index=True)\n",
      "/var/folders/9g/wg6kygl97c58z_h6ljqdr8g00000gn/T/ipykernel_21846/4260402713.py:43: FutureWarning: The frame.append method is deprecated and will be removed from pandas in a future version. Use pandas.concat instead.\n",
      "  processed_df = processed_df.append(new_row, ignore_index=True)\n",
      "/var/folders/9g/wg6kygl97c58z_h6ljqdr8g00000gn/T/ipykernel_21846/4260402713.py:43: FutureWarning: The frame.append method is deprecated and will be removed from pandas in a future version. Use pandas.concat instead.\n",
      "  processed_df = processed_df.append(new_row, ignore_index=True)\n",
      "/var/folders/9g/wg6kygl97c58z_h6ljqdr8g00000gn/T/ipykernel_21846/4260402713.py:43: FutureWarning: The frame.append method is deprecated and will be removed from pandas in a future version. Use pandas.concat instead.\n",
      "  processed_df = processed_df.append(new_row, ignore_index=True)\n",
      "/var/folders/9g/wg6kygl97c58z_h6ljqdr8g00000gn/T/ipykernel_21846/4260402713.py:43: FutureWarning: The frame.append method is deprecated and will be removed from pandas in a future version. Use pandas.concat instead.\n",
      "  processed_df = processed_df.append(new_row, ignore_index=True)\n",
      "/var/folders/9g/wg6kygl97c58z_h6ljqdr8g00000gn/T/ipykernel_21846/4260402713.py:43: FutureWarning: The frame.append method is deprecated and will be removed from pandas in a future version. Use pandas.concat instead.\n",
      "  processed_df = processed_df.append(new_row, ignore_index=True)\n"
     ]
    },
    {
     "name": "stdout",
     "output_type": "stream",
     "text": [
      "Columns in group: ['title', 'time', 'url', 'author', 'credit_article', 'credit_followers', 'credit_tweets', 'textblob_Sentiment', 'nltk_Sentiment', 'most_frequent_name', 'relevance_score', 'bert_relevance']\n",
      "Columns in group: ['title', 'time', 'url', 'author', 'credit_article', 'credit_followers', 'credit_tweets', 'textblob_Sentiment', 'nltk_Sentiment', 'most_frequent_name', 'relevance_score', 'bert_relevance']\n",
      "Columns in group: ['title', 'time', 'url', 'author', 'credit_article', 'credit_followers', 'credit_tweets', 'textblob_Sentiment', 'nltk_Sentiment', 'most_frequent_name', 'relevance_score', 'bert_relevance']\n",
      "Columns in group: ['title', 'time', 'url', 'author', 'credit_article', 'credit_followers', 'credit_tweets', 'textblob_Sentiment', 'nltk_Sentiment', 'most_frequent_name', 'relevance_score', 'bert_relevance']\n",
      "Columns in group: ['title', 'time', 'url', 'author', 'credit_article', 'credit_followers', 'credit_tweets', 'textblob_Sentiment', 'nltk_Sentiment', 'most_frequent_name', 'relevance_score', 'bert_relevance']\n",
      "Columns in group: ['title', 'time', 'url', 'author', 'credit_article', 'credit_followers', 'credit_tweets', 'textblob_Sentiment', 'nltk_Sentiment', 'most_frequent_name', 'relevance_score', 'bert_relevance']\n",
      "Columns in group: ['title', 'time', 'url', 'author', 'credit_article', 'credit_followers', 'credit_tweets', 'textblob_Sentiment', 'nltk_Sentiment', 'most_frequent_name', 'relevance_score', 'bert_relevance']\n",
      "Columns in group: ['title', 'time', 'url', 'author', 'credit_article', 'credit_followers', 'credit_tweets', 'textblob_Sentiment', 'nltk_Sentiment', 'most_frequent_name', 'relevance_score', 'bert_relevance']\n"
     ]
    },
    {
     "name": "stderr",
     "output_type": "stream",
     "text": [
      "/var/folders/9g/wg6kygl97c58z_h6ljqdr8g00000gn/T/ipykernel_21846/4260402713.py:43: FutureWarning: The frame.append method is deprecated and will be removed from pandas in a future version. Use pandas.concat instead.\n",
      "  processed_df = processed_df.append(new_row, ignore_index=True)\n",
      "/var/folders/9g/wg6kygl97c58z_h6ljqdr8g00000gn/T/ipykernel_21846/4260402713.py:43: FutureWarning: The frame.append method is deprecated and will be removed from pandas in a future version. Use pandas.concat instead.\n",
      "  processed_df = processed_df.append(new_row, ignore_index=True)\n",
      "/var/folders/9g/wg6kygl97c58z_h6ljqdr8g00000gn/T/ipykernel_21846/4260402713.py:43: FutureWarning: The frame.append method is deprecated and will be removed from pandas in a future version. Use pandas.concat instead.\n",
      "  processed_df = processed_df.append(new_row, ignore_index=True)\n",
      "/var/folders/9g/wg6kygl97c58z_h6ljqdr8g00000gn/T/ipykernel_21846/4260402713.py:43: FutureWarning: The frame.append method is deprecated and will be removed from pandas in a future version. Use pandas.concat instead.\n",
      "  processed_df = processed_df.append(new_row, ignore_index=True)\n",
      "/var/folders/9g/wg6kygl97c58z_h6ljqdr8g00000gn/T/ipykernel_21846/4260402713.py:43: FutureWarning: The frame.append method is deprecated and will be removed from pandas in a future version. Use pandas.concat instead.\n",
      "  processed_df = processed_df.append(new_row, ignore_index=True)\n",
      "/var/folders/9g/wg6kygl97c58z_h6ljqdr8g00000gn/T/ipykernel_21846/4260402713.py:43: FutureWarning: The frame.append method is deprecated and will be removed from pandas in a future version. Use pandas.concat instead.\n",
      "  processed_df = processed_df.append(new_row, ignore_index=True)\n",
      "/var/folders/9g/wg6kygl97c58z_h6ljqdr8g00000gn/T/ipykernel_21846/4260402713.py:43: FutureWarning: The frame.append method is deprecated and will be removed from pandas in a future version. Use pandas.concat instead.\n",
      "  processed_df = processed_df.append(new_row, ignore_index=True)\n"
     ]
    },
    {
     "name": "stdout",
     "output_type": "stream",
     "text": [
      "Columns in group: ['title', 'time', 'url', 'author', 'credit_article', 'credit_followers', 'credit_tweets', 'textblob_Sentiment', 'nltk_Sentiment', 'most_frequent_name', 'relevance_score', 'bert_relevance']\n",
      "Columns in group: ['title', 'time', 'url', 'author', 'credit_article', 'credit_followers', 'credit_tweets', 'textblob_Sentiment', 'nltk_Sentiment', 'most_frequent_name', 'relevance_score', 'bert_relevance']\n",
      "Columns in group: ['title', 'time', 'url', 'author', 'credit_article', 'credit_followers', 'credit_tweets', 'textblob_Sentiment', 'nltk_Sentiment', 'most_frequent_name', 'relevance_score', 'bert_relevance']\n",
      "Columns in group: ['title', 'time', 'url', 'author', 'credit_article', 'credit_followers', 'credit_tweets', 'textblob_Sentiment', 'nltk_Sentiment', 'most_frequent_name', 'relevance_score', 'bert_relevance']\n",
      "Columns in group: ['title', 'time', 'url', 'author', 'credit_article', 'credit_followers', 'credit_tweets', 'textblob_Sentiment', 'nltk_Sentiment', 'most_frequent_name', 'relevance_score', 'bert_relevance']\n",
      "Columns in group: ['title', 'time', 'url', 'author', 'credit_article', 'credit_followers', 'credit_tweets', 'textblob_Sentiment', 'nltk_Sentiment', 'most_frequent_name', 'relevance_score', 'bert_relevance']\n",
      "Columns in group: ['title', 'time', 'url', 'author', 'credit_article', 'credit_followers', 'credit_tweets', 'textblob_Sentiment', 'nltk_Sentiment', 'most_frequent_name', 'relevance_score', 'bert_relevance']\n"
     ]
    },
    {
     "name": "stderr",
     "output_type": "stream",
     "text": [
      "/var/folders/9g/wg6kygl97c58z_h6ljqdr8g00000gn/T/ipykernel_21846/4260402713.py:43: FutureWarning: The frame.append method is deprecated and will be removed from pandas in a future version. Use pandas.concat instead.\n",
      "  processed_df = processed_df.append(new_row, ignore_index=True)\n",
      "/var/folders/9g/wg6kygl97c58z_h6ljqdr8g00000gn/T/ipykernel_21846/4260402713.py:43: FutureWarning: The frame.append method is deprecated and will be removed from pandas in a future version. Use pandas.concat instead.\n",
      "  processed_df = processed_df.append(new_row, ignore_index=True)\n",
      "/var/folders/9g/wg6kygl97c58z_h6ljqdr8g00000gn/T/ipykernel_21846/4260402713.py:43: FutureWarning: The frame.append method is deprecated and will be removed from pandas in a future version. Use pandas.concat instead.\n",
      "  processed_df = processed_df.append(new_row, ignore_index=True)\n",
      "/var/folders/9g/wg6kygl97c58z_h6ljqdr8g00000gn/T/ipykernel_21846/4260402713.py:43: FutureWarning: The frame.append method is deprecated and will be removed from pandas in a future version. Use pandas.concat instead.\n",
      "  processed_df = processed_df.append(new_row, ignore_index=True)\n",
      "/var/folders/9g/wg6kygl97c58z_h6ljqdr8g00000gn/T/ipykernel_21846/4260402713.py:43: FutureWarning: The frame.append method is deprecated and will be removed from pandas in a future version. Use pandas.concat instead.\n",
      "  processed_df = processed_df.append(new_row, ignore_index=True)\n",
      "/var/folders/9g/wg6kygl97c58z_h6ljqdr8g00000gn/T/ipykernel_21846/4260402713.py:43: FutureWarning: The frame.append method is deprecated and will be removed from pandas in a future version. Use pandas.concat instead.\n",
      "  processed_df = processed_df.append(new_row, ignore_index=True)\n",
      "/var/folders/9g/wg6kygl97c58z_h6ljqdr8g00000gn/T/ipykernel_21846/4260402713.py:43: FutureWarning: The frame.append method is deprecated and will be removed from pandas in a future version. Use pandas.concat instead.\n",
      "  processed_df = processed_df.append(new_row, ignore_index=True)\n",
      "/var/folders/9g/wg6kygl97c58z_h6ljqdr8g00000gn/T/ipykernel_21846/4260402713.py:43: FutureWarning: The frame.append method is deprecated and will be removed from pandas in a future version. Use pandas.concat instead.\n",
      "  processed_df = processed_df.append(new_row, ignore_index=True)\n"
     ]
    },
    {
     "name": "stdout",
     "output_type": "stream",
     "text": [
      "Columns in group: ['title', 'time', 'url', 'author', 'credit_article', 'credit_followers', 'credit_tweets', 'textblob_Sentiment', 'nltk_Sentiment', 'most_frequent_name', 'relevance_score', 'bert_relevance']\n",
      "Columns in group: ['title', 'time', 'url', 'author', 'credit_article', 'credit_followers', 'credit_tweets', 'textblob_Sentiment', 'nltk_Sentiment', 'most_frequent_name', 'relevance_score', 'bert_relevance']\n",
      "Columns in group: ['title', 'time', 'url', 'author', 'credit_article', 'credit_followers', 'credit_tweets', 'textblob_Sentiment', 'nltk_Sentiment', 'most_frequent_name', 'relevance_score', 'bert_relevance']\n",
      "Columns in group: ['title', 'time', 'url', 'author', 'credit_article', 'credit_followers', 'credit_tweets', 'textblob_Sentiment', 'nltk_Sentiment', 'most_frequent_name', 'relevance_score', 'bert_relevance']\n",
      "Columns in group: ['title', 'time', 'url', 'author', 'credit_article', 'credit_followers', 'credit_tweets', 'textblob_Sentiment', 'nltk_Sentiment', 'most_frequent_name', 'relevance_score', 'bert_relevance']\n",
      "Columns in group: ['title', 'time', 'url', 'author', 'credit_article', 'credit_followers', 'credit_tweets', 'textblob_Sentiment', 'nltk_Sentiment', 'most_frequent_name', 'relevance_score', 'bert_relevance']\n",
      "Columns in group: ['title', 'time', 'url', 'author', 'credit_article', 'credit_followers', 'credit_tweets', 'textblob_Sentiment', 'nltk_Sentiment', 'most_frequent_name', 'relevance_score', 'bert_relevance']\n",
      "Columns in group: ['title', 'time', 'url', 'author', 'credit_article', 'credit_followers', 'credit_tweets', 'textblob_Sentiment', 'nltk_Sentiment', 'most_frequent_name', 'relevance_score', 'bert_relevance']\n",
      "Columns in group: ['title', 'time', 'url', 'author', 'credit_article', 'credit_followers', 'credit_tweets', 'textblob_Sentiment', 'nltk_Sentiment', 'most_frequent_name', 'relevance_score', 'bert_relevance']\n"
     ]
    },
    {
     "name": "stderr",
     "output_type": "stream",
     "text": [
      "/var/folders/9g/wg6kygl97c58z_h6ljqdr8g00000gn/T/ipykernel_21846/4260402713.py:43: FutureWarning: The frame.append method is deprecated and will be removed from pandas in a future version. Use pandas.concat instead.\n",
      "  processed_df = processed_df.append(new_row, ignore_index=True)\n",
      "/var/folders/9g/wg6kygl97c58z_h6ljqdr8g00000gn/T/ipykernel_21846/4260402713.py:43: FutureWarning: The frame.append method is deprecated and will be removed from pandas in a future version. Use pandas.concat instead.\n",
      "  processed_df = processed_df.append(new_row, ignore_index=True)\n",
      "/var/folders/9g/wg6kygl97c58z_h6ljqdr8g00000gn/T/ipykernel_21846/4260402713.py:43: FutureWarning: The frame.append method is deprecated and will be removed from pandas in a future version. Use pandas.concat instead.\n",
      "  processed_df = processed_df.append(new_row, ignore_index=True)\n",
      "/var/folders/9g/wg6kygl97c58z_h6ljqdr8g00000gn/T/ipykernel_21846/4260402713.py:43: FutureWarning: The frame.append method is deprecated and will be removed from pandas in a future version. Use pandas.concat instead.\n",
      "  processed_df = processed_df.append(new_row, ignore_index=True)\n",
      "/var/folders/9g/wg6kygl97c58z_h6ljqdr8g00000gn/T/ipykernel_21846/4260402713.py:43: FutureWarning: The frame.append method is deprecated and will be removed from pandas in a future version. Use pandas.concat instead.\n",
      "  processed_df = processed_df.append(new_row, ignore_index=True)\n",
      "/var/folders/9g/wg6kygl97c58z_h6ljqdr8g00000gn/T/ipykernel_21846/4260402713.py:43: FutureWarning: The frame.append method is deprecated and will be removed from pandas in a future version. Use pandas.concat instead.\n",
      "  processed_df = processed_df.append(new_row, ignore_index=True)\n",
      "/var/folders/9g/wg6kygl97c58z_h6ljqdr8g00000gn/T/ipykernel_21846/4260402713.py:43: FutureWarning: The frame.append method is deprecated and will be removed from pandas in a future version. Use pandas.concat instead.\n",
      "  processed_df = processed_df.append(new_row, ignore_index=True)\n",
      "/var/folders/9g/wg6kygl97c58z_h6ljqdr8g00000gn/T/ipykernel_21846/4260402713.py:43: FutureWarning: The frame.append method is deprecated and will be removed from pandas in a future version. Use pandas.concat instead.\n",
      "  processed_df = processed_df.append(new_row, ignore_index=True)\n",
      "/var/folders/9g/wg6kygl97c58z_h6ljqdr8g00000gn/T/ipykernel_21846/4260402713.py:43: FutureWarning: The frame.append method is deprecated and will be removed from pandas in a future version. Use pandas.concat instead.\n",
      "  processed_df = processed_df.append(new_row, ignore_index=True)\n"
     ]
    },
    {
     "name": "stdout",
     "output_type": "stream",
     "text": [
      "Columns in group: ['title', 'time', 'url', 'author', 'credit_article', 'credit_followers', 'credit_tweets', 'textblob_Sentiment', 'nltk_Sentiment', 'most_frequent_name', 'relevance_score', 'bert_relevance']\n",
      "Columns in group: ['title', 'time', 'url', 'author', 'credit_article', 'credit_followers', 'credit_tweets', 'textblob_Sentiment', 'nltk_Sentiment', 'most_frequent_name', 'relevance_score', 'bert_relevance']\n",
      "Columns in group: ['title', 'time', 'url', 'author', 'credit_article', 'credit_followers', 'credit_tweets', 'textblob_Sentiment', 'nltk_Sentiment', 'most_frequent_name', 'relevance_score', 'bert_relevance']\n",
      "Columns in group: ['title', 'time', 'url', 'author', 'credit_article', 'credit_followers', 'credit_tweets', 'textblob_Sentiment', 'nltk_Sentiment', 'most_frequent_name', 'relevance_score', 'bert_relevance']\n",
      "Columns in group: ['title', 'time', 'url', 'author', 'credit_article', 'credit_followers', 'credit_tweets', 'textblob_Sentiment', 'nltk_Sentiment', 'most_frequent_name', 'relevance_score', 'bert_relevance']\n",
      "Columns in group: ['title', 'time', 'url', 'author', 'credit_article', 'credit_followers', 'credit_tweets', 'textblob_Sentiment', 'nltk_Sentiment', 'most_frequent_name', 'relevance_score', 'bert_relevance']\n",
      "Columns in group: ['title', 'time', 'url', 'author', 'credit_article', 'credit_followers', 'credit_tweets', 'textblob_Sentiment', 'nltk_Sentiment', 'most_frequent_name', 'relevance_score', 'bert_relevance']\n",
      "Columns in group: ['title', 'time', 'url', 'author', 'credit_article', 'credit_followers', 'credit_tweets', 'textblob_Sentiment', 'nltk_Sentiment', 'most_frequent_name', 'relevance_score', 'bert_relevance']\n",
      "Columns in group: ['title', 'time', 'url', 'author', 'credit_article', 'credit_followers', 'credit_tweets', 'textblob_Sentiment', 'nltk_Sentiment', 'most_frequent_name', 'relevance_score', 'bert_relevance']\n",
      "Columns in group: ['title', 'time', 'url', 'author', 'credit_article', 'credit_followers', 'credit_tweets', 'textblob_Sentiment', 'nltk_Sentiment', 'most_frequent_name', 'relevance_score', 'bert_relevance']\n"
     ]
    },
    {
     "name": "stderr",
     "output_type": "stream",
     "text": [
      "/var/folders/9g/wg6kygl97c58z_h6ljqdr8g00000gn/T/ipykernel_21846/4260402713.py:43: FutureWarning: The frame.append method is deprecated and will be removed from pandas in a future version. Use pandas.concat instead.\n",
      "  processed_df = processed_df.append(new_row, ignore_index=True)\n",
      "/var/folders/9g/wg6kygl97c58z_h6ljqdr8g00000gn/T/ipykernel_21846/4260402713.py:43: FutureWarning: The frame.append method is deprecated and will be removed from pandas in a future version. Use pandas.concat instead.\n",
      "  processed_df = processed_df.append(new_row, ignore_index=True)\n",
      "/var/folders/9g/wg6kygl97c58z_h6ljqdr8g00000gn/T/ipykernel_21846/4260402713.py:43: FutureWarning: The frame.append method is deprecated and will be removed from pandas in a future version. Use pandas.concat instead.\n",
      "  processed_df = processed_df.append(new_row, ignore_index=True)\n",
      "/var/folders/9g/wg6kygl97c58z_h6ljqdr8g00000gn/T/ipykernel_21846/4260402713.py:43: FutureWarning: The frame.append method is deprecated and will be removed from pandas in a future version. Use pandas.concat instead.\n",
      "  processed_df = processed_df.append(new_row, ignore_index=True)\n",
      "/var/folders/9g/wg6kygl97c58z_h6ljqdr8g00000gn/T/ipykernel_21846/4260402713.py:43: FutureWarning: The frame.append method is deprecated and will be removed from pandas in a future version. Use pandas.concat instead.\n",
      "  processed_df = processed_df.append(new_row, ignore_index=True)\n",
      "/var/folders/9g/wg6kygl97c58z_h6ljqdr8g00000gn/T/ipykernel_21846/4260402713.py:43: FutureWarning: The frame.append method is deprecated and will be removed from pandas in a future version. Use pandas.concat instead.\n",
      "  processed_df = processed_df.append(new_row, ignore_index=True)\n",
      "/var/folders/9g/wg6kygl97c58z_h6ljqdr8g00000gn/T/ipykernel_21846/4260402713.py:43: FutureWarning: The frame.append method is deprecated and will be removed from pandas in a future version. Use pandas.concat instead.\n",
      "  processed_df = processed_df.append(new_row, ignore_index=True)\n",
      "/var/folders/9g/wg6kygl97c58z_h6ljqdr8g00000gn/T/ipykernel_21846/4260402713.py:43: FutureWarning: The frame.append method is deprecated and will be removed from pandas in a future version. Use pandas.concat instead.\n",
      "  processed_df = processed_df.append(new_row, ignore_index=True)\n",
      "/var/folders/9g/wg6kygl97c58z_h6ljqdr8g00000gn/T/ipykernel_21846/4260402713.py:43: FutureWarning: The frame.append method is deprecated and will be removed from pandas in a future version. Use pandas.concat instead.\n",
      "  processed_df = processed_df.append(new_row, ignore_index=True)\n",
      "/var/folders/9g/wg6kygl97c58z_h6ljqdr8g00000gn/T/ipykernel_21846/4260402713.py:43: FutureWarning: The frame.append method is deprecated and will be removed from pandas in a future version. Use pandas.concat instead.\n",
      "  processed_df = processed_df.append(new_row, ignore_index=True)\n"
     ]
    },
    {
     "name": "stdout",
     "output_type": "stream",
     "text": [
      "Columns in group: ['title', 'time', 'url', 'author', 'credit_article', 'credit_followers', 'credit_tweets', 'textblob_Sentiment', 'nltk_Sentiment', 'most_frequent_name', 'relevance_score', 'bert_relevance']\n",
      "Columns in group: ['title', 'time', 'url', 'author', 'credit_article', 'credit_followers', 'credit_tweets', 'textblob_Sentiment', 'nltk_Sentiment', 'most_frequent_name', 'relevance_score', 'bert_relevance']\n",
      "Columns in group: ['title', 'time', 'url', 'author', 'credit_article', 'credit_followers', 'credit_tweets', 'textblob_Sentiment', 'nltk_Sentiment', 'most_frequent_name', 'relevance_score', 'bert_relevance']\n",
      "Columns in group: ['title', 'time', 'url', 'author', 'credit_article', 'credit_followers', 'credit_tweets', 'textblob_Sentiment', 'nltk_Sentiment', 'most_frequent_name', 'relevance_score', 'bert_relevance']\n",
      "Columns in group: ['title', 'time', 'url', 'author', 'credit_article', 'credit_followers', 'credit_tweets', 'textblob_Sentiment', 'nltk_Sentiment', 'most_frequent_name', 'relevance_score', 'bert_relevance']\n",
      "Columns in group: ['title', 'time', 'url', 'author', 'credit_article', 'credit_followers', 'credit_tweets', 'textblob_Sentiment', 'nltk_Sentiment', 'most_frequent_name', 'relevance_score', 'bert_relevance']\n",
      "Columns in group: ['title', 'time', 'url', 'author', 'credit_article', 'credit_followers', 'credit_tweets', 'textblob_Sentiment', 'nltk_Sentiment', 'most_frequent_name', 'relevance_score', 'bert_relevance']\n"
     ]
    },
    {
     "name": "stderr",
     "output_type": "stream",
     "text": [
      "/var/folders/9g/wg6kygl97c58z_h6ljqdr8g00000gn/T/ipykernel_21846/4260402713.py:43: FutureWarning: The frame.append method is deprecated and will be removed from pandas in a future version. Use pandas.concat instead.\n",
      "  processed_df = processed_df.append(new_row, ignore_index=True)\n",
      "/var/folders/9g/wg6kygl97c58z_h6ljqdr8g00000gn/T/ipykernel_21846/4260402713.py:43: FutureWarning: The frame.append method is deprecated and will be removed from pandas in a future version. Use pandas.concat instead.\n",
      "  processed_df = processed_df.append(new_row, ignore_index=True)\n",
      "/var/folders/9g/wg6kygl97c58z_h6ljqdr8g00000gn/T/ipykernel_21846/4260402713.py:43: FutureWarning: The frame.append method is deprecated and will be removed from pandas in a future version. Use pandas.concat instead.\n",
      "  processed_df = processed_df.append(new_row, ignore_index=True)\n",
      "/var/folders/9g/wg6kygl97c58z_h6ljqdr8g00000gn/T/ipykernel_21846/4260402713.py:43: FutureWarning: The frame.append method is deprecated and will be removed from pandas in a future version. Use pandas.concat instead.\n",
      "  processed_df = processed_df.append(new_row, ignore_index=True)\n",
      "/var/folders/9g/wg6kygl97c58z_h6ljqdr8g00000gn/T/ipykernel_21846/4260402713.py:43: FutureWarning: The frame.append method is deprecated and will be removed from pandas in a future version. Use pandas.concat instead.\n",
      "  processed_df = processed_df.append(new_row, ignore_index=True)\n",
      "/var/folders/9g/wg6kygl97c58z_h6ljqdr8g00000gn/T/ipykernel_21846/4260402713.py:43: FutureWarning: The frame.append method is deprecated and will be removed from pandas in a future version. Use pandas.concat instead.\n",
      "  processed_df = processed_df.append(new_row, ignore_index=True)\n",
      "/var/folders/9g/wg6kygl97c58z_h6ljqdr8g00000gn/T/ipykernel_21846/4260402713.py:43: FutureWarning: The frame.append method is deprecated and will be removed from pandas in a future version. Use pandas.concat instead.\n",
      "  processed_df = processed_df.append(new_row, ignore_index=True)\n"
     ]
    },
    {
     "name": "stdout",
     "output_type": "stream",
     "text": [
      "Columns in group: ['title', 'time', 'url', 'author', 'credit_article', 'credit_followers', 'credit_tweets', 'textblob_Sentiment', 'nltk_Sentiment', 'most_frequent_name', 'relevance_score', 'bert_relevance']\n",
      "Columns in group: ['title', 'time', 'url', 'author', 'credit_article', 'credit_followers', 'credit_tweets', 'textblob_Sentiment', 'nltk_Sentiment', 'most_frequent_name', 'relevance_score', 'bert_relevance']\n",
      "Columns in group: ['title', 'time', 'url', 'author', 'credit_article', 'credit_followers', 'credit_tweets', 'textblob_Sentiment', 'nltk_Sentiment', 'most_frequent_name', 'relevance_score', 'bert_relevance']\n",
      "Columns in group: ['title', 'time', 'url', 'author', 'credit_article', 'credit_followers', 'credit_tweets', 'textblob_Sentiment', 'nltk_Sentiment', 'most_frequent_name', 'relevance_score', 'bert_relevance']\n",
      "Columns in group: ['title', 'time', 'url', 'author', 'credit_article', 'credit_followers', 'credit_tweets', 'textblob_Sentiment', 'nltk_Sentiment', 'most_frequent_name', 'relevance_score', 'bert_relevance']\n",
      "Columns in group: ['title', 'time', 'url', 'author', 'credit_article', 'credit_followers', 'credit_tweets', 'textblob_Sentiment', 'nltk_Sentiment', 'most_frequent_name', 'relevance_score', 'bert_relevance']\n",
      "Columns in group: ['title', 'time', 'url', 'author', 'credit_article', 'credit_followers', 'credit_tweets', 'textblob_Sentiment', 'nltk_Sentiment', 'most_frequent_name', 'relevance_score', 'bert_relevance']\n",
      "Columns in group: ['title', 'time', 'url', 'author', 'credit_article', 'credit_followers', 'credit_tweets', 'textblob_Sentiment', 'nltk_Sentiment', 'most_frequent_name', 'relevance_score', 'bert_relevance']\n",
      "Columns in group: ['title', 'time', 'url', 'author', 'credit_article', 'credit_followers', 'credit_tweets', 'textblob_Sentiment', 'nltk_Sentiment', 'most_frequent_name', 'relevance_score', 'bert_relevance']\n",
      "Columns in group: ['title', 'time', 'url', 'author', 'credit_article', 'credit_followers', 'credit_tweets', 'textblob_Sentiment', 'nltk_Sentiment', 'most_frequent_name', 'relevance_score', 'bert_relevance']\n"
     ]
    },
    {
     "name": "stderr",
     "output_type": "stream",
     "text": [
      "/var/folders/9g/wg6kygl97c58z_h6ljqdr8g00000gn/T/ipykernel_21846/4260402713.py:43: FutureWarning: The frame.append method is deprecated and will be removed from pandas in a future version. Use pandas.concat instead.\n",
      "  processed_df = processed_df.append(new_row, ignore_index=True)\n",
      "/var/folders/9g/wg6kygl97c58z_h6ljqdr8g00000gn/T/ipykernel_21846/4260402713.py:43: FutureWarning: The frame.append method is deprecated and will be removed from pandas in a future version. Use pandas.concat instead.\n",
      "  processed_df = processed_df.append(new_row, ignore_index=True)\n",
      "/var/folders/9g/wg6kygl97c58z_h6ljqdr8g00000gn/T/ipykernel_21846/4260402713.py:43: FutureWarning: The frame.append method is deprecated and will be removed from pandas in a future version. Use pandas.concat instead.\n",
      "  processed_df = processed_df.append(new_row, ignore_index=True)\n",
      "/var/folders/9g/wg6kygl97c58z_h6ljqdr8g00000gn/T/ipykernel_21846/4260402713.py:43: FutureWarning: The frame.append method is deprecated and will be removed from pandas in a future version. Use pandas.concat instead.\n",
      "  processed_df = processed_df.append(new_row, ignore_index=True)\n",
      "/var/folders/9g/wg6kygl97c58z_h6ljqdr8g00000gn/T/ipykernel_21846/4260402713.py:43: FutureWarning: The frame.append method is deprecated and will be removed from pandas in a future version. Use pandas.concat instead.\n",
      "  processed_df = processed_df.append(new_row, ignore_index=True)\n",
      "/var/folders/9g/wg6kygl97c58z_h6ljqdr8g00000gn/T/ipykernel_21846/4260402713.py:43: FutureWarning: The frame.append method is deprecated and will be removed from pandas in a future version. Use pandas.concat instead.\n",
      "  processed_df = processed_df.append(new_row, ignore_index=True)\n",
      "/var/folders/9g/wg6kygl97c58z_h6ljqdr8g00000gn/T/ipykernel_21846/4260402713.py:43: FutureWarning: The frame.append method is deprecated and will be removed from pandas in a future version. Use pandas.concat instead.\n",
      "  processed_df = processed_df.append(new_row, ignore_index=True)\n",
      "/var/folders/9g/wg6kygl97c58z_h6ljqdr8g00000gn/T/ipykernel_21846/4260402713.py:43: FutureWarning: The frame.append method is deprecated and will be removed from pandas in a future version. Use pandas.concat instead.\n",
      "  processed_df = processed_df.append(new_row, ignore_index=True)\n",
      "/var/folders/9g/wg6kygl97c58z_h6ljqdr8g00000gn/T/ipykernel_21846/4260402713.py:43: FutureWarning: The frame.append method is deprecated and will be removed from pandas in a future version. Use pandas.concat instead.\n",
      "  processed_df = processed_df.append(new_row, ignore_index=True)\n"
     ]
    },
    {
     "name": "stdout",
     "output_type": "stream",
     "text": [
      "Columns in group: ['title', 'time', 'url', 'author', 'credit_article', 'credit_followers', 'credit_tweets', 'textblob_Sentiment', 'nltk_Sentiment', 'most_frequent_name', 'relevance_score', 'bert_relevance']\n",
      "Columns in group: ['title', 'time', 'url', 'author', 'credit_article', 'credit_followers', 'credit_tweets', 'textblob_Sentiment', 'nltk_Sentiment', 'most_frequent_name', 'relevance_score', 'bert_relevance']\n",
      "Columns in group: ['title', 'time', 'url', 'author', 'credit_article', 'credit_followers', 'credit_tweets', 'textblob_Sentiment', 'nltk_Sentiment', 'most_frequent_name', 'relevance_score', 'bert_relevance']\n",
      "Columns in group: ['title', 'time', 'url', 'author', 'credit_article', 'credit_followers', 'credit_tweets', 'textblob_Sentiment', 'nltk_Sentiment', 'most_frequent_name', 'relevance_score', 'bert_relevance']\n",
      "Columns in group: ['title', 'time', 'url', 'author', 'credit_article', 'credit_followers', 'credit_tweets', 'textblob_Sentiment', 'nltk_Sentiment', 'most_frequent_name', 'relevance_score', 'bert_relevance']\n",
      "Columns in group: ['title', 'time', 'url', 'author', 'credit_article', 'credit_followers', 'credit_tweets', 'textblob_Sentiment', 'nltk_Sentiment', 'most_frequent_name', 'relevance_score', 'bert_relevance']\n",
      "Columns in group: ['title', 'time', 'url', 'author', 'credit_article', 'credit_followers', 'credit_tweets', 'textblob_Sentiment', 'nltk_Sentiment', 'most_frequent_name', 'relevance_score', 'bert_relevance']\n",
      "Columns in group: ['title', 'time', 'url', 'author', 'credit_article', 'credit_followers', 'credit_tweets', 'textblob_Sentiment', 'nltk_Sentiment', 'most_frequent_name', 'relevance_score', 'bert_relevance']\n",
      "Columns in group: ['title', 'time', 'url', 'author', 'credit_article', 'credit_followers', 'credit_tweets', 'textblob_Sentiment', 'nltk_Sentiment', 'most_frequent_name', 'relevance_score', 'bert_relevance']\n"
     ]
    },
    {
     "name": "stderr",
     "output_type": "stream",
     "text": [
      "/var/folders/9g/wg6kygl97c58z_h6ljqdr8g00000gn/T/ipykernel_21846/4260402713.py:43: FutureWarning: The frame.append method is deprecated and will be removed from pandas in a future version. Use pandas.concat instead.\n",
      "  processed_df = processed_df.append(new_row, ignore_index=True)\n",
      "/var/folders/9g/wg6kygl97c58z_h6ljqdr8g00000gn/T/ipykernel_21846/4260402713.py:43: FutureWarning: The frame.append method is deprecated and will be removed from pandas in a future version. Use pandas.concat instead.\n",
      "  processed_df = processed_df.append(new_row, ignore_index=True)\n",
      "/var/folders/9g/wg6kygl97c58z_h6ljqdr8g00000gn/T/ipykernel_21846/4260402713.py:43: FutureWarning: The frame.append method is deprecated and will be removed from pandas in a future version. Use pandas.concat instead.\n",
      "  processed_df = processed_df.append(new_row, ignore_index=True)\n",
      "/var/folders/9g/wg6kygl97c58z_h6ljqdr8g00000gn/T/ipykernel_21846/4260402713.py:43: FutureWarning: The frame.append method is deprecated and will be removed from pandas in a future version. Use pandas.concat instead.\n",
      "  processed_df = processed_df.append(new_row, ignore_index=True)\n",
      "/var/folders/9g/wg6kygl97c58z_h6ljqdr8g00000gn/T/ipykernel_21846/4260402713.py:43: FutureWarning: The frame.append method is deprecated and will be removed from pandas in a future version. Use pandas.concat instead.\n",
      "  processed_df = processed_df.append(new_row, ignore_index=True)\n",
      "/var/folders/9g/wg6kygl97c58z_h6ljqdr8g00000gn/T/ipykernel_21846/4260402713.py:43: FutureWarning: The frame.append method is deprecated and will be removed from pandas in a future version. Use pandas.concat instead.\n",
      "  processed_df = processed_df.append(new_row, ignore_index=True)\n",
      "/var/folders/9g/wg6kygl97c58z_h6ljqdr8g00000gn/T/ipykernel_21846/4260402713.py:43: FutureWarning: The frame.append method is deprecated and will be removed from pandas in a future version. Use pandas.concat instead.\n",
      "  processed_df = processed_df.append(new_row, ignore_index=True)\n",
      "/var/folders/9g/wg6kygl97c58z_h6ljqdr8g00000gn/T/ipykernel_21846/4260402713.py:43: FutureWarning: The frame.append method is deprecated and will be removed from pandas in a future version. Use pandas.concat instead.\n",
      "  processed_df = processed_df.append(new_row, ignore_index=True)\n",
      "/var/folders/9g/wg6kygl97c58z_h6ljqdr8g00000gn/T/ipykernel_21846/4260402713.py:43: FutureWarning: The frame.append method is deprecated and will be removed from pandas in a future version. Use pandas.concat instead.\n",
      "  processed_df = processed_df.append(new_row, ignore_index=True)\n",
      "/var/folders/9g/wg6kygl97c58z_h6ljqdr8g00000gn/T/ipykernel_21846/4260402713.py:43: FutureWarning: The frame.append method is deprecated and will be removed from pandas in a future version. Use pandas.concat instead.\n",
      "  processed_df = processed_df.append(new_row, ignore_index=True)\n",
      "/var/folders/9g/wg6kygl97c58z_h6ljqdr8g00000gn/T/ipykernel_21846/4260402713.py:43: FutureWarning: The frame.append method is deprecated and will be removed from pandas in a future version. Use pandas.concat instead.\n",
      "  processed_df = processed_df.append(new_row, ignore_index=True)\n"
     ]
    },
    {
     "name": "stdout",
     "output_type": "stream",
     "text": [
      "Columns in group: ['title', 'time', 'url', 'author', 'credit_article', 'credit_followers', 'credit_tweets', 'textblob_Sentiment', 'nltk_Sentiment', 'most_frequent_name', 'relevance_score', 'bert_relevance']\n",
      "Columns in group: ['title', 'time', 'url', 'author', 'credit_article', 'credit_followers', 'credit_tweets', 'textblob_Sentiment', 'nltk_Sentiment', 'most_frequent_name', 'relevance_score', 'bert_relevance']\n",
      "Columns in group: ['title', 'time', 'url', 'author', 'credit_article', 'credit_followers', 'credit_tweets', 'textblob_Sentiment', 'nltk_Sentiment', 'most_frequent_name', 'relevance_score', 'bert_relevance']\n",
      "Columns in group: ['title', 'time', 'url', 'author', 'credit_article', 'credit_followers', 'credit_tweets', 'textblob_Sentiment', 'nltk_Sentiment', 'most_frequent_name', 'relevance_score', 'bert_relevance']\n",
      "Columns in group: ['title', 'time', 'url', 'author', 'credit_article', 'credit_followers', 'credit_tweets', 'textblob_Sentiment', 'nltk_Sentiment', 'most_frequent_name', 'relevance_score', 'bert_relevance']\n",
      "Columns in group: ['title', 'time', 'url', 'author', 'credit_article', 'credit_followers', 'credit_tweets', 'textblob_Sentiment', 'nltk_Sentiment', 'most_frequent_name', 'relevance_score', 'bert_relevance']\n",
      "Columns in group: ['title', 'time', 'url', 'author', 'credit_article', 'credit_followers', 'credit_tweets', 'textblob_Sentiment', 'nltk_Sentiment', 'most_frequent_name', 'relevance_score', 'bert_relevance']\n",
      "Columns in group: ['title', 'time', 'url', 'author', 'credit_article', 'credit_followers', 'credit_tweets', 'textblob_Sentiment', 'nltk_Sentiment', 'most_frequent_name', 'relevance_score', 'bert_relevance']\n",
      "Columns in group: ['title', 'time', 'url', 'author', 'credit_article', 'credit_followers', 'credit_tweets', 'textblob_Sentiment', 'nltk_Sentiment', 'most_frequent_name', 'relevance_score', 'bert_relevance']\n",
      "Columns in group: ['title', 'time', 'url', 'author', 'credit_article', 'credit_followers', 'credit_tweets', 'textblob_Sentiment', 'nltk_Sentiment', 'most_frequent_name', 'relevance_score', 'bert_relevance']\n"
     ]
    },
    {
     "name": "stderr",
     "output_type": "stream",
     "text": [
      "/var/folders/9g/wg6kygl97c58z_h6ljqdr8g00000gn/T/ipykernel_21846/4260402713.py:43: FutureWarning: The frame.append method is deprecated and will be removed from pandas in a future version. Use pandas.concat instead.\n",
      "  processed_df = processed_df.append(new_row, ignore_index=True)\n",
      "/var/folders/9g/wg6kygl97c58z_h6ljqdr8g00000gn/T/ipykernel_21846/4260402713.py:43: FutureWarning: The frame.append method is deprecated and will be removed from pandas in a future version. Use pandas.concat instead.\n",
      "  processed_df = processed_df.append(new_row, ignore_index=True)\n",
      "/var/folders/9g/wg6kygl97c58z_h6ljqdr8g00000gn/T/ipykernel_21846/4260402713.py:43: FutureWarning: The frame.append method is deprecated and will be removed from pandas in a future version. Use pandas.concat instead.\n",
      "  processed_df = processed_df.append(new_row, ignore_index=True)\n",
      "/var/folders/9g/wg6kygl97c58z_h6ljqdr8g00000gn/T/ipykernel_21846/4260402713.py:43: FutureWarning: The frame.append method is deprecated and will be removed from pandas in a future version. Use pandas.concat instead.\n",
      "  processed_df = processed_df.append(new_row, ignore_index=True)\n",
      "/var/folders/9g/wg6kygl97c58z_h6ljqdr8g00000gn/T/ipykernel_21846/4260402713.py:43: FutureWarning: The frame.append method is deprecated and will be removed from pandas in a future version. Use pandas.concat instead.\n",
      "  processed_df = processed_df.append(new_row, ignore_index=True)\n",
      "/var/folders/9g/wg6kygl97c58z_h6ljqdr8g00000gn/T/ipykernel_21846/4260402713.py:43: FutureWarning: The frame.append method is deprecated and will be removed from pandas in a future version. Use pandas.concat instead.\n",
      "  processed_df = processed_df.append(new_row, ignore_index=True)\n",
      "/var/folders/9g/wg6kygl97c58z_h6ljqdr8g00000gn/T/ipykernel_21846/4260402713.py:43: FutureWarning: The frame.append method is deprecated and will be removed from pandas in a future version. Use pandas.concat instead.\n",
      "  processed_df = processed_df.append(new_row, ignore_index=True)\n",
      "/var/folders/9g/wg6kygl97c58z_h6ljqdr8g00000gn/T/ipykernel_21846/4260402713.py:43: FutureWarning: The frame.append method is deprecated and will be removed from pandas in a future version. Use pandas.concat instead.\n",
      "  processed_df = processed_df.append(new_row, ignore_index=True)\n",
      "/var/folders/9g/wg6kygl97c58z_h6ljqdr8g00000gn/T/ipykernel_21846/4260402713.py:43: FutureWarning: The frame.append method is deprecated and will be removed from pandas in a future version. Use pandas.concat instead.\n",
      "  processed_df = processed_df.append(new_row, ignore_index=True)\n"
     ]
    },
    {
     "name": "stdout",
     "output_type": "stream",
     "text": [
      "Columns in group: ['title', 'time', 'url', 'author', 'credit_article', 'credit_followers', 'credit_tweets', 'textblob_Sentiment', 'nltk_Sentiment', 'most_frequent_name', 'relevance_score', 'bert_relevance']\n",
      "Columns in group: ['title', 'time', 'url', 'author', 'credit_article', 'credit_followers', 'credit_tweets', 'textblob_Sentiment', 'nltk_Sentiment', 'most_frequent_name', 'relevance_score', 'bert_relevance']\n",
      "Columns in group: ['title', 'time', 'url', 'author', 'credit_article', 'credit_followers', 'credit_tweets', 'textblob_Sentiment', 'nltk_Sentiment', 'most_frequent_name', 'relevance_score', 'bert_relevance']\n",
      "Columns in group: ['title', 'time', 'url', 'author', 'credit_article', 'credit_followers', 'credit_tweets', 'textblob_Sentiment', 'nltk_Sentiment', 'most_frequent_name', 'relevance_score', 'bert_relevance']\n",
      "Columns in group: ['title', 'time', 'url', 'author', 'credit_article', 'credit_followers', 'credit_tweets', 'textblob_Sentiment', 'nltk_Sentiment', 'most_frequent_name', 'relevance_score', 'bert_relevance']\n",
      "Columns in group: ['title', 'time', 'url', 'author', 'credit_article', 'credit_followers', 'credit_tweets', 'textblob_Sentiment', 'nltk_Sentiment', 'most_frequent_name', 'relevance_score', 'bert_relevance']\n",
      "Columns in group: ['title', 'time', 'url', 'author', 'credit_article', 'credit_followers', 'credit_tweets', 'textblob_Sentiment', 'nltk_Sentiment', 'most_frequent_name', 'relevance_score', 'bert_relevance']\n",
      "Columns in group: ['title', 'time', 'url', 'author', 'credit_article', 'credit_followers', 'credit_tweets', 'textblob_Sentiment', 'nltk_Sentiment', 'most_frequent_name', 'relevance_score', 'bert_relevance']\n",
      "Columns in group: ['title', 'time', 'url', 'author', 'credit_article', 'credit_followers', 'credit_tweets', 'textblob_Sentiment', 'nltk_Sentiment', 'most_frequent_name', 'relevance_score', 'bert_relevance']\n",
      "Columns in group: ['title', 'time', 'url', 'author', 'credit_article', 'credit_followers', 'credit_tweets', 'textblob_Sentiment', 'nltk_Sentiment', 'most_frequent_name', 'relevance_score', 'bert_relevance']\n"
     ]
    },
    {
     "name": "stderr",
     "output_type": "stream",
     "text": [
      "/var/folders/9g/wg6kygl97c58z_h6ljqdr8g00000gn/T/ipykernel_21846/4260402713.py:43: FutureWarning: The frame.append method is deprecated and will be removed from pandas in a future version. Use pandas.concat instead.\n",
      "  processed_df = processed_df.append(new_row, ignore_index=True)\n",
      "/var/folders/9g/wg6kygl97c58z_h6ljqdr8g00000gn/T/ipykernel_21846/4260402713.py:43: FutureWarning: The frame.append method is deprecated and will be removed from pandas in a future version. Use pandas.concat instead.\n",
      "  processed_df = processed_df.append(new_row, ignore_index=True)\n",
      "/var/folders/9g/wg6kygl97c58z_h6ljqdr8g00000gn/T/ipykernel_21846/4260402713.py:43: FutureWarning: The frame.append method is deprecated and will be removed from pandas in a future version. Use pandas.concat instead.\n",
      "  processed_df = processed_df.append(new_row, ignore_index=True)\n",
      "/var/folders/9g/wg6kygl97c58z_h6ljqdr8g00000gn/T/ipykernel_21846/4260402713.py:43: FutureWarning: The frame.append method is deprecated and will be removed from pandas in a future version. Use pandas.concat instead.\n",
      "  processed_df = processed_df.append(new_row, ignore_index=True)\n",
      "/var/folders/9g/wg6kygl97c58z_h6ljqdr8g00000gn/T/ipykernel_21846/4260402713.py:43: FutureWarning: The frame.append method is deprecated and will be removed from pandas in a future version. Use pandas.concat instead.\n",
      "  processed_df = processed_df.append(new_row, ignore_index=True)\n",
      "/var/folders/9g/wg6kygl97c58z_h6ljqdr8g00000gn/T/ipykernel_21846/4260402713.py:43: FutureWarning: The frame.append method is deprecated and will be removed from pandas in a future version. Use pandas.concat instead.\n",
      "  processed_df = processed_df.append(new_row, ignore_index=True)\n",
      "/var/folders/9g/wg6kygl97c58z_h6ljqdr8g00000gn/T/ipykernel_21846/4260402713.py:43: FutureWarning: The frame.append method is deprecated and will be removed from pandas in a future version. Use pandas.concat instead.\n",
      "  processed_df = processed_df.append(new_row, ignore_index=True)\n",
      "/var/folders/9g/wg6kygl97c58z_h6ljqdr8g00000gn/T/ipykernel_21846/4260402713.py:43: FutureWarning: The frame.append method is deprecated and will be removed from pandas in a future version. Use pandas.concat instead.\n",
      "  processed_df = processed_df.append(new_row, ignore_index=True)\n",
      "/var/folders/9g/wg6kygl97c58z_h6ljqdr8g00000gn/T/ipykernel_21846/4260402713.py:43: FutureWarning: The frame.append method is deprecated and will be removed from pandas in a future version. Use pandas.concat instead.\n",
      "  processed_df = processed_df.append(new_row, ignore_index=True)\n",
      "/var/folders/9g/wg6kygl97c58z_h6ljqdr8g00000gn/T/ipykernel_21846/4260402713.py:43: FutureWarning: The frame.append method is deprecated and will be removed from pandas in a future version. Use pandas.concat instead.\n",
      "  processed_df = processed_df.append(new_row, ignore_index=True)\n"
     ]
    },
    {
     "name": "stdout",
     "output_type": "stream",
     "text": [
      "Columns in group: ['title', 'time', 'url', 'author', 'credit_article', 'credit_followers', 'credit_tweets', 'textblob_Sentiment', 'nltk_Sentiment', 'most_frequent_name', 'relevance_score', 'bert_relevance']\n",
      "Columns in group: ['title', 'time', 'url', 'author', 'credit_article', 'credit_followers', 'credit_tweets', 'textblob_Sentiment', 'nltk_Sentiment', 'most_frequent_name', 'relevance_score', 'bert_relevance']\n",
      "Columns in group: ['title', 'time', 'url', 'author', 'credit_article', 'credit_followers', 'credit_tweets', 'textblob_Sentiment', 'nltk_Sentiment', 'most_frequent_name', 'relevance_score', 'bert_relevance']\n",
      "Columns in group: ['title', 'time', 'url', 'author', 'credit_article', 'credit_followers', 'credit_tweets', 'textblob_Sentiment', 'nltk_Sentiment', 'most_frequent_name', 'relevance_score', 'bert_relevance']\n",
      "Columns in group: ['title', 'time', 'url', 'author', 'credit_article', 'credit_followers', 'credit_tweets', 'textblob_Sentiment', 'nltk_Sentiment', 'most_frequent_name', 'relevance_score', 'bert_relevance']\n",
      "Columns in group: ['title', 'time', 'url', 'author', 'credit_article', 'credit_followers', 'credit_tweets', 'textblob_Sentiment', 'nltk_Sentiment', 'most_frequent_name', 'relevance_score', 'bert_relevance']\n",
      "Columns in group: ['title', 'time', 'url', 'author', 'credit_article', 'credit_followers', 'credit_tweets', 'textblob_Sentiment', 'nltk_Sentiment', 'most_frequent_name', 'relevance_score', 'bert_relevance']\n",
      "Columns in group: ['title', 'time', 'url', 'author', 'credit_article', 'credit_followers', 'credit_tweets', 'textblob_Sentiment', 'nltk_Sentiment', 'most_frequent_name', 'relevance_score', 'bert_relevance']\n",
      "Columns in group: ['title', 'time', 'url', 'author', 'credit_article', 'credit_followers', 'credit_tweets', 'textblob_Sentiment', 'nltk_Sentiment', 'most_frequent_name', 'relevance_score', 'bert_relevance']\n",
      "Columns in group: ['title', 'time', 'url', 'author', 'credit_article', 'credit_followers', 'credit_tweets', 'textblob_Sentiment', 'nltk_Sentiment', 'most_frequent_name', 'relevance_score', 'bert_relevance']\n",
      "Columns in group: ['title', 'time', 'url', 'author', 'credit_article', 'credit_followers', 'credit_tweets', 'textblob_Sentiment', 'nltk_Sentiment', 'most_frequent_name', 'relevance_score', 'bert_relevance']\n"
     ]
    },
    {
     "name": "stderr",
     "output_type": "stream",
     "text": [
      "/var/folders/9g/wg6kygl97c58z_h6ljqdr8g00000gn/T/ipykernel_21846/4260402713.py:43: FutureWarning: The frame.append method is deprecated and will be removed from pandas in a future version. Use pandas.concat instead.\n",
      "  processed_df = processed_df.append(new_row, ignore_index=True)\n",
      "/var/folders/9g/wg6kygl97c58z_h6ljqdr8g00000gn/T/ipykernel_21846/4260402713.py:43: FutureWarning: The frame.append method is deprecated and will be removed from pandas in a future version. Use pandas.concat instead.\n",
      "  processed_df = processed_df.append(new_row, ignore_index=True)\n",
      "/var/folders/9g/wg6kygl97c58z_h6ljqdr8g00000gn/T/ipykernel_21846/4260402713.py:43: FutureWarning: The frame.append method is deprecated and will be removed from pandas in a future version. Use pandas.concat instead.\n",
      "  processed_df = processed_df.append(new_row, ignore_index=True)\n",
      "/var/folders/9g/wg6kygl97c58z_h6ljqdr8g00000gn/T/ipykernel_21846/4260402713.py:43: FutureWarning: The frame.append method is deprecated and will be removed from pandas in a future version. Use pandas.concat instead.\n",
      "  processed_df = processed_df.append(new_row, ignore_index=True)\n",
      "/var/folders/9g/wg6kygl97c58z_h6ljqdr8g00000gn/T/ipykernel_21846/4260402713.py:43: FutureWarning: The frame.append method is deprecated and will be removed from pandas in a future version. Use pandas.concat instead.\n",
      "  processed_df = processed_df.append(new_row, ignore_index=True)\n",
      "/var/folders/9g/wg6kygl97c58z_h6ljqdr8g00000gn/T/ipykernel_21846/4260402713.py:43: FutureWarning: The frame.append method is deprecated and will be removed from pandas in a future version. Use pandas.concat instead.\n",
      "  processed_df = processed_df.append(new_row, ignore_index=True)\n",
      "/var/folders/9g/wg6kygl97c58z_h6ljqdr8g00000gn/T/ipykernel_21846/4260402713.py:43: FutureWarning: The frame.append method is deprecated and will be removed from pandas in a future version. Use pandas.concat instead.\n",
      "  processed_df = processed_df.append(new_row, ignore_index=True)\n",
      "/var/folders/9g/wg6kygl97c58z_h6ljqdr8g00000gn/T/ipykernel_21846/4260402713.py:43: FutureWarning: The frame.append method is deprecated and will be removed from pandas in a future version. Use pandas.concat instead.\n",
      "  processed_df = processed_df.append(new_row, ignore_index=True)\n",
      "/var/folders/9g/wg6kygl97c58z_h6ljqdr8g00000gn/T/ipykernel_21846/4260402713.py:43: FutureWarning: The frame.append method is deprecated and will be removed from pandas in a future version. Use pandas.concat instead.\n",
      "  processed_df = processed_df.append(new_row, ignore_index=True)\n",
      "/var/folders/9g/wg6kygl97c58z_h6ljqdr8g00000gn/T/ipykernel_21846/4260402713.py:43: FutureWarning: The frame.append method is deprecated and will be removed from pandas in a future version. Use pandas.concat instead.\n",
      "  processed_df = processed_df.append(new_row, ignore_index=True)\n",
      "/var/folders/9g/wg6kygl97c58z_h6ljqdr8g00000gn/T/ipykernel_21846/4260402713.py:43: FutureWarning: The frame.append method is deprecated and will be removed from pandas in a future version. Use pandas.concat instead.\n",
      "  processed_df = processed_df.append(new_row, ignore_index=True)\n"
     ]
    },
    {
     "name": "stdout",
     "output_type": "stream",
     "text": [
      "Columns in group: ['title', 'time', 'url', 'author', 'credit_article', 'credit_followers', 'credit_tweets', 'textblob_Sentiment', 'nltk_Sentiment', 'most_frequent_name', 'relevance_score', 'bert_relevance']\n",
      "Columns in group: ['title', 'time', 'url', 'author', 'credit_article', 'credit_followers', 'credit_tweets', 'textblob_Sentiment', 'nltk_Sentiment', 'most_frequent_name', 'relevance_score', 'bert_relevance']\n",
      "Columns in group: ['title', 'time', 'url', 'author', 'credit_article', 'credit_followers', 'credit_tweets', 'textblob_Sentiment', 'nltk_Sentiment', 'most_frequent_name', 'relevance_score', 'bert_relevance']\n",
      "Columns in group: ['title', 'time', 'url', 'author', 'credit_article', 'credit_followers', 'credit_tweets', 'textblob_Sentiment', 'nltk_Sentiment', 'most_frequent_name', 'relevance_score', 'bert_relevance']\n"
     ]
    },
    {
     "name": "stderr",
     "output_type": "stream",
     "text": [
      "/var/folders/9g/wg6kygl97c58z_h6ljqdr8g00000gn/T/ipykernel_21846/4260402713.py:43: FutureWarning: The frame.append method is deprecated and will be removed from pandas in a future version. Use pandas.concat instead.\n",
      "  processed_df = processed_df.append(new_row, ignore_index=True)\n",
      "/var/folders/9g/wg6kygl97c58z_h6ljqdr8g00000gn/T/ipykernel_21846/4260402713.py:43: FutureWarning: The frame.append method is deprecated and will be removed from pandas in a future version. Use pandas.concat instead.\n",
      "  processed_df = processed_df.append(new_row, ignore_index=True)\n",
      "/var/folders/9g/wg6kygl97c58z_h6ljqdr8g00000gn/T/ipykernel_21846/4260402713.py:43: FutureWarning: The frame.append method is deprecated and will be removed from pandas in a future version. Use pandas.concat instead.\n",
      "  processed_df = processed_df.append(new_row, ignore_index=True)\n",
      "/var/folders/9g/wg6kygl97c58z_h6ljqdr8g00000gn/T/ipykernel_21846/4260402713.py:43: FutureWarning: The frame.append method is deprecated and will be removed from pandas in a future version. Use pandas.concat instead.\n",
      "  processed_df = processed_df.append(new_row, ignore_index=True)\n"
     ]
    },
    {
     "name": "stdout",
     "output_type": "stream",
     "text": [
      "Columns in group: ['title', 'time', 'url', 'author', 'credit_article', 'credit_followers', 'credit_tweets', 'textblob_Sentiment', 'nltk_Sentiment', 'most_frequent_name', 'relevance_score', 'bert_relevance']\n",
      "Columns in group: ['title', 'time', 'url', 'author', 'credit_article', 'credit_followers', 'credit_tweets', 'textblob_Sentiment', 'nltk_Sentiment', 'most_frequent_name', 'relevance_score', 'bert_relevance']\n",
      "Columns in group: ['title', 'time', 'url', 'author', 'credit_article', 'credit_followers', 'credit_tweets', 'textblob_Sentiment', 'nltk_Sentiment', 'most_frequent_name', 'relevance_score', 'bert_relevance']\n",
      "Columns in group: ['title', 'time', 'url', 'author', 'credit_article', 'credit_followers', 'credit_tweets', 'textblob_Sentiment', 'nltk_Sentiment', 'most_frequent_name', 'relevance_score', 'bert_relevance']\n",
      "Columns in group: ['title', 'time', 'url', 'author', 'credit_article', 'credit_followers', 'credit_tweets', 'textblob_Sentiment', 'nltk_Sentiment', 'most_frequent_name', 'relevance_score', 'bert_relevance']\n"
     ]
    },
    {
     "name": "stderr",
     "output_type": "stream",
     "text": [
      "/var/folders/9g/wg6kygl97c58z_h6ljqdr8g00000gn/T/ipykernel_21846/4260402713.py:43: FutureWarning: The frame.append method is deprecated and will be removed from pandas in a future version. Use pandas.concat instead.\n",
      "  processed_df = processed_df.append(new_row, ignore_index=True)\n",
      "/var/folders/9g/wg6kygl97c58z_h6ljqdr8g00000gn/T/ipykernel_21846/4260402713.py:43: FutureWarning: The frame.append method is deprecated and will be removed from pandas in a future version. Use pandas.concat instead.\n",
      "  processed_df = processed_df.append(new_row, ignore_index=True)\n",
      "/var/folders/9g/wg6kygl97c58z_h6ljqdr8g00000gn/T/ipykernel_21846/4260402713.py:43: FutureWarning: The frame.append method is deprecated and will be removed from pandas in a future version. Use pandas.concat instead.\n",
      "  processed_df = processed_df.append(new_row, ignore_index=True)\n",
      "/var/folders/9g/wg6kygl97c58z_h6ljqdr8g00000gn/T/ipykernel_21846/4260402713.py:43: FutureWarning: The frame.append method is deprecated and will be removed from pandas in a future version. Use pandas.concat instead.\n",
      "  processed_df = processed_df.append(new_row, ignore_index=True)\n",
      "/var/folders/9g/wg6kygl97c58z_h6ljqdr8g00000gn/T/ipykernel_21846/4260402713.py:43: FutureWarning: The frame.append method is deprecated and will be removed from pandas in a future version. Use pandas.concat instead.\n",
      "  processed_df = processed_df.append(new_row, ignore_index=True)\n",
      "/var/folders/9g/wg6kygl97c58z_h6ljqdr8g00000gn/T/ipykernel_21846/4260402713.py:43: FutureWarning: The frame.append method is deprecated and will be removed from pandas in a future version. Use pandas.concat instead.\n",
      "  processed_df = processed_df.append(new_row, ignore_index=True)\n",
      "/var/folders/9g/wg6kygl97c58z_h6ljqdr8g00000gn/T/ipykernel_21846/4260402713.py:43: FutureWarning: The frame.append method is deprecated and will be removed from pandas in a future version. Use pandas.concat instead.\n",
      "  processed_df = processed_df.append(new_row, ignore_index=True)\n"
     ]
    },
    {
     "name": "stdout",
     "output_type": "stream",
     "text": [
      "Columns in group: ['title', 'time', 'url', 'author', 'credit_article', 'credit_followers', 'credit_tweets', 'textblob_Sentiment', 'nltk_Sentiment', 'most_frequent_name', 'relevance_score', 'bert_relevance']\n",
      "Columns in group: ['title', 'time', 'url', 'author', 'credit_article', 'credit_followers', 'credit_tweets', 'textblob_Sentiment', 'nltk_Sentiment', 'most_frequent_name', 'relevance_score', 'bert_relevance']\n",
      "Columns in group: ['title', 'time', 'url', 'author', 'credit_article', 'credit_followers', 'credit_tweets', 'textblob_Sentiment', 'nltk_Sentiment', 'most_frequent_name', 'relevance_score', 'bert_relevance']\n",
      "Columns in group: ['title', 'time', 'url', 'author', 'credit_article', 'credit_followers', 'credit_tweets', 'textblob_Sentiment', 'nltk_Sentiment', 'most_frequent_name', 'relevance_score', 'bert_relevance']\n",
      "Columns in group: ['title', 'time', 'url', 'author', 'credit_article', 'credit_followers', 'credit_tweets', 'textblob_Sentiment', 'nltk_Sentiment', 'most_frequent_name', 'relevance_score', 'bert_relevance']\n",
      "Columns in group: ['title', 'time', 'url', 'author', 'credit_article', 'credit_followers', 'credit_tweets', 'textblob_Sentiment', 'nltk_Sentiment', 'most_frequent_name', 'relevance_score', 'bert_relevance']\n",
      "Columns in group: ['title', 'time', 'url', 'author', 'credit_article', 'credit_followers', 'credit_tweets', 'textblob_Sentiment', 'nltk_Sentiment', 'most_frequent_name', 'relevance_score', 'bert_relevance']\n",
      "Columns in group: ['title', 'time', 'url', 'author', 'credit_article', 'credit_followers', 'credit_tweets', 'textblob_Sentiment', 'nltk_Sentiment', 'most_frequent_name', 'relevance_score', 'bert_relevance']\n",
      "Columns in group: ['title', 'time', 'url', 'author', 'credit_article', 'credit_followers', 'credit_tweets', 'textblob_Sentiment', 'nltk_Sentiment', 'most_frequent_name', 'relevance_score', 'bert_relevance']\n"
     ]
    },
    {
     "name": "stderr",
     "output_type": "stream",
     "text": [
      "/var/folders/9g/wg6kygl97c58z_h6ljqdr8g00000gn/T/ipykernel_21846/4260402713.py:43: FutureWarning: The frame.append method is deprecated and will be removed from pandas in a future version. Use pandas.concat instead.\n",
      "  processed_df = processed_df.append(new_row, ignore_index=True)\n",
      "/var/folders/9g/wg6kygl97c58z_h6ljqdr8g00000gn/T/ipykernel_21846/4260402713.py:43: FutureWarning: The frame.append method is deprecated and will be removed from pandas in a future version. Use pandas.concat instead.\n",
      "  processed_df = processed_df.append(new_row, ignore_index=True)\n",
      "/var/folders/9g/wg6kygl97c58z_h6ljqdr8g00000gn/T/ipykernel_21846/4260402713.py:43: FutureWarning: The frame.append method is deprecated and will be removed from pandas in a future version. Use pandas.concat instead.\n",
      "  processed_df = processed_df.append(new_row, ignore_index=True)\n",
      "/var/folders/9g/wg6kygl97c58z_h6ljqdr8g00000gn/T/ipykernel_21846/4260402713.py:43: FutureWarning: The frame.append method is deprecated and will be removed from pandas in a future version. Use pandas.concat instead.\n",
      "  processed_df = processed_df.append(new_row, ignore_index=True)\n",
      "/var/folders/9g/wg6kygl97c58z_h6ljqdr8g00000gn/T/ipykernel_21846/4260402713.py:43: FutureWarning: The frame.append method is deprecated and will be removed from pandas in a future version. Use pandas.concat instead.\n",
      "  processed_df = processed_df.append(new_row, ignore_index=True)\n",
      "/var/folders/9g/wg6kygl97c58z_h6ljqdr8g00000gn/T/ipykernel_21846/4260402713.py:43: FutureWarning: The frame.append method is deprecated and will be removed from pandas in a future version. Use pandas.concat instead.\n",
      "  processed_df = processed_df.append(new_row, ignore_index=True)\n",
      "/var/folders/9g/wg6kygl97c58z_h6ljqdr8g00000gn/T/ipykernel_21846/4260402713.py:43: FutureWarning: The frame.append method is deprecated and will be removed from pandas in a future version. Use pandas.concat instead.\n",
      "  processed_df = processed_df.append(new_row, ignore_index=True)\n",
      "/var/folders/9g/wg6kygl97c58z_h6ljqdr8g00000gn/T/ipykernel_21846/4260402713.py:43: FutureWarning: The frame.append method is deprecated and will be removed from pandas in a future version. Use pandas.concat instead.\n",
      "  processed_df = processed_df.append(new_row, ignore_index=True)\n",
      "/var/folders/9g/wg6kygl97c58z_h6ljqdr8g00000gn/T/ipykernel_21846/4260402713.py:43: FutureWarning: The frame.append method is deprecated and will be removed from pandas in a future version. Use pandas.concat instead.\n",
      "  processed_df = processed_df.append(new_row, ignore_index=True)\n",
      "/var/folders/9g/wg6kygl97c58z_h6ljqdr8g00000gn/T/ipykernel_21846/4260402713.py:43: FutureWarning: The frame.append method is deprecated and will be removed from pandas in a future version. Use pandas.concat instead.\n",
      "  processed_df = processed_df.append(new_row, ignore_index=True)\n",
      "/var/folders/9g/wg6kygl97c58z_h6ljqdr8g00000gn/T/ipykernel_21846/4260402713.py:43: FutureWarning: The frame.append method is deprecated and will be removed from pandas in a future version. Use pandas.concat instead.\n",
      "  processed_df = processed_df.append(new_row, ignore_index=True)\n"
     ]
    },
    {
     "name": "stdout",
     "output_type": "stream",
     "text": [
      "Columns in group: ['title', 'time', 'url', 'author', 'credit_article', 'credit_followers', 'credit_tweets', 'textblob_Sentiment', 'nltk_Sentiment', 'most_frequent_name', 'relevance_score', 'bert_relevance']\n",
      "Columns in group: ['title', 'time', 'url', 'author', 'credit_article', 'credit_followers', 'credit_tweets', 'textblob_Sentiment', 'nltk_Sentiment', 'most_frequent_name', 'relevance_score', 'bert_relevance']\n",
      "Columns in group: ['title', 'time', 'url', 'author', 'credit_article', 'credit_followers', 'credit_tweets', 'textblob_Sentiment', 'nltk_Sentiment', 'most_frequent_name', 'relevance_score', 'bert_relevance']\n",
      "Columns in group: ['title', 'time', 'url', 'author', 'credit_article', 'credit_followers', 'credit_tweets', 'textblob_Sentiment', 'nltk_Sentiment', 'most_frequent_name', 'relevance_score', 'bert_relevance']\n",
      "Columns in group: ['title', 'time', 'url', 'author', 'credit_article', 'credit_followers', 'credit_tweets', 'textblob_Sentiment', 'nltk_Sentiment', 'most_frequent_name', 'relevance_score', 'bert_relevance']\n",
      "Columns in group: ['title', 'time', 'url', 'author', 'credit_article', 'credit_followers', 'credit_tweets', 'textblob_Sentiment', 'nltk_Sentiment', 'most_frequent_name', 'relevance_score', 'bert_relevance']\n",
      "Columns in group: ['title', 'time', 'url', 'author', 'credit_article', 'credit_followers', 'credit_tweets', 'textblob_Sentiment', 'nltk_Sentiment', 'most_frequent_name', 'relevance_score', 'bert_relevance']\n",
      "Columns in group: ['title', 'time', 'url', 'author', 'credit_article', 'credit_followers', 'credit_tweets', 'textblob_Sentiment', 'nltk_Sentiment', 'most_frequent_name', 'relevance_score', 'bert_relevance']\n",
      "Columns in group: ['title', 'time', 'url', 'author', 'credit_article', 'credit_followers', 'credit_tweets', 'textblob_Sentiment', 'nltk_Sentiment', 'most_frequent_name', 'relevance_score', 'bert_relevance']\n",
      "Columns in group: ['title', 'time', 'url', 'author', 'credit_article', 'credit_followers', 'credit_tweets', 'textblob_Sentiment', 'nltk_Sentiment', 'most_frequent_name', 'relevance_score', 'bert_relevance']\n",
      "Columns in group: ['title', 'time', 'url', 'author', 'credit_article', 'credit_followers', 'credit_tweets', 'textblob_Sentiment', 'nltk_Sentiment', 'most_frequent_name', 'relevance_score', 'bert_relevance']\n",
      "Columns in group: ['title', 'time', 'url', 'author', 'credit_article', 'credit_followers', 'credit_tweets', 'textblob_Sentiment', 'nltk_Sentiment', 'most_frequent_name', 'relevance_score', 'bert_relevance']\n",
      "Columns in group: ['title', 'time', 'url', 'author', 'credit_article', 'credit_followers', 'credit_tweets', 'textblob_Sentiment', 'nltk_Sentiment', 'most_frequent_name', 'relevance_score', 'bert_relevance']\n"
     ]
    },
    {
     "name": "stderr",
     "output_type": "stream",
     "text": [
      "/var/folders/9g/wg6kygl97c58z_h6ljqdr8g00000gn/T/ipykernel_21846/4260402713.py:43: FutureWarning: The frame.append method is deprecated and will be removed from pandas in a future version. Use pandas.concat instead.\n",
      "  processed_df = processed_df.append(new_row, ignore_index=True)\n",
      "/var/folders/9g/wg6kygl97c58z_h6ljqdr8g00000gn/T/ipykernel_21846/4260402713.py:43: FutureWarning: The frame.append method is deprecated and will be removed from pandas in a future version. Use pandas.concat instead.\n",
      "  processed_df = processed_df.append(new_row, ignore_index=True)\n",
      "/var/folders/9g/wg6kygl97c58z_h6ljqdr8g00000gn/T/ipykernel_21846/4260402713.py:43: FutureWarning: The frame.append method is deprecated and will be removed from pandas in a future version. Use pandas.concat instead.\n",
      "  processed_df = processed_df.append(new_row, ignore_index=True)\n",
      "/var/folders/9g/wg6kygl97c58z_h6ljqdr8g00000gn/T/ipykernel_21846/4260402713.py:43: FutureWarning: The frame.append method is deprecated and will be removed from pandas in a future version. Use pandas.concat instead.\n",
      "  processed_df = processed_df.append(new_row, ignore_index=True)\n",
      "/var/folders/9g/wg6kygl97c58z_h6ljqdr8g00000gn/T/ipykernel_21846/4260402713.py:43: FutureWarning: The frame.append method is deprecated and will be removed from pandas in a future version. Use pandas.concat instead.\n",
      "  processed_df = processed_df.append(new_row, ignore_index=True)\n",
      "/var/folders/9g/wg6kygl97c58z_h6ljqdr8g00000gn/T/ipykernel_21846/4260402713.py:43: FutureWarning: The frame.append method is deprecated and will be removed from pandas in a future version. Use pandas.concat instead.\n",
      "  processed_df = processed_df.append(new_row, ignore_index=True)\n",
      "/var/folders/9g/wg6kygl97c58z_h6ljqdr8g00000gn/T/ipykernel_21846/4260402713.py:43: FutureWarning: The frame.append method is deprecated and will be removed from pandas in a future version. Use pandas.concat instead.\n",
      "  processed_df = processed_df.append(new_row, ignore_index=True)\n",
      "/var/folders/9g/wg6kygl97c58z_h6ljqdr8g00000gn/T/ipykernel_21846/4260402713.py:43: FutureWarning: The frame.append method is deprecated and will be removed from pandas in a future version. Use pandas.concat instead.\n",
      "  processed_df = processed_df.append(new_row, ignore_index=True)\n",
      "/var/folders/9g/wg6kygl97c58z_h6ljqdr8g00000gn/T/ipykernel_21846/4260402713.py:43: FutureWarning: The frame.append method is deprecated and will be removed from pandas in a future version. Use pandas.concat instead.\n",
      "  processed_df = processed_df.append(new_row, ignore_index=True)\n",
      "/var/folders/9g/wg6kygl97c58z_h6ljqdr8g00000gn/T/ipykernel_21846/4260402713.py:43: FutureWarning: The frame.append method is deprecated and will be removed from pandas in a future version. Use pandas.concat instead.\n",
      "  processed_df = processed_df.append(new_row, ignore_index=True)\n",
      "/var/folders/9g/wg6kygl97c58z_h6ljqdr8g00000gn/T/ipykernel_21846/4260402713.py:43: FutureWarning: The frame.append method is deprecated and will be removed from pandas in a future version. Use pandas.concat instead.\n",
      "  processed_df = processed_df.append(new_row, ignore_index=True)\n",
      "/var/folders/9g/wg6kygl97c58z_h6ljqdr8g00000gn/T/ipykernel_21846/4260402713.py:43: FutureWarning: The frame.append method is deprecated and will be removed from pandas in a future version. Use pandas.concat instead.\n",
      "  processed_df = processed_df.append(new_row, ignore_index=True)\n"
     ]
    },
    {
     "name": "stdout",
     "output_type": "stream",
     "text": [
      "Columns in group: ['title', 'time', 'url', 'author', 'credit_article', 'credit_followers', 'credit_tweets', 'textblob_Sentiment', 'nltk_Sentiment', 'most_frequent_name', 'relevance_score', 'bert_relevance']\n",
      "Columns in group: ['title', 'time', 'url', 'author', 'credit_article', 'credit_followers', 'credit_tweets', 'textblob_Sentiment', 'nltk_Sentiment', 'most_frequent_name', 'relevance_score', 'bert_relevance']\n",
      "Columns in group: ['title', 'time', 'url', 'author', 'credit_article', 'credit_followers', 'credit_tweets', 'textblob_Sentiment', 'nltk_Sentiment', 'most_frequent_name', 'relevance_score', 'bert_relevance']\n",
      "Columns in group: ['title', 'time', 'url', 'author', 'credit_article', 'credit_followers', 'credit_tweets', 'textblob_Sentiment', 'nltk_Sentiment', 'most_frequent_name', 'relevance_score', 'bert_relevance']\n",
      "Columns in group: ['title', 'time', 'url', 'author', 'credit_article', 'credit_followers', 'credit_tweets', 'textblob_Sentiment', 'nltk_Sentiment', 'most_frequent_name', 'relevance_score', 'bert_relevance']\n",
      "Columns in group: ['title', 'time', 'url', 'author', 'credit_article', 'credit_followers', 'credit_tweets', 'textblob_Sentiment', 'nltk_Sentiment', 'most_frequent_name', 'relevance_score', 'bert_relevance']\n"
     ]
    },
    {
     "name": "stderr",
     "output_type": "stream",
     "text": [
      "/var/folders/9g/wg6kygl97c58z_h6ljqdr8g00000gn/T/ipykernel_21846/4260402713.py:43: FutureWarning: The frame.append method is deprecated and will be removed from pandas in a future version. Use pandas.concat instead.\n",
      "  processed_df = processed_df.append(new_row, ignore_index=True)\n",
      "/var/folders/9g/wg6kygl97c58z_h6ljqdr8g00000gn/T/ipykernel_21846/4260402713.py:43: FutureWarning: The frame.append method is deprecated and will be removed from pandas in a future version. Use pandas.concat instead.\n",
      "  processed_df = processed_df.append(new_row, ignore_index=True)\n"
     ]
    },
    {
     "name": "stdout",
     "output_type": "stream",
     "text": [
      "Columns in group: ['title', 'time', 'url', 'author', 'credit_article', 'credit_followers', 'credit_tweets', 'textblob_Sentiment', 'nltk_Sentiment', 'most_frequent_name', 'relevance_score', 'bert_relevance']\n",
      "Columns in group: ['title', 'time', 'url', 'author', 'credit_article', 'credit_followers', 'credit_tweets', 'textblob_Sentiment', 'nltk_Sentiment', 'most_frequent_name', 'relevance_score', 'bert_relevance']\n",
      "Columns in group: ['title', 'time', 'url', 'author', 'credit_article', 'credit_followers', 'credit_tweets', 'textblob_Sentiment', 'nltk_Sentiment', 'most_frequent_name', 'relevance_score', 'bert_relevance']\n",
      "Columns in group: ['title', 'time', 'url', 'author', 'credit_article', 'credit_followers', 'credit_tweets', 'textblob_Sentiment', 'nltk_Sentiment', 'most_frequent_name', 'relevance_score', 'bert_relevance']\n",
      "Columns in group: ['title', 'time', 'url', 'author', 'credit_article', 'credit_followers', 'credit_tweets', 'textblob_Sentiment', 'nltk_Sentiment', 'most_frequent_name', 'relevance_score', 'bert_relevance']\n"
     ]
    },
    {
     "name": "stderr",
     "output_type": "stream",
     "text": [
      "/var/folders/9g/wg6kygl97c58z_h6ljqdr8g00000gn/T/ipykernel_21846/4260402713.py:43: FutureWarning: The frame.append method is deprecated and will be removed from pandas in a future version. Use pandas.concat instead.\n",
      "  processed_df = processed_df.append(new_row, ignore_index=True)\n",
      "/var/folders/9g/wg6kygl97c58z_h6ljqdr8g00000gn/T/ipykernel_21846/4260402713.py:43: FutureWarning: The frame.append method is deprecated and will be removed from pandas in a future version. Use pandas.concat instead.\n",
      "  processed_df = processed_df.append(new_row, ignore_index=True)\n",
      "/var/folders/9g/wg6kygl97c58z_h6ljqdr8g00000gn/T/ipykernel_21846/4260402713.py:43: FutureWarning: The frame.append method is deprecated and will be removed from pandas in a future version. Use pandas.concat instead.\n",
      "  processed_df = processed_df.append(new_row, ignore_index=True)\n",
      "/var/folders/9g/wg6kygl97c58z_h6ljqdr8g00000gn/T/ipykernel_21846/4260402713.py:43: FutureWarning: The frame.append method is deprecated and will be removed from pandas in a future version. Use pandas.concat instead.\n",
      "  processed_df = processed_df.append(new_row, ignore_index=True)\n",
      "/var/folders/9g/wg6kygl97c58z_h6ljqdr8g00000gn/T/ipykernel_21846/4260402713.py:43: FutureWarning: The frame.append method is deprecated and will be removed from pandas in a future version. Use pandas.concat instead.\n",
      "  processed_df = processed_df.append(new_row, ignore_index=True)\n"
     ]
    },
    {
     "name": "stdout",
     "output_type": "stream",
     "text": [
      "Columns in group: ['title', 'time', 'url', 'author', 'credit_article', 'credit_followers', 'credit_tweets', 'textblob_Sentiment', 'nltk_Sentiment', 'most_frequent_name', 'relevance_score', 'bert_relevance']\n",
      "Columns in group: ['title', 'time', 'url', 'author', 'credit_article', 'credit_followers', 'credit_tweets', 'textblob_Sentiment', 'nltk_Sentiment', 'most_frequent_name', 'relevance_score', 'bert_relevance']\n",
      "Columns in group: ['title', 'time', 'url', 'author', 'credit_article', 'credit_followers', 'credit_tweets', 'textblob_Sentiment', 'nltk_Sentiment', 'most_frequent_name', 'relevance_score', 'bert_relevance']\n",
      "Columns in group: ['title', 'time', 'url', 'author', 'credit_article', 'credit_followers', 'credit_tweets', 'textblob_Sentiment', 'nltk_Sentiment', 'most_frequent_name', 'relevance_score', 'bert_relevance']\n",
      "Columns in group: ['title', 'time', 'url', 'author', 'credit_article', 'credit_followers', 'credit_tweets', 'textblob_Sentiment', 'nltk_Sentiment', 'most_frequent_name', 'relevance_score', 'bert_relevance']\n",
      "Columns in group: ['title', 'time', 'url', 'author', 'credit_article', 'credit_followers', 'credit_tweets', 'textblob_Sentiment', 'nltk_Sentiment', 'most_frequent_name', 'relevance_score', 'bert_relevance']\n",
      "Columns in group: ['title', 'time', 'url', 'author', 'credit_article', 'credit_followers', 'credit_tweets', 'textblob_Sentiment', 'nltk_Sentiment', 'most_frequent_name', 'relevance_score', 'bert_relevance']\n",
      "Columns in group: ['title', 'time', 'url', 'author', 'credit_article', 'credit_followers', 'credit_tweets', 'textblob_Sentiment', 'nltk_Sentiment', 'most_frequent_name', 'relevance_score', 'bert_relevance']\n"
     ]
    },
    {
     "name": "stderr",
     "output_type": "stream",
     "text": [
      "/var/folders/9g/wg6kygl97c58z_h6ljqdr8g00000gn/T/ipykernel_21846/4260402713.py:43: FutureWarning: The frame.append method is deprecated and will be removed from pandas in a future version. Use pandas.concat instead.\n",
      "  processed_df = processed_df.append(new_row, ignore_index=True)\n",
      "/var/folders/9g/wg6kygl97c58z_h6ljqdr8g00000gn/T/ipykernel_21846/4260402713.py:43: FutureWarning: The frame.append method is deprecated and will be removed from pandas in a future version. Use pandas.concat instead.\n",
      "  processed_df = processed_df.append(new_row, ignore_index=True)\n",
      "/var/folders/9g/wg6kygl97c58z_h6ljqdr8g00000gn/T/ipykernel_21846/4260402713.py:43: FutureWarning: The frame.append method is deprecated and will be removed from pandas in a future version. Use pandas.concat instead.\n",
      "  processed_df = processed_df.append(new_row, ignore_index=True)\n",
      "/var/folders/9g/wg6kygl97c58z_h6ljqdr8g00000gn/T/ipykernel_21846/4260402713.py:43: FutureWarning: The frame.append method is deprecated and will be removed from pandas in a future version. Use pandas.concat instead.\n",
      "  processed_df = processed_df.append(new_row, ignore_index=True)\n",
      "/var/folders/9g/wg6kygl97c58z_h6ljqdr8g00000gn/T/ipykernel_21846/4260402713.py:43: FutureWarning: The frame.append method is deprecated and will be removed from pandas in a future version. Use pandas.concat instead.\n",
      "  processed_df = processed_df.append(new_row, ignore_index=True)\n",
      "/var/folders/9g/wg6kygl97c58z_h6ljqdr8g00000gn/T/ipykernel_21846/4260402713.py:43: FutureWarning: The frame.append method is deprecated and will be removed from pandas in a future version. Use pandas.concat instead.\n",
      "  processed_df = processed_df.append(new_row, ignore_index=True)\n",
      "/var/folders/9g/wg6kygl97c58z_h6ljqdr8g00000gn/T/ipykernel_21846/4260402713.py:43: FutureWarning: The frame.append method is deprecated and will be removed from pandas in a future version. Use pandas.concat instead.\n",
      "  processed_df = processed_df.append(new_row, ignore_index=True)\n",
      "/var/folders/9g/wg6kygl97c58z_h6ljqdr8g00000gn/T/ipykernel_21846/4260402713.py:43: FutureWarning: The frame.append method is deprecated and will be removed from pandas in a future version. Use pandas.concat instead.\n",
      "  processed_df = processed_df.append(new_row, ignore_index=True)\n"
     ]
    },
    {
     "name": "stdout",
     "output_type": "stream",
     "text": [
      "Columns in group: ['title', 'time', 'url', 'author', 'credit_article', 'credit_followers', 'credit_tweets', 'textblob_Sentiment', 'nltk_Sentiment', 'most_frequent_name', 'relevance_score', 'bert_relevance']\n",
      "Columns in group: ['title', 'time', 'url', 'author', 'credit_article', 'credit_followers', 'credit_tweets', 'textblob_Sentiment', 'nltk_Sentiment', 'most_frequent_name', 'relevance_score', 'bert_relevance']\n",
      "Columns in group: ['title', 'time', 'url', 'author', 'credit_article', 'credit_followers', 'credit_tweets', 'textblob_Sentiment', 'nltk_Sentiment', 'most_frequent_name', 'relevance_score', 'bert_relevance']\n",
      "Columns in group: ['title', 'time', 'url', 'author', 'credit_article', 'credit_followers', 'credit_tweets', 'textblob_Sentiment', 'nltk_Sentiment', 'most_frequent_name', 'relevance_score', 'bert_relevance']\n",
      "Columns in group: ['title', 'time', 'url', 'author', 'credit_article', 'credit_followers', 'credit_tweets', 'textblob_Sentiment', 'nltk_Sentiment', 'most_frequent_name', 'relevance_score', 'bert_relevance']\n",
      "Columns in group: ['title', 'time', 'url', 'author', 'credit_article', 'credit_followers', 'credit_tweets', 'textblob_Sentiment', 'nltk_Sentiment', 'most_frequent_name', 'relevance_score', 'bert_relevance']\n",
      "Columns in group: ['title', 'time', 'url', 'author', 'credit_article', 'credit_followers', 'credit_tweets', 'textblob_Sentiment', 'nltk_Sentiment', 'most_frequent_name', 'relevance_score', 'bert_relevance']\n",
      "Columns in group: ['title', 'time', 'url', 'author', 'credit_article', 'credit_followers', 'credit_tweets', 'textblob_Sentiment', 'nltk_Sentiment', 'most_frequent_name', 'relevance_score', 'bert_relevance']\n",
      "Columns in group: ['title', 'time', 'url', 'author', 'credit_article', 'credit_followers', 'credit_tweets', 'textblob_Sentiment', 'nltk_Sentiment', 'most_frequent_name', 'relevance_score', 'bert_relevance']\n",
      "Columns in group: ['title', 'time', 'url', 'author', 'credit_article', 'credit_followers', 'credit_tweets', 'textblob_Sentiment', 'nltk_Sentiment', 'most_frequent_name', 'relevance_score', 'bert_relevance']\n",
      "Columns in group: ['title', 'time', 'url', 'author', 'credit_article', 'credit_followers', 'credit_tweets', 'textblob_Sentiment', 'nltk_Sentiment', 'most_frequent_name', 'relevance_score', 'bert_relevance']\n"
     ]
    },
    {
     "name": "stderr",
     "output_type": "stream",
     "text": [
      "/var/folders/9g/wg6kygl97c58z_h6ljqdr8g00000gn/T/ipykernel_21846/4260402713.py:43: FutureWarning: The frame.append method is deprecated and will be removed from pandas in a future version. Use pandas.concat instead.\n",
      "  processed_df = processed_df.append(new_row, ignore_index=True)\n",
      "/var/folders/9g/wg6kygl97c58z_h6ljqdr8g00000gn/T/ipykernel_21846/4260402713.py:43: FutureWarning: The frame.append method is deprecated and will be removed from pandas in a future version. Use pandas.concat instead.\n",
      "  processed_df = processed_df.append(new_row, ignore_index=True)\n",
      "/var/folders/9g/wg6kygl97c58z_h6ljqdr8g00000gn/T/ipykernel_21846/4260402713.py:43: FutureWarning: The frame.append method is deprecated and will be removed from pandas in a future version. Use pandas.concat instead.\n",
      "  processed_df = processed_df.append(new_row, ignore_index=True)\n",
      "/var/folders/9g/wg6kygl97c58z_h6ljqdr8g00000gn/T/ipykernel_21846/4260402713.py:43: FutureWarning: The frame.append method is deprecated and will be removed from pandas in a future version. Use pandas.concat instead.\n",
      "  processed_df = processed_df.append(new_row, ignore_index=True)\n",
      "/var/folders/9g/wg6kygl97c58z_h6ljqdr8g00000gn/T/ipykernel_21846/4260402713.py:43: FutureWarning: The frame.append method is deprecated and will be removed from pandas in a future version. Use pandas.concat instead.\n",
      "  processed_df = processed_df.append(new_row, ignore_index=True)\n",
      "/var/folders/9g/wg6kygl97c58z_h6ljqdr8g00000gn/T/ipykernel_21846/4260402713.py:43: FutureWarning: The frame.append method is deprecated and will be removed from pandas in a future version. Use pandas.concat instead.\n",
      "  processed_df = processed_df.append(new_row, ignore_index=True)\n",
      "/var/folders/9g/wg6kygl97c58z_h6ljqdr8g00000gn/T/ipykernel_21846/4260402713.py:43: FutureWarning: The frame.append method is deprecated and will be removed from pandas in a future version. Use pandas.concat instead.\n",
      "  processed_df = processed_df.append(new_row, ignore_index=True)\n",
      "/var/folders/9g/wg6kygl97c58z_h6ljqdr8g00000gn/T/ipykernel_21846/4260402713.py:43: FutureWarning: The frame.append method is deprecated and will be removed from pandas in a future version. Use pandas.concat instead.\n",
      "  processed_df = processed_df.append(new_row, ignore_index=True)\n",
      "/var/folders/9g/wg6kygl97c58z_h6ljqdr8g00000gn/T/ipykernel_21846/4260402713.py:43: FutureWarning: The frame.append method is deprecated and will be removed from pandas in a future version. Use pandas.concat instead.\n",
      "  processed_df = processed_df.append(new_row, ignore_index=True)\n",
      "/var/folders/9g/wg6kygl97c58z_h6ljqdr8g00000gn/T/ipykernel_21846/4260402713.py:43: FutureWarning: The frame.append method is deprecated and will be removed from pandas in a future version. Use pandas.concat instead.\n",
      "  processed_df = processed_df.append(new_row, ignore_index=True)\n",
      "/var/folders/9g/wg6kygl97c58z_h6ljqdr8g00000gn/T/ipykernel_21846/4260402713.py:43: FutureWarning: The frame.append method is deprecated and will be removed from pandas in a future version. Use pandas.concat instead.\n",
      "  processed_df = processed_df.append(new_row, ignore_index=True)\n",
      "/var/folders/9g/wg6kygl97c58z_h6ljqdr8g00000gn/T/ipykernel_21846/4260402713.py:43: FutureWarning: The frame.append method is deprecated and will be removed from pandas in a future version. Use pandas.concat instead.\n",
      "  processed_df = processed_df.append(new_row, ignore_index=True)\n"
     ]
    },
    {
     "name": "stdout",
     "output_type": "stream",
     "text": [
      "Columns in group: ['title', 'time', 'url', 'author', 'credit_article', 'credit_followers', 'credit_tweets', 'textblob_Sentiment', 'nltk_Sentiment', 'most_frequent_name', 'relevance_score', 'bert_relevance']\n",
      "Columns in group: ['title', 'time', 'url', 'author', 'credit_article', 'credit_followers', 'credit_tweets', 'textblob_Sentiment', 'nltk_Sentiment', 'most_frequent_name', 'relevance_score', 'bert_relevance']\n",
      "Columns in group: ['title', 'time', 'url', 'author', 'credit_article', 'credit_followers', 'credit_tweets', 'textblob_Sentiment', 'nltk_Sentiment', 'most_frequent_name', 'relevance_score', 'bert_relevance']\n",
      "Columns in group: ['title', 'time', 'url', 'author', 'credit_article', 'credit_followers', 'credit_tweets', 'textblob_Sentiment', 'nltk_Sentiment', 'most_frequent_name', 'relevance_score', 'bert_relevance']\n",
      "Columns in group: ['title', 'time', 'url', 'author', 'credit_article', 'credit_followers', 'credit_tweets', 'textblob_Sentiment', 'nltk_Sentiment', 'most_frequent_name', 'relevance_score', 'bert_relevance']\n",
      "Columns in group: ['title', 'time', 'url', 'author', 'credit_article', 'credit_followers', 'credit_tweets', 'textblob_Sentiment', 'nltk_Sentiment', 'most_frequent_name', 'relevance_score', 'bert_relevance']\n",
      "Columns in group: ['title', 'time', 'url', 'author', 'credit_article', 'credit_followers', 'credit_tweets', 'textblob_Sentiment', 'nltk_Sentiment', 'most_frequent_name', 'relevance_score', 'bert_relevance']\n",
      "Columns in group: ['title', 'time', 'url', 'author', 'credit_article', 'credit_followers', 'credit_tweets', 'textblob_Sentiment', 'nltk_Sentiment', 'most_frequent_name', 'relevance_score', 'bert_relevance']\n",
      "Columns in group: ['title', 'time', 'url', 'author', 'credit_article', 'credit_followers', 'credit_tweets', 'textblob_Sentiment', 'nltk_Sentiment', 'most_frequent_name', 'relevance_score', 'bert_relevance']\n",
      "Columns in group: ['title', 'time', 'url', 'author', 'credit_article', 'credit_followers', 'credit_tweets', 'textblob_Sentiment', 'nltk_Sentiment', 'most_frequent_name', 'relevance_score', 'bert_relevance']\n"
     ]
    },
    {
     "name": "stderr",
     "output_type": "stream",
     "text": [
      "/var/folders/9g/wg6kygl97c58z_h6ljqdr8g00000gn/T/ipykernel_21846/4260402713.py:43: FutureWarning: The frame.append method is deprecated and will be removed from pandas in a future version. Use pandas.concat instead.\n",
      "  processed_df = processed_df.append(new_row, ignore_index=True)\n",
      "/var/folders/9g/wg6kygl97c58z_h6ljqdr8g00000gn/T/ipykernel_21846/4260402713.py:43: FutureWarning: The frame.append method is deprecated and will be removed from pandas in a future version. Use pandas.concat instead.\n",
      "  processed_df = processed_df.append(new_row, ignore_index=True)\n",
      "/var/folders/9g/wg6kygl97c58z_h6ljqdr8g00000gn/T/ipykernel_21846/4260402713.py:43: FutureWarning: The frame.append method is deprecated and will be removed from pandas in a future version. Use pandas.concat instead.\n",
      "  processed_df = processed_df.append(new_row, ignore_index=True)\n",
      "/var/folders/9g/wg6kygl97c58z_h6ljqdr8g00000gn/T/ipykernel_21846/4260402713.py:43: FutureWarning: The frame.append method is deprecated and will be removed from pandas in a future version. Use pandas.concat instead.\n",
      "  processed_df = processed_df.append(new_row, ignore_index=True)\n",
      "/var/folders/9g/wg6kygl97c58z_h6ljqdr8g00000gn/T/ipykernel_21846/4260402713.py:43: FutureWarning: The frame.append method is deprecated and will be removed from pandas in a future version. Use pandas.concat instead.\n",
      "  processed_df = processed_df.append(new_row, ignore_index=True)\n",
      "/var/folders/9g/wg6kygl97c58z_h6ljqdr8g00000gn/T/ipykernel_21846/4260402713.py:43: FutureWarning: The frame.append method is deprecated and will be removed from pandas in a future version. Use pandas.concat instead.\n",
      "  processed_df = processed_df.append(new_row, ignore_index=True)\n",
      "/var/folders/9g/wg6kygl97c58z_h6ljqdr8g00000gn/T/ipykernel_21846/4260402713.py:43: FutureWarning: The frame.append method is deprecated and will be removed from pandas in a future version. Use pandas.concat instead.\n",
      "  processed_df = processed_df.append(new_row, ignore_index=True)\n",
      "/var/folders/9g/wg6kygl97c58z_h6ljqdr8g00000gn/T/ipykernel_21846/4260402713.py:43: FutureWarning: The frame.append method is deprecated and will be removed from pandas in a future version. Use pandas.concat instead.\n",
      "  processed_df = processed_df.append(new_row, ignore_index=True)\n",
      "/var/folders/9g/wg6kygl97c58z_h6ljqdr8g00000gn/T/ipykernel_21846/4260402713.py:43: FutureWarning: The frame.append method is deprecated and will be removed from pandas in a future version. Use pandas.concat instead.\n",
      "  processed_df = processed_df.append(new_row, ignore_index=True)\n"
     ]
    },
    {
     "name": "stdout",
     "output_type": "stream",
     "text": [
      "Columns in group: ['title', 'time', 'url', 'author', 'credit_article', 'credit_followers', 'credit_tweets', 'textblob_Sentiment', 'nltk_Sentiment', 'most_frequent_name', 'relevance_score', 'bert_relevance']\n",
      "Columns in group: ['title', 'time', 'url', 'author', 'credit_article', 'credit_followers', 'credit_tweets', 'textblob_Sentiment', 'nltk_Sentiment', 'most_frequent_name', 'relevance_score', 'bert_relevance']\n",
      "Columns in group: ['title', 'time', 'url', 'author', 'credit_article', 'credit_followers', 'credit_tweets', 'textblob_Sentiment', 'nltk_Sentiment', 'most_frequent_name', 'relevance_score', 'bert_relevance']\n",
      "Columns in group: ['title', 'time', 'url', 'author', 'credit_article', 'credit_followers', 'credit_tweets', 'textblob_Sentiment', 'nltk_Sentiment', 'most_frequent_name', 'relevance_score', 'bert_relevance']\n",
      "Columns in group: ['title', 'time', 'url', 'author', 'credit_article', 'credit_followers', 'credit_tweets', 'textblob_Sentiment', 'nltk_Sentiment', 'most_frequent_name', 'relevance_score', 'bert_relevance']\n",
      "Columns in group: ['title', 'time', 'url', 'author', 'credit_article', 'credit_followers', 'credit_tweets', 'textblob_Sentiment', 'nltk_Sentiment', 'most_frequent_name', 'relevance_score', 'bert_relevance']\n",
      "Columns in group: ['title', 'time', 'url', 'author', 'credit_article', 'credit_followers', 'credit_tweets', 'textblob_Sentiment', 'nltk_Sentiment', 'most_frequent_name', 'relevance_score', 'bert_relevance']\n",
      "Columns in group: ['title', 'time', 'url', 'author', 'credit_article', 'credit_followers', 'credit_tweets', 'textblob_Sentiment', 'nltk_Sentiment', 'most_frequent_name', 'relevance_score', 'bert_relevance']\n",
      "Columns in group: ['title', 'time', 'url', 'author', 'credit_article', 'credit_followers', 'credit_tweets', 'textblob_Sentiment', 'nltk_Sentiment', 'most_frequent_name', 'relevance_score', 'bert_relevance']\n"
     ]
    },
    {
     "name": "stderr",
     "output_type": "stream",
     "text": [
      "/var/folders/9g/wg6kygl97c58z_h6ljqdr8g00000gn/T/ipykernel_21846/4260402713.py:43: FutureWarning: The frame.append method is deprecated and will be removed from pandas in a future version. Use pandas.concat instead.\n",
      "  processed_df = processed_df.append(new_row, ignore_index=True)\n",
      "/var/folders/9g/wg6kygl97c58z_h6ljqdr8g00000gn/T/ipykernel_21846/4260402713.py:43: FutureWarning: The frame.append method is deprecated and will be removed from pandas in a future version. Use pandas.concat instead.\n",
      "  processed_df = processed_df.append(new_row, ignore_index=True)\n",
      "/var/folders/9g/wg6kygl97c58z_h6ljqdr8g00000gn/T/ipykernel_21846/4260402713.py:43: FutureWarning: The frame.append method is deprecated and will be removed from pandas in a future version. Use pandas.concat instead.\n",
      "  processed_df = processed_df.append(new_row, ignore_index=True)\n",
      "/var/folders/9g/wg6kygl97c58z_h6ljqdr8g00000gn/T/ipykernel_21846/4260402713.py:43: FutureWarning: The frame.append method is deprecated and will be removed from pandas in a future version. Use pandas.concat instead.\n",
      "  processed_df = processed_df.append(new_row, ignore_index=True)\n",
      "/var/folders/9g/wg6kygl97c58z_h6ljqdr8g00000gn/T/ipykernel_21846/4260402713.py:43: FutureWarning: The frame.append method is deprecated and will be removed from pandas in a future version. Use pandas.concat instead.\n",
      "  processed_df = processed_df.append(new_row, ignore_index=True)\n",
      "/var/folders/9g/wg6kygl97c58z_h6ljqdr8g00000gn/T/ipykernel_21846/4260402713.py:43: FutureWarning: The frame.append method is deprecated and will be removed from pandas in a future version. Use pandas.concat instead.\n",
      "  processed_df = processed_df.append(new_row, ignore_index=True)\n",
      "/var/folders/9g/wg6kygl97c58z_h6ljqdr8g00000gn/T/ipykernel_21846/4260402713.py:43: FutureWarning: The frame.append method is deprecated and will be removed from pandas in a future version. Use pandas.concat instead.\n",
      "  processed_df = processed_df.append(new_row, ignore_index=True)\n",
      "/var/folders/9g/wg6kygl97c58z_h6ljqdr8g00000gn/T/ipykernel_21846/4260402713.py:43: FutureWarning: The frame.append method is deprecated and will be removed from pandas in a future version. Use pandas.concat instead.\n",
      "  processed_df = processed_df.append(new_row, ignore_index=True)\n",
      "/var/folders/9g/wg6kygl97c58z_h6ljqdr8g00000gn/T/ipykernel_21846/4260402713.py:43: FutureWarning: The frame.append method is deprecated and will be removed from pandas in a future version. Use pandas.concat instead.\n",
      "  processed_df = processed_df.append(new_row, ignore_index=True)\n"
     ]
    },
    {
     "name": "stdout",
     "output_type": "stream",
     "text": [
      "Columns in group: ['title', 'time', 'url', 'author', 'credit_article', 'credit_followers', 'credit_tweets', 'textblob_Sentiment', 'nltk_Sentiment', 'most_frequent_name', 'relevance_score', 'bert_relevance']\n",
      "Columns in group: ['title', 'time', 'url', 'author', 'credit_article', 'credit_followers', 'credit_tweets', 'textblob_Sentiment', 'nltk_Sentiment', 'most_frequent_name', 'relevance_score', 'bert_relevance']\n",
      "Columns in group: ['title', 'time', 'url', 'author', 'credit_article', 'credit_followers', 'credit_tweets', 'textblob_Sentiment', 'nltk_Sentiment', 'most_frequent_name', 'relevance_score', 'bert_relevance']\n",
      "Columns in group: ['title', 'time', 'url', 'author', 'credit_article', 'credit_followers', 'credit_tweets', 'textblob_Sentiment', 'nltk_Sentiment', 'most_frequent_name', 'relevance_score', 'bert_relevance']\n",
      "Columns in group: ['title', 'time', 'url', 'author', 'credit_article', 'credit_followers', 'credit_tweets', 'textblob_Sentiment', 'nltk_Sentiment', 'most_frequent_name', 'relevance_score', 'bert_relevance']\n",
      "Columns in group: ['title', 'time', 'url', 'author', 'credit_article', 'credit_followers', 'credit_tweets', 'textblob_Sentiment', 'nltk_Sentiment', 'most_frequent_name', 'relevance_score', 'bert_relevance']\n",
      "Columns in group: ['title', 'time', 'url', 'author', 'credit_article', 'credit_followers', 'credit_tweets', 'textblob_Sentiment', 'nltk_Sentiment', 'most_frequent_name', 'relevance_score', 'bert_relevance']\n",
      "Columns in group: ['title', 'time', 'url', 'author', 'credit_article', 'credit_followers', 'credit_tweets', 'textblob_Sentiment', 'nltk_Sentiment', 'most_frequent_name', 'relevance_score', 'bert_relevance']\n",
      "Columns in group: ['title', 'time', 'url', 'author', 'credit_article', 'credit_followers', 'credit_tweets', 'textblob_Sentiment', 'nltk_Sentiment', 'most_frequent_name', 'relevance_score', 'bert_relevance']\n"
     ]
    },
    {
     "name": "stderr",
     "output_type": "stream",
     "text": [
      "/var/folders/9g/wg6kygl97c58z_h6ljqdr8g00000gn/T/ipykernel_21846/4260402713.py:43: FutureWarning: The frame.append method is deprecated and will be removed from pandas in a future version. Use pandas.concat instead.\n",
      "  processed_df = processed_df.append(new_row, ignore_index=True)\n",
      "/var/folders/9g/wg6kygl97c58z_h6ljqdr8g00000gn/T/ipykernel_21846/4260402713.py:43: FutureWarning: The frame.append method is deprecated and will be removed from pandas in a future version. Use pandas.concat instead.\n",
      "  processed_df = processed_df.append(new_row, ignore_index=True)\n",
      "/var/folders/9g/wg6kygl97c58z_h6ljqdr8g00000gn/T/ipykernel_21846/4260402713.py:43: FutureWarning: The frame.append method is deprecated and will be removed from pandas in a future version. Use pandas.concat instead.\n",
      "  processed_df = processed_df.append(new_row, ignore_index=True)\n",
      "/var/folders/9g/wg6kygl97c58z_h6ljqdr8g00000gn/T/ipykernel_21846/4260402713.py:43: FutureWarning: The frame.append method is deprecated and will be removed from pandas in a future version. Use pandas.concat instead.\n",
      "  processed_df = processed_df.append(new_row, ignore_index=True)\n",
      "/var/folders/9g/wg6kygl97c58z_h6ljqdr8g00000gn/T/ipykernel_21846/4260402713.py:43: FutureWarning: The frame.append method is deprecated and will be removed from pandas in a future version. Use pandas.concat instead.\n",
      "  processed_df = processed_df.append(new_row, ignore_index=True)\n",
      "/var/folders/9g/wg6kygl97c58z_h6ljqdr8g00000gn/T/ipykernel_21846/4260402713.py:43: FutureWarning: The frame.append method is deprecated and will be removed from pandas in a future version. Use pandas.concat instead.\n",
      "  processed_df = processed_df.append(new_row, ignore_index=True)\n",
      "/var/folders/9g/wg6kygl97c58z_h6ljqdr8g00000gn/T/ipykernel_21846/4260402713.py:43: FutureWarning: The frame.append method is deprecated and will be removed from pandas in a future version. Use pandas.concat instead.\n",
      "  processed_df = processed_df.append(new_row, ignore_index=True)\n",
      "/var/folders/9g/wg6kygl97c58z_h6ljqdr8g00000gn/T/ipykernel_21846/4260402713.py:43: FutureWarning: The frame.append method is deprecated and will be removed from pandas in a future version. Use pandas.concat instead.\n",
      "  processed_df = processed_df.append(new_row, ignore_index=True)\n",
      "/var/folders/9g/wg6kygl97c58z_h6ljqdr8g00000gn/T/ipykernel_21846/4260402713.py:43: FutureWarning: The frame.append method is deprecated and will be removed from pandas in a future version. Use pandas.concat instead.\n",
      "  processed_df = processed_df.append(new_row, ignore_index=True)\n"
     ]
    },
    {
     "name": "stdout",
     "output_type": "stream",
     "text": [
      "Columns in group: ['title', 'time', 'url', 'author', 'credit_article', 'credit_followers', 'credit_tweets', 'textblob_Sentiment', 'nltk_Sentiment', 'most_frequent_name', 'relevance_score', 'bert_relevance']\n"
     ]
    },
    {
     "name": "stderr",
     "output_type": "stream",
     "text": [
      "/var/folders/9g/wg6kygl97c58z_h6ljqdr8g00000gn/T/ipykernel_21846/4260402713.py:43: FutureWarning: The frame.append method is deprecated and will be removed from pandas in a future version. Use pandas.concat instead.\n",
      "  processed_df = processed_df.append(new_row, ignore_index=True)\n"
     ]
    }
   ],
   "source": [
    "preprocess_dataframe(df_2020).to_csv('/Users/annabelitong/desktop/annabel/uni/ds105l/group_project/DS105L-Project/Data/nba_author_credit/nba_2020_unique.csv')\n",
    "preprocess_dataframe(df_2019).to_csv('/Users/annabelitong/desktop/annabel/uni/ds105l/group_project/DS105L-Project/Data/nba_author_credit/nba_2019_unique.csv')\n",
    "preprocess_dataframe(df_2018).to_csv('/Users/annabelitong/desktop/annabel/uni/ds105l/group_project/DS105L-Project/Data/nba_author_credit/nba_2018_unique.csv')\n",
    "preprocess_dataframe(df_2017).to_csv('/Users/annabelitong/desktop/annabel/uni/ds105l/group_project/DS105L-Project/Data/nba_author_credit/nba_2017_unique.csv')\n",
    "preprocess_dataframe(df_2016).to_csv('/Users/annabelitong/desktop/annabel/uni/ds105l/group_project/DS105L-Project/Data/nba_author_credit/nba_2016_unique.csv')\n"
   ]
  }
 ],
 "metadata": {
  "kernelspec": {
   "display_name": "base",
   "language": "python",
   "name": "python3"
  },
  "language_info": {
   "codemirror_mode": {
    "name": "ipython",
    "version": 3
   },
   "file_extension": ".py",
   "mimetype": "text/x-python",
   "name": "python",
   "nbconvert_exporter": "python",
   "pygments_lexer": "ipython3",
   "version": "3.9.12"
  },
  "orig_nbformat": 4,
  "vscode": {
   "interpreter": {
    "hash": "705d6f4ecb8a535ad130d19f33aca7c81049a16c0faf5a3ee87de4e6b987140d"
   }
  }
 },
 "nbformat": 4,
 "nbformat_minor": 2
}
